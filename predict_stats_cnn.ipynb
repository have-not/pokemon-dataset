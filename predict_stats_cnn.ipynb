{
  "nbformat": 4,
  "nbformat_minor": 0,
  "metadata": {
    "colab": {
      "name": "predict_stats_cnn.ipynb",
      "provenance": [],
      "collapsed_sections": [],
      "toc_visible": true
    },
    "kernelspec": {
      "name": "python3",
      "display_name": "Python 3"
    },
    "accelerator": "TPU"
  },
  "cells": [
    {
      "cell_type": "markdown",
      "metadata": {
        "id": "MMVGYbaq2eJF",
        "colab_type": "text"
      },
      "source": [
        "# 画像からポケモンの種族値を予測"
      ]
    },
    {
      "cell_type": "code",
      "metadata": {
        "id": "eL2TJfFufRKL",
        "colab_type": "code",
        "colab": {}
      },
      "source": [
        "import numpy as np\n",
        "import pandas as pd\n",
        "import glob\n",
        "import cv2\n",
        "import pathlib\n",
        "import os\n",
        "import sys\n",
        "import PIL\n",
        "\n",
        "%matplotlib inline\n",
        "import matplotlib.pyplot as plt"
      ],
      "execution_count": 0,
      "outputs": []
    },
    {
      "cell_type": "markdown",
      "metadata": {
        "id": "S4lailRh0te5",
        "colab_type": "text"
      },
      "source": [
        "## データ読み込み\n",
        "ポケモンの画像と種族値のデータを用意する"
      ]
    },
    {
      "cell_type": "markdown",
      "metadata": {
        "id": "W-M9C0Vl1VfD",
        "colab_type": "text"
      },
      "source": [
        "### Pokemon- Weedle's Cave\n",
        "https://www.kaggle.com/vishalsubbiah/pokemon-images-and-types\n",
        "\n",
        "ポケモンの画像データ\n",
        "\n"
      ]
    },
    {
      "cell_type": "code",
      "metadata": {
        "id": "Qrv7YXxFcqH_",
        "colab_type": "code",
        "colab": {}
      },
      "source": [
        "# アップロードしたZipファイルの解凍\n",
        "!unzip images.zip"
      ],
      "execution_count": 0,
      "outputs": []
    },
    {
      "cell_type": "code",
      "metadata": {
        "id": "ronpw-TefVJq",
        "colab_type": "code",
        "outputId": "558aee78-fd55-4f3f-eb72-eb24b3d51746",
        "colab": {
          "base_uri": "https://localhost:8080/",
          "height": 419
        }
      },
      "source": [
        "df_pokeimg = pd.read_csv('pokemon_images.csv')\n",
        "df_pokeimg"
      ],
      "execution_count": 0,
      "outputs": [
        {
          "output_type": "execute_result",
          "data": {
            "text/html": [
              "<div>\n",
              "<style scoped>\n",
              "    .dataframe tbody tr th:only-of-type {\n",
              "        vertical-align: middle;\n",
              "    }\n",
              "\n",
              "    .dataframe tbody tr th {\n",
              "        vertical-align: top;\n",
              "    }\n",
              "\n",
              "    .dataframe thead th {\n",
              "        text-align: right;\n",
              "    }\n",
              "</style>\n",
              "<table border=\"1\" class=\"dataframe\">\n",
              "  <thead>\n",
              "    <tr style=\"text-align: right;\">\n",
              "      <th></th>\n",
              "      <th>Name</th>\n",
              "      <th>Type1</th>\n",
              "      <th>Type2</th>\n",
              "    </tr>\n",
              "  </thead>\n",
              "  <tbody>\n",
              "    <tr>\n",
              "      <th>0</th>\n",
              "      <td>bulbasaur</td>\n",
              "      <td>Grass</td>\n",
              "      <td>Poison</td>\n",
              "    </tr>\n",
              "    <tr>\n",
              "      <th>1</th>\n",
              "      <td>ivysaur</td>\n",
              "      <td>Grass</td>\n",
              "      <td>Poison</td>\n",
              "    </tr>\n",
              "    <tr>\n",
              "      <th>2</th>\n",
              "      <td>venusaur</td>\n",
              "      <td>Grass</td>\n",
              "      <td>Poison</td>\n",
              "    </tr>\n",
              "    <tr>\n",
              "      <th>3</th>\n",
              "      <td>charmander</td>\n",
              "      <td>Fire</td>\n",
              "      <td>NaN</td>\n",
              "    </tr>\n",
              "    <tr>\n",
              "      <th>4</th>\n",
              "      <td>charmeleon</td>\n",
              "      <td>Fire</td>\n",
              "      <td>NaN</td>\n",
              "    </tr>\n",
              "    <tr>\n",
              "      <th>...</th>\n",
              "      <td>...</td>\n",
              "      <td>...</td>\n",
              "      <td>...</td>\n",
              "    </tr>\n",
              "    <tr>\n",
              "      <th>804</th>\n",
              "      <td>stakataka</td>\n",
              "      <td>Rock</td>\n",
              "      <td>Steel</td>\n",
              "    </tr>\n",
              "    <tr>\n",
              "      <th>805</th>\n",
              "      <td>blacephalon</td>\n",
              "      <td>Fire</td>\n",
              "      <td>Ghost</td>\n",
              "    </tr>\n",
              "    <tr>\n",
              "      <th>806</th>\n",
              "      <td>zeraora</td>\n",
              "      <td>Electric</td>\n",
              "      <td>NaN</td>\n",
              "    </tr>\n",
              "    <tr>\n",
              "      <th>807</th>\n",
              "      <td>meltan</td>\n",
              "      <td>Steel</td>\n",
              "      <td>NaN</td>\n",
              "    </tr>\n",
              "    <tr>\n",
              "      <th>808</th>\n",
              "      <td>melmetal</td>\n",
              "      <td>Steel</td>\n",
              "      <td>NaN</td>\n",
              "    </tr>\n",
              "  </tbody>\n",
              "</table>\n",
              "<p>809 rows × 3 columns</p>\n",
              "</div>"
            ],
            "text/plain": [
              "            Name     Type1   Type2\n",
              "0      bulbasaur     Grass  Poison\n",
              "1        ivysaur     Grass  Poison\n",
              "2       venusaur     Grass  Poison\n",
              "3     charmander      Fire     NaN\n",
              "4     charmeleon      Fire     NaN\n",
              "..           ...       ...     ...\n",
              "804    stakataka      Rock   Steel\n",
              "805  blacephalon      Fire   Ghost\n",
              "806      zeraora  Electric     NaN\n",
              "807       meltan     Steel     NaN\n",
              "808     melmetal     Steel     NaN\n",
              "\n",
              "[809 rows x 3 columns]"
            ]
          },
          "metadata": {
            "tags": []
          },
          "execution_count": 3
        }
      ]
    },
    {
      "cell_type": "markdown",
      "metadata": {
        "id": "YI33JC9D1lmE",
        "colab_type": "text"
      },
      "source": [
        "### Pokemon Sun and Moon (Gen 7) Stats\n",
        "\n",
        "https://www.kaggle.com/mylesoneill/pokemon-sun-and-moon-gen-7-stats\n",
        "\n",
        "ポケモンの種族値等のデータ"
      ]
    },
    {
      "cell_type": "code",
      "metadata": {
        "id": "0tT-ar83fsXX",
        "colab_type": "code",
        "outputId": "da18fff5-6508-42c2-9084-f66041a2dc9f",
        "colab": {
          "base_uri": "https://localhost:8080/",
          "height": 745
        }
      },
      "source": [
        "df_poke = pd.read_csv('pokemon.csv')\n",
        "\n",
        "# ポケモンの名前を小文字に\n",
        "strlow = lambda x: str(x).lower()\n",
        "df_poke['species'] = df_poke['species'].map(strlow)\n",
        "\n",
        "df_poke"
      ],
      "execution_count": 0,
      "outputs": [
        {
          "output_type": "execute_result",
          "data": {
            "text/html": [
              "<div>\n",
              "<style scoped>\n",
              "    .dataframe tbody tr th:only-of-type {\n",
              "        vertical-align: middle;\n",
              "    }\n",
              "\n",
              "    .dataframe tbody tr th {\n",
              "        vertical-align: top;\n",
              "    }\n",
              "\n",
              "    .dataframe thead th {\n",
              "        text-align: right;\n",
              "    }\n",
              "</style>\n",
              "<table border=\"1\" class=\"dataframe\">\n",
              "  <thead>\n",
              "    <tr style=\"text-align: right;\">\n",
              "      <th></th>\n",
              "      <th>id</th>\n",
              "      <th>ndex</th>\n",
              "      <th>species</th>\n",
              "      <th>forme</th>\n",
              "      <th>type1</th>\n",
              "      <th>type2</th>\n",
              "      <th>ability1</th>\n",
              "      <th>ability2</th>\n",
              "      <th>abilityH</th>\n",
              "      <th>hp</th>\n",
              "      <th>attack</th>\n",
              "      <th>defense</th>\n",
              "      <th>spattack</th>\n",
              "      <th>spdefense</th>\n",
              "      <th>speed</th>\n",
              "      <th>total</th>\n",
              "      <th>weight</th>\n",
              "      <th>height</th>\n",
              "      <th>dex1</th>\n",
              "      <th>dex2</th>\n",
              "      <th>class</th>\n",
              "      <th>percent-male</th>\n",
              "      <th>percent-female</th>\n",
              "      <th>pre-evolution</th>\n",
              "      <th>egg-group1</th>\n",
              "      <th>egg-group2</th>\n",
              "    </tr>\n",
              "  </thead>\n",
              "  <tbody>\n",
              "    <tr>\n",
              "      <th>0</th>\n",
              "      <td>1</td>\n",
              "      <td>1</td>\n",
              "      <td>bulbasaur</td>\n",
              "      <td>Bulbasaur</td>\n",
              "      <td>Grass</td>\n",
              "      <td>Poison</td>\n",
              "      <td>Overgrow</td>\n",
              "      <td>NaN</td>\n",
              "      <td>Chlorophyll</td>\n",
              "      <td>45</td>\n",
              "      <td>49</td>\n",
              "      <td>49</td>\n",
              "      <td>65</td>\n",
              "      <td>65</td>\n",
              "      <td>45</td>\n",
              "      <td>318</td>\n",
              "      <td>15.2 lbs.</td>\n",
              "      <td>2'04\"</td>\n",
              "      <td>NaN</td>\n",
              "      <td>NaN</td>\n",
              "      <td>Seed Pokémon</td>\n",
              "      <td>0.875</td>\n",
              "      <td>0.125</td>\n",
              "      <td>NaN</td>\n",
              "      <td>Monster</td>\n",
              "      <td>Grass</td>\n",
              "    </tr>\n",
              "    <tr>\n",
              "      <th>1</th>\n",
              "      <td>2</td>\n",
              "      <td>2</td>\n",
              "      <td>ivysaur</td>\n",
              "      <td>Ivysaur</td>\n",
              "      <td>Grass</td>\n",
              "      <td>Poison</td>\n",
              "      <td>Overgrow</td>\n",
              "      <td>NaN</td>\n",
              "      <td>Chlorophyll</td>\n",
              "      <td>60</td>\n",
              "      <td>62</td>\n",
              "      <td>63</td>\n",
              "      <td>80</td>\n",
              "      <td>80</td>\n",
              "      <td>60</td>\n",
              "      <td>405</td>\n",
              "      <td>28.7 lbs.</td>\n",
              "      <td>3'03\"</td>\n",
              "      <td>NaN</td>\n",
              "      <td>NaN</td>\n",
              "      <td>Seed Pokémon</td>\n",
              "      <td>0.875</td>\n",
              "      <td>0.125</td>\n",
              "      <td>Bulbasaur</td>\n",
              "      <td>Monster</td>\n",
              "      <td>Grass</td>\n",
              "    </tr>\n",
              "    <tr>\n",
              "      <th>2</th>\n",
              "      <td>3</td>\n",
              "      <td>3</td>\n",
              "      <td>venusaur</td>\n",
              "      <td>Venusaur</td>\n",
              "      <td>Grass</td>\n",
              "      <td>Poison</td>\n",
              "      <td>Overgrow</td>\n",
              "      <td>NaN</td>\n",
              "      <td>Chlorophyll</td>\n",
              "      <td>80</td>\n",
              "      <td>82</td>\n",
              "      <td>83</td>\n",
              "      <td>100</td>\n",
              "      <td>100</td>\n",
              "      <td>80</td>\n",
              "      <td>525</td>\n",
              "      <td>220.5 lbs.</td>\n",
              "      <td>6'07\"</td>\n",
              "      <td>NaN</td>\n",
              "      <td>NaN</td>\n",
              "      <td>Seed Pokémon</td>\n",
              "      <td>0.875</td>\n",
              "      <td>0.125</td>\n",
              "      <td>Ivysaur</td>\n",
              "      <td>Monster</td>\n",
              "      <td>Grass</td>\n",
              "    </tr>\n",
              "    <tr>\n",
              "      <th>3</th>\n",
              "      <td>4</td>\n",
              "      <td>4</td>\n",
              "      <td>charmander</td>\n",
              "      <td>Charmander</td>\n",
              "      <td>Fire</td>\n",
              "      <td>NaN</td>\n",
              "      <td>Blaze</td>\n",
              "      <td>NaN</td>\n",
              "      <td>Solar Power</td>\n",
              "      <td>39</td>\n",
              "      <td>52</td>\n",
              "      <td>43</td>\n",
              "      <td>60</td>\n",
              "      <td>50</td>\n",
              "      <td>65</td>\n",
              "      <td>309</td>\n",
              "      <td>18.7 lbs.</td>\n",
              "      <td>2'00\"</td>\n",
              "      <td>NaN</td>\n",
              "      <td>NaN</td>\n",
              "      <td>Lizard Pokémon</td>\n",
              "      <td>0.875</td>\n",
              "      <td>0.125</td>\n",
              "      <td>NaN</td>\n",
              "      <td>Monster</td>\n",
              "      <td>Dragon</td>\n",
              "    </tr>\n",
              "    <tr>\n",
              "      <th>4</th>\n",
              "      <td>5</td>\n",
              "      <td>5</td>\n",
              "      <td>charmeleon</td>\n",
              "      <td>Charmeleon</td>\n",
              "      <td>Fire</td>\n",
              "      <td>NaN</td>\n",
              "      <td>Blaze</td>\n",
              "      <td>NaN</td>\n",
              "      <td>Solar Power</td>\n",
              "      <td>58</td>\n",
              "      <td>64</td>\n",
              "      <td>58</td>\n",
              "      <td>80</td>\n",
              "      <td>65</td>\n",
              "      <td>80</td>\n",
              "      <td>405</td>\n",
              "      <td>41.9 lbs.</td>\n",
              "      <td>3'07\"</td>\n",
              "      <td>NaN</td>\n",
              "      <td>NaN</td>\n",
              "      <td>Flame Pokémon</td>\n",
              "      <td>0.875</td>\n",
              "      <td>0.125</td>\n",
              "      <td>Charmander</td>\n",
              "      <td>Monster</td>\n",
              "      <td>Dragon</td>\n",
              "    </tr>\n",
              "    <tr>\n",
              "      <th>...</th>\n",
              "      <td>...</td>\n",
              "      <td>...</td>\n",
              "      <td>...</td>\n",
              "      <td>...</td>\n",
              "      <td>...</td>\n",
              "      <td>...</td>\n",
              "      <td>...</td>\n",
              "      <td>...</td>\n",
              "      <td>...</td>\n",
              "      <td>...</td>\n",
              "      <td>...</td>\n",
              "      <td>...</td>\n",
              "      <td>...</td>\n",
              "      <td>...</td>\n",
              "      <td>...</td>\n",
              "      <td>...</td>\n",
              "      <td>...</td>\n",
              "      <td>...</td>\n",
              "      <td>...</td>\n",
              "      <td>...</td>\n",
              "      <td>...</td>\n",
              "      <td>...</td>\n",
              "      <td>...</td>\n",
              "      <td>...</td>\n",
              "      <td>...</td>\n",
              "      <td>...</td>\n",
              "    </tr>\n",
              "    <tr>\n",
              "      <th>1056</th>\n",
              "      <td>1058</td>\n",
              "      <td>778</td>\n",
              "      <td>mimikyu</td>\n",
              "      <td>Mimikyu (Busted Form)</td>\n",
              "      <td>Ghost</td>\n",
              "      <td>Fairy</td>\n",
              "      <td>Disguise</td>\n",
              "      <td>Disguise</td>\n",
              "      <td>Disguise</td>\n",
              "      <td>60</td>\n",
              "      <td>100</td>\n",
              "      <td>60</td>\n",
              "      <td>100</td>\n",
              "      <td>60</td>\n",
              "      <td>120</td>\n",
              "      <td>500</td>\n",
              "      <td>1.5 lbs.</td>\n",
              "      <td>0'08\"</td>\n",
              "      <td>After going to all the effort of disguising it...</td>\n",
              "      <td>If its neck is broken or its rag torn during a...</td>\n",
              "      <td>Disguise Pokémon</td>\n",
              "      <td>0.500</td>\n",
              "      <td>0.500</td>\n",
              "      <td>NaN</td>\n",
              "      <td>Amorphous</td>\n",
              "      <td>NaN</td>\n",
              "    </tr>\n",
              "    <tr>\n",
              "      <th>1057</th>\n",
              "      <td>1059</td>\n",
              "      <td>778</td>\n",
              "      <td>mimikyu</td>\n",
              "      <td>Mimikyu (2)</td>\n",
              "      <td>Ghost</td>\n",
              "      <td>Fairy</td>\n",
              "      <td>Disguise</td>\n",
              "      <td>Disguise</td>\n",
              "      <td>Disguise</td>\n",
              "      <td>60</td>\n",
              "      <td>100</td>\n",
              "      <td>60</td>\n",
              "      <td>100</td>\n",
              "      <td>60</td>\n",
              "      <td>120</td>\n",
              "      <td>500</td>\n",
              "      <td>1.5 lbs.</td>\n",
              "      <td>0'08\"</td>\n",
              "      <td>NaN</td>\n",
              "      <td>NaN</td>\n",
              "      <td>Disguise Pokémon</td>\n",
              "      <td>0.500</td>\n",
              "      <td>0.500</td>\n",
              "      <td>NaN</td>\n",
              "      <td>Amorphous</td>\n",
              "      <td>NaN</td>\n",
              "    </tr>\n",
              "    <tr>\n",
              "      <th>1058</th>\n",
              "      <td>1060</td>\n",
              "      <td>778</td>\n",
              "      <td>mimikyu</td>\n",
              "      <td>Mimikyu (3)</td>\n",
              "      <td>Ghost</td>\n",
              "      <td>Fairy</td>\n",
              "      <td>Disguise</td>\n",
              "      <td>Disguise</td>\n",
              "      <td>Disguise</td>\n",
              "      <td>60</td>\n",
              "      <td>100</td>\n",
              "      <td>60</td>\n",
              "      <td>100</td>\n",
              "      <td>60</td>\n",
              "      <td>120</td>\n",
              "      <td>500</td>\n",
              "      <td>1.5 lbs.</td>\n",
              "      <td>0'08\"</td>\n",
              "      <td>NaN</td>\n",
              "      <td>NaN</td>\n",
              "      <td>Disguise Pokémon</td>\n",
              "      <td>0.500</td>\n",
              "      <td>0.500</td>\n",
              "      <td>NaN</td>\n",
              "      <td>Amorphous</td>\n",
              "      <td>NaN</td>\n",
              "    </tr>\n",
              "    <tr>\n",
              "      <th>1059</th>\n",
              "      <td>1061</td>\n",
              "      <td>784</td>\n",
              "      <td>kommo-o</td>\n",
              "      <td>Kommo-o (1)</td>\n",
              "      <td>Dragon</td>\n",
              "      <td>Fighting</td>\n",
              "      <td>Bulletproof</td>\n",
              "      <td>Soundproof</td>\n",
              "      <td>Overcoat</td>\n",
              "      <td>75</td>\n",
              "      <td>110</td>\n",
              "      <td>125</td>\n",
              "      <td>100</td>\n",
              "      <td>105</td>\n",
              "      <td>85</td>\n",
              "      <td>600</td>\n",
              "      <td>172.4 lbs.</td>\n",
              "      <td>5'03\"</td>\n",
              "      <td>NaN</td>\n",
              "      <td>NaN</td>\n",
              "      <td>Scaly Pokémon</td>\n",
              "      <td>0.500</td>\n",
              "      <td>0.500</td>\n",
              "      <td>NaN</td>\n",
              "      <td>Dragon</td>\n",
              "      <td>NaN</td>\n",
              "    </tr>\n",
              "    <tr>\n",
              "      <th>1060</th>\n",
              "      <td>1062</td>\n",
              "      <td>801</td>\n",
              "      <td>magearna</td>\n",
              "      <td>Magearna (Original Color)</td>\n",
              "      <td>Steel</td>\n",
              "      <td>Fairy</td>\n",
              "      <td>Soul-Heart</td>\n",
              "      <td>Soul-Heart</td>\n",
              "      <td>Soul-Heart</td>\n",
              "      <td>80</td>\n",
              "      <td>95</td>\n",
              "      <td>115</td>\n",
              "      <td>130</td>\n",
              "      <td>115</td>\n",
              "      <td>65</td>\n",
              "      <td>600</td>\n",
              "      <td>177.5 lbs.</td>\n",
              "      <td>3'03\"</td>\n",
              "      <td>This beautiful form reflects Magearna’s appear...</td>\n",
              "      <td>This gorgeous Magearna looks as it did at the ...</td>\n",
              "      <td>Artificial Pokémon</td>\n",
              "      <td>NaN</td>\n",
              "      <td>NaN</td>\n",
              "      <td>NaN</td>\n",
              "      <td>Undiscovered</td>\n",
              "      <td>NaN</td>\n",
              "    </tr>\n",
              "  </tbody>\n",
              "</table>\n",
              "<p>1061 rows × 26 columns</p>\n",
              "</div>"
            ],
            "text/plain": [
              "        id  ndex     species  ... pre-evolution    egg-group1 egg-group2\n",
              "0        1     1   bulbasaur  ...           NaN       Monster      Grass\n",
              "1        2     2     ivysaur  ...     Bulbasaur       Monster      Grass\n",
              "2        3     3    venusaur  ...       Ivysaur       Monster      Grass\n",
              "3        4     4  charmander  ...           NaN       Monster     Dragon\n",
              "4        5     5  charmeleon  ...    Charmander       Monster     Dragon\n",
              "...    ...   ...         ...  ...           ...           ...        ...\n",
              "1056  1058   778     mimikyu  ...           NaN     Amorphous        NaN\n",
              "1057  1059   778     mimikyu  ...           NaN     Amorphous        NaN\n",
              "1058  1060   778     mimikyu  ...           NaN     Amorphous        NaN\n",
              "1059  1061   784     kommo-o  ...           NaN        Dragon        NaN\n",
              "1060  1062   801    magearna  ...           NaN  Undiscovered        NaN\n",
              "\n",
              "[1061 rows x 26 columns]"
            ]
          },
          "metadata": {
            "tags": []
          },
          "execution_count": 4
        }
      ]
    },
    {
      "cell_type": "markdown",
      "metadata": {
        "id": "pFXDcwi0HqSr",
        "colab_type": "text"
      },
      "source": [
        "## 前処理\n",
        "第６世代までを訓練データ、第７世代を評価データとして使う"
      ]
    },
    {
      "cell_type": "markdown",
      "metadata": {
        "id": "4JR2opHEdn9p",
        "colab_type": "text"
      },
      "source": [
        "### 出力の種族値データを作成"
      ]
    },
    {
      "cell_type": "code",
      "metadata": {
        "id": "mndoEEFymWxE",
        "colab_type": "code",
        "colab": {}
      },
      "source": [
        "# ２つのデータのCSVを紐付け\n",
        "def isExistsLowNum(name):\n",
        "  try:\n",
        "    # 複数フォームあるデータについては1つ目のインデックス値を返す\n",
        "    return df_poke.query('species == \"' + name + '\"').index[0]\n",
        "  except:\n",
        "    return np.nan"
      ],
      "execution_count": 0,
      "outputs": []
    },
    {
      "cell_type": "code",
      "metadata": {
        "id": "7ZQP8IeBz-Oh",
        "colab_type": "code",
        "outputId": "226c7ea4-c477-41d3-d042-544f13dbd7ff",
        "colab": {
          "base_uri": "https://localhost:8080/",
          "height": 204
        }
      },
      "source": [
        "df_pokeimg['id'] = df_pokeimg['Name'].map(isExistsLowNum)\n",
        "df_pokeimg.head()"
      ],
      "execution_count": 0,
      "outputs": [
        {
          "output_type": "execute_result",
          "data": {
            "text/html": [
              "<div>\n",
              "<style scoped>\n",
              "    .dataframe tbody tr th:only-of-type {\n",
              "        vertical-align: middle;\n",
              "    }\n",
              "\n",
              "    .dataframe tbody tr th {\n",
              "        vertical-align: top;\n",
              "    }\n",
              "\n",
              "    .dataframe thead th {\n",
              "        text-align: right;\n",
              "    }\n",
              "</style>\n",
              "<table border=\"1\" class=\"dataframe\">\n",
              "  <thead>\n",
              "    <tr style=\"text-align: right;\">\n",
              "      <th></th>\n",
              "      <th>Name</th>\n",
              "      <th>Type1</th>\n",
              "      <th>Type2</th>\n",
              "      <th>id</th>\n",
              "    </tr>\n",
              "  </thead>\n",
              "  <tbody>\n",
              "    <tr>\n",
              "      <th>0</th>\n",
              "      <td>bulbasaur</td>\n",
              "      <td>Grass</td>\n",
              "      <td>Poison</td>\n",
              "      <td>0.0</td>\n",
              "    </tr>\n",
              "    <tr>\n",
              "      <th>1</th>\n",
              "      <td>ivysaur</td>\n",
              "      <td>Grass</td>\n",
              "      <td>Poison</td>\n",
              "      <td>1.0</td>\n",
              "    </tr>\n",
              "    <tr>\n",
              "      <th>2</th>\n",
              "      <td>venusaur</td>\n",
              "      <td>Grass</td>\n",
              "      <td>Poison</td>\n",
              "      <td>2.0</td>\n",
              "    </tr>\n",
              "    <tr>\n",
              "      <th>3</th>\n",
              "      <td>charmander</td>\n",
              "      <td>Fire</td>\n",
              "      <td>NaN</td>\n",
              "      <td>3.0</td>\n",
              "    </tr>\n",
              "    <tr>\n",
              "      <th>4</th>\n",
              "      <td>charmeleon</td>\n",
              "      <td>Fire</td>\n",
              "      <td>NaN</td>\n",
              "      <td>4.0</td>\n",
              "    </tr>\n",
              "  </tbody>\n",
              "</table>\n",
              "</div>"
            ],
            "text/plain": [
              "         Name  Type1   Type2   id\n",
              "0   bulbasaur  Grass  Poison  0.0\n",
              "1     ivysaur  Grass  Poison  1.0\n",
              "2    venusaur  Grass  Poison  2.0\n",
              "3  charmander   Fire     NaN  3.0\n",
              "4  charmeleon   Fire     NaN  4.0"
            ]
          },
          "metadata": {
            "tags": []
          },
          "execution_count": 6
        }
      ]
    },
    {
      "cell_type": "code",
      "metadata": {
        "id": "QINpNmZsAOqf",
        "colab_type": "code",
        "outputId": "e60d25c6-73ff-43df-b94c-bf22b3899f7d",
        "colab": {
          "base_uri": "https://localhost:8080/",
          "height": 34
        }
      },
      "source": [
        "df_pokeimg['id'].isnull().sum()"
      ],
      "execution_count": 0,
      "outputs": [
        {
          "output_type": "execute_result",
          "data": {
            "text/plain": [
              "39"
            ]
          },
          "metadata": {
            "tags": []
          },
          "execution_count": 7
        }
      ]
    },
    {
      "cell_type": "code",
      "metadata": {
        "id": "QOQSQM2wA4_b",
        "colab_type": "code",
        "outputId": "b2fa0fb9-51cf-47f3-d234-bbde61ec5a2b",
        "colab": {
          "base_uri": "https://localhost:8080/",
          "height": 1000
        }
      },
      "source": [
        "df_pokeimg[df_pokeimg['id'].isnull()]"
      ],
      "execution_count": 0,
      "outputs": [
        {
          "output_type": "execute_result",
          "data": {
            "text/html": [
              "<div>\n",
              "<style scoped>\n",
              "    .dataframe tbody tr th:only-of-type {\n",
              "        vertical-align: middle;\n",
              "    }\n",
              "\n",
              "    .dataframe tbody tr th {\n",
              "        vertical-align: top;\n",
              "    }\n",
              "\n",
              "    .dataframe thead th {\n",
              "        text-align: right;\n",
              "    }\n",
              "</style>\n",
              "<table border=\"1\" class=\"dataframe\">\n",
              "  <thead>\n",
              "    <tr style=\"text-align: right;\">\n",
              "      <th></th>\n",
              "      <th>Name</th>\n",
              "      <th>Type1</th>\n",
              "      <th>Type2</th>\n",
              "      <th>id</th>\n",
              "    </tr>\n",
              "  </thead>\n",
              "  <tbody>\n",
              "    <tr>\n",
              "      <th>28</th>\n",
              "      <td>nidoran-f</td>\n",
              "      <td>Poison</td>\n",
              "      <td>NaN</td>\n",
              "      <td>NaN</td>\n",
              "    </tr>\n",
              "    <tr>\n",
              "      <th>31</th>\n",
              "      <td>nidoran-m</td>\n",
              "      <td>Poison</td>\n",
              "      <td>NaN</td>\n",
              "      <td>NaN</td>\n",
              "    </tr>\n",
              "    <tr>\n",
              "      <th>82</th>\n",
              "      <td>farfetchd</td>\n",
              "      <td>Normal</td>\n",
              "      <td>Flying</td>\n",
              "      <td>NaN</td>\n",
              "    </tr>\n",
              "    <tr>\n",
              "      <th>121</th>\n",
              "      <td>mr-mime</td>\n",
              "      <td>Psychic</td>\n",
              "      <td>Fairy</td>\n",
              "      <td>NaN</td>\n",
              "    </tr>\n",
              "    <tr>\n",
              "      <th>385</th>\n",
              "      <td>deoxys-normal</td>\n",
              "      <td>Psychic</td>\n",
              "      <td>NaN</td>\n",
              "      <td>NaN</td>\n",
              "    </tr>\n",
              "    <tr>\n",
              "      <th>412</th>\n",
              "      <td>wormadam-plant</td>\n",
              "      <td>Bug</td>\n",
              "      <td>Grass</td>\n",
              "      <td>NaN</td>\n",
              "    </tr>\n",
              "    <tr>\n",
              "      <th>438</th>\n",
              "      <td>mime-jr</td>\n",
              "      <td>Psychic</td>\n",
              "      <td>Fairy</td>\n",
              "      <td>NaN</td>\n",
              "    </tr>\n",
              "    <tr>\n",
              "      <th>486</th>\n",
              "      <td>giratina-altered</td>\n",
              "      <td>Ghost</td>\n",
              "      <td>Dragon</td>\n",
              "      <td>NaN</td>\n",
              "    </tr>\n",
              "    <tr>\n",
              "      <th>491</th>\n",
              "      <td>shaymin-land</td>\n",
              "      <td>Grass</td>\n",
              "      <td>NaN</td>\n",
              "      <td>NaN</td>\n",
              "    </tr>\n",
              "    <tr>\n",
              "      <th>549</th>\n",
              "      <td>basculin-red-striped</td>\n",
              "      <td>Water</td>\n",
              "      <td>NaN</td>\n",
              "      <td>NaN</td>\n",
              "    </tr>\n",
              "    <tr>\n",
              "      <th>554</th>\n",
              "      <td>darmanitan-standard</td>\n",
              "      <td>Fire</td>\n",
              "      <td>NaN</td>\n",
              "      <td>NaN</td>\n",
              "    </tr>\n",
              "    <tr>\n",
              "      <th>640</th>\n",
              "      <td>tornadus-incarnate</td>\n",
              "      <td>Flying</td>\n",
              "      <td>NaN</td>\n",
              "      <td>NaN</td>\n",
              "    </tr>\n",
              "    <tr>\n",
              "      <th>641</th>\n",
              "      <td>thundurus-incarnate</td>\n",
              "      <td>Electric</td>\n",
              "      <td>Flying</td>\n",
              "      <td>NaN</td>\n",
              "    </tr>\n",
              "    <tr>\n",
              "      <th>644</th>\n",
              "      <td>landorus-incarnate</td>\n",
              "      <td>Ground</td>\n",
              "      <td>Flying</td>\n",
              "      <td>NaN</td>\n",
              "    </tr>\n",
              "    <tr>\n",
              "      <th>646</th>\n",
              "      <td>keldeo-ordinary</td>\n",
              "      <td>Water</td>\n",
              "      <td>Fighting</td>\n",
              "      <td>NaN</td>\n",
              "    </tr>\n",
              "    <tr>\n",
              "      <th>647</th>\n",
              "      <td>meloetta-aria</td>\n",
              "      <td>Normal</td>\n",
              "      <td>Psychic</td>\n",
              "      <td>NaN</td>\n",
              "    </tr>\n",
              "    <tr>\n",
              "      <th>668</th>\n",
              "      <td>flabebe</td>\n",
              "      <td>Fairy</td>\n",
              "      <td>NaN</td>\n",
              "      <td>NaN</td>\n",
              "    </tr>\n",
              "    <tr>\n",
              "      <th>677</th>\n",
              "      <td>meowstic-male</td>\n",
              "      <td>Psychic</td>\n",
              "      <td>NaN</td>\n",
              "      <td>NaN</td>\n",
              "    </tr>\n",
              "    <tr>\n",
              "      <th>680</th>\n",
              "      <td>aegislash-blade</td>\n",
              "      <td>Steel</td>\n",
              "      <td>Ghost</td>\n",
              "      <td>NaN</td>\n",
              "    </tr>\n",
              "    <tr>\n",
              "      <th>709</th>\n",
              "      <td>pumpkaboo-average</td>\n",
              "      <td>Ghost</td>\n",
              "      <td>Grass</td>\n",
              "      <td>NaN</td>\n",
              "    </tr>\n",
              "    <tr>\n",
              "      <th>710</th>\n",
              "      <td>gourgeist-average</td>\n",
              "      <td>Ghost</td>\n",
              "      <td>Grass</td>\n",
              "      <td>NaN</td>\n",
              "    </tr>\n",
              "    <tr>\n",
              "      <th>717</th>\n",
              "      <td>zygarde-50</td>\n",
              "      <td>Dragon</td>\n",
              "      <td>Ground</td>\n",
              "      <td>NaN</td>\n",
              "    </tr>\n",
              "    <tr>\n",
              "      <th>719</th>\n",
              "      <td>hoopa-confined</td>\n",
              "      <td>Psychic</td>\n",
              "      <td>Ghost</td>\n",
              "      <td>NaN</td>\n",
              "    </tr>\n",
              "    <tr>\n",
              "      <th>740</th>\n",
              "      <td>oricorio-baile</td>\n",
              "      <td>Fire</td>\n",
              "      <td>Flying</td>\n",
              "      <td>NaN</td>\n",
              "    </tr>\n",
              "    <tr>\n",
              "      <th>744</th>\n",
              "      <td>lycanroc-midday</td>\n",
              "      <td>Rock</td>\n",
              "      <td>NaN</td>\n",
              "      <td>NaN</td>\n",
              "    </tr>\n",
              "    <tr>\n",
              "      <th>745</th>\n",
              "      <td>wishiwashi-solo</td>\n",
              "      <td>Water</td>\n",
              "      <td>NaN</td>\n",
              "      <td>NaN</td>\n",
              "    </tr>\n",
              "    <tr>\n",
              "      <th>771</th>\n",
              "      <td>type-null</td>\n",
              "      <td>Normal</td>\n",
              "      <td>NaN</td>\n",
              "      <td>NaN</td>\n",
              "    </tr>\n",
              "    <tr>\n",
              "      <th>773</th>\n",
              "      <td>minior-meteor</td>\n",
              "      <td>Rock</td>\n",
              "      <td>Flying</td>\n",
              "      <td>NaN</td>\n",
              "    </tr>\n",
              "    <tr>\n",
              "      <th>784</th>\n",
              "      <td>tapu-koko</td>\n",
              "      <td>Electric</td>\n",
              "      <td>Fairy</td>\n",
              "      <td>NaN</td>\n",
              "    </tr>\n",
              "    <tr>\n",
              "      <th>785</th>\n",
              "      <td>tapu-lele</td>\n",
              "      <td>Psychic</td>\n",
              "      <td>Fairy</td>\n",
              "      <td>NaN</td>\n",
              "    </tr>\n",
              "    <tr>\n",
              "      <th>786</th>\n",
              "      <td>tapu-bulu</td>\n",
              "      <td>Grass</td>\n",
              "      <td>Fairy</td>\n",
              "      <td>NaN</td>\n",
              "    </tr>\n",
              "    <tr>\n",
              "      <th>787</th>\n",
              "      <td>tapu-fini</td>\n",
              "      <td>Water</td>\n",
              "      <td>Fairy</td>\n",
              "      <td>NaN</td>\n",
              "    </tr>\n",
              "    <tr>\n",
              "      <th>802</th>\n",
              "      <td>poipole</td>\n",
              "      <td>Poison</td>\n",
              "      <td>NaN</td>\n",
              "      <td>NaN</td>\n",
              "    </tr>\n",
              "    <tr>\n",
              "      <th>803</th>\n",
              "      <td>naganadel</td>\n",
              "      <td>Poison</td>\n",
              "      <td>Dragon</td>\n",
              "      <td>NaN</td>\n",
              "    </tr>\n",
              "    <tr>\n",
              "      <th>804</th>\n",
              "      <td>stakataka</td>\n",
              "      <td>Rock</td>\n",
              "      <td>Steel</td>\n",
              "      <td>NaN</td>\n",
              "    </tr>\n",
              "    <tr>\n",
              "      <th>805</th>\n",
              "      <td>blacephalon</td>\n",
              "      <td>Fire</td>\n",
              "      <td>Ghost</td>\n",
              "      <td>NaN</td>\n",
              "    </tr>\n",
              "    <tr>\n",
              "      <th>806</th>\n",
              "      <td>zeraora</td>\n",
              "      <td>Electric</td>\n",
              "      <td>NaN</td>\n",
              "      <td>NaN</td>\n",
              "    </tr>\n",
              "    <tr>\n",
              "      <th>807</th>\n",
              "      <td>meltan</td>\n",
              "      <td>Steel</td>\n",
              "      <td>NaN</td>\n",
              "      <td>NaN</td>\n",
              "    </tr>\n",
              "    <tr>\n",
              "      <th>808</th>\n",
              "      <td>melmetal</td>\n",
              "      <td>Steel</td>\n",
              "      <td>NaN</td>\n",
              "      <td>NaN</td>\n",
              "    </tr>\n",
              "  </tbody>\n",
              "</table>\n",
              "</div>"
            ],
            "text/plain": [
              "                     Name     Type1     Type2  id\n",
              "28              nidoran-f    Poison       NaN NaN\n",
              "31              nidoran-m    Poison       NaN NaN\n",
              "82              farfetchd    Normal    Flying NaN\n",
              "121               mr-mime   Psychic     Fairy NaN\n",
              "385         deoxys-normal   Psychic       NaN NaN\n",
              "412        wormadam-plant       Bug     Grass NaN\n",
              "438               mime-jr   Psychic     Fairy NaN\n",
              "486      giratina-altered     Ghost    Dragon NaN\n",
              "491          shaymin-land     Grass       NaN NaN\n",
              "549  basculin-red-striped     Water       NaN NaN\n",
              "554   darmanitan-standard      Fire       NaN NaN\n",
              "640    tornadus-incarnate    Flying       NaN NaN\n",
              "641   thundurus-incarnate  Electric    Flying NaN\n",
              "644    landorus-incarnate    Ground    Flying NaN\n",
              "646       keldeo-ordinary     Water  Fighting NaN\n",
              "647         meloetta-aria    Normal   Psychic NaN\n",
              "668               flabebe     Fairy       NaN NaN\n",
              "677         meowstic-male   Psychic       NaN NaN\n",
              "680       aegislash-blade     Steel     Ghost NaN\n",
              "709     pumpkaboo-average     Ghost     Grass NaN\n",
              "710     gourgeist-average     Ghost     Grass NaN\n",
              "717            zygarde-50    Dragon    Ground NaN\n",
              "719        hoopa-confined   Psychic     Ghost NaN\n",
              "740        oricorio-baile      Fire    Flying NaN\n",
              "744       lycanroc-midday      Rock       NaN NaN\n",
              "745       wishiwashi-solo     Water       NaN NaN\n",
              "771             type-null    Normal       NaN NaN\n",
              "773         minior-meteor      Rock    Flying NaN\n",
              "784             tapu-koko  Electric     Fairy NaN\n",
              "785             tapu-lele   Psychic     Fairy NaN\n",
              "786             tapu-bulu     Grass     Fairy NaN\n",
              "787             tapu-fini     Water     Fairy NaN\n",
              "802               poipole    Poison       NaN NaN\n",
              "803             naganadel    Poison    Dragon NaN\n",
              "804             stakataka      Rock     Steel NaN\n",
              "805           blacephalon      Fire     Ghost NaN\n",
              "806               zeraora  Electric       NaN NaN\n",
              "807                meltan     Steel       NaN NaN\n",
              "808              melmetal     Steel       NaN NaN"
            ]
          },
          "metadata": {
            "tags": []
          },
          "execution_count": 8
        }
      ]
    },
    {
      "cell_type": "markdown",
      "metadata": {
        "id": "9GsrXiaX_XKC",
        "colab_type": "text"
      },
      "source": [
        "#### ポケモンの名前がデータ間で異なる場合は名寄せ"
      ]
    },
    {
      "cell_type": "code",
      "metadata": {
        "id": "hsTbMCJuGHCR",
        "colab_type": "code",
        "colab": {}
      },
      "source": [
        "df_poke.iloc[28, 2] = 'nidoran-f'\n",
        "df_poke.iloc[31, 2] = 'nidoran-m'\n",
        "df_poke.iloc[82, 2] = 'farfetchd'\n",
        "df_poke.iloc[121, 2] = 'mr-mime'\n",
        "df_poke.iloc[385, 2] = 'deoxys-normal'\n",
        "df_poke.iloc[412, 2] = 'wormadam-plant'\n",
        "df_poke.iloc[438, 2] = 'mime-jr'\n",
        "df_poke.iloc[486, 2] = 'giratina-altered'\n",
        "df_poke.iloc[491, 2] = 'shaymin-land'\n",
        "df_poke.iloc[549, 2] = 'basculin-red-striped'\n",
        "df_poke.iloc[554, 2] = 'darmanitan-standard'\n",
        "df_poke.iloc[640, 2] = 'tornadus-incarnate'\n",
        "df_poke.iloc[641, 2] = 'thundurus-incarnate'\n",
        "df_poke.iloc[644, 2] = 'landorus-incarnate'\n",
        "df_poke.iloc[646, 2] = 'keldeo-ordinary'\n",
        "df_poke.iloc[647, 2] = 'meloetta-aria'\n",
        "df_poke.iloc[668, 2] = 'flabebe'\n",
        "df_poke.iloc[677, 2] = 'meowstic-male'\n",
        "df_poke.iloc[680, 2] = 'aegislash-blade'\n",
        "df_poke.iloc[709, 2] = 'pumpkaboo-average'\n",
        "df_poke.iloc[710, 2] = 'gourgeist-average'\n",
        "df_poke.iloc[717, 2] = 'zygarde-50'\n",
        "df_poke.iloc[719, 2] = 'hoopa-confined'\n",
        "df_poke.iloc[740, 2] = 'oricorio-baile'\n",
        "df_poke.iloc[744, 2] = 'lycanroc-midday'\n",
        "df_poke.iloc[745, 2] = 'wishiwashi-solo'\n",
        "df_poke.iloc[771, 2] = 'type-null'\n",
        "df_poke.iloc[773, 2] = 'minior-meteor'\n",
        "df_poke.iloc[784, 2] = 'tapu-koko'\n",
        "df_poke.iloc[785, 2] = 'tapu-lele'\n",
        "df_poke.iloc[786, 2] = 'tapu-bulu'\n",
        "df_poke.iloc[787, 2] = 'tapu-fini'"
      ],
      "execution_count": 0,
      "outputs": []
    },
    {
      "cell_type": "code",
      "metadata": {
        "id": "MGVqYe0BU7yC",
        "colab_type": "code",
        "colab": {}
      },
      "source": [
        "df_pokeimg['id'] = df_pokeimg['Name'].map(isExistsLowNum)"
      ],
      "execution_count": 0,
      "outputs": []
    },
    {
      "cell_type": "code",
      "metadata": {
        "id": "8Fa_krvLF5wF",
        "colab_type": "code",
        "outputId": "8bf88cd8-f9c1-4c30-8a2b-56298cf533ae",
        "colab": {
          "base_uri": "https://localhost:8080/",
          "height": 266
        }
      },
      "source": [
        "df_pokeimg[df_pokeimg['id'].isnull()]"
      ],
      "execution_count": 0,
      "outputs": [
        {
          "output_type": "execute_result",
          "data": {
            "text/html": [
              "<div>\n",
              "<style scoped>\n",
              "    .dataframe tbody tr th:only-of-type {\n",
              "        vertical-align: middle;\n",
              "    }\n",
              "\n",
              "    .dataframe tbody tr th {\n",
              "        vertical-align: top;\n",
              "    }\n",
              "\n",
              "    .dataframe thead th {\n",
              "        text-align: right;\n",
              "    }\n",
              "</style>\n",
              "<table border=\"1\" class=\"dataframe\">\n",
              "  <thead>\n",
              "    <tr style=\"text-align: right;\">\n",
              "      <th></th>\n",
              "      <th>Name</th>\n",
              "      <th>Type1</th>\n",
              "      <th>Type2</th>\n",
              "      <th>id</th>\n",
              "    </tr>\n",
              "  </thead>\n",
              "  <tbody>\n",
              "    <tr>\n",
              "      <th>802</th>\n",
              "      <td>poipole</td>\n",
              "      <td>Poison</td>\n",
              "      <td>NaN</td>\n",
              "      <td>NaN</td>\n",
              "    </tr>\n",
              "    <tr>\n",
              "      <th>803</th>\n",
              "      <td>naganadel</td>\n",
              "      <td>Poison</td>\n",
              "      <td>Dragon</td>\n",
              "      <td>NaN</td>\n",
              "    </tr>\n",
              "    <tr>\n",
              "      <th>804</th>\n",
              "      <td>stakataka</td>\n",
              "      <td>Rock</td>\n",
              "      <td>Steel</td>\n",
              "      <td>NaN</td>\n",
              "    </tr>\n",
              "    <tr>\n",
              "      <th>805</th>\n",
              "      <td>blacephalon</td>\n",
              "      <td>Fire</td>\n",
              "      <td>Ghost</td>\n",
              "      <td>NaN</td>\n",
              "    </tr>\n",
              "    <tr>\n",
              "      <th>806</th>\n",
              "      <td>zeraora</td>\n",
              "      <td>Electric</td>\n",
              "      <td>NaN</td>\n",
              "      <td>NaN</td>\n",
              "    </tr>\n",
              "    <tr>\n",
              "      <th>807</th>\n",
              "      <td>meltan</td>\n",
              "      <td>Steel</td>\n",
              "      <td>NaN</td>\n",
              "      <td>NaN</td>\n",
              "    </tr>\n",
              "    <tr>\n",
              "      <th>808</th>\n",
              "      <td>melmetal</td>\n",
              "      <td>Steel</td>\n",
              "      <td>NaN</td>\n",
              "      <td>NaN</td>\n",
              "    </tr>\n",
              "  </tbody>\n",
              "</table>\n",
              "</div>"
            ],
            "text/plain": [
              "            Name     Type1   Type2  id\n",
              "802      poipole    Poison     NaN NaN\n",
              "803    naganadel    Poison  Dragon NaN\n",
              "804    stakataka      Rock   Steel NaN\n",
              "805  blacephalon      Fire   Ghost NaN\n",
              "806      zeraora  Electric     NaN NaN\n",
              "807       meltan     Steel     NaN NaN\n",
              "808     melmetal     Steel     NaN NaN"
            ]
          },
          "metadata": {
            "tags": []
          },
          "execution_count": 11
        }
      ]
    },
    {
      "cell_type": "code",
      "metadata": {
        "id": "j0LukuUKXMLo",
        "colab_type": "code",
        "outputId": "0a3d19fd-e44a-4757-98f5-7dcbf42788e9",
        "colab": {
          "base_uri": "https://localhost:8080/",
          "height": 204
        }
      },
      "source": [
        "df_pokeimg['hp'] = np.nan\n",
        "df_pokeimg['attack'] = np.nan\n",
        "df_pokeimg['defense'] = np.nan\n",
        "df_pokeimg['spattack'] = np.nan\n",
        "df_pokeimg['spdefense'] = np.nan\n",
        "df_pokeimg['speed'] = np.nan\n",
        "df_pokeimg['speed'] = np.nan\n",
        "df_pokeimg['total'] = np.nan\n",
        "df_pokeimg.head()"
      ],
      "execution_count": 0,
      "outputs": [
        {
          "output_type": "execute_result",
          "data": {
            "text/html": [
              "<div>\n",
              "<style scoped>\n",
              "    .dataframe tbody tr th:only-of-type {\n",
              "        vertical-align: middle;\n",
              "    }\n",
              "\n",
              "    .dataframe tbody tr th {\n",
              "        vertical-align: top;\n",
              "    }\n",
              "\n",
              "    .dataframe thead th {\n",
              "        text-align: right;\n",
              "    }\n",
              "</style>\n",
              "<table border=\"1\" class=\"dataframe\">\n",
              "  <thead>\n",
              "    <tr style=\"text-align: right;\">\n",
              "      <th></th>\n",
              "      <th>Name</th>\n",
              "      <th>Type1</th>\n",
              "      <th>Type2</th>\n",
              "      <th>id</th>\n",
              "      <th>hp</th>\n",
              "      <th>attack</th>\n",
              "      <th>defense</th>\n",
              "      <th>spattack</th>\n",
              "      <th>spdefense</th>\n",
              "      <th>speed</th>\n",
              "      <th>total</th>\n",
              "    </tr>\n",
              "  </thead>\n",
              "  <tbody>\n",
              "    <tr>\n",
              "      <th>0</th>\n",
              "      <td>bulbasaur</td>\n",
              "      <td>Grass</td>\n",
              "      <td>Poison</td>\n",
              "      <td>0.0</td>\n",
              "      <td>NaN</td>\n",
              "      <td>NaN</td>\n",
              "      <td>NaN</td>\n",
              "      <td>NaN</td>\n",
              "      <td>NaN</td>\n",
              "      <td>NaN</td>\n",
              "      <td>NaN</td>\n",
              "    </tr>\n",
              "    <tr>\n",
              "      <th>1</th>\n",
              "      <td>ivysaur</td>\n",
              "      <td>Grass</td>\n",
              "      <td>Poison</td>\n",
              "      <td>1.0</td>\n",
              "      <td>NaN</td>\n",
              "      <td>NaN</td>\n",
              "      <td>NaN</td>\n",
              "      <td>NaN</td>\n",
              "      <td>NaN</td>\n",
              "      <td>NaN</td>\n",
              "      <td>NaN</td>\n",
              "    </tr>\n",
              "    <tr>\n",
              "      <th>2</th>\n",
              "      <td>venusaur</td>\n",
              "      <td>Grass</td>\n",
              "      <td>Poison</td>\n",
              "      <td>2.0</td>\n",
              "      <td>NaN</td>\n",
              "      <td>NaN</td>\n",
              "      <td>NaN</td>\n",
              "      <td>NaN</td>\n",
              "      <td>NaN</td>\n",
              "      <td>NaN</td>\n",
              "      <td>NaN</td>\n",
              "    </tr>\n",
              "    <tr>\n",
              "      <th>3</th>\n",
              "      <td>charmander</td>\n",
              "      <td>Fire</td>\n",
              "      <td>NaN</td>\n",
              "      <td>3.0</td>\n",
              "      <td>NaN</td>\n",
              "      <td>NaN</td>\n",
              "      <td>NaN</td>\n",
              "      <td>NaN</td>\n",
              "      <td>NaN</td>\n",
              "      <td>NaN</td>\n",
              "      <td>NaN</td>\n",
              "    </tr>\n",
              "    <tr>\n",
              "      <th>4</th>\n",
              "      <td>charmeleon</td>\n",
              "      <td>Fire</td>\n",
              "      <td>NaN</td>\n",
              "      <td>4.0</td>\n",
              "      <td>NaN</td>\n",
              "      <td>NaN</td>\n",
              "      <td>NaN</td>\n",
              "      <td>NaN</td>\n",
              "      <td>NaN</td>\n",
              "      <td>NaN</td>\n",
              "      <td>NaN</td>\n",
              "    </tr>\n",
              "  </tbody>\n",
              "</table>\n",
              "</div>"
            ],
            "text/plain": [
              "         Name  Type1   Type2   id  ...  spattack  spdefense  speed  total\n",
              "0   bulbasaur  Grass  Poison  0.0  ...       NaN        NaN    NaN    NaN\n",
              "1     ivysaur  Grass  Poison  1.0  ...       NaN        NaN    NaN    NaN\n",
              "2    venusaur  Grass  Poison  2.0  ...       NaN        NaN    NaN    NaN\n",
              "3  charmander   Fire     NaN  3.0  ...       NaN        NaN    NaN    NaN\n",
              "4  charmeleon   Fire     NaN  4.0  ...       NaN        NaN    NaN    NaN\n",
              "\n",
              "[5 rows x 11 columns]"
            ]
          },
          "metadata": {
            "tags": []
          },
          "execution_count": 12
        }
      ]
    },
    {
      "cell_type": "code",
      "metadata": {
        "id": "wznprUY6aobG",
        "colab_type": "code",
        "outputId": "d4e5fd62-40d7-4dcf-979e-66b92e61f4ac",
        "colab": {
          "base_uri": "https://localhost:8080/",
          "height": 323
        }
      },
      "source": [
        "df_pokeimg = df_pokeimg.dropna(subset=['id'])\n",
        "df_pokeimg['id'] = df_pokeimg['id'].astype(int)\n",
        "df_pokeimg.isnull().sum()"
      ],
      "execution_count": 0,
      "outputs": [
        {
          "output_type": "stream",
          "text": [
            "/usr/local/lib/python3.6/dist-packages/ipykernel_launcher.py:2: SettingWithCopyWarning: \n",
            "A value is trying to be set on a copy of a slice from a DataFrame.\n",
            "Try using .loc[row_indexer,col_indexer] = value instead\n",
            "\n",
            "See the caveats in the documentation: http://pandas.pydata.org/pandas-docs/stable/user_guide/indexing.html#returning-a-view-versus-a-copy\n",
            "  \n"
          ],
          "name": "stderr"
        },
        {
          "output_type": "execute_result",
          "data": {
            "text/plain": [
              "Name           0\n",
              "Type1          0\n",
              "Type2        400\n",
              "id             0\n",
              "hp           802\n",
              "attack       802\n",
              "defense      802\n",
              "spattack     802\n",
              "spdefense    802\n",
              "speed        802\n",
              "total        802\n",
              "dtype: int64"
            ]
          },
          "metadata": {
            "tags": []
          },
          "execution_count": 13
        }
      ]
    },
    {
      "cell_type": "code",
      "metadata": {
        "id": "XrbKNi1QYcG3",
        "colab_type": "code",
        "colab": {}
      },
      "source": [
        "getH = lambda x:  df_poke.iloc[x, 9]\n",
        "getA = lambda x:  df_poke.iloc[x, 10]\n",
        "getB = lambda x:  df_poke.iloc[x, 11]\n",
        "getC = lambda x:  df_poke.iloc[x, 12]\n",
        "getD = lambda x:  df_poke.iloc[x, 13]\n",
        "getS = lambda x:  df_poke.iloc[x, 14]\n",
        "getG = lambda x:  df_poke.iloc[x, 14]\n",
        "getT = lambda x:  df_poke.iloc[x, 15]"
      ],
      "execution_count": 0,
      "outputs": []
    },
    {
      "cell_type": "code",
      "metadata": {
        "id": "iLLZlpZIZf5V",
        "colab_type": "code",
        "colab": {}
      },
      "source": [
        "df_pokeimg['hp'] = df_pokeimg['id'].map(getH)\n",
        "df_pokeimg['attack'] = df_pokeimg['id'].map(getA)\n",
        "df_pokeimg['defense'] = df_pokeimg['id'].map(getB)\n",
        "df_pokeimg['spattack'] = df_pokeimg['id'].map(getC)\n",
        "df_pokeimg['spdefense'] = df_pokeimg['id'].map(getD)\n",
        "df_pokeimg['speed'] = df_pokeimg['id'].map(getS)\n",
        "df_pokeimg['total'] = df_pokeimg['id'].map(getT)"
      ],
      "execution_count": 0,
      "outputs": []
    },
    {
      "cell_type": "code",
      "metadata": {
        "id": "eKuY6g_0cKAE",
        "colab_type": "code",
        "outputId": "cbde1c59-e076-4dde-b9b9-318684945c0d",
        "colab": {
          "base_uri": "https://localhost:8080/",
          "height": 204
        }
      },
      "source": [
        "df_pokeimg.head()"
      ],
      "execution_count": 0,
      "outputs": [
        {
          "output_type": "execute_result",
          "data": {
            "text/html": [
              "<div>\n",
              "<style scoped>\n",
              "    .dataframe tbody tr th:only-of-type {\n",
              "        vertical-align: middle;\n",
              "    }\n",
              "\n",
              "    .dataframe tbody tr th {\n",
              "        vertical-align: top;\n",
              "    }\n",
              "\n",
              "    .dataframe thead th {\n",
              "        text-align: right;\n",
              "    }\n",
              "</style>\n",
              "<table border=\"1\" class=\"dataframe\">\n",
              "  <thead>\n",
              "    <tr style=\"text-align: right;\">\n",
              "      <th></th>\n",
              "      <th>Name</th>\n",
              "      <th>Type1</th>\n",
              "      <th>Type2</th>\n",
              "      <th>id</th>\n",
              "      <th>hp</th>\n",
              "      <th>attack</th>\n",
              "      <th>defense</th>\n",
              "      <th>spattack</th>\n",
              "      <th>spdefense</th>\n",
              "      <th>speed</th>\n",
              "      <th>total</th>\n",
              "    </tr>\n",
              "  </thead>\n",
              "  <tbody>\n",
              "    <tr>\n",
              "      <th>0</th>\n",
              "      <td>bulbasaur</td>\n",
              "      <td>Grass</td>\n",
              "      <td>Poison</td>\n",
              "      <td>0</td>\n",
              "      <td>45</td>\n",
              "      <td>49</td>\n",
              "      <td>49</td>\n",
              "      <td>65</td>\n",
              "      <td>65</td>\n",
              "      <td>45</td>\n",
              "      <td>318</td>\n",
              "    </tr>\n",
              "    <tr>\n",
              "      <th>1</th>\n",
              "      <td>ivysaur</td>\n",
              "      <td>Grass</td>\n",
              "      <td>Poison</td>\n",
              "      <td>1</td>\n",
              "      <td>60</td>\n",
              "      <td>62</td>\n",
              "      <td>63</td>\n",
              "      <td>80</td>\n",
              "      <td>80</td>\n",
              "      <td>60</td>\n",
              "      <td>405</td>\n",
              "    </tr>\n",
              "    <tr>\n",
              "      <th>2</th>\n",
              "      <td>venusaur</td>\n",
              "      <td>Grass</td>\n",
              "      <td>Poison</td>\n",
              "      <td>2</td>\n",
              "      <td>80</td>\n",
              "      <td>82</td>\n",
              "      <td>83</td>\n",
              "      <td>100</td>\n",
              "      <td>100</td>\n",
              "      <td>80</td>\n",
              "      <td>525</td>\n",
              "    </tr>\n",
              "    <tr>\n",
              "      <th>3</th>\n",
              "      <td>charmander</td>\n",
              "      <td>Fire</td>\n",
              "      <td>NaN</td>\n",
              "      <td>3</td>\n",
              "      <td>39</td>\n",
              "      <td>52</td>\n",
              "      <td>43</td>\n",
              "      <td>60</td>\n",
              "      <td>50</td>\n",
              "      <td>65</td>\n",
              "      <td>309</td>\n",
              "    </tr>\n",
              "    <tr>\n",
              "      <th>4</th>\n",
              "      <td>charmeleon</td>\n",
              "      <td>Fire</td>\n",
              "      <td>NaN</td>\n",
              "      <td>4</td>\n",
              "      <td>58</td>\n",
              "      <td>64</td>\n",
              "      <td>58</td>\n",
              "      <td>80</td>\n",
              "      <td>65</td>\n",
              "      <td>80</td>\n",
              "      <td>405</td>\n",
              "    </tr>\n",
              "  </tbody>\n",
              "</table>\n",
              "</div>"
            ],
            "text/plain": [
              "         Name  Type1   Type2  id  ...  spattack  spdefense  speed  total\n",
              "0   bulbasaur  Grass  Poison   0  ...        65         65     45    318\n",
              "1     ivysaur  Grass  Poison   1  ...        80         80     60    405\n",
              "2    venusaur  Grass  Poison   2  ...       100        100     80    525\n",
              "3  charmander   Fire     NaN   3  ...        60         50     65    309\n",
              "4  charmeleon   Fire     NaN   4  ...        80         65     80    405\n",
              "\n",
              "[5 rows x 11 columns]"
            ]
          },
          "metadata": {
            "tags": []
          },
          "execution_count": 16
        }
      ]
    },
    {
      "cell_type": "code",
      "metadata": {
        "id": "rvDR1BrULCQ9",
        "colab_type": "code",
        "colab": {}
      },
      "source": [
        "y_t = df_pokeimg['total'].values\n",
        "y_h = df_pokeimg['hp'].values\n",
        "y_a = df_pokeimg['attack'].values\n",
        "y_b = df_pokeimg['defense'].values\n",
        "y_c = df_pokeimg['spattack'].values\n",
        "y_d = df_pokeimg['spdefense'].values\n",
        "y_s = df_pokeimg['speed'].values\n",
        "\n",
        "y_t_train = y_t[:721]\n",
        "y_t_test = y_t[721:]\n",
        "\n",
        "y_h_train = y_h[:721]\n",
        "y_h_test = y_h[721:]\n",
        "y_a_train = y_a[:721]\n",
        "y_a_test = y_a[721:]\n",
        "y_b_train = y_b[:721]\n",
        "y_b_test = y_b[721:]\n",
        "y_c_train = y_c[:721]\n",
        "y_c_test = y_c[721:]\n",
        "y_d_train = y_d[:721]\n",
        "y_d_test = y_d[721:]\n",
        "y_s_train = y_s[:721]\n",
        "y_s_test = y_s[721:]"
      ],
      "execution_count": 0,
      "outputs": []
    },
    {
      "cell_type": "markdown",
      "metadata": {
        "id": "B-8VHJp0Pff3",
        "colab_type": "text"
      },
      "source": [
        "### 入力の画像データを作成\n"
      ]
    },
    {
      "cell_type": "code",
      "metadata": {
        "id": "jkLDczAM6In4",
        "colab_type": "code",
        "colab": {}
      },
      "source": [
        "#作成したファイルを消してやり直したい時\n",
        "#!rm -rf images"
      ],
      "execution_count": 0,
      "outputs": []
    },
    {
      "cell_type": "markdown",
      "metadata": {
        "id": "nCZCk0VVdi31",
        "colab_type": "text"
      },
      "source": [
        "#### pngはjpgに変換"
      ]
    },
    {
      "cell_type": "code",
      "metadata": {
        "id": "QSyAMTcz0YzX",
        "colab_type": "code",
        "outputId": "bf9e2662-6105-4607-8453-dc7bed05adcf",
        "colab": {
          "base_uri": "https://localhost:8080/",
          "height": 34
        }
      },
      "source": [
        "image_png_paths = glob.glob('images/*.png')\n",
        "error_count = 0\n",
        "for png_path in image_png_paths:\n",
        "  try:\n",
        "    path = pathlib.Path(png_path)\n",
        "    filename = os.path.splitext(path.name)[0]\n",
        "    img=PIL.Image.open(path)\n",
        "    img.load()\n",
        "    if img.mode == 'RGBA' :\n",
        "      pass\n",
        "    elif img.mode == 'P':\n",
        "      img = img.convert(\"RGBA\")\n",
        "    else :\n",
        "      print(png_path, img.mode)\n",
        "    background = PIL.Image.new(\"RGB\", img.size, (255, 255, 255))\n",
        "    background.paste(img, mask=img.split()[3])\n",
        "    background.save('images/' + filename + '.jpg',\"JPEG\",quality=95)\n",
        "  except Exception as e:\n",
        "    tb = sys.exc_info()[2]\n",
        "    print(\"message:{0}\".format(e.with_traceback(tb)))\n",
        "    error_count += 1\n",
        "\n",
        "print(error_count)"
      ],
      "execution_count": 0,
      "outputs": [
        {
          "output_type": "stream",
          "text": [
            "0\n"
          ],
          "name": "stdout"
        }
      ]
    },
    {
      "cell_type": "code",
      "metadata": {
        "id": "s_cFLJukJfS8",
        "colab_type": "code",
        "colab": {}
      },
      "source": [
        "# 作成したjpgをダウンロードしたい時\n",
        "#!zip imagesjpg.zip images/*jpg"
      ],
      "execution_count": 0,
      "outputs": []
    },
    {
      "cell_type": "code",
      "metadata": {
        "id": "17tp1ADRE7F5",
        "colab_type": "code",
        "colab": {}
      },
      "source": [
        "fe = lambda x:  'images/' + x + '.jpg'\n",
        "images = df_pokeimg['Name'].map(fe)"
      ],
      "execution_count": 0,
      "outputs": []
    },
    {
      "cell_type": "code",
      "metadata": {
        "id": "uuqrETGIGQmr",
        "colab_type": "code",
        "colab": {}
      },
      "source": [
        "name_images_f = [] \n",
        "name_images = [] \n",
        "\n",
        "for image in images:\n",
        "  path = pathlib.Path(image)\n",
        "  # ファイルパス\n",
        "  fullpath = str(path.resolve())\n",
        "  # ファイル名\n",
        "  filename = os.path.splitext(path.name)[0]\n",
        "  image = cv2.imread(fullpath)\n",
        "  orgH, orgW = image.shape[:2]\n",
        "  size = (int(orgH/4), int(orgW/4))\n",
        "  resize_img = cv2.resize(image, size)\n",
        "  name_images.append(resize_img)"
      ],
      "execution_count": 0,
      "outputs": []
    },
    {
      "cell_type": "code",
      "metadata": {
        "id": "eoLqX493585o",
        "colab_type": "code",
        "colab": {}
      },
      "source": [
        "X_train = np.array(name_images[:721])/255\n",
        "X_test = np.array(name_images[721:])/255"
      ],
      "execution_count": 0,
      "outputs": []
    },
    {
      "cell_type": "markdown",
      "metadata": {
        "id": "KaG5r0fPCBXd",
        "colab_type": "text"
      },
      "source": [
        "## 学習\n",
        "各種族値、及び合計種族値を予測するモデルをそれぞれ作成する"
      ]
    },
    {
      "cell_type": "code",
      "metadata": {
        "id": "FChXiNdPwuqI",
        "colab_type": "code",
        "colab": {}
      },
      "source": [
        "from keras.models import Sequential, load_model\n",
        "from keras.layers import Conv2D, MaxPooling2D\n",
        "from keras.layers import Activation, Dropout, Flatten, Dense\n",
        "from keras.optimizers import Adam\n",
        "from keras.callbacks import EarlyStopping\n",
        "from sklearn.metrics import mean_absolute_error"
      ],
      "execution_count": 0,
      "outputs": []
    },
    {
      "cell_type": "markdown",
      "metadata": {
        "id": "awM8JGWze-1t",
        "colab_type": "text"
      },
      "source": [
        "### データ増幅"
      ]
    },
    {
      "cell_type": "code",
      "metadata": {
        "id": "bFotTgqZnHXC",
        "colab_type": "code",
        "colab": {}
      },
      "source": [
        "from keras.preprocessing import image as keras_image\n",
        "from keras.preprocessing.image import ImageDataGenerator"
      ],
      "execution_count": 0,
      "outputs": []
    },
    {
      "cell_type": "code",
      "metadata": {
        "id": "qhO0Wa3NTtqr",
        "colab_type": "code",
        "colab": {}
      },
      "source": [
        "datagen = ImageDataGenerator(\n",
        "           rotation_range=10,\n",
        "           width_shift_range=0,\n",
        "           height_shift_range=0,\n",
        "           shear_range=0,\n",
        "           zoom_range=0,\n",
        "           horizontal_flip=False,\n",
        "           vertical_flip=False)\n",
        "\n",
        "datagen.fit(X_train)"
      ],
      "execution_count": 0,
      "outputs": []
    },
    {
      "cell_type": "markdown",
      "metadata": {
        "id": "NK-4XePhfVe0",
        "colab_type": "text"
      },
      "source": [
        "#### サンプル出力"
      ]
    },
    {
      "cell_type": "code",
      "metadata": {
        "id": "9OSArZ1ETwbJ",
        "colab_type": "code",
        "colab": {}
      },
      "source": [
        "def show_imgs(imgs, row, col):\n",
        "    if len(imgs) != (row * col):\n",
        "        raise ValueError(\"Invalid imgs len:{} col:{} row:{}\".format(len(imgs), row, col))\n",
        "\n",
        "    for i, img in enumerate(imgs):\n",
        "        plot_num = i+1\n",
        "        plt.subplot(row, col, plot_num)\n",
        "        plt.tick_params(labelbottom=\"off\") # x軸の削除\n",
        "        plt.tick_params(labelleft=\"off\") # y軸の削除\n",
        "        plt.imshow(img)\n",
        "    plt.show()"
      ],
      "execution_count": 0,
      "outputs": []
    },
    {
      "cell_type": "code",
      "metadata": {
        "id": "36Z9IZ4yTqZJ",
        "colab_type": "code",
        "outputId": "91fe5a47-8765-43ec-df26-6b2b8183654e",
        "colab": {
          "base_uri": "https://localhost:8080/",
          "height": 269
        }
      },
      "source": [
        "max_img_num = 16\n",
        "imgs = []\n",
        "\n",
        "X_sample = X_train[0]\n",
        "# (height, width, 3) -> (1, height, width, 3)\n",
        "X_sample = X_sample.reshape((1,) + X_sample.shape)\n",
        "\n",
        "for d in datagen.flow(X_sample, batch_size=1):\n",
        "    # このあと画像を表示するためにndarrayをPIL形式に変換して保存する\n",
        "    imgs.append(keras_image.array_to_img(d[0], scale=True))\n",
        "    # datagen.flowは無限ループするため必要な枚数取得できたらループを抜ける\n",
        "    if (len(imgs) % max_img_num) == 0:\n",
        "        break\n",
        "show_imgs(imgs, row=4, col=4)"
      ],
      "execution_count": 0,
      "outputs": [
        {
          "output_type": "display_data",
          "data": {
            "image/png": "[encoded data removed]",
            "text/plain": [
              "<Figure size 432x288 with 16 Axes>"
            ]
          },
          "metadata": {
            "tags": []
          }
        }
      ]
    },
    {
      "cell_type": "markdown",
      "metadata": {
        "id": "laXpP4Safn4z",
        "colab_type": "text"
      },
      "source": [
        "### 特徴空間にCNNを用いた回帰モデル定義"
      ]
    },
    {
      "cell_type": "code",
      "metadata": {
        "id": "oTiMT8FmxYDR",
        "colab_type": "code",
        "colab": {}
      },
      "source": [
        "def model(X_shape, y_shape):\n",
        "  model = Sequential()\n",
        "\n",
        "  model.add(Conv2D(32, (3, 3), activation='relu', input_shape=X_shape))\n",
        "  model.add(Conv2D(32, (3, 3), activation='relu'))\n",
        "  model.add(MaxPooling2D(pool_size=(2, 2)))\n",
        "  model.add(Dropout(0.25))\n",
        "\n",
        "  model.add(Conv2D(64, (3, 3), activation='relu'))\n",
        "  model.add(Conv2D(64, (3, 3), activation='relu'))\n",
        "  model.add(MaxPooling2D(pool_size=(2, 2)))\n",
        "  model.add(Dropout(0.25))\n",
        "\n",
        "  model.add(Flatten())\n",
        "  model.add(Dense(256))\n",
        "  model.add(Activation('relu'))\n",
        "  model.add(Dropout(0.5))\n",
        "\n",
        "  model.add(Dense(y_shape))\n",
        "  \n",
        "  optimizer = Adam()\n",
        "\n",
        "  model.compile(loss='mse',\n",
        "                optimizer=optimizer)\n",
        "  return model"
      ],
      "execution_count": 0,
      "outputs": []
    },
    {
      "cell_type": "code",
      "metadata": {
        "id": "2ewEtJBefi1h",
        "colab_type": "code",
        "colab": {}
      },
      "source": [
        "# patience は改善が見られるかを監視するエポック数を表すパラメーター\n",
        "early_stop = EarlyStopping(monitor='val_loss', patience=20)"
      ],
      "execution_count": 0,
      "outputs": []
    },
    {
      "cell_type": "markdown",
      "metadata": {
        "id": "5EvAdoztfyDY",
        "colab_type": "text"
      },
      "source": [
        "#### 合計種族値モデル"
      ]
    },
    {
      "cell_type": "code",
      "metadata": {
        "id": "ja9riL01xdBH",
        "colab_type": "code",
        "outputId": "c5d529a6-210c-4923-c94a-777ec35d890d",
        "colab": {
          "base_uri": "https://localhost:8080/",
          "height": 1000
        }
      },
      "source": [
        "model_total = model(X_train.shape[1:4], 1)\n",
        "\n",
        "history = model_total.fit_generator(datagen.flow(X_train, y_t_train, batch_size=32),\n",
        "                    steps_per_epoch=len(y_t_train) / 32, epochs=400,\n",
        "                    validation_data=(X_test, y_t_test), callbacks=[early_stop])\n",
        "\n",
        "model_total.save('model_total.h5', include_optimizer=False)\n",
        "model_total.save('model_ft.h5', include_optimizer=True)#個別種族値転移学習用モデル"
      ],
      "execution_count": 0,
      "outputs": [
        {
          "output_type": "stream",
          "text": [
            "WARNING:tensorflow:From /usr/local/lib/python3.6/dist-packages/keras/backend/tensorflow_backend.py:66: The name tf.get_default_graph is deprecated. Please use tf.compat.v1.get_default_graph instead.\n",
            "\n",
            "WARNING:tensorflow:From /usr/local/lib/python3.6/dist-packages/keras/backend/tensorflow_backend.py:541: The name tf.placeholder is deprecated. Please use tf.compat.v1.placeholder instead.\n",
            "\n",
            "WARNING:tensorflow:From /usr/local/lib/python3.6/dist-packages/keras/backend/tensorflow_backend.py:4432: The name tf.random_uniform is deprecated. Please use tf.random.uniform instead.\n",
            "\n",
            "WARNING:tensorflow:From /usr/local/lib/python3.6/dist-packages/keras/backend/tensorflow_backend.py:4267: The name tf.nn.max_pool is deprecated. Please use tf.nn.max_pool2d instead.\n",
            "\n",
            "WARNING:tensorflow:From /usr/local/lib/python3.6/dist-packages/keras/backend/tensorflow_backend.py:148: The name tf.placeholder_with_default is deprecated. Please use tf.compat.v1.placeholder_with_default instead.\n",
            "\n",
            "WARNING:tensorflow:From /usr/local/lib/python3.6/dist-packages/keras/backend/tensorflow_backend.py:3733: calling dropout (from tensorflow.python.ops.nn_ops) with keep_prob is deprecated and will be removed in a future version.\n",
            "Instructions for updating:\n",
            "Please use `rate` instead of `keep_prob`. Rate should be set to `rate = 1 - keep_prob`.\n",
            "WARNING:tensorflow:From /usr/local/lib/python3.6/dist-packages/keras/optimizers.py:793: The name tf.train.Optimizer is deprecated. Please use tf.compat.v1.train.Optimizer instead.\n",
            "\n",
            "WARNING:tensorflow:From /usr/local/lib/python3.6/dist-packages/keras/backend/tensorflow_backend.py:1033: The name tf.assign_add is deprecated. Please use tf.compat.v1.assign_add instead.\n",
            "\n",
            "WARNING:tensorflow:From /usr/local/lib/python3.6/dist-packages/keras/backend/tensorflow_backend.py:1020: The name tf.assign is deprecated. Please use tf.compat.v1.assign instead.\n",
            "\n",
            "WARNING:tensorflow:From /usr/local/lib/python3.6/dist-packages/keras/backend/tensorflow_backend.py:3005: The name tf.Session is deprecated. Please use tf.compat.v1.Session instead.\n",
            "\n",
            "Epoch 1/400\n",
            "WARNING:tensorflow:From /usr/local/lib/python3.6/dist-packages/keras/backend/tensorflow_backend.py:190: The name tf.get_default_session is deprecated. Please use tf.compat.v1.get_default_session instead.\n",
            "\n",
            "WARNING:tensorflow:From /usr/local/lib/python3.6/dist-packages/keras/backend/tensorflow_backend.py:197: The name tf.ConfigProto is deprecated. Please use tf.compat.v1.ConfigProto instead.\n",
            "\n",
            "WARNING:tensorflow:From /usr/local/lib/python3.6/dist-packages/keras/backend/tensorflow_backend.py:207: The name tf.global_variables is deprecated. Please use tf.compat.v1.global_variables instead.\n",
            "\n",
            "WARNING:tensorflow:From /usr/local/lib/python3.6/dist-packages/keras/backend/tensorflow_backend.py:216: The name tf.is_variable_initialized is deprecated. Please use tf.compat.v1.is_variable_initialized instead.\n",
            "\n",
            "WARNING:tensorflow:From /usr/local/lib/python3.6/dist-packages/keras/backend/tensorflow_backend.py:223: The name tf.variables_initializer is deprecated. Please use tf.compat.v1.variables_initializer instead.\n",
            "\n",
            "23/22 [==============================] - 3s 134ms/step - loss: 91625.0483 - val_loss: 31037.3874\n",
            "Epoch 2/400\n",
            "23/22 [==============================] - 3s 113ms/step - loss: 19767.4959 - val_loss: 20785.4222\n",
            "Epoch 3/400\n",
            "23/22 [==============================] - 2s 106ms/step - loss: 18223.5511 - val_loss: 19889.7426\n",
            "Epoch 4/400\n",
            "23/22 [==============================] - 2s 109ms/step - loss: 16392.6136 - val_loss: 17146.5842\n",
            "Epoch 5/400\n",
            "23/22 [==============================] - 3s 109ms/step - loss: 15788.2855 - val_loss: 14488.9311\n",
            "Epoch 6/400\n",
            "23/22 [==============================] - 3s 114ms/step - loss: 15540.7052 - val_loss: 14045.6920\n",
            "Epoch 7/400\n",
            "23/22 [==============================] - 3s 110ms/step - loss: 14156.9155 - val_loss: 11998.6206\n",
            "Epoch 8/400\n",
            "23/22 [==============================] - 3s 110ms/step - loss: 13179.1906 - val_loss: 10270.2140\n",
            "Epoch 9/400\n",
            "23/22 [==============================] - 3s 111ms/step - loss: 12100.3944 - val_loss: 9556.9552\n",
            "Epoch 10/400\n",
            "23/22 [==============================] - 3s 111ms/step - loss: 11711.5493 - val_loss: 9167.3699\n",
            "Epoch 11/400\n",
            "23/22 [==============================] - 3s 111ms/step - loss: 12861.2281 - val_loss: 10094.5552\n",
            "Epoch 12/400\n",
            "23/22 [==============================] - 3s 109ms/step - loss: 15121.5093 - val_loss: 18174.3371\n",
            "Epoch 13/400\n",
            "23/22 [==============================] - 3s 111ms/step - loss: 15573.2799 - val_loss: 11454.6946\n",
            "Epoch 14/400\n",
            "23/22 [==============================] - 3s 114ms/step - loss: 13224.6469 - val_loss: 9880.2109\n",
            "Epoch 15/400\n",
            "23/22 [==============================] - 3s 112ms/step - loss: 12288.7502 - val_loss: 8546.1047\n",
            "Epoch 16/400\n",
            "23/22 [==============================] - 3s 111ms/step - loss: 12029.8502 - val_loss: 8412.0478\n",
            "Epoch 17/400\n",
            "23/22 [==============================] - 3s 113ms/step - loss: 10279.3265 - val_loss: 8195.0718\n",
            "Epoch 18/400\n",
            "23/22 [==============================] - 3s 113ms/step - loss: 10494.4665 - val_loss: 7989.1736\n",
            "Epoch 19/400\n",
            "23/22 [==============================] - 3s 109ms/step - loss: 11365.2675 - val_loss: 9374.4994\n",
            "Epoch 20/400\n",
            "23/22 [==============================] - 3s 112ms/step - loss: 10772.6625 - val_loss: 8457.4520\n",
            "Epoch 21/400\n",
            "23/22 [==============================] - 2s 108ms/step - loss: 10587.3536 - val_loss: 8852.0901\n",
            "Epoch 22/400\n",
            "23/22 [==============================] - 3s 114ms/step - loss: 9703.1885 - val_loss: 11168.7364\n",
            "Epoch 23/400\n",
            "23/22 [==============================] - 2s 107ms/step - loss: 10915.3254 - val_loss: 8006.8372\n",
            "Epoch 24/400\n",
            "23/22 [==============================] - 3s 114ms/step - loss: 9425.8303 - val_loss: 10467.0436\n",
            "Epoch 25/400\n",
            "23/22 [==============================] - 3s 112ms/step - loss: 10083.0935 - val_loss: 10750.8122\n",
            "Epoch 26/400\n",
            "23/22 [==============================] - 3s 113ms/step - loss: 10852.7916 - val_loss: 7993.9589\n",
            "Epoch 27/400\n",
            "23/22 [==============================] - 2s 108ms/step - loss: 9490.3783 - val_loss: 8399.3577\n",
            "Epoch 28/400\n",
            "23/22 [==============================] - 3s 115ms/step - loss: 10426.3256 - val_loss: 9835.2669\n",
            "Epoch 29/400\n",
            "23/22 [==============================] - 3s 110ms/step - loss: 10013.5400 - val_loss: 7688.0851\n",
            "Epoch 30/400\n",
            "23/22 [==============================] - 3s 114ms/step - loss: 9670.7443 - val_loss: 10001.8723\n",
            "Epoch 31/400\n",
            "23/22 [==============================] - 3s 117ms/step - loss: 11139.8137 - val_loss: 8444.5149\n",
            "Epoch 32/400\n",
            "23/22 [==============================] - 3s 112ms/step - loss: 8782.7041 - val_loss: 7503.6380\n",
            "Epoch 33/400\n",
            "23/22 [==============================] - 3s 116ms/step - loss: 9456.1720 - val_loss: 7873.4202\n",
            "Epoch 34/400\n",
            "23/22 [==============================] - 3s 114ms/step - loss: 9221.4869 - val_loss: 10221.1421\n",
            "Epoch 35/400\n",
            "23/22 [==============================] - 3s 111ms/step - loss: 8991.9977 - val_loss: 7403.4641\n",
            "Epoch 36/400\n",
            "23/22 [==============================] - 3s 115ms/step - loss: 10132.3352 - val_loss: 7609.3702\n",
            "Epoch 37/400\n",
            "23/22 [==============================] - 3s 114ms/step - loss: 8859.8652 - val_loss: 8666.7448\n",
            "Epoch 38/400\n",
            "23/22 [==============================] - 3s 115ms/step - loss: 9095.4430 - val_loss: 7790.6491\n",
            "Epoch 39/400\n",
            "23/22 [==============================] - 3s 113ms/step - loss: 8177.1783 - val_loss: 9286.4946\n",
            "Epoch 40/400\n",
            "23/22 [==============================] - 3s 111ms/step - loss: 10030.7836 - val_loss: 11301.7762\n",
            "Epoch 41/400\n",
            "23/22 [==============================] - 3s 114ms/step - loss: 10961.0029 - val_loss: 7302.2317\n",
            "Epoch 42/400\n",
            "23/22 [==============================] - 3s 111ms/step - loss: 8969.8749 - val_loss: 11923.0048\n",
            "Epoch 43/400\n",
            "23/22 [==============================] - 3s 112ms/step - loss: 9309.8733 - val_loss: 10289.2303\n",
            "Epoch 44/400\n",
            "23/22 [==============================] - 3s 114ms/step - loss: 8143.9047 - val_loss: 8154.4307\n",
            "Epoch 45/400\n",
            "23/22 [==============================] - 3s 112ms/step - loss: 8940.4247 - val_loss: 7422.9366\n",
            "Epoch 46/400\n",
            "23/22 [==============================] - 3s 111ms/step - loss: 8800.5571 - val_loss: 9571.1165\n",
            "Epoch 47/400\n",
            "23/22 [==============================] - 3s 114ms/step - loss: 8867.2266 - val_loss: 7184.3313\n",
            "Epoch 48/400\n",
            "23/22 [==============================] - 3s 113ms/step - loss: 8197.3165 - val_loss: 7819.1473\n",
            "Epoch 49/400\n",
            "23/22 [==============================] - 3s 112ms/step - loss: 8294.9753 - val_loss: 8376.0158\n",
            "Epoch 50/400\n",
            "23/22 [==============================] - 3s 111ms/step - loss: 8933.9606 - val_loss: 10523.9847\n",
            "Epoch 51/400\n",
            "23/22 [==============================] - 3s 110ms/step - loss: 8638.5791 - val_loss: 7459.8170\n",
            "Epoch 52/400\n",
            "23/22 [==============================] - 3s 112ms/step - loss: 8756.4456 - val_loss: 8377.6962\n",
            "Epoch 53/400\n",
            "23/22 [==============================] - 3s 114ms/step - loss: 8517.2765 - val_loss: 7908.3730\n",
            "Epoch 54/400\n",
            "23/22 [==============================] - 3s 114ms/step - loss: 9256.0654 - val_loss: 7090.8291\n",
            "Epoch 55/400\n",
            "23/22 [==============================] - 3s 111ms/step - loss: 9397.6632 - val_loss: 7148.4833\n",
            "Epoch 56/400\n",
            "23/22 [==============================] - 3s 114ms/step - loss: 8741.6392 - val_loss: 7625.8860\n",
            "Epoch 57/400\n",
            "23/22 [==============================] - 3s 110ms/step - loss: 8176.4029 - val_loss: 7229.0822\n",
            "Epoch 58/400\n",
            "23/22 [==============================] - 3s 111ms/step - loss: 8413.4030 - val_loss: 10756.7494\n",
            "Epoch 59/400\n",
            "23/22 [==============================] - 3s 114ms/step - loss: 8747.3836 - val_loss: 7841.7795\n",
            "Epoch 60/400\n",
            "23/22 [==============================] - 3s 113ms/step - loss: 8725.4003 - val_loss: 8435.6678\n",
            "Epoch 61/400\n",
            "23/22 [==============================] - 3s 113ms/step - loss: 7899.6242 - val_loss: 6961.6567\n",
            "Epoch 62/400\n",
            "23/22 [==============================] - 3s 112ms/step - loss: 8408.3351 - val_loss: 6936.2489\n",
            "Epoch 63/400\n",
            "23/22 [==============================] - 3s 112ms/step - loss: 8190.9249 - val_loss: 9427.4005\n",
            "Epoch 64/400\n",
            "23/22 [==============================] - 3s 113ms/step - loss: 8579.3842 - val_loss: 7039.0611\n",
            "Epoch 65/400\n",
            "23/22 [==============================] - 3s 111ms/step - loss: 8052.6316 - val_loss: 8171.1948\n",
            "Epoch 66/400\n",
            "23/22 [==============================] - 3s 114ms/step - loss: 8594.7475 - val_loss: 9539.3845\n",
            "Epoch 67/400\n",
            "23/22 [==============================] - 3s 111ms/step - loss: 7982.0594 - val_loss: 7011.1803\n",
            "Epoch 68/400\n",
            "23/22 [==============================] - 3s 111ms/step - loss: 8134.7964 - val_loss: 10302.8962\n",
            "Epoch 69/400\n",
            "23/22 [==============================] - 3s 112ms/step - loss: 7511.8479 - val_loss: 7548.6912\n",
            "Epoch 70/400\n",
            "23/22 [==============================] - 3s 112ms/step - loss: 8916.7569 - val_loss: 11637.8043\n",
            "Epoch 71/400\n",
            "23/22 [==============================] - 3s 111ms/step - loss: 8407.3912 - val_loss: 11139.3765\n",
            "Epoch 72/400\n",
            "23/22 [==============================] - 3s 116ms/step - loss: 8875.4923 - val_loss: 12502.3207\n",
            "Epoch 73/400\n",
            "23/22 [==============================] - 3s 114ms/step - loss: 9039.2816 - val_loss: 7066.1395\n",
            "Epoch 74/400\n",
            "23/22 [==============================] - 3s 109ms/step - loss: 8394.8972 - val_loss: 7041.6636\n",
            "Epoch 75/400\n",
            "23/22 [==============================] - 3s 114ms/step - loss: 7918.2113 - val_loss: 7107.9777\n",
            "Epoch 76/400\n",
            "23/22 [==============================] - 3s 114ms/step - loss: 8983.7616 - val_loss: 7298.8164\n",
            "Epoch 77/400\n",
            "23/22 [==============================] - 3s 117ms/step - loss: 8433.7004 - val_loss: 9715.7957\n",
            "Epoch 78/400\n",
            "23/22 [==============================] - 3s 112ms/step - loss: 7569.0181 - val_loss: 7468.2736\n",
            "Epoch 79/400\n",
            "23/22 [==============================] - 3s 113ms/step - loss: 8193.1259 - val_loss: 7669.0500\n",
            "Epoch 80/400\n",
            "23/22 [==============================] - 3s 114ms/step - loss: 8031.7742 - val_loss: 7204.5909\n",
            "Epoch 81/400\n",
            "23/22 [==============================] - 3s 113ms/step - loss: 8168.9012 - val_loss: 8752.5320\n",
            "Epoch 82/400\n",
            "23/22 [==============================] - 3s 114ms/step - loss: 7702.8145 - val_loss: 7462.2468\n"
          ],
          "name": "stdout"
        }
      ]
    },
    {
      "cell_type": "code",
      "metadata": {
        "id": "kNAWPO4NzNJz",
        "colab_type": "code",
        "outputId": "bc20d327-2f29-4c58-c4db-230ef6507780",
        "colab": {
          "base_uri": "https://localhost:8080/",
          "height": 282
        }
      },
      "source": [
        "y_pred_train = model_total.predict(X_train)\n",
        "y_pred_test = model_total.predict(X_test)\n",
        "\n",
        "plt.scatter(y_t_train, y_pred_train, c='r', marker='s',label=\"train\")\n",
        "plt.scatter(y_t_test, y_pred_test, c='b', marker='s',label=\"test\")\n",
        "plt.legend()\n",
        "plt.plot([0,750],[0,750])"
      ],
      "execution_count": 0,
      "outputs": [
        {
          "output_type": "execute_result",
          "data": {
            "text/plain": [
              "[<matplotlib.lines.Line2D at 0x7f943293ecf8>]"
            ]
          },
          "metadata": {
            "tags": []
          },
          "execution_count": 32
        },
        {
          "output_type": "display_data",
          "data": {
            "image/png": "[encoded data removed]",
            "text/plain": [
              "<Figure size 432x288 with 1 Axes>"
            ]
          },
          "metadata": {
            "tags": []
          }
        }
      ]
    },
    {
      "cell_type": "code",
      "metadata": {
        "id": "lV9hlP-KWiug",
        "colab_type": "code",
        "colab": {}
      },
      "source": [
        "early_stop = EarlyStopping(monitor='val_loss', patience=10)"
      ],
      "execution_count": 0,
      "outputs": []
    },
    {
      "cell_type": "markdown",
      "metadata": {
        "id": "RnedeLBZf6TX",
        "colab_type": "text"
      },
      "source": [
        "#### HPモデル"
      ]
    },
    {
      "cell_type": "code",
      "metadata": {
        "id": "2S8Bo9VZa6q1",
        "colab_type": "code",
        "outputId": "a5deaef0-3dc6-4ef5-992f-43c198e8713a",
        "colab": {
          "base_uri": "https://localhost:8080/",
          "height": 1000
        }
      },
      "source": [
        "model_hp = load_model('model_ft.h5', compile=True)\n",
        "history = model_hp.fit_generator(datagen.flow(X_train, y_h_train, batch_size=32),\n",
        "                    steps_per_epoch=len(y_h_train) / 32, epochs=200,\n",
        "                    validation_data=(X_test, y_h_test), callbacks=[early_stop])\n",
        "\n",
        "model_hp.save('model_hp.h5', include_optimizer=False)"
      ],
      "execution_count": 0,
      "outputs": [
        {
          "output_type": "stream",
          "text": [
            "Epoch 1/200\n",
            "23/22 [==============================] - 3s 131ms/step - loss: 9211.2278 - val_loss: 1659.4034\n",
            "Epoch 2/200\n",
            "23/22 [==============================] - 3s 111ms/step - loss: 959.7248 - val_loss: 744.0514\n",
            "Epoch 3/200\n",
            "23/22 [==============================] - 3s 112ms/step - loss: 730.7550 - val_loss: 849.1573\n",
            "Epoch 4/200\n",
            "23/22 [==============================] - 3s 113ms/step - loss: 732.1782 - val_loss: 886.2203\n",
            "Epoch 5/200\n",
            "23/22 [==============================] - 3s 115ms/step - loss: 714.0179 - val_loss: 724.9550\n",
            "Epoch 6/200\n",
            "23/22 [==============================] - 3s 111ms/step - loss: 769.2781 - val_loss: 854.2542\n",
            "Epoch 7/200\n",
            "23/22 [==============================] - 3s 113ms/step - loss: 756.3078 - val_loss: 807.6444\n",
            "Epoch 8/200\n",
            "23/22 [==============================] - 3s 114ms/step - loss: 713.0778 - val_loss: 802.9235\n",
            "Epoch 9/200\n",
            "23/22 [==============================] - 3s 110ms/step - loss: 713.1481 - val_loss: 783.7788\n",
            "Epoch 10/200\n",
            "23/22 [==============================] - 3s 111ms/step - loss: 699.3548 - val_loss: 643.9863\n",
            "Epoch 11/200\n",
            "23/22 [==============================] - 3s 115ms/step - loss: 680.8135 - val_loss: 696.9717\n",
            "Epoch 12/200\n",
            "23/22 [==============================] - 3s 117ms/step - loss: 662.2207 - val_loss: 650.4341\n",
            "Epoch 13/200\n",
            "23/22 [==============================] - 3s 111ms/step - loss: 644.2606 - val_loss: 674.7066\n",
            "Epoch 14/200\n",
            "23/22 [==============================] - 3s 114ms/step - loss: 639.2791 - val_loss: 507.2854\n",
            "Epoch 15/200\n",
            "23/22 [==============================] - 3s 117ms/step - loss: 642.7024 - val_loss: 550.9350\n",
            "Epoch 16/200\n",
            "23/22 [==============================] - 3s 114ms/step - loss: 610.1423 - val_loss: 518.7127\n",
            "Epoch 17/200\n",
            "23/22 [==============================] - 3s 115ms/step - loss: 649.3903 - val_loss: 551.2643\n",
            "Epoch 18/200\n",
            "23/22 [==============================] - 3s 115ms/step - loss: 618.2217 - val_loss: 529.3689\n",
            "Epoch 19/200\n",
            "23/22 [==============================] - 3s 114ms/step - loss: 628.0175 - val_loss: 470.1419\n",
            "Epoch 20/200\n",
            "23/22 [==============================] - 3s 113ms/step - loss: 608.3829 - val_loss: 444.7498\n",
            "Epoch 21/200\n",
            "23/22 [==============================] - 3s 116ms/step - loss: 637.4443 - val_loss: 532.2351\n",
            "Epoch 22/200\n",
            "23/22 [==============================] - 3s 114ms/step - loss: 605.0953 - val_loss: 441.6425\n",
            "Epoch 23/200\n",
            "23/22 [==============================] - 3s 115ms/step - loss: 642.4735 - val_loss: 480.7276\n",
            "Epoch 24/200\n",
            "23/22 [==============================] - 3s 116ms/step - loss: 598.6646 - val_loss: 463.9587\n",
            "Epoch 25/200\n",
            "23/22 [==============================] - 3s 115ms/step - loss: 599.3093 - val_loss: 454.9338\n",
            "Epoch 26/200\n",
            "23/22 [==============================] - 3s 111ms/step - loss: 565.5047 - val_loss: 456.2474\n",
            "Epoch 27/200\n",
            "23/22 [==============================] - 3s 116ms/step - loss: 579.5970 - val_loss: 547.6013\n",
            "Epoch 28/200\n",
            "23/22 [==============================] - 3s 116ms/step - loss: 609.0373 - val_loss: 439.5086\n",
            "Epoch 29/200\n",
            "23/22 [==============================] - 3s 112ms/step - loss: 569.0038 - val_loss: 427.8227\n",
            "Epoch 30/200\n",
            "23/22 [==============================] - 3s 116ms/step - loss: 590.0368 - val_loss: 469.8269\n",
            "Epoch 31/200\n",
            "23/22 [==============================] - 3s 115ms/step - loss: 597.7868 - val_loss: 586.8315\n",
            "Epoch 32/200\n",
            "23/22 [==============================] - 3s 113ms/step - loss: 577.7308 - val_loss: 523.8812\n",
            "Epoch 33/200\n",
            "23/22 [==============================] - 3s 116ms/step - loss: 574.6369 - val_loss: 599.2860\n",
            "Epoch 34/200\n",
            "23/22 [==============================] - 3s 114ms/step - loss: 575.7160 - val_loss: 519.3883\n",
            "Epoch 35/200\n",
            "23/22 [==============================] - 3s 118ms/step - loss: 572.3857 - val_loss: 435.4437\n",
            "Epoch 36/200\n",
            "23/22 [==============================] - 3s 111ms/step - loss: 579.4511 - val_loss: 572.5794\n",
            "Epoch 37/200\n",
            "23/22 [==============================] - 3s 116ms/step - loss: 585.9318 - val_loss: 452.4492\n",
            "Epoch 38/200\n",
            "23/22 [==============================] - 3s 114ms/step - loss: 625.3209 - val_loss: 488.1399\n",
            "Epoch 39/200\n",
            "23/22 [==============================] - 3s 117ms/step - loss: 598.5221 - val_loss: 532.6401\n"
          ],
          "name": "stdout"
        }
      ]
    },
    {
      "cell_type": "code",
      "metadata": {
        "id": "vr1bV1ahbya0",
        "colab_type": "code",
        "outputId": "76802dd3-f24e-48de-952a-53e5a5b90ba8",
        "colab": {
          "base_uri": "https://localhost:8080/",
          "height": 282
        }
      },
      "source": [
        "y_pred_train = model_hp.predict(X_train)\n",
        "y_pred_test = model_hp.predict(X_test)\n",
        "\n",
        "plt.scatter(y_h_train, y_pred_train, c='r', marker='s',label=\"train\")\n",
        "plt.scatter(y_h_test, y_pred_test, c='b', marker='s',label=\"test\")\n",
        "plt.legend()\n",
        "plt.plot([0,250],[0,250])"
      ],
      "execution_count": 0,
      "outputs": [
        {
          "output_type": "execute_result",
          "data": {
            "text/plain": [
              "[<matplotlib.lines.Line2D at 0x7f943b7bc780>]"
            ]
          },
          "metadata": {
            "tags": []
          },
          "execution_count": 35
        },
        {
          "output_type": "display_data",
          "data": {
            "image/png": "[encoded data removed]",
            "text/plain": [
              "<Figure size 432x288 with 1 Axes>"
            ]
          },
          "metadata": {
            "tags": []
          }
        }
      ]
    },
    {
      "cell_type": "markdown",
      "metadata": {
        "id": "vJOD4LozL1zl",
        "colab_type": "text"
      },
      "source": [
        "#### Attackモデル"
      ]
    },
    {
      "cell_type": "code",
      "metadata": {
        "id": "CnvjND9cL77L",
        "colab_type": "code",
        "outputId": "194de13e-d4fe-4c33-93e9-e958072e018a",
        "colab": {
          "base_uri": "https://localhost:8080/",
          "height": 629
        }
      },
      "source": [
        "model_attack = load_model('model_ft.h5', compile=True)\n",
        "history = model_attack.fit_generator(datagen.flow(X_train, y_a_train, batch_size=32),\n",
        "                    steps_per_epoch=len(y_a_train) / 32, epochs=200,\n",
        "                    validation_data=(X_test, y_a_test), callbacks=[early_stop])\n",
        "\n",
        "model_attack.save('model_attack.h5', include_optimizer=False)"
      ],
      "execution_count": 0,
      "outputs": [
        {
          "output_type": "stream",
          "text": [
            "Epoch 1/200\n",
            "23/22 [==============================] - 3s 133ms/step - loss: 9461.6665 - val_loss: 2864.2755\n",
            "Epoch 2/200\n",
            "23/22 [==============================] - 3s 110ms/step - loss: 1159.7584 - val_loss: 1076.9412\n",
            "Epoch 3/200\n",
            "23/22 [==============================] - 3s 114ms/step - loss: 885.1101 - val_loss: 1159.4785\n",
            "Epoch 4/200\n",
            "23/22 [==============================] - 3s 114ms/step - loss: 844.8558 - val_loss: 897.9960\n",
            "Epoch 5/200\n",
            "23/22 [==============================] - 3s 116ms/step - loss: 819.0506 - val_loss: 895.0711\n",
            "Epoch 6/200\n",
            "23/22 [==============================] - 3s 115ms/step - loss: 758.0826 - val_loss: 910.1439\n",
            "Epoch 7/200\n",
            "23/22 [==============================] - 3s 115ms/step - loss: 710.1114 - val_loss: 826.9018\n",
            "Epoch 8/200\n",
            "23/22 [==============================] - 3s 110ms/step - loss: 689.6757 - val_loss: 807.2663\n",
            "Epoch 9/200\n",
            "23/22 [==============================] - 3s 117ms/step - loss: 686.3576 - val_loss: 849.7410\n",
            "Epoch 10/200\n",
            "23/22 [==============================] - 3s 111ms/step - loss: 670.1377 - val_loss: 870.4022\n",
            "Epoch 11/200\n",
            "23/22 [==============================] - 3s 110ms/step - loss: 700.2333 - val_loss: 993.6121\n",
            "Epoch 12/200\n",
            "23/22 [==============================] - 3s 114ms/step - loss: 716.6023 - val_loss: 812.5863\n",
            "Epoch 13/200\n",
            "23/22 [==============================] - 3s 114ms/step - loss: 639.0327 - val_loss: 816.9641\n",
            "Epoch 14/200\n",
            "23/22 [==============================] - 3s 115ms/step - loss: 699.9447 - val_loss: 864.8283\n",
            "Epoch 15/200\n",
            "23/22 [==============================] - 3s 112ms/step - loss: 661.8387 - val_loss: 833.9311\n",
            "Epoch 16/200\n",
            "23/22 [==============================] - 3s 114ms/step - loss: 692.3122 - val_loss: 907.1416\n",
            "Epoch 17/200\n",
            "23/22 [==============================] - 3s 116ms/step - loss: 647.9390 - val_loss: 813.6614\n",
            "Epoch 18/200\n",
            "23/22 [==============================] - 3s 115ms/step - loss: 681.9242 - val_loss: 923.9335\n"
          ],
          "name": "stdout"
        }
      ]
    },
    {
      "cell_type": "code",
      "metadata": {
        "id": "-TLESULyMLVk",
        "colab_type": "code",
        "outputId": "4d07b7bd-726b-4008-a8aa-f75c5b6e1470",
        "colab": {
          "base_uri": "https://localhost:8080/",
          "height": 282
        }
      },
      "source": [
        "y_pred_train = model_attack.predict(X_train)\n",
        "y_pred_test = model_attack.predict(X_test)\n",
        "\n",
        "plt.scatter(y_a_train, y_pred_train, c='r', marker='s',label=\"train\")\n",
        "plt.scatter(y_a_test, y_pred_test, c='b', marker='s',label=\"test\")\n",
        "plt.legend()\n",
        "plt.plot([0,200],[0,200])"
      ],
      "execution_count": 0,
      "outputs": [
        {
          "output_type": "execute_result",
          "data": {
            "text/plain": [
              "[<matplotlib.lines.Line2D at 0x7f943a576358>]"
            ]
          },
          "metadata": {
            "tags": []
          },
          "execution_count": 37
        },
        {
          "output_type": "display_data",
          "data": {
            "image/png": "[encoded data removed]",
            "text/plain": [
              "<Figure size 432x288 with 1 Axes>"
            ]
          },
          "metadata": {
            "tags": []
          }
        }
      ]
    },
    {
      "cell_type": "markdown",
      "metadata": {
        "id": "JYFa6pjwMbAf",
        "colab_type": "text"
      },
      "source": [
        "#### Defenseモデル"
      ]
    },
    {
      "cell_type": "code",
      "metadata": {
        "id": "wvSde83qMZ5j",
        "colab_type": "code",
        "outputId": "5b7afb51-80f4-45bb-ffac-86374324e97d",
        "colab": {
          "base_uri": "https://localhost:8080/",
          "height": 1000
        }
      },
      "source": [
        "model_defense = load_model('model_ft.h5', compile=True)\n",
        "history = model_defense.fit_generator(datagen.flow(X_train, y_b_train, batch_size=32),\n",
        "                    steps_per_epoch=len(y_b_train) / 32, epochs=200,\n",
        "                    validation_data=(X_test, y_b_test), callbacks=[early_stop])\n",
        "\n",
        "model_defense.save('model_defense.h5', include_optimizer=False)"
      ],
      "execution_count": 0,
      "outputs": [
        {
          "output_type": "stream",
          "text": [
            "Epoch 1/200\n",
            "23/22 [==============================] - 3s 136ms/step - loss: 10045.9566 - val_loss: 1506.2262\n",
            "Epoch 2/200\n",
            "23/22 [==============================] - 2s 108ms/step - loss: 974.5684 - val_loss: 1033.7584\n",
            "Epoch 3/200\n",
            "23/22 [==============================] - 3s 117ms/step - loss: 976.6532 - val_loss: 1109.1084\n",
            "Epoch 4/200\n",
            "23/22 [==============================] - 2s 108ms/step - loss: 967.1290 - val_loss: 781.3822\n",
            "Epoch 5/200\n",
            "23/22 [==============================] - 3s 112ms/step - loss: 958.2304 - val_loss: 1171.3219\n",
            "Epoch 6/200\n",
            "23/22 [==============================] - 3s 112ms/step - loss: 954.5161 - val_loss: 1209.2283\n",
            "Epoch 7/200\n",
            "23/22 [==============================] - 3s 118ms/step - loss: 971.4351 - val_loss: 898.2274\n",
            "Epoch 8/200\n",
            "23/22 [==============================] - 3s 111ms/step - loss: 879.1096 - val_loss: 995.1298\n",
            "Epoch 9/200\n",
            "23/22 [==============================] - 3s 116ms/step - loss: 876.9902 - val_loss: 927.6276\n",
            "Epoch 10/200\n",
            "23/22 [==============================] - 3s 116ms/step - loss: 914.7880 - val_loss: 737.4630\n",
            "Epoch 11/200\n",
            "23/22 [==============================] - 3s 114ms/step - loss: 923.9316 - val_loss: 858.0139\n",
            "Epoch 12/200\n",
            "23/22 [==============================] - 3s 109ms/step - loss: 853.0566 - val_loss: 790.7951\n",
            "Epoch 13/200\n",
            "23/22 [==============================] - 3s 112ms/step - loss: 834.9037 - val_loss: 922.3457\n",
            "Epoch 14/200\n",
            "23/22 [==============================] - 3s 111ms/step - loss: 873.6603 - val_loss: 728.3656\n",
            "Epoch 15/200\n",
            "23/22 [==============================] - 2s 108ms/step - loss: 814.3778 - val_loss: 903.4779\n",
            "Epoch 16/200\n",
            "23/22 [==============================] - 3s 112ms/step - loss: 821.8747 - val_loss: 718.2594\n",
            "Epoch 17/200\n",
            "23/22 [==============================] - 3s 111ms/step - loss: 831.2641 - val_loss: 779.9171\n",
            "Epoch 18/200\n",
            "23/22 [==============================] - 3s 110ms/step - loss: 784.1232 - val_loss: 728.5077\n",
            "Epoch 19/200\n",
            "23/22 [==============================] - 3s 109ms/step - loss: 809.1223 - val_loss: 890.2659\n",
            "Epoch 20/200\n",
            "23/22 [==============================] - 3s 111ms/step - loss: 791.7293 - val_loss: 810.6481\n",
            "Epoch 21/200\n",
            "23/22 [==============================] - 3s 110ms/step - loss: 770.7952 - val_loss: 769.4692\n",
            "Epoch 22/200\n",
            "23/22 [==============================] - 3s 110ms/step - loss: 790.4804 - val_loss: 714.6702\n",
            "Epoch 23/200\n",
            "23/22 [==============================] - 3s 109ms/step - loss: 819.6519 - val_loss: 854.7268\n",
            "Epoch 24/200\n",
            "23/22 [==============================] - 3s 113ms/step - loss: 786.1874 - val_loss: 840.4884\n",
            "Epoch 25/200\n",
            "23/22 [==============================] - 3s 111ms/step - loss: 795.8053 - val_loss: 823.7795\n",
            "Epoch 26/200\n",
            "23/22 [==============================] - 3s 114ms/step - loss: 802.7297 - val_loss: 959.5829\n",
            "Epoch 27/200\n",
            "23/22 [==============================] - 2s 108ms/step - loss: 768.6855 - val_loss: 881.0898\n",
            "Epoch 28/200\n",
            "23/22 [==============================] - 3s 111ms/step - loss: 795.2043 - val_loss: 762.0832\n",
            "Epoch 29/200\n",
            "23/22 [==============================] - 3s 114ms/step - loss: 798.1718 - val_loss: 861.0045\n",
            "Epoch 30/200\n",
            "23/22 [==============================] - 3s 111ms/step - loss: 760.8270 - val_loss: 821.6983\n",
            "Epoch 31/200\n",
            "23/22 [==============================] - 2s 108ms/step - loss: 800.5147 - val_loss: 866.2205\n",
            "Epoch 32/200\n",
            "23/22 [==============================] - 3s 113ms/step - loss: 775.4871 - val_loss: 841.4403\n"
          ],
          "name": "stdout"
        }
      ]
    },
    {
      "cell_type": "code",
      "metadata": {
        "id": "kvU_sOwnMmUa",
        "colab_type": "code",
        "outputId": "bf6ca2a6-10df-4747-d2ed-fae7dc56f4a8",
        "colab": {
          "base_uri": "https://localhost:8080/",
          "height": 282
        }
      },
      "source": [
        "y_pred_train = model_defense.predict(X_train)\n",
        "y_pred_test = model_defense.predict(X_test)\n",
        "\n",
        "plt.scatter(y_b_train, y_pred_train, c='r', marker='s',label=\"train\")\n",
        "plt.scatter(y_b_test, y_pred_test, c='b', marker='s',label=\"test\")\n",
        "plt.legend()\n",
        "plt.plot([0,200],[0,200])"
      ],
      "execution_count": 0,
      "outputs": [
        {
          "output_type": "execute_result",
          "data": {
            "text/plain": [
              "[<matplotlib.lines.Line2D at 0x7f943a28ee10>]"
            ]
          },
          "metadata": {
            "tags": []
          },
          "execution_count": 39
        },
        {
          "output_type": "display_data",
          "data": {
            "image/png": "[encoded data removed]",
            "text/plain": [
              "<Figure size 432x288 with 1 Axes>"
            ]
          },
          "metadata": {
            "tags": []
          }
        }
      ]
    },
    {
      "cell_type": "markdown",
      "metadata": {
        "id": "ay8CcsKBMzoi",
        "colab_type": "text"
      },
      "source": [
        "#### SpAttackモデル"
      ]
    },
    {
      "cell_type": "code",
      "metadata": {
        "id": "mYb4-Z96M3Xt",
        "colab_type": "code",
        "outputId": "4de848a3-32eb-497d-ab14-875906092f59",
        "colab": {
          "base_uri": "https://localhost:8080/",
          "height": 1000
        }
      },
      "source": [
        "model_spattack = load_model('model_ft.h5', compile=True)\n",
        "history = model_spattack.fit_generator(datagen.flow(X_train, y_c_train, batch_size=32),\n",
        "                    steps_per_epoch=len(y_c_train) / 32, epochs=200,\n",
        "                    validation_data=(X_test, y_c_test), callbacks=[early_stop])\n",
        "\n",
        "model_spattack.save('model_spattack.h5', include_optimizer=False)"
      ],
      "execution_count": 0,
      "outputs": [
        {
          "output_type": "stream",
          "text": [
            "Epoch 1/200\n",
            "23/22 [==============================] - 3s 133ms/step - loss: 9599.0449 - val_loss: 2132.0709\n",
            "Epoch 2/200\n",
            "23/22 [==============================] - 3s 110ms/step - loss: 1003.6079 - val_loss: 1108.3415\n",
            "Epoch 3/200\n",
            "23/22 [==============================] - 3s 113ms/step - loss: 916.1817 - val_loss: 1139.7248\n",
            "Epoch 4/200\n",
            "23/22 [==============================] - 2s 109ms/step - loss: 908.2627 - val_loss: 1165.6336\n",
            "Epoch 5/200\n",
            "23/22 [==============================] - 3s 114ms/step - loss: 877.1928 - val_loss: 1206.1259\n",
            "Epoch 6/200\n",
            "23/22 [==============================] - 3s 111ms/step - loss: 892.4287 - val_loss: 1022.4897\n",
            "Epoch 7/200\n",
            "23/22 [==============================] - 3s 111ms/step - loss: 914.6525 - val_loss: 1119.6932\n",
            "Epoch 8/200\n",
            "23/22 [==============================] - 2s 106ms/step - loss: 875.2978 - val_loss: 1066.5018\n",
            "Epoch 9/200\n",
            "23/22 [==============================] - 3s 114ms/step - loss: 854.5088 - val_loss: 1027.5212\n",
            "Epoch 10/200\n",
            "23/22 [==============================] - 3s 110ms/step - loss: 843.4146 - val_loss: 1133.7941\n",
            "Epoch 11/200\n",
            "23/22 [==============================] - 3s 112ms/step - loss: 839.3054 - val_loss: 1100.0408\n",
            "Epoch 12/200\n",
            "23/22 [==============================] - 2s 107ms/step - loss: 834.0917 - val_loss: 1054.4418\n",
            "Epoch 13/200\n",
            "23/22 [==============================] - 3s 110ms/step - loss: 837.8034 - val_loss: 1095.8283\n",
            "Epoch 14/200\n",
            "23/22 [==============================] - 3s 114ms/step - loss: 851.7866 - val_loss: 1066.9637\n",
            "Epoch 15/200\n",
            "23/22 [==============================] - 3s 112ms/step - loss: 846.8678 - val_loss: 933.4039\n",
            "Epoch 16/200\n",
            "23/22 [==============================] - 3s 115ms/step - loss: 828.2044 - val_loss: 1046.5023\n",
            "Epoch 17/200\n",
            "23/22 [==============================] - 2s 108ms/step - loss: 823.9538 - val_loss: 1005.6942\n",
            "Epoch 18/200\n",
            "23/22 [==============================] - 3s 111ms/step - loss: 836.2634 - val_loss: 908.8258\n",
            "Epoch 19/200\n",
            "23/22 [==============================] - 3s 113ms/step - loss: 819.7765 - val_loss: 914.7473\n",
            "Epoch 20/200\n",
            "23/22 [==============================] - 3s 109ms/step - loss: 816.9976 - val_loss: 963.6041\n",
            "Epoch 21/200\n",
            "23/22 [==============================] - 3s 114ms/step - loss: 813.8753 - val_loss: 1040.5461\n",
            "Epoch 22/200\n",
            "23/22 [==============================] - 3s 111ms/step - loss: 810.6176 - val_loss: 920.7808\n",
            "Epoch 23/200\n",
            "23/22 [==============================] - 3s 116ms/step - loss: 777.4911 - val_loss: 905.5156\n",
            "Epoch 24/200\n",
            "23/22 [==============================] - 3s 110ms/step - loss: 852.0638 - val_loss: 911.7098\n",
            "Epoch 25/200\n",
            "23/22 [==============================] - 3s 110ms/step - loss: 817.5908 - val_loss: 1110.5959\n",
            "Epoch 26/200\n",
            "23/22 [==============================] - 3s 112ms/step - loss: 844.7274 - val_loss: 905.9887\n",
            "Epoch 27/200\n",
            "23/22 [==============================] - 3s 113ms/step - loss: 809.6830 - val_loss: 1024.9945\n",
            "Epoch 28/200\n",
            "23/22 [==============================] - 3s 111ms/step - loss: 804.8125 - val_loss: 1015.6387\n",
            "Epoch 29/200\n",
            "23/22 [==============================] - 3s 114ms/step - loss: 765.5982 - val_loss: 994.5284\n",
            "Epoch 30/200\n",
            "23/22 [==============================] - 3s 116ms/step - loss: 801.0948 - val_loss: 1026.4911\n",
            "Epoch 31/200\n",
            "23/22 [==============================] - 2s 108ms/step - loss: 816.6631 - val_loss: 871.2151\n",
            "Epoch 32/200\n",
            "23/22 [==============================] - 3s 113ms/step - loss: 793.6503 - val_loss: 867.7166\n",
            "Epoch 33/200\n",
            "23/22 [==============================] - 3s 114ms/step - loss: 761.7793 - val_loss: 857.3950\n",
            "Epoch 34/200\n",
            "23/22 [==============================] - 3s 113ms/step - loss: 784.3618 - val_loss: 890.7873\n",
            "Epoch 35/200\n",
            "23/22 [==============================] - 3s 110ms/step - loss: 796.1447 - val_loss: 907.7319\n",
            "Epoch 36/200\n",
            "23/22 [==============================] - 3s 109ms/step - loss: 788.3480 - val_loss: 944.2800\n",
            "Epoch 37/200\n",
            "23/22 [==============================] - 3s 115ms/step - loss: 762.1180 - val_loss: 958.6659\n",
            "Epoch 38/200\n",
            "23/22 [==============================] - 3s 110ms/step - loss: 795.5750 - val_loss: 900.8463\n",
            "Epoch 39/200\n",
            "23/22 [==============================] - 3s 114ms/step - loss: 751.3035 - val_loss: 923.3102\n",
            "Epoch 40/200\n",
            "23/22 [==============================] - 3s 113ms/step - loss: 787.3284 - val_loss: 882.6722\n",
            "Epoch 41/200\n",
            "23/22 [==============================] - 3s 111ms/step - loss: 777.7182 - val_loss: 944.0569\n",
            "Epoch 42/200\n",
            "23/22 [==============================] - 3s 112ms/step - loss: 794.1730 - val_loss: 913.0523\n",
            "Epoch 43/200\n",
            "23/22 [==============================] - 3s 111ms/step - loss: 731.2853 - val_loss: 912.2270\n"
          ],
          "name": "stdout"
        }
      ]
    },
    {
      "cell_type": "code",
      "metadata": {
        "id": "YFx0Q2uJM8uI",
        "colab_type": "code",
        "outputId": "e70c7ee2-d9c2-48e9-88c7-8c30ab38de17",
        "colab": {
          "base_uri": "https://localhost:8080/",
          "height": 282
        }
      },
      "source": [
        "y_pred_train = model_spattack.predict(X_train)\n",
        "y_pred_test = model_spattack.predict(X_test)\n",
        "\n",
        "plt.scatter(y_c_train, y_pred_train, c='r', marker='s',label=\"train\")\n",
        "plt.scatter(y_c_test, y_pred_test, c='b', marker='s',label=\"test\")\n",
        "plt.legend()\n",
        "plt.plot([0,200],[0,200])"
      ],
      "execution_count": 0,
      "outputs": [
        {
          "output_type": "execute_result",
          "data": {
            "text/plain": [
              "[<matplotlib.lines.Line2D at 0x7f94397313c8>]"
            ]
          },
          "metadata": {
            "tags": []
          },
          "execution_count": 41
        },
        {
          "output_type": "display_data",
          "data": {
            "image/png": "[encoded data removed]",
            "text/plain": [
              "<Figure size 432x288 with 1 Axes>"
            ]
          },
          "metadata": {
            "tags": []
          }
        }
      ]
    },
    {
      "cell_type": "markdown",
      "metadata": {
        "id": "RSjvo2AJNa8a",
        "colab_type": "text"
      },
      "source": [
        "#### SpDefenseモデル"
      ]
    },
    {
      "cell_type": "code",
      "metadata": {
        "id": "kxtg4ec9NdAS",
        "colab_type": "code",
        "outputId": "36fec3cf-33f8-4294-febc-ee4209ea9e62",
        "colab": {
          "base_uri": "https://localhost:8080/",
          "height": 595
        }
      },
      "source": [
        "model_spdefense = load_model('model_ft.h5', compile=True)\n",
        "history = model_spdefense.fit_generator(datagen.flow(X_train, y_d_train, batch_size=32),\n",
        "                    steps_per_epoch=len(y_d_train) / 32, epochs=200,\n",
        "                    validation_data=(X_test, y_d_test), callbacks=[early_stop])\n",
        "\n",
        "model_spdefense.save('model_spdefense.h5', include_optimizer=False)"
      ],
      "execution_count": 0,
      "outputs": [
        {
          "output_type": "stream",
          "text": [
            "Epoch 1/200\n",
            "23/22 [==============================] - 3s 142ms/step - loss: 8904.3421 - val_loss: 1815.6122\n",
            "Epoch 2/200\n",
            "23/22 [==============================] - 3s 110ms/step - loss: 900.7074 - val_loss: 1007.3795\n",
            "Epoch 3/200\n",
            "23/22 [==============================] - 2s 108ms/step - loss: 820.9957 - val_loss: 903.7663\n",
            "Epoch 4/200\n",
            "23/22 [==============================] - 3s 114ms/step - loss: 808.8229 - val_loss: 1109.6368\n",
            "Epoch 5/200\n",
            "23/22 [==============================] - 3s 114ms/step - loss: 773.1750 - val_loss: 901.2240\n",
            "Epoch 6/200\n",
            "23/22 [==============================] - 3s 114ms/step - loss: 770.5802 - val_loss: 988.4675\n",
            "Epoch 7/200\n",
            "23/22 [==============================] - 3s 110ms/step - loss: 774.0882 - val_loss: 856.1221\n",
            "Epoch 8/200\n",
            "23/22 [==============================] - 2s 108ms/step - loss: 780.3902 - val_loss: 891.9567\n",
            "Epoch 9/200\n",
            "23/22 [==============================] - 3s 113ms/step - loss: 810.2918 - val_loss: 950.1257\n",
            "Epoch 10/200\n",
            "23/22 [==============================] - 3s 114ms/step - loss: 751.4388 - val_loss: 911.7681\n",
            "Epoch 11/200\n",
            "23/22 [==============================] - 3s 109ms/step - loss: 752.9971 - val_loss: 907.7402\n",
            "Epoch 12/200\n",
            "23/22 [==============================] - 3s 118ms/step - loss: 698.9214 - val_loss: 883.6680\n",
            "Epoch 13/200\n",
            "23/22 [==============================] - 3s 123ms/step - loss: 720.5403 - val_loss: 953.4559\n",
            "Epoch 14/200\n",
            "23/22 [==============================] - 3s 119ms/step - loss: 722.3046 - val_loss: 979.7727\n",
            "Epoch 15/200\n",
            "23/22 [==============================] - 3s 117ms/step - loss: 730.7504 - val_loss: 888.6489\n",
            "Epoch 16/200\n",
            "23/22 [==============================] - 3s 112ms/step - loss: 731.8356 - val_loss: 904.9305\n",
            "Epoch 17/200\n",
            "23/22 [==============================] - 3s 115ms/step - loss: 703.3827 - val_loss: 915.7063\n"
          ],
          "name": "stdout"
        }
      ]
    },
    {
      "cell_type": "code",
      "metadata": {
        "id": "QHPAjWs6Ng2R",
        "colab_type": "code",
        "outputId": "1e87225c-f29e-40b4-8e47-5de035016527",
        "colab": {
          "base_uri": "https://localhost:8080/",
          "height": 282
        }
      },
      "source": [
        "y_pred_train = model_spdefense.predict(X_train)\n",
        "y_pred_test = model_spdefense.predict(X_test)\n",
        "\n",
        "plt.scatter(y_d_train, y_pred_train, c='r', marker='s',label=\"train\")\n",
        "plt.scatter(y_d_test, y_pred_test, c='b', marker='s',label=\"test\")\n",
        "plt.legend()\n",
        "plt.plot([0,200],[0,200])"
      ],
      "execution_count": 0,
      "outputs": [
        {
          "output_type": "execute_result",
          "data": {
            "text/plain": [
              "[<matplotlib.lines.Line2D at 0x7f9439438e80>]"
            ]
          },
          "metadata": {
            "tags": []
          },
          "execution_count": 43
        },
        {
          "output_type": "display_data",
          "data": {
            "image/png": "[encoded data removed]",
            "text/plain": [
              "<Figure size 432x288 with 1 Axes>"
            ]
          },
          "metadata": {
            "tags": []
          }
        }
      ]
    },
    {
      "cell_type": "markdown",
      "metadata": {
        "id": "Uy1zyNIACGwp",
        "colab_type": "text"
      },
      "source": [
        "#### Speedモデル"
      ]
    },
    {
      "cell_type": "code",
      "metadata": {
        "id": "XdEMyweNiJcs",
        "colab_type": "code",
        "outputId": "7f72ea46-f966-49b8-bbb4-5fbd6a086518",
        "colab": {
          "base_uri": "https://localhost:8080/",
          "height": 561
        }
      },
      "source": [
        "model_speed = load_model('model_ft.h5', compile=True)\n",
        "history = model_speed.fit_generator(datagen.flow(X_train, y_s_train, batch_size=32),\n",
        "                    steps_per_epoch=len(y_s_train) / 32, epochs=200,\n",
        "                    validation_data=(X_test, y_s_test), callbacks=[early_stop])\n",
        "\n",
        "model_speed.save('model_speed.h5', include_optimizer=False)"
      ],
      "execution_count": 0,
      "outputs": [
        {
          "output_type": "stream",
          "text": [
            "Epoch 1/200\n",
            "23/22 [==============================] - 3s 141ms/step - loss: 9738.9833 - val_loss: 1114.5431\n",
            "Epoch 2/200\n",
            "23/22 [==============================] - 2s 108ms/step - loss: 846.9383 - val_loss: 849.2137\n",
            "Epoch 3/200\n",
            "23/22 [==============================] - 3s 112ms/step - loss: 788.4451 - val_loss: 899.9059\n",
            "Epoch 4/200\n",
            "23/22 [==============================] - 3s 111ms/step - loss: 820.4070 - val_loss: 835.5699\n",
            "Epoch 5/200\n",
            "23/22 [==============================] - 3s 112ms/step - loss: 806.9688 - val_loss: 795.0550\n",
            "Epoch 6/200\n",
            "23/22 [==============================] - 3s 113ms/step - loss: 795.4908 - val_loss: 792.8886\n",
            "Epoch 7/200\n",
            "23/22 [==============================] - 2s 108ms/step - loss: 771.8649 - val_loss: 844.4634\n",
            "Epoch 8/200\n",
            "23/22 [==============================] - 3s 112ms/step - loss: 802.3868 - val_loss: 849.5117\n",
            "Epoch 9/200\n",
            "23/22 [==============================] - 3s 112ms/step - loss: 776.1905 - val_loss: 874.1679\n",
            "Epoch 10/200\n",
            "23/22 [==============================] - 3s 110ms/step - loss: 761.9844 - val_loss: 799.8709\n",
            "Epoch 11/200\n",
            "23/22 [==============================] - 3s 117ms/step - loss: 743.2033 - val_loss: 792.8985\n",
            "Epoch 12/200\n",
            "23/22 [==============================] - 3s 109ms/step - loss: 800.8950 - val_loss: 793.1116\n",
            "Epoch 13/200\n",
            "23/22 [==============================] - 3s 115ms/step - loss: 758.1878 - val_loss: 836.3948\n",
            "Epoch 14/200\n",
            "23/22 [==============================] - 3s 111ms/step - loss: 756.9582 - val_loss: 800.4184\n",
            "Epoch 15/200\n",
            "23/22 [==============================] - 3s 113ms/step - loss: 762.3009 - val_loss: 795.9420\n",
            "Epoch 16/200\n",
            "23/22 [==============================] - 3s 113ms/step - loss: 775.8223 - val_loss: 821.7185\n"
          ],
          "name": "stdout"
        }
      ]
    },
    {
      "cell_type": "code",
      "metadata": {
        "id": "wK4mN3Pqi3Rd",
        "colab_type": "code",
        "outputId": "2ac9fa8f-1c2e-418b-8e75-5b2c81096ead",
        "colab": {
          "base_uri": "https://localhost:8080/",
          "height": 282
        }
      },
      "source": [
        "y_pred_train = model_speed.predict(X_train)\n",
        "y_pred_test = model_speed.predict(X_test)\n",
        "\n",
        "plt.scatter(y_s_train, y_pred_train, c='r', marker='s',label=\"train\")\n",
        "plt.scatter(y_s_test, y_pred_test, c='b', marker='s',label=\"test\")\n",
        "plt.legend()\n",
        "plt.plot([0,200],[0,200])"
      ],
      "execution_count": 0,
      "outputs": [
        {
          "output_type": "execute_result",
          "data": {
            "text/plain": [
              "[<matplotlib.lines.Line2D at 0x7f943915d438>]"
            ]
          },
          "metadata": {
            "tags": []
          },
          "execution_count": 45
        },
        {
          "output_type": "display_data",
          "data": {
            "image/png": "[encoded data removed]",
            "text/plain": [
              "<Figure size 432x288 with 1 Axes>"
            ]
          },
          "metadata": {
            "tags": []
          }
        }
      ]
    },
    {
      "cell_type": "markdown",
      "metadata": {
        "id": "pzoUEGQaT_sL",
        "colab_type": "text"
      },
      "source": [
        "### モデル出力値補正\n",
        "H,A,B,C,D,Sそれぞれに対し、（モデルから出力された合計種族値種族値）/（モデルから出力されたH,A,B,C,D,Sの合計）で補正する。"
      ]
    },
    {
      "cell_type": "code",
      "metadata": {
        "id": "tQ8ERm3sUAc4",
        "colab_type": "code",
        "colab": {}
      },
      "source": [
        "model_total = load_model('model_total.h5', compile=False)\n",
        "model_hp = load_model('model_hp.h5', compile=False)\n",
        "model_attack = load_model('model_attack.h5', compile=False)\n",
        "model_defense = load_model('model_defense.h5', compile=False)\n",
        "model_spattack = load_model('model_spattack.h5', compile=False)\n",
        "model_spdefense = load_model('model_spdefense.h5', compile=False)\n",
        "model_speed = load_model('model_speed.h5', compile=False)"
      ],
      "execution_count": 0,
      "outputs": []
    },
    {
      "cell_type": "code",
      "metadata": {
        "id": "NwM50z6UUFCW",
        "colab_type": "code",
        "colab": {}
      },
      "source": [
        "y_pred_t = model_total.predict(X_test).flatten()\n",
        "y_pred_h = model_hp.predict(X_test).flatten()\n",
        "y_pred_a = model_attack.predict(X_test).flatten()\n",
        "y_pred_b = model_defense.predict(X_test).flatten()\n",
        "y_pred_c = model_spattack.predict(X_test).flatten()\n",
        "y_pred_d = model_spdefense.predict(X_test).flatten()\n",
        "y_pred_s = model_speed.predict(X_test).flatten()\n",
        "\n",
        "for i, total in enumerate(y_pred_t):\n",
        "  correct_val = total/(y_pred_h[i]+y_pred_a[i]+y_pred_b[i]+y_pred_c[i]+y_pred_d[i]+y_pred_s[i])\n",
        "  y_pred_h[i] = y_pred_h[i]*correct_val\n",
        "  y_pred_a[i] = y_pred_a[i]*correct_val\n",
        "  y_pred_b[i] = y_pred_b[i]*correct_val\n",
        "  y_pred_c[i] = y_pred_c[i]*correct_val\n",
        "  y_pred_d[i] = y_pred_d[i]*correct_val\n",
        "  y_pred_s[i] = y_pred_s[i]*correct_val"
      ],
      "execution_count": 0,
      "outputs": []
    },
    {
      "cell_type": "code",
      "metadata": {
        "id": "dnDh5qqfUGCD",
        "colab_type": "code",
        "colab": {}
      },
      "source": [
        "df_pred = pd.DataFrame({ \n",
        "                      'pred_hp' : y_pred_h,\n",
        "                      'pred_attack' : y_pred_a,\n",
        "                      'pred_defense' : y_pred_b,\n",
        "                      'pred_spattack' : y_pred_c,\n",
        "                      'pred_spdefense' : y_pred_d,\n",
        "                      'pred_speed' : y_pred_s,\n",
        "                      'pred_total' : y_pred_t })"
      ],
      "execution_count": 0,
      "outputs": []
    },
    {
      "cell_type": "code",
      "metadata": {
        "id": "fT74gMlvUIxe",
        "colab_type": "code",
        "outputId": "e6ccc40a-dcb5-4331-bffe-75b87dc81f8e",
        "colab": {
          "base_uri": "https://localhost:8080/",
          "height": 439
        }
      },
      "source": [
        "df_result = pd.concat([df_pokeimg[721:].reset_index(drop=True), df_pred], axis=1)\n",
        "df_result"
      ],
      "execution_count": 0,
      "outputs": [
        {
          "output_type": "execute_result",
          "data": {
            "text/html": [
              "<div>\n",
              "<style scoped>\n",
              "    .dataframe tbody tr th:only-of-type {\n",
              "        vertical-align: middle;\n",
              "    }\n",
              "\n",
              "    .dataframe tbody tr th {\n",
              "        vertical-align: top;\n",
              "    }\n",
              "\n",
              "    .dataframe thead th {\n",
              "        text-align: right;\n",
              "    }\n",
              "</style>\n",
              "<table border=\"1\" class=\"dataframe\">\n",
              "  <thead>\n",
              "    <tr style=\"text-align: right;\">\n",
              "      <th></th>\n",
              "      <th>Name</th>\n",
              "      <th>Type1</th>\n",
              "      <th>Type2</th>\n",
              "      <th>id</th>\n",
              "      <th>hp</th>\n",
              "      <th>attack</th>\n",
              "      <th>defense</th>\n",
              "      <th>spattack</th>\n",
              "      <th>spdefense</th>\n",
              "      <th>speed</th>\n",
              "      <th>total</th>\n",
              "      <th>pred_hp</th>\n",
              "      <th>pred_attack</th>\n",
              "      <th>pred_defense</th>\n",
              "      <th>pred_spattack</th>\n",
              "      <th>pred_spdefense</th>\n",
              "      <th>pred_speed</th>\n",
              "      <th>pred_total</th>\n",
              "    </tr>\n",
              "  </thead>\n",
              "  <tbody>\n",
              "    <tr>\n",
              "      <th>0</th>\n",
              "      <td>rowlet</td>\n",
              "      <td>Grass</td>\n",
              "      <td>Flying</td>\n",
              "      <td>721</td>\n",
              "      <td>68</td>\n",
              "      <td>55</td>\n",
              "      <td>55</td>\n",
              "      <td>50</td>\n",
              "      <td>50</td>\n",
              "      <td>42</td>\n",
              "      <td>320</td>\n",
              "      <td>50.679329</td>\n",
              "      <td>54.399590</td>\n",
              "      <td>57.835876</td>\n",
              "      <td>55.244804</td>\n",
              "      <td>59.746307</td>\n",
              "      <td>56.970711</td>\n",
              "      <td>334.876587</td>\n",
              "    </tr>\n",
              "    <tr>\n",
              "      <th>1</th>\n",
              "      <td>dartrix</td>\n",
              "      <td>Grass</td>\n",
              "      <td>Flying</td>\n",
              "      <td>722</td>\n",
              "      <td>78</td>\n",
              "      <td>75</td>\n",
              "      <td>75</td>\n",
              "      <td>70</td>\n",
              "      <td>70</td>\n",
              "      <td>52</td>\n",
              "      <td>420</td>\n",
              "      <td>57.667782</td>\n",
              "      <td>67.426758</td>\n",
              "      <td>64.255577</td>\n",
              "      <td>65.581337</td>\n",
              "      <td>68.476723</td>\n",
              "      <td>65.357170</td>\n",
              "      <td>388.765381</td>\n",
              "    </tr>\n",
              "    <tr>\n",
              "      <th>2</th>\n",
              "      <td>decidueye</td>\n",
              "      <td>Grass</td>\n",
              "      <td>Ghost</td>\n",
              "      <td>723</td>\n",
              "      <td>78</td>\n",
              "      <td>107</td>\n",
              "      <td>75</td>\n",
              "      <td>100</td>\n",
              "      <td>100</td>\n",
              "      <td>70</td>\n",
              "      <td>530</td>\n",
              "      <td>71.502075</td>\n",
              "      <td>89.928902</td>\n",
              "      <td>81.933876</td>\n",
              "      <td>86.536873</td>\n",
              "      <td>80.723541</td>\n",
              "      <td>73.235420</td>\n",
              "      <td>483.860718</td>\n",
              "    </tr>\n",
              "    <tr>\n",
              "      <th>3</th>\n",
              "      <td>litten</td>\n",
              "      <td>Fire</td>\n",
              "      <td>NaN</td>\n",
              "      <td>724</td>\n",
              "      <td>45</td>\n",
              "      <td>65</td>\n",
              "      <td>40</td>\n",
              "      <td>60</td>\n",
              "      <td>40</td>\n",
              "      <td>70</td>\n",
              "      <td>320</td>\n",
              "      <td>38.786469</td>\n",
              "      <td>48.351334</td>\n",
              "      <td>46.784161</td>\n",
              "      <td>46.029057</td>\n",
              "      <td>54.506874</td>\n",
              "      <td>57.171421</td>\n",
              "      <td>291.629303</td>\n",
              "    </tr>\n",
              "    <tr>\n",
              "      <th>4</th>\n",
              "      <td>torracat</td>\n",
              "      <td>Fire</td>\n",
              "      <td>NaN</td>\n",
              "      <td>725</td>\n",
              "      <td>65</td>\n",
              "      <td>85</td>\n",
              "      <td>50</td>\n",
              "      <td>80</td>\n",
              "      <td>50</td>\n",
              "      <td>90</td>\n",
              "      <td>420</td>\n",
              "      <td>55.080650</td>\n",
              "      <td>70.784264</td>\n",
              "      <td>60.623802</td>\n",
              "      <td>58.826538</td>\n",
              "      <td>65.091835</td>\n",
              "      <td>62.787106</td>\n",
              "      <td>373.194214</td>\n",
              "    </tr>\n",
              "    <tr>\n",
              "      <th>...</th>\n",
              "      <td>...</td>\n",
              "      <td>...</td>\n",
              "      <td>...</td>\n",
              "      <td>...</td>\n",
              "      <td>...</td>\n",
              "      <td>...</td>\n",
              "      <td>...</td>\n",
              "      <td>...</td>\n",
              "      <td>...</td>\n",
              "      <td>...</td>\n",
              "      <td>...</td>\n",
              "      <td>...</td>\n",
              "      <td>...</td>\n",
              "      <td>...</td>\n",
              "      <td>...</td>\n",
              "      <td>...</td>\n",
              "      <td>...</td>\n",
              "      <td>...</td>\n",
              "    </tr>\n",
              "    <tr>\n",
              "      <th>76</th>\n",
              "      <td>kartana</td>\n",
              "      <td>Grass</td>\n",
              "      <td>Steel</td>\n",
              "      <td>797</td>\n",
              "      <td>59</td>\n",
              "      <td>181</td>\n",
              "      <td>131</td>\n",
              "      <td>59</td>\n",
              "      <td>31</td>\n",
              "      <td>109</td>\n",
              "      <td>570</td>\n",
              "      <td>71.828545</td>\n",
              "      <td>74.668907</td>\n",
              "      <td>69.686966</td>\n",
              "      <td>74.882561</td>\n",
              "      <td>76.182411</td>\n",
              "      <td>70.248886</td>\n",
              "      <td>437.498230</td>\n",
              "    </tr>\n",
              "    <tr>\n",
              "      <th>77</th>\n",
              "      <td>guzzlord</td>\n",
              "      <td>Dark</td>\n",
              "      <td>Dragon</td>\n",
              "      <td>798</td>\n",
              "      <td>223</td>\n",
              "      <td>101</td>\n",
              "      <td>53</td>\n",
              "      <td>97</td>\n",
              "      <td>53</td>\n",
              "      <td>43</td>\n",
              "      <td>570</td>\n",
              "      <td>94.087517</td>\n",
              "      <td>117.135132</td>\n",
              "      <td>103.730415</td>\n",
              "      <td>97.621826</td>\n",
              "      <td>88.264854</td>\n",
              "      <td>63.932877</td>\n",
              "      <td>564.772644</td>\n",
              "    </tr>\n",
              "    <tr>\n",
              "      <th>78</th>\n",
              "      <td>necrozma</td>\n",
              "      <td>Psychic</td>\n",
              "      <td>NaN</td>\n",
              "      <td>799</td>\n",
              "      <td>97</td>\n",
              "      <td>107</td>\n",
              "      <td>101</td>\n",
              "      <td>127</td>\n",
              "      <td>89</td>\n",
              "      <td>79</td>\n",
              "      <td>600</td>\n",
              "      <td>73.931946</td>\n",
              "      <td>102.159622</td>\n",
              "      <td>83.861115</td>\n",
              "      <td>82.116356</td>\n",
              "      <td>82.140877</td>\n",
              "      <td>70.660843</td>\n",
              "      <td>494.870728</td>\n",
              "    </tr>\n",
              "    <tr>\n",
              "      <th>79</th>\n",
              "      <td>magearna</td>\n",
              "      <td>Steel</td>\n",
              "      <td>Fairy</td>\n",
              "      <td>800</td>\n",
              "      <td>80</td>\n",
              "      <td>95</td>\n",
              "      <td>115</td>\n",
              "      <td>130</td>\n",
              "      <td>115</td>\n",
              "      <td>65</td>\n",
              "      <td>600</td>\n",
              "      <td>68.912537</td>\n",
              "      <td>72.087578</td>\n",
              "      <td>69.452209</td>\n",
              "      <td>72.819878</td>\n",
              "      <td>73.374290</td>\n",
              "      <td>64.179153</td>\n",
              "      <td>420.825653</td>\n",
              "    </tr>\n",
              "    <tr>\n",
              "      <th>80</th>\n",
              "      <td>marshadow</td>\n",
              "      <td>Fighting</td>\n",
              "      <td>Ghost</td>\n",
              "      <td>801</td>\n",
              "      <td>90</td>\n",
              "      <td>125</td>\n",
              "      <td>80</td>\n",
              "      <td>90</td>\n",
              "      <td>90</td>\n",
              "      <td>125</td>\n",
              "      <td>600</td>\n",
              "      <td>38.199413</td>\n",
              "      <td>47.981174</td>\n",
              "      <td>44.261665</td>\n",
              "      <td>47.136757</td>\n",
              "      <td>55.202103</td>\n",
              "      <td>56.591312</td>\n",
              "      <td>289.372437</td>\n",
              "    </tr>\n",
              "  </tbody>\n",
              "</table>\n",
              "<p>81 rows × 18 columns</p>\n",
              "</div>"
            ],
            "text/plain": [
              "         Name     Type1   Type2  ...  pred_spdefense  pred_speed  pred_total\n",
              "0      rowlet     Grass  Flying  ...       59.746307   56.970711  334.876587\n",
              "1     dartrix     Grass  Flying  ...       68.476723   65.357170  388.765381\n",
              "2   decidueye     Grass   Ghost  ...       80.723541   73.235420  483.860718\n",
              "3      litten      Fire     NaN  ...       54.506874   57.171421  291.629303\n",
              "4    torracat      Fire     NaN  ...       65.091835   62.787106  373.194214\n",
              "..        ...       ...     ...  ...             ...         ...         ...\n",
              "76    kartana     Grass   Steel  ...       76.182411   70.248886  437.498230\n",
              "77   guzzlord      Dark  Dragon  ...       88.264854   63.932877  564.772644\n",
              "78   necrozma   Psychic     NaN  ...       82.140877   70.660843  494.870728\n",
              "79   magearna     Steel   Fairy  ...       73.374290   64.179153  420.825653\n",
              "80  marshadow  Fighting   Ghost  ...       55.202103   56.591312  289.372437\n",
              "\n",
              "[81 rows x 18 columns]"
            ]
          },
          "metadata": {
            "tags": []
          },
          "execution_count": 57
        }
      ]
    },
    {
      "cell_type": "code",
      "metadata": {
        "id": "YrFpDChDUMw7",
        "colab_type": "code",
        "outputId": "4d213400-172b-4251-a037-039ce8e77bd2",
        "colab": {
          "base_uri": "https://localhost:8080/",
          "height": 119
        }
      },
      "source": [
        "print('HP: {}'.format(mean_absolute_error(df_result['hp'], df_result['pred_hp'])))\n",
        "print('Attack: {}'.format(mean_absolute_error(df_result['attack'], df_result['pred_attack'])))\n",
        "print('Defense: {}'.format(mean_absolute_error(df_result['defense'], df_result['pred_defense'])))\n",
        "print('SpAttack: {}'.format(mean_absolute_error(df_result['spattack'], df_result['pred_spattack'])))\n",
        "print('SeDefense: {}'.format(mean_absolute_error(df_result['spdefense'], df_result['pred_spdefense'])))\n",
        "print('Speed: {}'.format(mean_absolute_error(df_result['speed'], df_result['pred_speed'])))"
      ],
      "execution_count": 0,
      "outputs": [
        {
          "output_type": "stream",
          "text": [
            "HP: 15.580046147476008\n",
            "Attack: 21.861412283814985\n",
            "Defense: 20.209474728431232\n",
            "SpAttack: 22.317422183943382\n",
            "SeDefense: 21.949047653763383\n",
            "Speed: 22.30630512002074\n"
          ],
          "name": "stdout"
        }
      ]
    }
  ]
}