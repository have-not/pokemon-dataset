{
  "nbformat": 4,
  "nbformat_minor": 0,
  "metadata": {
    "kernelspec": {
      "display_name": "Python 3",
      "language": "python",
      "name": "python3"
    },
    "language_info": {
      "codemirror_mode": {
        "name": "ipython",
        "version": 3
      },
      "file_extension": ".py",
      "mimetype": "text/x-python",
      "name": "python",
      "nbconvert_exporter": "python",
      "pygments_lexer": "ipython3",
      "version": "3.7.3"
    },
    "colab": {
      "name": "feature_extraction.ipynb",
      "provenance": [],
      "collapsed_sections": [],
      "toc_visible": true,
      "machine_shape": "hm"
    }
  },
  "cells": [
    {
      "cell_type": "markdown",
      "metadata": {
        "id": "lASnpcDkj7Yu",
        "colab_type": "text"
      },
      "source": [
        "# 特徴抽出"
      ]
    },
    {
      "cell_type": "markdown",
      "metadata": {
        "id": "hOr061uHl9gY",
        "colab_type": "text"
      },
      "source": [
        "## 特徴量選択 "
      ]
    },
    {
      "cell_type": "code",
      "metadata": {
        "id": "c4wW2eyktntL",
        "colab_type": "code",
        "colab": {}
      },
      "source": [
        "%matplotlib inline\n",
        "from sklearn import datasets\n",
        "import random\n",
        "import itertools\n",
        "import numpy as np\n",
        "import pandas as pd\n",
        "from sklearn.model_selection import StratifiedKFold\n",
        "from sklearn.decomposition import PCA\n",
        "from sklearn.preprocessing import scale\n",
        "from sklearn.ensemble import RandomForestClassifier\n",
        "from sklearn.tree import DecisionTreeClassifier\n",
        "from sklearn.model_selection import train_test_split\n",
        "from sklearn.neighbors import KNeighborsClassifier\n",
        "from sklearn.metrics import accuracy_score\n",
        "from matplotlib.colors import ListedColormap\n",
        "import matplotlib.pyplot as plt\n",
        "import csv"
      ],
      "execution_count": 0,
      "outputs": []
    },
    {
      "cell_type": "markdown",
      "metadata": {
        "id": "8-ywmzVSJwDe",
        "colab_type": "text"
      },
      "source": [
        "### データ読み込み\n",
        "#### Pokemon Image Dataset\n",
        "https://www.kaggle.com/terminus7/pokemon-challenge"
      ]
    },
    {
      "cell_type": "code",
      "metadata": {
        "id": "2tjhFdzRzlCA",
        "colab_type": "code",
        "outputId": "b5f225c1-d58c-4ec3-ce76-7142811bc05f",
        "colab": {
          "base_uri": "https://localhost:8080/",
          "height": 419
        }
      },
      "source": [
        "pokemon = pd.read_csv('pokemon.csv')\n",
        "combats = pd.read_csv('combats.csv')\n",
        "combats"
      ],
      "execution_count": 2,
      "outputs": [
        {
          "output_type": "execute_result",
          "data": {
            "text/html": [
              "<div>\n",
              "<style scoped>\n",
              "    .dataframe tbody tr th:only-of-type {\n",
              "        vertical-align: middle;\n",
              "    }\n",
              "\n",
              "    .dataframe tbody tr th {\n",
              "        vertical-align: top;\n",
              "    }\n",
              "\n",
              "    .dataframe thead th {\n",
              "        text-align: right;\n",
              "    }\n",
              "</style>\n",
              "<table border=\"1\" class=\"dataframe\">\n",
              "  <thead>\n",
              "    <tr style=\"text-align: right;\">\n",
              "      <th></th>\n",
              "      <th>First_pokemon</th>\n",
              "      <th>Second_pokemon</th>\n",
              "      <th>Winner</th>\n",
              "    </tr>\n",
              "  </thead>\n",
              "  <tbody>\n",
              "    <tr>\n",
              "      <th>0</th>\n",
              "      <td>266</td>\n",
              "      <td>298</td>\n",
              "      <td>298</td>\n",
              "    </tr>\n",
              "    <tr>\n",
              "      <th>1</th>\n",
              "      <td>702</td>\n",
              "      <td>701</td>\n",
              "      <td>701</td>\n",
              "    </tr>\n",
              "    <tr>\n",
              "      <th>2</th>\n",
              "      <td>191</td>\n",
              "      <td>668</td>\n",
              "      <td>668</td>\n",
              "    </tr>\n",
              "    <tr>\n",
              "      <th>3</th>\n",
              "      <td>237</td>\n",
              "      <td>683</td>\n",
              "      <td>683</td>\n",
              "    </tr>\n",
              "    <tr>\n",
              "      <th>4</th>\n",
              "      <td>151</td>\n",
              "      <td>231</td>\n",
              "      <td>151</td>\n",
              "    </tr>\n",
              "    <tr>\n",
              "      <th>...</th>\n",
              "      <td>...</td>\n",
              "      <td>...</td>\n",
              "      <td>...</td>\n",
              "    </tr>\n",
              "    <tr>\n",
              "      <th>49995</th>\n",
              "      <td>707</td>\n",
              "      <td>126</td>\n",
              "      <td>707</td>\n",
              "    </tr>\n",
              "    <tr>\n",
              "      <th>49996</th>\n",
              "      <td>589</td>\n",
              "      <td>664</td>\n",
              "      <td>589</td>\n",
              "    </tr>\n",
              "    <tr>\n",
              "      <th>49997</th>\n",
              "      <td>303</td>\n",
              "      <td>368</td>\n",
              "      <td>368</td>\n",
              "    </tr>\n",
              "    <tr>\n",
              "      <th>49998</th>\n",
              "      <td>109</td>\n",
              "      <td>89</td>\n",
              "      <td>109</td>\n",
              "    </tr>\n",
              "    <tr>\n",
              "      <th>49999</th>\n",
              "      <td>9</td>\n",
              "      <td>73</td>\n",
              "      <td>9</td>\n",
              "    </tr>\n",
              "  </tbody>\n",
              "</table>\n",
              "<p>50000 rows × 3 columns</p>\n",
              "</div>"
            ],
            "text/plain": [
              "       First_pokemon  Second_pokemon  Winner\n",
              "0                266             298     298\n",
              "1                702             701     701\n",
              "2                191             668     668\n",
              "3                237             683     683\n",
              "4                151             231     151\n",
              "...              ...             ...     ...\n",
              "49995            707             126     707\n",
              "49996            589             664     589\n",
              "49997            303             368     368\n",
              "49998            109              89     109\n",
              "49999              9              73       9\n",
              "\n",
              "[50000 rows x 3 columns]"
            ]
          },
          "metadata": {
            "tags": []
          },
          "execution_count": 2
        }
      ]
    },
    {
      "cell_type": "markdown",
      "metadata": {
        "id": "oE4tcOmUKBGN",
        "colab_type": "text"
      },
      "source": [
        "### 前処理"
      ]
    },
    {
      "cell_type": "markdown",
      "metadata": {
        "id": "aUW-YVfNINnE",
        "colab_type": "text"
      },
      "source": [
        "各ポケモンのタイプ、種族値の結合"
      ]
    },
    {
      "cell_type": "code",
      "metadata": {
        "id": "7lK_iV3Bzn1k",
        "colab_type": "code",
        "outputId": "f72a8757-4373-4b7e-9d5c-31abf233c22c",
        "colab": {
          "base_uri": "https://localhost:8080/",
          "height": 419
        }
      },
      "source": [
        "type_dict = {np.nan:0, 'Normal':1, 'Fighting':2, 'Poison':3, 'Ground':4, 'Flying':5, 'Bug':6, 'Rock':7, 'Ghost':8, 'Steel':9, 'Fire':10, 'Water':11, 'Electric':12, 'Grass':13, 'Ice':14, 'Psychic':15, 'Dragon':16, 'Dark':17, 'Fairy':18}\n",
        "pokemon['Type 1'] = pokemon['Type 1'].map(type_dict)\n",
        "pokemon['Type 2'] = pokemon['Type 2'].map(type_dict)\n",
        "pokemon"
      ],
      "execution_count": 3,
      "outputs": [
        {
          "output_type": "execute_result",
          "data": {
            "text/html": [
              "<div>\n",
              "<style scoped>\n",
              "    .dataframe tbody tr th:only-of-type {\n",
              "        vertical-align: middle;\n",
              "    }\n",
              "\n",
              "    .dataframe tbody tr th {\n",
              "        vertical-align: top;\n",
              "    }\n",
              "\n",
              "    .dataframe thead th {\n",
              "        text-align: right;\n",
              "    }\n",
              "</style>\n",
              "<table border=\"1\" class=\"dataframe\">\n",
              "  <thead>\n",
              "    <tr style=\"text-align: right;\">\n",
              "      <th></th>\n",
              "      <th>#</th>\n",
              "      <th>Name</th>\n",
              "      <th>Type 1</th>\n",
              "      <th>Type 2</th>\n",
              "      <th>HP</th>\n",
              "      <th>Attack</th>\n",
              "      <th>Defense</th>\n",
              "      <th>Sp. Atk</th>\n",
              "      <th>Sp. Def</th>\n",
              "      <th>Speed</th>\n",
              "      <th>Generation</th>\n",
              "      <th>Legendary</th>\n",
              "    </tr>\n",
              "  </thead>\n",
              "  <tbody>\n",
              "    <tr>\n",
              "      <th>0</th>\n",
              "      <td>1</td>\n",
              "      <td>Bulbasaur</td>\n",
              "      <td>13</td>\n",
              "      <td>3</td>\n",
              "      <td>45</td>\n",
              "      <td>49</td>\n",
              "      <td>49</td>\n",
              "      <td>65</td>\n",
              "      <td>65</td>\n",
              "      <td>45</td>\n",
              "      <td>1</td>\n",
              "      <td>False</td>\n",
              "    </tr>\n",
              "    <tr>\n",
              "      <th>1</th>\n",
              "      <td>2</td>\n",
              "      <td>Ivysaur</td>\n",
              "      <td>13</td>\n",
              "      <td>3</td>\n",
              "      <td>60</td>\n",
              "      <td>62</td>\n",
              "      <td>63</td>\n",
              "      <td>80</td>\n",
              "      <td>80</td>\n",
              "      <td>60</td>\n",
              "      <td>1</td>\n",
              "      <td>False</td>\n",
              "    </tr>\n",
              "    <tr>\n",
              "      <th>2</th>\n",
              "      <td>3</td>\n",
              "      <td>Venusaur</td>\n",
              "      <td>13</td>\n",
              "      <td>3</td>\n",
              "      <td>80</td>\n",
              "      <td>82</td>\n",
              "      <td>83</td>\n",
              "      <td>100</td>\n",
              "      <td>100</td>\n",
              "      <td>80</td>\n",
              "      <td>1</td>\n",
              "      <td>False</td>\n",
              "    </tr>\n",
              "    <tr>\n",
              "      <th>3</th>\n",
              "      <td>4</td>\n",
              "      <td>Mega Venusaur</td>\n",
              "      <td>13</td>\n",
              "      <td>3</td>\n",
              "      <td>80</td>\n",
              "      <td>100</td>\n",
              "      <td>123</td>\n",
              "      <td>122</td>\n",
              "      <td>120</td>\n",
              "      <td>80</td>\n",
              "      <td>1</td>\n",
              "      <td>False</td>\n",
              "    </tr>\n",
              "    <tr>\n",
              "      <th>4</th>\n",
              "      <td>5</td>\n",
              "      <td>Charmander</td>\n",
              "      <td>10</td>\n",
              "      <td>0</td>\n",
              "      <td>39</td>\n",
              "      <td>52</td>\n",
              "      <td>43</td>\n",
              "      <td>60</td>\n",
              "      <td>50</td>\n",
              "      <td>65</td>\n",
              "      <td>1</td>\n",
              "      <td>False</td>\n",
              "    </tr>\n",
              "    <tr>\n",
              "      <th>...</th>\n",
              "      <td>...</td>\n",
              "      <td>...</td>\n",
              "      <td>...</td>\n",
              "      <td>...</td>\n",
              "      <td>...</td>\n",
              "      <td>...</td>\n",
              "      <td>...</td>\n",
              "      <td>...</td>\n",
              "      <td>...</td>\n",
              "      <td>...</td>\n",
              "      <td>...</td>\n",
              "      <td>...</td>\n",
              "    </tr>\n",
              "    <tr>\n",
              "      <th>795</th>\n",
              "      <td>796</td>\n",
              "      <td>Diancie</td>\n",
              "      <td>7</td>\n",
              "      <td>18</td>\n",
              "      <td>50</td>\n",
              "      <td>100</td>\n",
              "      <td>150</td>\n",
              "      <td>100</td>\n",
              "      <td>150</td>\n",
              "      <td>50</td>\n",
              "      <td>6</td>\n",
              "      <td>True</td>\n",
              "    </tr>\n",
              "    <tr>\n",
              "      <th>796</th>\n",
              "      <td>797</td>\n",
              "      <td>Mega Diancie</td>\n",
              "      <td>7</td>\n",
              "      <td>18</td>\n",
              "      <td>50</td>\n",
              "      <td>160</td>\n",
              "      <td>110</td>\n",
              "      <td>160</td>\n",
              "      <td>110</td>\n",
              "      <td>110</td>\n",
              "      <td>6</td>\n",
              "      <td>True</td>\n",
              "    </tr>\n",
              "    <tr>\n",
              "      <th>797</th>\n",
              "      <td>798</td>\n",
              "      <td>Hoopa Confined</td>\n",
              "      <td>15</td>\n",
              "      <td>8</td>\n",
              "      <td>80</td>\n",
              "      <td>110</td>\n",
              "      <td>60</td>\n",
              "      <td>150</td>\n",
              "      <td>130</td>\n",
              "      <td>70</td>\n",
              "      <td>6</td>\n",
              "      <td>True</td>\n",
              "    </tr>\n",
              "    <tr>\n",
              "      <th>798</th>\n",
              "      <td>799</td>\n",
              "      <td>Hoopa Unbound</td>\n",
              "      <td>15</td>\n",
              "      <td>17</td>\n",
              "      <td>80</td>\n",
              "      <td>160</td>\n",
              "      <td>60</td>\n",
              "      <td>170</td>\n",
              "      <td>130</td>\n",
              "      <td>80</td>\n",
              "      <td>6</td>\n",
              "      <td>True</td>\n",
              "    </tr>\n",
              "    <tr>\n",
              "      <th>799</th>\n",
              "      <td>800</td>\n",
              "      <td>Volcanion</td>\n",
              "      <td>10</td>\n",
              "      <td>11</td>\n",
              "      <td>80</td>\n",
              "      <td>110</td>\n",
              "      <td>120</td>\n",
              "      <td>130</td>\n",
              "      <td>90</td>\n",
              "      <td>70</td>\n",
              "      <td>6</td>\n",
              "      <td>True</td>\n",
              "    </tr>\n",
              "  </tbody>\n",
              "</table>\n",
              "<p>800 rows × 12 columns</p>\n",
              "</div>"
            ],
            "text/plain": [
              "       #            Name  Type 1  Type 2  ...  Sp. Def  Speed  Generation  Legendary\n",
              "0      1       Bulbasaur      13       3  ...       65     45           1      False\n",
              "1      2         Ivysaur      13       3  ...       80     60           1      False\n",
              "2      3        Venusaur      13       3  ...      100     80           1      False\n",
              "3      4   Mega Venusaur      13       3  ...      120     80           1      False\n",
              "4      5      Charmander      10       0  ...       50     65           1      False\n",
              "..   ...             ...     ...     ...  ...      ...    ...         ...        ...\n",
              "795  796         Diancie       7      18  ...      150     50           6       True\n",
              "796  797    Mega Diancie       7      18  ...      110    110           6       True\n",
              "797  798  Hoopa Confined      15       8  ...      130     70           6       True\n",
              "798  799   Hoopa Unbound      15      17  ...      130     80           6       True\n",
              "799  800       Volcanion      10      11  ...       90     70           6       True\n",
              "\n",
              "[800 rows x 12 columns]"
            ]
          },
          "metadata": {
            "tags": []
          },
          "execution_count": 3
        }
      ]
    },
    {
      "cell_type": "markdown",
      "metadata": {
        "id": "jmlqt4jDQe4f",
        "colab_type": "text"
      },
      "source": [
        "各ポケモンの種族値、タイプ情報をcombatsに結合"
      ]
    },
    {
      "cell_type": "code",
      "metadata": {
        "id": "jYbrgc3J2Ijr",
        "colab_type": "code",
        "outputId": "86119fc3-677d-486c-a27a-a4bf2e8b8dec",
        "colab": {
          "base_uri": "https://localhost:8080/",
          "height": 456
        }
      },
      "source": [
        "df_first = pokemon.loc[combats['First_pokemon'] - 1]\n",
        "df_first = df_first.reset_index()\n",
        "df_second = pokemon.loc[combats['Second_pokemon'] - 1]\n",
        "df_second = df_second.reset_index()\n",
        "combats = combats.join(df_first).drop(['index', '#', 'Name', 'Generation', 'Legendary'], axis=1).rename(columns={'Type 1':'First_Type 1', 'Type 2':'First_Type 2', 'HP':'First_HP', 'Attack':'First_Attack', 'Defense':'First_Defense', 'Sp. Atk':'First_Sp. Atk', 'Sp. Def':'First_Sp. Def', 'Speed':'First_Speed'})\n",
        "combats = combats.join(df_second).drop(['index', '#', 'Name', 'Generation', 'Legendary'], axis=1).rename(columns={'Type 1':'Second_Type 1', 'Type 2':'Second_Type 2', 'HP':'Second_HP', 'Attack':'Second_Attack', 'Defense':'Second_Defense', 'Sp. Atk':'Second_Sp. Atk', 'Sp. Def':'Second_Sp. Def', 'Speed':'Second_Speed'})\n",
        "combats.Winner[combats.Winner == combats.First_pokemon] = 0\n",
        "combats.Winner[combats.Winner == combats.Second_pokemon] = 1\n",
        "combats"
      ],
      "execution_count": 4,
      "outputs": [
        {
          "output_type": "execute_result",
          "data": {
            "text/html": [
              "<div>\n",
              "<style scoped>\n",
              "    .dataframe tbody tr th:only-of-type {\n",
              "        vertical-align: middle;\n",
              "    }\n",
              "\n",
              "    .dataframe tbody tr th {\n",
              "        vertical-align: top;\n",
              "    }\n",
              "\n",
              "    .dataframe thead th {\n",
              "        text-align: right;\n",
              "    }\n",
              "</style>\n",
              "<table border=\"1\" class=\"dataframe\">\n",
              "  <thead>\n",
              "    <tr style=\"text-align: right;\">\n",
              "      <th></th>\n",
              "      <th>First_pokemon</th>\n",
              "      <th>Second_pokemon</th>\n",
              "      <th>Winner</th>\n",
              "      <th>First_Type 1</th>\n",
              "      <th>First_Type 2</th>\n",
              "      <th>First_HP</th>\n",
              "      <th>First_Attack</th>\n",
              "      <th>First_Defense</th>\n",
              "      <th>First_Sp. Atk</th>\n",
              "      <th>First_Sp. Def</th>\n",
              "      <th>First_Speed</th>\n",
              "      <th>Second_Type 1</th>\n",
              "      <th>Second_Type 2</th>\n",
              "      <th>Second_HP</th>\n",
              "      <th>Second_Attack</th>\n",
              "      <th>Second_Defense</th>\n",
              "      <th>Second_Sp. Atk</th>\n",
              "      <th>Second_Sp. Def</th>\n",
              "      <th>Second_Speed</th>\n",
              "    </tr>\n",
              "  </thead>\n",
              "  <tbody>\n",
              "    <tr>\n",
              "      <th>0</th>\n",
              "      <td>266</td>\n",
              "      <td>298</td>\n",
              "      <td>1</td>\n",
              "      <td>7</td>\n",
              "      <td>4</td>\n",
              "      <td>50</td>\n",
              "      <td>64</td>\n",
              "      <td>50</td>\n",
              "      <td>45</td>\n",
              "      <td>50</td>\n",
              "      <td>41</td>\n",
              "      <td>13</td>\n",
              "      <td>17</td>\n",
              "      <td>70</td>\n",
              "      <td>70</td>\n",
              "      <td>40</td>\n",
              "      <td>60</td>\n",
              "      <td>40</td>\n",
              "      <td>60</td>\n",
              "    </tr>\n",
              "    <tr>\n",
              "      <th>1</th>\n",
              "      <td>702</td>\n",
              "      <td>701</td>\n",
              "      <td>1</td>\n",
              "      <td>13</td>\n",
              "      <td>2</td>\n",
              "      <td>91</td>\n",
              "      <td>90</td>\n",
              "      <td>72</td>\n",
              "      <td>90</td>\n",
              "      <td>129</td>\n",
              "      <td>108</td>\n",
              "      <td>7</td>\n",
              "      <td>2</td>\n",
              "      <td>91</td>\n",
              "      <td>129</td>\n",
              "      <td>90</td>\n",
              "      <td>72</td>\n",
              "      <td>90</td>\n",
              "      <td>108</td>\n",
              "    </tr>\n",
              "    <tr>\n",
              "      <th>2</th>\n",
              "      <td>191</td>\n",
              "      <td>668</td>\n",
              "      <td>1</td>\n",
              "      <td>18</td>\n",
              "      <td>5</td>\n",
              "      <td>55</td>\n",
              "      <td>40</td>\n",
              "      <td>85</td>\n",
              "      <td>80</td>\n",
              "      <td>105</td>\n",
              "      <td>40</td>\n",
              "      <td>15</td>\n",
              "      <td>0</td>\n",
              "      <td>75</td>\n",
              "      <td>75</td>\n",
              "      <td>75</td>\n",
              "      <td>125</td>\n",
              "      <td>95</td>\n",
              "      <td>40</td>\n",
              "    </tr>\n",
              "    <tr>\n",
              "      <th>3</th>\n",
              "      <td>237</td>\n",
              "      <td>683</td>\n",
              "      <td>1</td>\n",
              "      <td>10</td>\n",
              "      <td>0</td>\n",
              "      <td>40</td>\n",
              "      <td>40</td>\n",
              "      <td>40</td>\n",
              "      <td>70</td>\n",
              "      <td>40</td>\n",
              "      <td>20</td>\n",
              "      <td>16</td>\n",
              "      <td>0</td>\n",
              "      <td>77</td>\n",
              "      <td>120</td>\n",
              "      <td>90</td>\n",
              "      <td>60</td>\n",
              "      <td>90</td>\n",
              "      <td>48</td>\n",
              "    </tr>\n",
              "    <tr>\n",
              "      <th>4</th>\n",
              "      <td>151</td>\n",
              "      <td>231</td>\n",
              "      <td>0</td>\n",
              "      <td>7</td>\n",
              "      <td>11</td>\n",
              "      <td>70</td>\n",
              "      <td>60</td>\n",
              "      <td>125</td>\n",
              "      <td>115</td>\n",
              "      <td>70</td>\n",
              "      <td>55</td>\n",
              "      <td>6</td>\n",
              "      <td>7</td>\n",
              "      <td>20</td>\n",
              "      <td>10</td>\n",
              "      <td>230</td>\n",
              "      <td>10</td>\n",
              "      <td>230</td>\n",
              "      <td>5</td>\n",
              "    </tr>\n",
              "    <tr>\n",
              "      <th>...</th>\n",
              "      <td>...</td>\n",
              "      <td>...</td>\n",
              "      <td>...</td>\n",
              "      <td>...</td>\n",
              "      <td>...</td>\n",
              "      <td>...</td>\n",
              "      <td>...</td>\n",
              "      <td>...</td>\n",
              "      <td>...</td>\n",
              "      <td>...</td>\n",
              "      <td>...</td>\n",
              "      <td>...</td>\n",
              "      <td>...</td>\n",
              "      <td>...</td>\n",
              "      <td>...</td>\n",
              "      <td>...</td>\n",
              "      <td>...</td>\n",
              "      <td>...</td>\n",
              "      <td>...</td>\n",
              "    </tr>\n",
              "    <tr>\n",
              "      <th>49995</th>\n",
              "      <td>707</td>\n",
              "      <td>126</td>\n",
              "      <td>0</td>\n",
              "      <td>16</td>\n",
              "      <td>10</td>\n",
              "      <td>100</td>\n",
              "      <td>120</td>\n",
              "      <td>100</td>\n",
              "      <td>150</td>\n",
              "      <td>120</td>\n",
              "      <td>90</td>\n",
              "      <td>11</td>\n",
              "      <td>0</td>\n",
              "      <td>30</td>\n",
              "      <td>40</td>\n",
              "      <td>70</td>\n",
              "      <td>70</td>\n",
              "      <td>25</td>\n",
              "      <td>60</td>\n",
              "    </tr>\n",
              "    <tr>\n",
              "      <th>49996</th>\n",
              "      <td>589</td>\n",
              "      <td>664</td>\n",
              "      <td>0</td>\n",
              "      <td>4</td>\n",
              "      <td>0</td>\n",
              "      <td>60</td>\n",
              "      <td>85</td>\n",
              "      <td>40</td>\n",
              "      <td>30</td>\n",
              "      <td>45</td>\n",
              "      <td>68</td>\n",
              "      <td>12</td>\n",
              "      <td>0</td>\n",
              "      <td>35</td>\n",
              "      <td>55</td>\n",
              "      <td>40</td>\n",
              "      <td>45</td>\n",
              "      <td>40</td>\n",
              "      <td>60</td>\n",
              "    </tr>\n",
              "    <tr>\n",
              "      <th>49997</th>\n",
              "      <td>303</td>\n",
              "      <td>368</td>\n",
              "      <td>1</td>\n",
              "      <td>11</td>\n",
              "      <td>5</td>\n",
              "      <td>60</td>\n",
              "      <td>50</td>\n",
              "      <td>100</td>\n",
              "      <td>85</td>\n",
              "      <td>70</td>\n",
              "      <td>65</td>\n",
              "      <td>1</td>\n",
              "      <td>0</td>\n",
              "      <td>73</td>\n",
              "      <td>115</td>\n",
              "      <td>60</td>\n",
              "      <td>60</td>\n",
              "      <td>60</td>\n",
              "      <td>90</td>\n",
              "    </tr>\n",
              "    <tr>\n",
              "      <th>49998</th>\n",
              "      <td>109</td>\n",
              "      <td>89</td>\n",
              "      <td>0</td>\n",
              "      <td>12</td>\n",
              "      <td>0</td>\n",
              "      <td>40</td>\n",
              "      <td>30</td>\n",
              "      <td>50</td>\n",
              "      <td>55</td>\n",
              "      <td>55</td>\n",
              "      <td>100</td>\n",
              "      <td>12</td>\n",
              "      <td>9</td>\n",
              "      <td>25</td>\n",
              "      <td>35</td>\n",
              "      <td>70</td>\n",
              "      <td>95</td>\n",
              "      <td>55</td>\n",
              "      <td>45</td>\n",
              "    </tr>\n",
              "    <tr>\n",
              "      <th>49999</th>\n",
              "      <td>9</td>\n",
              "      <td>73</td>\n",
              "      <td>0</td>\n",
              "      <td>10</td>\n",
              "      <td>5</td>\n",
              "      <td>78</td>\n",
              "      <td>104</td>\n",
              "      <td>78</td>\n",
              "      <td>159</td>\n",
              "      <td>115</td>\n",
              "      <td>100</td>\n",
              "      <td>2</td>\n",
              "      <td>0</td>\n",
              "      <td>70</td>\n",
              "      <td>80</td>\n",
              "      <td>50</td>\n",
              "      <td>35</td>\n",
              "      <td>35</td>\n",
              "      <td>35</td>\n",
              "    </tr>\n",
              "  </tbody>\n",
              "</table>\n",
              "<p>50000 rows × 19 columns</p>\n",
              "</div>"
            ],
            "text/plain": [
              "       First_pokemon  Second_pokemon  ...  Second_Sp. Def  Second_Speed\n",
              "0                266             298  ...              40            60\n",
              "1                702             701  ...              90           108\n",
              "2                191             668  ...              95            40\n",
              "3                237             683  ...              90            48\n",
              "4                151             231  ...             230             5\n",
              "...              ...             ...  ...             ...           ...\n",
              "49995            707             126  ...              25            60\n",
              "49996            589             664  ...              40            60\n",
              "49997            303             368  ...              60            90\n",
              "49998            109              89  ...              55            45\n",
              "49999              9              73  ...              35            35\n",
              "\n",
              "[50000 rows x 19 columns]"
            ]
          },
          "metadata": {
            "tags": []
          },
          "execution_count": 4
        }
      ]
    },
    {
      "cell_type": "markdown",
      "metadata": {
        "id": "RVYZO0GYQ_aS",
        "colab_type": "text"
      },
      "source": [
        "特徴量、ラベルの作成"
      ]
    },
    {
      "cell_type": "code",
      "metadata": {
        "id": "1Q2RVnJnoaDH",
        "colab_type": "code",
        "outputId": "baa9444b-10c2-462c-d0cc-5573dc6237d1",
        "colab": {
          "base_uri": "https://localhost:8080/",
          "height": 456
        }
      },
      "source": [
        "y = combats['Winner']\n",
        "X = combats.drop(['First_pokemon', 'Second_pokemon', 'Winner'], axis=1)\n",
        "X"
      ],
      "execution_count": 5,
      "outputs": [
        {
          "output_type": "execute_result",
          "data": {
            "text/html": [
              "<div>\n",
              "<style scoped>\n",
              "    .dataframe tbody tr th:only-of-type {\n",
              "        vertical-align: middle;\n",
              "    }\n",
              "\n",
              "    .dataframe tbody tr th {\n",
              "        vertical-align: top;\n",
              "    }\n",
              "\n",
              "    .dataframe thead th {\n",
              "        text-align: right;\n",
              "    }\n",
              "</style>\n",
              "<table border=\"1\" class=\"dataframe\">\n",
              "  <thead>\n",
              "    <tr style=\"text-align: right;\">\n",
              "      <th></th>\n",
              "      <th>First_Type 1</th>\n",
              "      <th>First_Type 2</th>\n",
              "      <th>First_HP</th>\n",
              "      <th>First_Attack</th>\n",
              "      <th>First_Defense</th>\n",
              "      <th>First_Sp. Atk</th>\n",
              "      <th>First_Sp. Def</th>\n",
              "      <th>First_Speed</th>\n",
              "      <th>Second_Type 1</th>\n",
              "      <th>Second_Type 2</th>\n",
              "      <th>Second_HP</th>\n",
              "      <th>Second_Attack</th>\n",
              "      <th>Second_Defense</th>\n",
              "      <th>Second_Sp. Atk</th>\n",
              "      <th>Second_Sp. Def</th>\n",
              "      <th>Second_Speed</th>\n",
              "    </tr>\n",
              "  </thead>\n",
              "  <tbody>\n",
              "    <tr>\n",
              "      <th>0</th>\n",
              "      <td>7</td>\n",
              "      <td>4</td>\n",
              "      <td>50</td>\n",
              "      <td>64</td>\n",
              "      <td>50</td>\n",
              "      <td>45</td>\n",
              "      <td>50</td>\n",
              "      <td>41</td>\n",
              "      <td>13</td>\n",
              "      <td>17</td>\n",
              "      <td>70</td>\n",
              "      <td>70</td>\n",
              "      <td>40</td>\n",
              "      <td>60</td>\n",
              "      <td>40</td>\n",
              "      <td>60</td>\n",
              "    </tr>\n",
              "    <tr>\n",
              "      <th>1</th>\n",
              "      <td>13</td>\n",
              "      <td>2</td>\n",
              "      <td>91</td>\n",
              "      <td>90</td>\n",
              "      <td>72</td>\n",
              "      <td>90</td>\n",
              "      <td>129</td>\n",
              "      <td>108</td>\n",
              "      <td>7</td>\n",
              "      <td>2</td>\n",
              "      <td>91</td>\n",
              "      <td>129</td>\n",
              "      <td>90</td>\n",
              "      <td>72</td>\n",
              "      <td>90</td>\n",
              "      <td>108</td>\n",
              "    </tr>\n",
              "    <tr>\n",
              "      <th>2</th>\n",
              "      <td>18</td>\n",
              "      <td>5</td>\n",
              "      <td>55</td>\n",
              "      <td>40</td>\n",
              "      <td>85</td>\n",
              "      <td>80</td>\n",
              "      <td>105</td>\n",
              "      <td>40</td>\n",
              "      <td>15</td>\n",
              "      <td>0</td>\n",
              "      <td>75</td>\n",
              "      <td>75</td>\n",
              "      <td>75</td>\n",
              "      <td>125</td>\n",
              "      <td>95</td>\n",
              "      <td>40</td>\n",
              "    </tr>\n",
              "    <tr>\n",
              "      <th>3</th>\n",
              "      <td>10</td>\n",
              "      <td>0</td>\n",
              "      <td>40</td>\n",
              "      <td>40</td>\n",
              "      <td>40</td>\n",
              "      <td>70</td>\n",
              "      <td>40</td>\n",
              "      <td>20</td>\n",
              "      <td>16</td>\n",
              "      <td>0</td>\n",
              "      <td>77</td>\n",
              "      <td>120</td>\n",
              "      <td>90</td>\n",
              "      <td>60</td>\n",
              "      <td>90</td>\n",
              "      <td>48</td>\n",
              "    </tr>\n",
              "    <tr>\n",
              "      <th>4</th>\n",
              "      <td>7</td>\n",
              "      <td>11</td>\n",
              "      <td>70</td>\n",
              "      <td>60</td>\n",
              "      <td>125</td>\n",
              "      <td>115</td>\n",
              "      <td>70</td>\n",
              "      <td>55</td>\n",
              "      <td>6</td>\n",
              "      <td>7</td>\n",
              "      <td>20</td>\n",
              "      <td>10</td>\n",
              "      <td>230</td>\n",
              "      <td>10</td>\n",
              "      <td>230</td>\n",
              "      <td>5</td>\n",
              "    </tr>\n",
              "    <tr>\n",
              "      <th>...</th>\n",
              "      <td>...</td>\n",
              "      <td>...</td>\n",
              "      <td>...</td>\n",
              "      <td>...</td>\n",
              "      <td>...</td>\n",
              "      <td>...</td>\n",
              "      <td>...</td>\n",
              "      <td>...</td>\n",
              "      <td>...</td>\n",
              "      <td>...</td>\n",
              "      <td>...</td>\n",
              "      <td>...</td>\n",
              "      <td>...</td>\n",
              "      <td>...</td>\n",
              "      <td>...</td>\n",
              "      <td>...</td>\n",
              "    </tr>\n",
              "    <tr>\n",
              "      <th>49995</th>\n",
              "      <td>16</td>\n",
              "      <td>10</td>\n",
              "      <td>100</td>\n",
              "      <td>120</td>\n",
              "      <td>100</td>\n",
              "      <td>150</td>\n",
              "      <td>120</td>\n",
              "      <td>90</td>\n",
              "      <td>11</td>\n",
              "      <td>0</td>\n",
              "      <td>30</td>\n",
              "      <td>40</td>\n",
              "      <td>70</td>\n",
              "      <td>70</td>\n",
              "      <td>25</td>\n",
              "      <td>60</td>\n",
              "    </tr>\n",
              "    <tr>\n",
              "      <th>49996</th>\n",
              "      <td>4</td>\n",
              "      <td>0</td>\n",
              "      <td>60</td>\n",
              "      <td>85</td>\n",
              "      <td>40</td>\n",
              "      <td>30</td>\n",
              "      <td>45</td>\n",
              "      <td>68</td>\n",
              "      <td>12</td>\n",
              "      <td>0</td>\n",
              "      <td>35</td>\n",
              "      <td>55</td>\n",
              "      <td>40</td>\n",
              "      <td>45</td>\n",
              "      <td>40</td>\n",
              "      <td>60</td>\n",
              "    </tr>\n",
              "    <tr>\n",
              "      <th>49997</th>\n",
              "      <td>11</td>\n",
              "      <td>5</td>\n",
              "      <td>60</td>\n",
              "      <td>50</td>\n",
              "      <td>100</td>\n",
              "      <td>85</td>\n",
              "      <td>70</td>\n",
              "      <td>65</td>\n",
              "      <td>1</td>\n",
              "      <td>0</td>\n",
              "      <td>73</td>\n",
              "      <td>115</td>\n",
              "      <td>60</td>\n",
              "      <td>60</td>\n",
              "      <td>60</td>\n",
              "      <td>90</td>\n",
              "    </tr>\n",
              "    <tr>\n",
              "      <th>49998</th>\n",
              "      <td>12</td>\n",
              "      <td>0</td>\n",
              "      <td>40</td>\n",
              "      <td>30</td>\n",
              "      <td>50</td>\n",
              "      <td>55</td>\n",
              "      <td>55</td>\n",
              "      <td>100</td>\n",
              "      <td>12</td>\n",
              "      <td>9</td>\n",
              "      <td>25</td>\n",
              "      <td>35</td>\n",
              "      <td>70</td>\n",
              "      <td>95</td>\n",
              "      <td>55</td>\n",
              "      <td>45</td>\n",
              "    </tr>\n",
              "    <tr>\n",
              "      <th>49999</th>\n",
              "      <td>10</td>\n",
              "      <td>5</td>\n",
              "      <td>78</td>\n",
              "      <td>104</td>\n",
              "      <td>78</td>\n",
              "      <td>159</td>\n",
              "      <td>115</td>\n",
              "      <td>100</td>\n",
              "      <td>2</td>\n",
              "      <td>0</td>\n",
              "      <td>70</td>\n",
              "      <td>80</td>\n",
              "      <td>50</td>\n",
              "      <td>35</td>\n",
              "      <td>35</td>\n",
              "      <td>35</td>\n",
              "    </tr>\n",
              "  </tbody>\n",
              "</table>\n",
              "<p>50000 rows × 16 columns</p>\n",
              "</div>"
            ],
            "text/plain": [
              "       First_Type 1  First_Type 2  ...  Second_Sp. Def  Second_Speed\n",
              "0                 7             4  ...              40            60\n",
              "1                13             2  ...              90           108\n",
              "2                18             5  ...              95            40\n",
              "3                10             0  ...              90            48\n",
              "4                 7            11  ...             230             5\n",
              "...             ...           ...  ...             ...           ...\n",
              "49995            16            10  ...              25            60\n",
              "49996             4             0  ...              40            60\n",
              "49997            11             5  ...              60            90\n",
              "49998            12             0  ...              55            45\n",
              "49999            10             5  ...              35            35\n",
              "\n",
              "[50000 rows x 16 columns]"
            ]
          },
          "metadata": {
            "tags": []
          },
          "execution_count": 5
        }
      ]
    },
    {
      "cell_type": "markdown",
      "metadata": {
        "id": "luBb6jdmKZan",
        "colab_type": "text"
      },
      "source": [
        "### 特徴量の順位付け"
      ]
    },
    {
      "cell_type": "code",
      "metadata": {
        "id": "50JvEzN4GkbA",
        "colab_type": "code",
        "outputId": "3513c1fb-07bd-427c-a372-eb983c875b27",
        "colab": {
          "base_uri": "https://localhost:8080/",
          "height": 570
        }
      },
      "source": [
        "feature_name = [\"First_Type 1\", \"First_Type 2\", \"First_HP\", \"First_Attack\", \"First_Defense\", \"First_Sp. Atk\",\n",
        "                \"First_Sp. Def\", \"First_Speed\", \"Second_Type 1\", \"Second_Type 2\", \"Second_HP\", \"Second_Attack\", \n",
        "                \"Second_Defense\", \"Second_Sp. Atk\", \"Second_Sp. Def\", \"Second_Speed\"]\n",
        "\n",
        "RF = RandomForestClassifier(max_depth=4, random_state=1)\n",
        "\n",
        "RF.fit(X, y)\n",
        "importances = RF.feature_importances_\n",
        "std = np.std([tree.feature_importances_ for tree in RF.estimators_],\n",
        "             axis=0)\n",
        "indices = np.argsort(importances)[::-1]\n",
        "\n",
        "print(\"Feature ranking:\")\n",
        "\n",
        "for f in range(X.shape[1]):\n",
        "    print(\"%d. %s (%f)\" % (f + 1, feature_name[indices[f]], importances[indices[f]]))\n",
        "\n",
        "plt.figure()\n",
        "plt.title(\"Feature importances\")\n",
        "plt.bar(range(X.shape[1]), importances[indices],\n",
        "       color=\"r\", yerr=std[indices], align=\"center\")\n",
        "plt.xticks(range(X.shape[1]), indices)\n",
        "plt.xlim([-1, X.shape[1]])\n",
        "plt.show()"
      ],
      "execution_count": 6,
      "outputs": [
        {
          "output_type": "stream",
          "text": [
            "Feature ranking:\n",
            "1. Second_Speed (0.385272)\n",
            "2. First_Speed (0.365466)\n",
            "3. First_Attack (0.051277)\n",
            "4. First_Sp. Atk (0.046687)\n",
            "5. Second_Attack (0.044482)\n",
            "6. Second_Sp. Atk (0.038234)\n",
            "7. First_HP (0.023039)\n",
            "8. First_Sp. Def (0.014137)\n",
            "9. Second_Sp. Def (0.012036)\n",
            "10. Second_HP (0.009381)\n",
            "11. First_Defense (0.004715)\n",
            "12. Second_Defense (0.003208)\n",
            "13. First_Type 1 (0.000896)\n",
            "14. Second_Type 1 (0.000646)\n",
            "15. First_Type 2 (0.000275)\n",
            "16. Second_Type 2 (0.000250)\n"
          ],
          "name": "stdout"
        },
        {
          "output_type": "display_data",
          "data": {
            "image/png": "[encoded data removed]",
            "text/plain": [
              "<Figure size 432x288 with 1 Axes>"
            ]
          },
          "metadata": {
            "tags": []
          }
        }
      ]
    },
    {
      "cell_type": "markdown",
      "metadata": {
        "id": "tZeV-ZFBL0fS",
        "colab_type": "text"
      },
      "source": [
        "## 識別境界面の可視化"
      ]
    },
    {
      "cell_type": "code",
      "metadata": {
        "id": "AjDUSiLWwSK5",
        "colab_type": "code",
        "colab": {}
      },
      "source": [
        "# K近傍法の近傍数パラメータ k\n",
        "neighbors_list = [3,5,9,17]\n",
        "# テストデータ分割のための乱数のシード（整数値）\n",
        "random_seed = 1\n",
        "#　テストデータの割合\n",
        "test_proportion = 0.3\n",
        "\n",
        "d_list = [(7,15)]"
      ],
      "execution_count": 0,
      "outputs": []
    },
    {
      "cell_type": "code",
      "metadata": {
        "id": "p2HoBjfXtITc",
        "colab_type": "code",
        "colab": {}
      },
      "source": [
        "# 標準化\n",
        "X = scale(X.values)"
      ],
      "execution_count": 0,
      "outputs": []
    },
    {
      "cell_type": "markdown",
      "metadata": {
        "id": "wwCoA8ZmP01X",
        "colab_type": "text"
      },
      "source": [
        "### 訓練用データとテストデータの分割"
      ]
    },
    {
      "cell_type": "code",
      "metadata": {
        "id": "uPPaO0vrwc9I",
        "colab_type": "code",
        "colab": {}
      },
      "source": [
        "X_train, X_test, y_train, y_test = train_test_split(X, y, test_size=test_proportion, random_state=random_seed,)"
      ],
      "execution_count": 0,
      "outputs": []
    },
    {
      "cell_type": "markdown",
      "metadata": {
        "id": "tRxAvbLQRxXX",
        "colab_type": "text"
      },
      "source": [
        "### KNNモデルの特徴の次元を指定した訓練データによる学習"
      ]
    },
    {
      "cell_type": "code",
      "metadata": {
        "id": "Ljbb6rmywmmq",
        "colab_type": "code",
        "colab": {}
      },
      "source": [
        "fitted_models = []\n",
        "for neighbors in  neighbors_list:\n",
        "  for d in d_list:\n",
        "    d1, d2 = d\n",
        "    knn = KNeighborsClassifier(n_neighbors=neighbors)\n",
        "    fitted_model = knn.fit(X_train[:, [d1, d2]], y_train)\n",
        "    fitted_models.append((fitted_model, neighbors, d1, d2))"
      ],
      "execution_count": 0,
      "outputs": []
    },
    {
      "cell_type": "markdown",
      "metadata": {
        "id": "8HVKiy5HSBXQ",
        "colab_type": "text"
      },
      "source": [
        "### 使用する特徴量ごとの評価"
      ]
    },
    {
      "cell_type": "code",
      "metadata": {
        "id": "6ppI5ty3w-UA",
        "colab_type": "code",
        "outputId": "ec98c23b-d031-4ea4-e796-646e4021d9a9",
        "colab": {
          "base_uri": "https://localhost:8080/",
          "height": 221
        }
      },
      "source": [
        "for model in fitted_models:\n",
        "  knn,  neighbors, d1, d2 = model\n",
        "  acc_train = accuracy_score(y_train, knn.predict(X_train[:, [d1, d2]]))\n",
        "  acc_test  = accuracy_score(y_test, knn.predict(X_test[:, [d1, d2]]))\n",
        "  print('k=%d, features=(%d,%d)' % (neighbors, d1, d2))\n",
        "  print('accuracy for training data: %f' % acc_train)\n",
        "  print('accuracy for test data: %f' % acc_test)"
      ],
      "execution_count": 11,
      "outputs": [
        {
          "output_type": "stream",
          "text": [
            "k=3, features=(7,15)\n",
            "accuracy for training data: 0.932714\n",
            "accuracy for test data: 0.921667\n",
            "k=5, features=(7,15)\n",
            "accuracy for training data: 0.941886\n",
            "accuracy for test data: 0.932467\n",
            "k=9, features=(7,15)\n",
            "accuracy for training data: 0.941114\n",
            "accuracy for test data: 0.934267\n",
            "k=17, features=(7,15)\n",
            "accuracy for training data: 0.939657\n",
            "accuracy for test data: 0.934333\n"
          ],
          "name": "stdout"
        }
      ]
    },
    {
      "cell_type": "markdown",
      "metadata": {
        "id": "2sc-1wC1SkKG",
        "colab_type": "text"
      },
      "source": [
        "### 識別境界面をプロット"
      ]
    },
    {
      "cell_type": "code",
      "metadata": {
        "id": "zeqSIgldbUDh",
        "colab_type": "code",
        "colab": {}
      },
      "source": [
        "def plot_decision_boundary(model):\n",
        "    knn,  neighbors, d1, d2 = model\n",
        "    x1_min, x1_max = X_train[:, d1].min() - 0.5, X_train[:, d1].max() + 0.5\n",
        "    x2_min, x2_max = X_train[:, d2].min() - 0.5, X_train[:, d2].max() + 0.5\n",
        "    xx1, xx2 = np.meshgrid(np.arange(x1_min, x1_max, 0.02),\n",
        "                           np.arange(x2_min, x2_max, 0.02))\n",
        "                       \n",
        "    Z = knn.predict(np.array([xx1.ravel(), xx2.ravel()]).T)\n",
        "    Z = Z.reshape(xx1.shape)\n",
        "\n",
        "    markers = ('s', 'x', 'o', '^', 'v')\n",
        "    colors = ('red', 'blue', 'lightgreen', 'gray', 'cyan')\n",
        "    cmap = ListedColormap(colors[:len(np.unique(y))])\n",
        "\n",
        "    plt.figure(figsize=(10,10))\n",
        "    plt.subplot(211)\n",
        "\n",
        "    plt.contourf(xx1, xx2, Z, alpha=0.5, cmap=cmap)\n",
        "    plt.xlim(xx1.min(), xx1.max())\n",
        "    plt.ylim(xx2.min(), xx2.max())\n",
        "\n",
        "    #random.randint()\n",
        "    for idx, cl in enumerate(np.unique(y_train)):\n",
        "        size = random.randint(0, X_train[y_train == cl, d1].shape[0] - 100)\n",
        "        plt.scatter(x=X_train[y_train == cl, d1][size:size+100], y=X_train[y_train == cl, d2][size:size+100],\n",
        "                    alpha=0.8, c=colors[idx],\n",
        "                    marker=markers[idx], label=cl)\n",
        "\n",
        "\n",
        "    plt.xlabel(feature_name[d1])\n",
        "    plt.ylabel(feature_name[d2])\n",
        "    plt.title('train_data,'+ str(neighbors) + ',' + str(d1)+ ',' + str(d2))\n",
        "\n",
        "    plt.subplot(212)\n",
        "\n",
        "    plt.contourf(xx1, xx2, Z, alpha=0.5, cmap=cmap)\n",
        "    plt.xlim(xx1.min(), xx1.max())\n",
        "    plt.ylim(xx2.min(), xx2.max())\n",
        "\n",
        "    for idx, cl in enumerate(np.unique(y_test)):\n",
        "        size = random.randint(0, X_test[y_test == cl, d1].shape[0] - 100)\n",
        "        plt.scatter(x=X_test[y_test == cl, d1][size:size+100], y=X_test[y_test == cl, d2][size:size+100],\n",
        "                    alpha=0.8, c=colors[idx],\n",
        "                    marker=markers[idx], label=cl)\n",
        "\n",
        "\n",
        "    plt.xlabel(feature_name[d1])\n",
        "    plt.ylabel(feature_name[d2])\n",
        "    plt.title('test_data,'+ str(neighbors) + ',' + str(d1)+ ',' + str(d2))\n",
        "    plt.show()"
      ],
      "execution_count": 0,
      "outputs": []
    },
    {
      "cell_type": "code",
      "metadata": {
        "id": "8An5k6C3bUDl",
        "colab_type": "code",
        "outputId": "44e66d99-c193-4c78-820b-537013f49400",
        "colab": {
          "base_uri": "https://localhost:8080/",
          "height": 1000
        }
      },
      "source": [
        "for model in fitted_models:\n",
        "  knn,  neighbors, d1, d2 = model\n",
        "  plot_decision_boundary(model)"
      ],
      "execution_count": 13,
      "outputs": [
        {
          "output_type": "display_data",
          "data": {
            "image/png": "[encoded data removed]",
            "text/plain": [
              "<Figure size 720x720 with 2 Axes>"
            ]
          },
          "metadata": {
            "tags": []
          }
        },
        {
          "output_type": "display_data",
          "data": {
            "image/png": "[encoded data removed]",
            "text/plain": [
              "<Figure size 720x720 with 2 Axes>"
            ]
          },
          "metadata": {
            "tags": []
          }
        },
        {
          "output_type": "display_data",
          "data": {
            "image/png": "[encoded data removed]",
            "text/plain": [
              "<Figure size 720x720 with 2 Axes>"
            ]
          },
          "metadata": {
            "tags": []
          }
        },
        {
          "output_type": "display_data",
          "data": {
            "image/png": "[encoded data removed]",
            "text/plain": [
              "<Figure size 720x720 with 2 Axes>"
            ]
          },
          "metadata": {
            "tags": []
          }
        }
      ]
    },
    {
      "cell_type": "markdown",
      "metadata": {
        "id": "1B0iW96LmS-v",
        "colab_type": "text"
      },
      "source": [
        "## PCA"
      ]
    },
    {
      "cell_type": "code",
      "metadata": {
        "id": "a3iQGhRXmrg7",
        "colab_type": "code",
        "colab": {}
      },
      "source": [
        "from sklearn.model_selection import KFold\n",
        "from sklearn.model_selection import train_test_split\n",
        "from sklearn.linear_model import LogisticRegression\n",
        "from sklearn.model_selection import cross_validate\n",
        "from sklearn.ensemble import BaggingClassifier\n",
        "from sklearn.ensemble import RandomForestClassifier\n",
        "from sklearn.ensemble import AdaBoostClassifier\n",
        "from sklearn.ensemble import GradientBoostingClassifier"
      ],
      "execution_count": 0,
      "outputs": []
    },
    {
      "cell_type": "code",
      "metadata": {
        "id": "Kp3s90-imaxi",
        "colab_type": "code",
        "colab": {}
      },
      "source": [
        "# PCAで2次元に圧縮\n",
        "pca = PCA(n_components=2)\n",
        "X_pca= pca.fit_transform(X)"
      ],
      "execution_count": 0,
      "outputs": []
    },
    {
      "cell_type": "code",
      "metadata": {
        "id": "TN272nmpmLsK",
        "colab_type": "code",
        "colab": {}
      },
      "source": [
        "x1_min, x1_max = X_pca[:, 0].min() - 0.5, X_pca[:, 0].max() + 0.5\n",
        "x2_min, x2_max = X_pca[:, 1].min() - 0.5, X_pca[:, 1].max() + 0.5\n",
        "xx1, xx2 = np.meshgrid(np.arange(x1_min, x1_max, 0.02),\n",
        "                           np.arange(x2_min, x2_max, 0.02))\n",
        "\n",
        "markers = ('s', 'x', 'o', '^', 'v')\n",
        "colors = ('red', 'blue', 'lightgreen', 'gray', 'cyan')\n",
        "cmap = ListedColormap(colors[:len(np.unique(y))])\n",
        "    \n",
        "def plot_decision_boundary_PCA(Z1, classifer_name):\n",
        "\n",
        "    Z1 = Z1.reshape(xx1.shape)\n",
        "\n",
        "    plt.contourf(xx1, xx2, Z1, alpha=0.5, cmap=cmap)\n",
        "    plt.xlim(xx1.min(), xx1.max())\n",
        "    plt.ylim(xx2.min(), xx2.max())\n",
        "\n",
        "    for idx, cl in enumerate(np.unique(y)):\n",
        "        size = random.randint(0, X_pca[y == cl].shape[0] - 100)\n",
        "        plt.scatter(x=X_pca[y == cl, 0][size:size + 100], y=X_pca[y == cl, 1][size:size + 100],\n",
        "                    alpha=0.8, c=colors[idx],\n",
        "                    marker=markers[idx], label=cl)\n",
        "\n",
        "    plt.xlabel('pca1')\n",
        "    plt.ylabel('pca2')\n",
        "    plt.title(classifer_name)\n",
        "    \n",
        "    plt.show()"
      ],
      "execution_count": 0,
      "outputs": []
    },
    {
      "cell_type": "code",
      "metadata": {
        "id": "bg5S-CfamUlE",
        "colab_type": "code",
        "colab": {}
      },
      "source": [
        "# データの分割\n",
        "X_train, X_test, y_train, y_test = train_test_split(X_pca, y, test_size=0.3)"
      ],
      "execution_count": 0,
      "outputs": []
    },
    {
      "cell_type": "code",
      "metadata": {
        "id": "Upgq0D0VfFjQ",
        "colab_type": "code",
        "colab": {}
      },
      "source": [
        "score_funcs = ['accuracy']"
      ],
      "execution_count": 0,
      "outputs": []
    },
    {
      "cell_type": "markdown",
      "metadata": {
        "id": "tsMI72s4TxL7",
        "colab_type": "text"
      },
      "source": [
        "### 決定木"
      ]
    },
    {
      "cell_type": "code",
      "metadata": {
        "id": "8CRWxNzSmX_w",
        "colab_type": "code",
        "outputId": "46efa16a-2e04-4870-8223-b3005a460d62",
        "colab": {
          "base_uri": "https://localhost:8080/",
          "height": 383
        }
      },
      "source": [
        "tree = DecisionTreeClassifier(criterion='entropy',\n",
        "                              max_depth=10,\n",
        "                              random_state=1)\n",
        "\n",
        "tree.fit(X_train, y_train)\n",
        "Z = tree.predict(np.array([xx1.ravel(), xx2.ravel()]).T)\n",
        "plot_decision_boundary_PCA(Z, 'Decision Tree')\n",
        "\n",
        "# クロスバリデーションによる評価（学習データ，テストデータ）を追加\n",
        "kfold = KFold(n_splits=10, random_state=1)\n",
        "\n",
        "cv_results = cross_validate(tree, X_test, y_test, cv = kfold, return_train_score = True)\n",
        "\n",
        "print('TrainAve: {}'.format(np.mean(cv_results['train_score'])))\n",
        "print('TestAve: {}'.format(np.mean(cv_results['test_score'])))\n"
      ],
      "execution_count": 19,
      "outputs": [
        {
          "output_type": "display_data",
          "data": {
            "image/png": "[encoded data removed]",
            "text/plain": [
              "<Figure size 432x288 with 1 Axes>"
            ]
          },
          "metadata": {
            "tags": []
          }
        },
        {
          "output_type": "stream",
          "text": [
            "/usr/local/lib/python3.6/dist-packages/sklearn/model_selection/_split.py:296: FutureWarning: Setting a random_state has no effect since shuffle is False. This will raise an error in 0.24. You should leave random_state to its default (None), or set shuffle=True.\n",
            "  FutureWarning\n"
          ],
          "name": "stderr"
        },
        {
          "output_type": "stream",
          "text": [
            "TrainAve: 0.7227703703703703\n",
            "TestAve: 0.6768\n"
          ],
          "name": "stdout"
        }
      ]
    },
    {
      "cell_type": "markdown",
      "metadata": {
        "id": "vw9x3rRDT75P",
        "colab_type": "text"
      },
      "source": [
        "### Gradient Boosting"
      ]
    },
    {
      "cell_type": "code",
      "metadata": {
        "id": "ISETIWZvyfMU",
        "colab_type": "code",
        "outputId": "61890a53-2583-4e04-f957-dfb583b80edd",
        "colab": {
          "base_uri": "https://localhost:8080/",
          "height": 383
        }
      },
      "source": [
        "GB = GradientBoostingClassifier(n_estimators=100, learning_rate=0.1,\n",
        "        max_depth=4)\n",
        "\n",
        "GB.fit(X_train, y_train)\n",
        "Z = GB.predict(np.array([xx1.ravel(), xx2.ravel()]).T)\n",
        "plot_decision_boundary_PCA(Z, 'GB')\n",
        "\n",
        "kfold = KFold(n_splits=10, random_state=1)\n",
        "\n",
        "cv_results = cross_validate(GB, X_test, y_test, cv = kfold, return_train_score = True)\n",
        "\n",
        "print('TrainAve: {}'.format(np.mean(cv_results['train_score'])))\n",
        "print('TestAve: {}'.format(np.mean(cv_results['test_score'])))\n"
      ],
      "execution_count": 20,
      "outputs": [
        {
          "output_type": "display_data",
          "data": {
            "image/png": "[encoded data removed]",
            "text/plain": [
              "<Figure size 432x288 with 1 Axes>"
            ]
          },
          "metadata": {
            "tags": []
          }
        },
        {
          "output_type": "stream",
          "text": [
            "/usr/local/lib/python3.6/dist-packages/sklearn/model_selection/_split.py:296: FutureWarning: Setting a random_state has no effect since shuffle is False. This will raise an error in 0.24. You should leave random_state to its default (None), or set shuffle=True.\n",
            "  FutureWarning\n"
          ],
          "name": "stderr"
        },
        {
          "output_type": "stream",
          "text": [
            "TrainAve: 0.7095407407407408\n",
            "TestAve: 0.688\n"
          ],
          "name": "stdout"
        }
      ]
    }
  ]
}