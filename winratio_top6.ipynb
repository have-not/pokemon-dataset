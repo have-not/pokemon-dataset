{
  "nbformat": 4,
  "nbformat_minor": 0,
  "metadata": {
    "colab": {
      "name": "winratio_top6.ipynb",
      "provenance": []
    },
    "kernelspec": {
      "name": "python3",
      "display_name": "Python 3"
    }
  },
  "cells": [
    {
      "cell_type": "markdown",
      "metadata": {
        "id": "tXNaBkNoVwDJ",
        "colab_type": "text"
      },
      "source": [
        "# ポケモン勝率トップ6\n",
        "\n",
        "Pandas使わないで求める\n",
        "\n",
        "https://www.kaggle.com/terminus7/pokemon-challenge"
      ]
    },
    {
      "cell_type": "code",
      "metadata": {
        "id": "MPLP4NhiMg3U",
        "colab_type": "code",
        "colab": {}
      },
      "source": [
        "import csv\n",
        "\n",
        "with open('pokemon.csv') as f:\n",
        "    reader = csv.reader(f)\n",
        "    pokemons = [row for row in reader]   \n",
        "pokemons =  pokemons[1:]\n",
        "\n",
        "with open('combats.csv') as f:\n",
        "    reader = csv.reader(f)\n",
        "    combats = [row for row in reader]   \n",
        "combats =  combats[1:]"
      ],
      "execution_count": 0,
      "outputs": []
    },
    {
      "cell_type": "code",
      "metadata": {
        "id": "gSIDJ138Qrj7",
        "colab_type": "code",
        "colab": {
          "base_uri": "https://localhost:8080/",
          "height": 34
        },
        "outputId": "274d0aaf-c997-4466-9bd5-db5aa4b3e1e9"
      },
      "source": [
        "# 同じ名前のポケモンが対戦するデータが有るか確認\n",
        "count = 0\n",
        "for combat in combats:\n",
        "  if combat[0] == combat[1]:\n",
        "    count += 1\n",
        "count"
      ],
      "execution_count": 27,
      "outputs": [
        {
          "output_type": "execute_result",
          "data": {
            "text/plain": [
              "0"
            ]
          },
          "metadata": {
            "tags": []
          },
          "execution_count": 27
        }
      ]
    },
    {
      "cell_type": "code",
      "metadata": {
        "id": "zJm_ayIINoii",
        "colab_type": "code",
        "colab": {}
      },
      "source": [
        "# ポケモンID,ポケモンの名前,試合数,勝利数,勝率を取得する\n",
        "count = []\n",
        "\n",
        "for pokemon in pokemons:\n",
        "  battle = 0\n",
        "  win = 0\n",
        "  ratio = 0\n",
        "  for combat in combats:\n",
        "    if str(pokemon[0]) == str(combat[0]) or str(pokemon[0]) == str(combat[1]):\n",
        "      battle  +=1\n",
        "      if pokemon[0] == combat[2]:\n",
        "        win += 1\n",
        "  if battle !=0:\n",
        "    ratio = win/battle\n",
        "  count.append([pokemon[0], pokemon[1], battle, win, ratio])"
      ],
      "execution_count": 0,
      "outputs": []
    },
    {
      "cell_type": "code",
      "metadata": {
        "id": "6Nc7eAszUU2G",
        "colab_type": "code",
        "colab": {}
      },
      "source": [
        "#勝率で降順ソート\n",
        "from operator import itemgetter\n",
        "count.sort(key=itemgetter(4), reverse=True)"
      ],
      "execution_count": 0,
      "outputs": []
    },
    {
      "cell_type": "code",
      "metadata": {
        "id": "Vb-t3XiaVXex",
        "colab_type": "code",
        "colab": {
          "base_uri": "https://localhost:8080/",
          "height": 187
        },
        "outputId": "107d4e91-24f4-46b6-c6c1-6a8403148c0c"
      },
      "source": [
        "# どのポケモンも100戦以上戦っていることがわかる\n",
        "count[:10]"
      ],
      "execution_count": 61,
      "outputs": [
        {
          "output_type": "execute_result",
          "data": {
            "text/plain": [
              "[['155', 'Mega Aerodactyl', 129, 127, 0.9844961240310077],\n",
              " ['513', 'Weavile', 119, 116, 0.9747899159663865],\n",
              " ['704', 'Tornadus Therian Forme', 125, 121, 0.968],\n",
              " ['20', 'Mega Beedrill', 119, 115, 0.9663865546218487],\n",
              " ['154', 'Aerodactyl', 141, 136, 0.9645390070921985],\n",
              " ['477', 'Mega Lopunny', 129, 124, 0.9612403100775194],\n",
              " ['727', 'Greninja', 127, 122, 0.9606299212598425],\n",
              " ['717', 'Meloetta Pirouette Forme', 123, 118, 0.959349593495935],\n",
              " ['165', 'Mega Mewtwo Y', 125, 119, 0.952],\n",
              " ['350', 'Mega Sharpedo', 120, 114, 0.95]]"
            ]
          },
          "metadata": {
            "tags": []
          },
          "execution_count": 61
        }
      ]
    },
    {
      "cell_type": "markdown",
      "metadata": {
        "id": "U2G2AwWNXpoL",
        "colab_type": "text"
      },
      "source": [
        "メガプテラ、マニューラ、トルネロス、メガスピアー、プテラ、メガミミロップがTop6\n",
        "\n"
      ]
    }
  ]
}