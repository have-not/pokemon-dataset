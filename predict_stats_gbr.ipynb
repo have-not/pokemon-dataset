f{
  "nbformat": 4,
  "nbformat_minor": 0,
  "metadata": {
    "colab": {
      "name": "predict_stats_gbr.ipynb",
      "provenance": [],
      "collapsed_sections": [],
      "toc_visible": true
    },
    "kernelspec": {
      "name": "python3",
      "display_name": "Python 3"
    },
    "accelerator": "TPU"
  },
  "cells": [
    {
      "cell_type": "markdown",
      "metadata": {
        "id": "MMVGYbaq2eJF",
        "colab_type": "text"
      },
      "source": [
        "# 画像からポケモンの種族値を予測"
      ]
    },
    {
      "cell_type": "code",
      "metadata": {
        "id": "eL2TJfFufRKL",
        "colab_type": "code",
        "colab": {}
      },
      "source": [
        "import numpy as np\n",
        "import pandas as pd\n",
        "import glob\n",
        "import cv2\n",
        "import pathlib\n",
        "import os\n",
        "import sys\n",
        "import PIL\n",
        "\n",
        "%matplotlib inline\n",
        "import matplotlib.pyplot as plt"
      ],
      "execution_count": 0,
      "outputs": []
    },
    {
      "cell_type": "markdown",
      "metadata": {
        "id": "S4lailRh0te5",
        "colab_type": "text"
      },
      "source": [
        "## データ読み込み\n",
        "ポケモンの画像と種族値のデータを用意する"
      ]
    },
    {
      "cell_type": "markdown",
      "metadata": {
        "id": "W-M9C0Vl1VfD",
        "colab_type": "text"
      },
      "source": [
        "### Pokemon- Weedle's Cave\n",
        "https://www.kaggle.com/vishalsubbiah/pokemon-images-and-types\n",
        "\n",
        "ポケモンの画像データ\n",
        "\n"
      ]
    },
    {
      "cell_type": "code",
      "metadata": {
        "id": "Qrv7YXxFcqH_",
        "colab_type": "code",
        "colab": {}
      },
      "source": [
        "# アップロードしたZipファイルの解凍\n",
        "!unzip images.zip"
      ],
      "execution_count": 0,
      "outputs": []
    },
    {
      "cell_type": "code",
      "metadata": {
        "id": "ronpw-TefVJq",
        "colab_type": "code",
        "outputId": "58683e23-5ad3-4850-ba6b-08e7401298b7",
        "colab": {
          "base_uri": "https://localhost:8080/",
          "height": 419
        }
      },
      "source": [
        "df_pokeimg = pd.read_csv('pokemon_images.csv')\n",
        "df_pokeimg"
      ],
      "execution_count": 3,
      "outputs": [
        {
          "output_type": "execute_result",
          "data": {
            "text/html": [
              "<div>\n",
              "<style scoped>\n",
              "    .dataframe tbody tr th:only-of-type {\n",
              "        vertical-align: middle;\n",
              "    }\n",
              "\n",
              "    .dataframe tbody tr th {\n",
              "        vertical-align: top;\n",
              "    }\n",
              "\n",
              "    .dataframe thead th {\n",
              "        text-align: right;\n",
              "    }\n",
              "</style>\n",
              "<table border=\"1\" class=\"dataframe\">\n",
              "  <thead>\n",
              "    <tr style=\"text-align: right;\">\n",
              "      <th></th>\n",
              "      <th>Name</th>\n",
              "      <th>Type1</th>\n",
              "      <th>Type2</th>\n",
              "    </tr>\n",
              "  </thead>\n",
              "  <tbody>\n",
              "    <tr>\n",
              "      <th>0</th>\n",
              "      <td>bulbasaur</td>\n",
              "      <td>Grass</td>\n",
              "      <td>Poison</td>\n",
              "    </tr>\n",
              "    <tr>\n",
              "      <th>1</th>\n",
              "      <td>ivysaur</td>\n",
              "      <td>Grass</td>\n",
              "      <td>Poison</td>\n",
              "    </tr>\n",
              "    <tr>\n",
              "      <th>2</th>\n",
              "      <td>venusaur</td>\n",
              "      <td>Grass</td>\n",
              "      <td>Poison</td>\n",
              "    </tr>\n",
              "    <tr>\n",
              "      <th>3</th>\n",
              "      <td>charmander</td>\n",
              "      <td>Fire</td>\n",
              "      <td>NaN</td>\n",
              "    </tr>\n",
              "    <tr>\n",
              "      <th>4</th>\n",
              "      <td>charmeleon</td>\n",
              "      <td>Fire</td>\n",
              "      <td>NaN</td>\n",
              "    </tr>\n",
              "    <tr>\n",
              "      <th>...</th>\n",
              "      <td>...</td>\n",
              "      <td>...</td>\n",
              "      <td>...</td>\n",
              "    </tr>\n",
              "    <tr>\n",
              "      <th>804</th>\n",
              "      <td>stakataka</td>\n",
              "      <td>Rock</td>\n",
              "      <td>Steel</td>\n",
              "    </tr>\n",
              "    <tr>\n",
              "      <th>805</th>\n",
              "      <td>blacephalon</td>\n",
              "      <td>Fire</td>\n",
              "      <td>Ghost</td>\n",
              "    </tr>\n",
              "    <tr>\n",
              "      <th>806</th>\n",
              "      <td>zeraora</td>\n",
              "      <td>Electric</td>\n",
              "      <td>NaN</td>\n",
              "    </tr>\n",
              "    <tr>\n",
              "      <th>807</th>\n",
              "      <td>meltan</td>\n",
              "      <td>Steel</td>\n",
              "      <td>NaN</td>\n",
              "    </tr>\n",
              "    <tr>\n",
              "      <th>808</th>\n",
              "      <td>melmetal</td>\n",
              "      <td>Steel</td>\n",
              "      <td>NaN</td>\n",
              "    </tr>\n",
              "  </tbody>\n",
              "</table>\n",
              "<p>809 rows × 3 columns</p>\n",
              "</div>"
            ],
            "text/plain": [
              "            Name     Type1   Type2\n",
              "0      bulbasaur     Grass  Poison\n",
              "1        ivysaur     Grass  Poison\n",
              "2       venusaur     Grass  Poison\n",
              "3     charmander      Fire     NaN\n",
              "4     charmeleon      Fire     NaN\n",
              "..           ...       ...     ...\n",
              "804    stakataka      Rock   Steel\n",
              "805  blacephalon      Fire   Ghost\n",
              "806      zeraora  Electric     NaN\n",
              "807       meltan     Steel     NaN\n",
              "808     melmetal     Steel     NaN\n",
              "\n",
              "[809 rows x 3 columns]"
            ]
          },
          "metadata": {
            "tags": []
          },
          "execution_count": 3
        }
      ]
    },
    {
      "cell_type": "markdown",
      "metadata": {
        "id": "YI33JC9D1lmE",
        "colab_type": "text"
      },
      "source": [
        "### Pokemon Sun and Moon (Gen 7) Stats\n",
        "\n",
        "https://www.kaggle.com/mylesoneill/pokemon-sun-and-moon-gen-7-stats\n",
        "\n",
        "ポケモンの種族値等のデータ"
      ]
    },
    {
      "cell_type": "code",
      "metadata": {
        "id": "0tT-ar83fsXX",
        "colab_type": "code",
        "outputId": "b0a9203c-d2a1-4536-b873-014a69bc7c94",
        "colab": {
          "base_uri": "https://localhost:8080/",
          "height": 745
        }
      },
      "source": [
        "df_poke = pd.read_csv('pokemon.csv')\n",
        "\n",
        "# ポケモンの名前を小文字に\n",
        "strlow = lambda x: str(x).lower()\n",
        "df_poke['species'] = df_poke['species'].map(strlow)\n",
        "\n",
        "df_poke"
      ],
      "execution_count": 4,
      "outputs": [
        {
          "output_type": "execute_result",
          "data": {
            "text/html": [
              "<div>\n",
              "<style scoped>\n",
              "    .dataframe tbody tr th:only-of-type {\n",
              "        vertical-align: middle;\n",
              "    }\n",
              "\n",
              "    .dataframe tbody tr th {\n",
              "        vertical-align: top;\n",
              "    }\n",
              "\n",
              "    .dataframe thead th {\n",
              "        text-align: right;\n",
              "    }\n",
              "</style>\n",
              "<table border=\"1\" class=\"dataframe\">\n",
              "  <thead>\n",
              "    <tr style=\"text-align: right;\">\n",
              "      <th></th>\n",
              "      <th>id</th>\n",
              "      <th>ndex</th>\n",
              "      <th>species</th>\n",
              "      <th>forme</th>\n",
              "      <th>type1</th>\n",
              "      <th>type2</th>\n",
              "      <th>ability1</th>\n",
              "      <th>ability2</th>\n",
              "      <th>abilityH</th>\n",
              "      <th>hp</th>\n",
              "      <th>attack</th>\n",
              "      <th>defense</th>\n",
              "      <th>spattack</th>\n",
              "      <th>spdefense</th>\n",
              "      <th>speed</th>\n",
              "      <th>total</th>\n",
              "      <th>weight</th>\n",
              "      <th>height</th>\n",
              "      <th>dex1</th>\n",
              "      <th>dex2</th>\n",
              "      <th>class</th>\n",
              "      <th>percent-male</th>\n",
              "      <th>percent-female</th>\n",
              "      <th>pre-evolution</th>\n",
              "      <th>egg-group1</th>\n",
              "      <th>egg-group2</th>\n",
              "    </tr>\n",
              "  </thead>\n",
              "  <tbody>\n",
              "    <tr>\n",
              "      <th>0</th>\n",
              "      <td>1</td>\n",
              "      <td>1</td>\n",
              "      <td>bulbasaur</td>\n",
              "      <td>Bulbasaur</td>\n",
              "      <td>Grass</td>\n",
              "      <td>Poison</td>\n",
              "      <td>Overgrow</td>\n",
              "      <td>NaN</td>\n",
              "      <td>Chlorophyll</td>\n",
              "      <td>45</td>\n",
              "      <td>49</td>\n",
              "      <td>49</td>\n",
              "      <td>65</td>\n",
              "      <td>65</td>\n",
              "      <td>45</td>\n",
              "      <td>318</td>\n",
              "      <td>15.2 lbs.</td>\n",
              "      <td>2'04\"</td>\n",
              "      <td>NaN</td>\n",
              "      <td>NaN</td>\n",
              "      <td>Seed Pokémon</td>\n",
              "      <td>0.875</td>\n",
              "      <td>0.125</td>\n",
              "      <td>NaN</td>\n",
              "      <td>Monster</td>\n",
              "      <td>Grass</td>\n",
              "    </tr>\n",
              "    <tr>\n",
              "      <th>1</th>\n",
              "      <td>2</td>\n",
              "      <td>2</td>\n",
              "      <td>ivysaur</td>\n",
              "      <td>Ivysaur</td>\n",
              "      <td>Grass</td>\n",
              "      <td>Poison</td>\n",
              "      <td>Overgrow</td>\n",
              "      <td>NaN</td>\n",
              "      <td>Chlorophyll</td>\n",
              "      <td>60</td>\n",
              "      <td>62</td>\n",
              "      <td>63</td>\n",
              "      <td>80</td>\n",
              "      <td>80</td>\n",
              "      <td>60</td>\n",
              "      <td>405</td>\n",
              "      <td>28.7 lbs.</td>\n",
              "      <td>3'03\"</td>\n",
              "      <td>NaN</td>\n",
              "      <td>NaN</td>\n",
              "      <td>Seed Pokémon</td>\n",
              "      <td>0.875</td>\n",
              "      <td>0.125</td>\n",
              "      <td>Bulbasaur</td>\n",
              "      <td>Monster</td>\n",
              "      <td>Grass</td>\n",
              "    </tr>\n",
              "    <tr>\n",
              "      <th>2</th>\n",
              "      <td>3</td>\n",
              "      <td>3</td>\n",
              "      <td>venusaur</td>\n",
              "      <td>Venusaur</td>\n",
              "      <td>Grass</td>\n",
              "      <td>Poison</td>\n",
              "      <td>Overgrow</td>\n",
              "      <td>NaN</td>\n",
              "      <td>Chlorophyll</td>\n",
              "      <td>80</td>\n",
              "      <td>82</td>\n",
              "      <td>83</td>\n",
              "      <td>100</td>\n",
              "      <td>100</td>\n",
              "      <td>80</td>\n",
              "      <td>525</td>\n",
              "      <td>220.5 lbs.</td>\n",
              "      <td>6'07\"</td>\n",
              "      <td>NaN</td>\n",
              "      <td>NaN</td>\n",
              "      <td>Seed Pokémon</td>\n",
              "      <td>0.875</td>\n",
              "      <td>0.125</td>\n",
              "      <td>Ivysaur</td>\n",
              "      <td>Monster</td>\n",
              "      <td>Grass</td>\n",
              "    </tr>\n",
              "    <tr>\n",
              "      <th>3</th>\n",
              "      <td>4</td>\n",
              "      <td>4</td>\n",
              "      <td>charmander</td>\n",
              "      <td>Charmander</td>\n",
              "      <td>Fire</td>\n",
              "      <td>NaN</td>\n",
              "      <td>Blaze</td>\n",
              "      <td>NaN</td>\n",
              "      <td>Solar Power</td>\n",
              "      <td>39</td>\n",
              "      <td>52</td>\n",
              "      <td>43</td>\n",
              "      <td>60</td>\n",
              "      <td>50</td>\n",
              "      <td>65</td>\n",
              "      <td>309</td>\n",
              "      <td>18.7 lbs.</td>\n",
              "      <td>2'00\"</td>\n",
              "      <td>NaN</td>\n",
              "      <td>NaN</td>\n",
              "      <td>Lizard Pokémon</td>\n",
              "      <td>0.875</td>\n",
              "      <td>0.125</td>\n",
              "      <td>NaN</td>\n",
              "      <td>Monster</td>\n",
              "      <td>Dragon</td>\n",
              "    </tr>\n",
              "    <tr>\n",
              "      <th>4</th>\n",
              "      <td>5</td>\n",
              "      <td>5</td>\n",
              "      <td>charmeleon</td>\n",
              "      <td>Charmeleon</td>\n",
              "      <td>Fire</td>\n",
              "      <td>NaN</td>\n",
              "      <td>Blaze</td>\n",
              "      <td>NaN</td>\n",
              "      <td>Solar Power</td>\n",
              "      <td>58</td>\n",
              "      <td>64</td>\n",
              "      <td>58</td>\n",
              "      <td>80</td>\n",
              "      <td>65</td>\n",
              "      <td>80</td>\n",
              "      <td>405</td>\n",
              "      <td>41.9 lbs.</td>\n",
              "      <td>3'07\"</td>\n",
              "      <td>NaN</td>\n",
              "      <td>NaN</td>\n",
              "      <td>Flame Pokémon</td>\n",
              "      <td>0.875</td>\n",
              "      <td>0.125</td>\n",
              "      <td>Charmander</td>\n",
              "      <td>Monster</td>\n",
              "      <td>Dragon</td>\n",
              "    </tr>\n",
              "    <tr>\n",
              "      <th>...</th>\n",
              "      <td>...</td>\n",
              "      <td>...</td>\n",
              "      <td>...</td>\n",
              "      <td>...</td>\n",
              "      <td>...</td>\n",
              "      <td>...</td>\n",
              "      <td>...</td>\n",
              "      <td>...</td>\n",
              "      <td>...</td>\n",
              "      <td>...</td>\n",
              "      <td>...</td>\n",
              "      <td>...</td>\n",
              "      <td>...</td>\n",
              "      <td>...</td>\n",
              "      <td>...</td>\n",
              "      <td>...</td>\n",
              "      <td>...</td>\n",
              "      <td>...</td>\n",
              "      <td>...</td>\n",
              "      <td>...</td>\n",
              "      <td>...</td>\n",
              "      <td>...</td>\n",
              "      <td>...</td>\n",
              "      <td>...</td>\n",
              "      <td>...</td>\n",
              "      <td>...</td>\n",
              "    </tr>\n",
              "    <tr>\n",
              "      <th>1056</th>\n",
              "      <td>1058</td>\n",
              "      <td>778</td>\n",
              "      <td>mimikyu</td>\n",
              "      <td>Mimikyu (Busted Form)</td>\n",
              "      <td>Ghost</td>\n",
              "      <td>Fairy</td>\n",
              "      <td>Disguise</td>\n",
              "      <td>Disguise</td>\n",
              "      <td>Disguise</td>\n",
              "      <td>60</td>\n",
              "      <td>100</td>\n",
              "      <td>60</td>\n",
              "      <td>100</td>\n",
              "      <td>60</td>\n",
              "      <td>120</td>\n",
              "      <td>500</td>\n",
              "      <td>1.5 lbs.</td>\n",
              "      <td>0'08\"</td>\n",
              "      <td>After going to all the effort of disguising it...</td>\n",
              "      <td>If its neck is broken or its rag torn during a...</td>\n",
              "      <td>Disguise Pokémon</td>\n",
              "      <td>0.500</td>\n",
              "      <td>0.500</td>\n",
              "      <td>NaN</td>\n",
              "      <td>Amorphous</td>\n",
              "      <td>NaN</td>\n",
              "    </tr>\n",
              "    <tr>\n",
              "      <th>1057</th>\n",
              "      <td>1059</td>\n",
              "      <td>778</td>\n",
              "      <td>mimikyu</td>\n",
              "      <td>Mimikyu (2)</td>\n",
              "      <td>Ghost</td>\n",
              "      <td>Fairy</td>\n",
              "      <td>Disguise</td>\n",
              "      <td>Disguise</td>\n",
              "      <td>Disguise</td>\n",
              "      <td>60</td>\n",
              "      <td>100</td>\n",
              "      <td>60</td>\n",
              "      <td>100</td>\n",
              "      <td>60</td>\n",
              "      <td>120</td>\n",
              "      <td>500</td>\n",
              "      <td>1.5 lbs.</td>\n",
              "      <td>0'08\"</td>\n",
              "      <td>NaN</td>\n",
              "      <td>NaN</td>\n",
              "      <td>Disguise Pokémon</td>\n",
              "      <td>0.500</td>\n",
              "      <td>0.500</td>\n",
              "      <td>NaN</td>\n",
              "      <td>Amorphous</td>\n",
              "      <td>NaN</td>\n",
              "    </tr>\n",
              "    <tr>\n",
              "      <th>1058</th>\n",
              "      <td>1060</td>\n",
              "      <td>778</td>\n",
              "      <td>mimikyu</td>\n",
              "      <td>Mimikyu (3)</td>\n",
              "      <td>Ghost</td>\n",
              "      <td>Fairy</td>\n",
              "      <td>Disguise</td>\n",
              "      <td>Disguise</td>\n",
              "      <td>Disguise</td>\n",
              "      <td>60</td>\n",
              "      <td>100</td>\n",
              "      <td>60</td>\n",
              "      <td>100</td>\n",
              "      <td>60</td>\n",
              "      <td>120</td>\n",
              "      <td>500</td>\n",
              "      <td>1.5 lbs.</td>\n",
              "      <td>0'08\"</td>\n",
              "      <td>NaN</td>\n",
              "      <td>NaN</td>\n",
              "      <td>Disguise Pokémon</td>\n",
              "      <td>0.500</td>\n",
              "      <td>0.500</td>\n",
              "      <td>NaN</td>\n",
              "      <td>Amorphous</td>\n",
              "      <td>NaN</td>\n",
              "    </tr>\n",
              "    <tr>\n",
              "      <th>1059</th>\n",
              "      <td>1061</td>\n",
              "      <td>784</td>\n",
              "      <td>kommo-o</td>\n",
              "      <td>Kommo-o (1)</td>\n",
              "      <td>Dragon</td>\n",
              "      <td>Fighting</td>\n",
              "      <td>Bulletproof</td>\n",
              "      <td>Soundproof</td>\n",
              "      <td>Overcoat</td>\n",
              "      <td>75</td>\n",
              "      <td>110</td>\n",
              "      <td>125</td>\n",
              "      <td>100</td>\n",
              "      <td>105</td>\n",
              "      <td>85</td>\n",
              "      <td>600</td>\n",
              "      <td>172.4 lbs.</td>\n",
              "      <td>5'03\"</td>\n",
              "      <td>NaN</td>\n",
              "      <td>NaN</td>\n",
              "      <td>Scaly Pokémon</td>\n",
              "      <td>0.500</td>\n",
              "      <td>0.500</td>\n",
              "      <td>NaN</td>\n",
              "      <td>Dragon</td>\n",
              "      <td>NaN</td>\n",
              "    </tr>\n",
              "    <tr>\n",
              "      <th>1060</th>\n",
              "      <td>1062</td>\n",
              "      <td>801</td>\n",
              "      <td>magearna</td>\n",
              "      <td>Magearna (Original Color)</td>\n",
              "      <td>Steel</td>\n",
              "      <td>Fairy</td>\n",
              "      <td>Soul-Heart</td>\n",
              "      <td>Soul-Heart</td>\n",
              "      <td>Soul-Heart</td>\n",
              "      <td>80</td>\n",
              "      <td>95</td>\n",
              "      <td>115</td>\n",
              "      <td>130</td>\n",
              "      <td>115</td>\n",
              "      <td>65</td>\n",
              "      <td>600</td>\n",
              "      <td>177.5 lbs.</td>\n",
              "      <td>3'03\"</td>\n",
              "      <td>This beautiful form reflects Magearna’s appear...</td>\n",
              "      <td>This gorgeous Magearna looks as it did at the ...</td>\n",
              "      <td>Artificial Pokémon</td>\n",
              "      <td>NaN</td>\n",
              "      <td>NaN</td>\n",
              "      <td>NaN</td>\n",
              "      <td>Undiscovered</td>\n",
              "      <td>NaN</td>\n",
              "    </tr>\n",
              "  </tbody>\n",
              "</table>\n",
              "<p>1061 rows × 26 columns</p>\n",
              "</div>"
            ],
            "text/plain": [
              "        id  ndex     species  ... pre-evolution    egg-group1 egg-group2\n",
              "0        1     1   bulbasaur  ...           NaN       Monster      Grass\n",
              "1        2     2     ivysaur  ...     Bulbasaur       Monster      Grass\n",
              "2        3     3    venusaur  ...       Ivysaur       Monster      Grass\n",
              "3        4     4  charmander  ...           NaN       Monster     Dragon\n",
              "4        5     5  charmeleon  ...    Charmander       Monster     Dragon\n",
              "...    ...   ...         ...  ...           ...           ...        ...\n",
              "1056  1058   778     mimikyu  ...           NaN     Amorphous        NaN\n",
              "1057  1059   778     mimikyu  ...           NaN     Amorphous        NaN\n",
              "1058  1060   778     mimikyu  ...           NaN     Amorphous        NaN\n",
              "1059  1061   784     kommo-o  ...           NaN        Dragon        NaN\n",
              "1060  1062   801    magearna  ...           NaN  Undiscovered        NaN\n",
              "\n",
              "[1061 rows x 26 columns]"
            ]
          },
          "metadata": {
            "tags": []
          },
          "execution_count": 4
        }
      ]
    },
    {
      "cell_type": "markdown",
      "metadata": {
        "id": "pFXDcwi0HqSr",
        "colab_type": "text"
      },
      "source": [
        "## 前処理\n",
        "第６世代までを訓練データ、第７世代を評価データとして使う"
      ]
    },
    {
      "cell_type": "markdown",
      "metadata": {
        "id": "4JR2opHEdn9p",
        "colab_type": "text"
      },
      "source": [
        "### 出力の種族値データを作成"
      ]
    },
    {
      "cell_type": "code",
      "metadata": {
        "id": "mndoEEFymWxE",
        "colab_type": "code",
        "colab": {}
      },
      "source": [
        "# ２つのデータのCSVを紐付け\n",
        "def isExistsLowNum(name):\n",
        "  try:\n",
        "    # 複数フォームあるデータについては1つ目のインデックス値を返す\n",
        "    return df_poke.query('species == \"' + name + '\"').index[0]\n",
        "  except:\n",
        "    return np.nan"
      ],
      "execution_count": 0,
      "outputs": []
    },
    {
      "cell_type": "code",
      "metadata": {
        "id": "7ZQP8IeBz-Oh",
        "colab_type": "code",
        "outputId": "dd6b3cf3-75d7-4f7f-f302-9c034c2fb687",
        "colab": {
          "base_uri": "https://localhost:8080/",
          "height": 204
        }
      },
      "source": [
        "df_pokeimg['id'] = df_pokeimg['Name'].map(isExistsLowNum)\n",
        "df_pokeimg.head()"
      ],
      "execution_count": 6,
      "outputs": [
        {
          "output_type": "execute_result",
          "data": {
            "text/html": [
              "<div>\n",
              "<style scoped>\n",
              "    .dataframe tbody tr th:only-of-type {\n",
              "        vertical-align: middle;\n",
              "    }\n",
              "\n",
              "    .dataframe tbody tr th {\n",
              "        vertical-align: top;\n",
              "    }\n",
              "\n",
              "    .dataframe thead th {\n",
              "        text-align: right;\n",
              "    }\n",
              "</style>\n",
              "<table border=\"1\" class=\"dataframe\">\n",
              "  <thead>\n",
              "    <tr style=\"text-align: right;\">\n",
              "      <th></th>\n",
              "      <th>Name</th>\n",
              "      <th>Type1</th>\n",
              "      <th>Type2</th>\n",
              "      <th>id</th>\n",
              "    </tr>\n",
              "  </thead>\n",
              "  <tbody>\n",
              "    <tr>\n",
              "      <th>0</th>\n",
              "      <td>bulbasaur</td>\n",
              "      <td>Grass</td>\n",
              "      <td>Poison</td>\n",
              "      <td>0.0</td>\n",
              "    </tr>\n",
              "    <tr>\n",
              "      <th>1</th>\n",
              "      <td>ivysaur</td>\n",
              "      <td>Grass</td>\n",
              "      <td>Poison</td>\n",
              "      <td>1.0</td>\n",
              "    </tr>\n",
              "    <tr>\n",
              "      <th>2</th>\n",
              "      <td>venusaur</td>\n",
              "      <td>Grass</td>\n",
              "      <td>Poison</td>\n",
              "      <td>2.0</td>\n",
              "    </tr>\n",
              "    <tr>\n",
              "      <th>3</th>\n",
              "      <td>charmander</td>\n",
              "      <td>Fire</td>\n",
              "      <td>NaN</td>\n",
              "      <td>3.0</td>\n",
              "    </tr>\n",
              "    <tr>\n",
              "      <th>4</th>\n",
              "      <td>charmeleon</td>\n",
              "      <td>Fire</td>\n",
              "      <td>NaN</td>\n",
              "      <td>4.0</td>\n",
              "    </tr>\n",
              "  </tbody>\n",
              "</table>\n",
              "</div>"
            ],
            "text/plain": [
              "         Name  Type1   Type2   id\n",
              "0   bulbasaur  Grass  Poison  0.0\n",
              "1     ivysaur  Grass  Poison  1.0\n",
              "2    venusaur  Grass  Poison  2.0\n",
              "3  charmander   Fire     NaN  3.0\n",
              "4  charmeleon   Fire     NaN  4.0"
            ]
          },
          "metadata": {
            "tags": []
          },
          "execution_count": 6
        }
      ]
    },
    {
      "cell_type": "code",
      "metadata": {
        "id": "QINpNmZsAOqf",
        "colab_type": "code",
        "outputId": "a9ba62f8-7fa7-446d-e333-139f5451f717",
        "colab": {
          "base_uri": "https://localhost:8080/",
          "height": 34
        }
      },
      "source": [
        "df_pokeimg['id'].isnull().sum()"
      ],
      "execution_count": 7,
      "outputs": [
        {
          "output_type": "execute_result",
          "data": {
            "text/plain": [
              "39"
            ]
          },
          "metadata": {
            "tags": []
          },
          "execution_count": 7
        }
      ]
    },
    {
      "cell_type": "code",
      "metadata": {
        "id": "QOQSQM2wA4_b",
        "colab_type": "code",
        "outputId": "36543168-a92d-4dad-c70e-94b8b2794f89",
        "colab": {
          "base_uri": "https://localhost:8080/",
          "height": 1000
        }
      },
      "source": [
        "df_pokeimg[df_pokeimg['id'].isnull()]"
      ],
      "execution_count": 8,
      "outputs": [
        {
          "output_type": "execute_result",
          "data": {
            "text/html": [
              "<div>\n",
              "<style scoped>\n",
              "    .dataframe tbody tr th:only-of-type {\n",
              "        vertical-align: middle;\n",
              "    }\n",
              "\n",
              "    .dataframe tbody tr th {\n",
              "        vertical-align: top;\n",
              "    }\n",
              "\n",
              "    .dataframe thead th {\n",
              "        text-align: right;\n",
              "    }\n",
              "</style>\n",
              "<table border=\"1\" class=\"dataframe\">\n",
              "  <thead>\n",
              "    <tr style=\"text-align: right;\">\n",
              "      <th></th>\n",
              "      <th>Name</th>\n",
              "      <th>Type1</th>\n",
              "      <th>Type2</th>\n",
              "      <th>id</th>\n",
              "    </tr>\n",
              "  </thead>\n",
              "  <tbody>\n",
              "    <tr>\n",
              "      <th>28</th>\n",
              "      <td>nidoran-f</td>\n",
              "      <td>Poison</td>\n",
              "      <td>NaN</td>\n",
              "      <td>NaN</td>\n",
              "    </tr>\n",
              "    <tr>\n",
              "      <th>31</th>\n",
              "      <td>nidoran-m</td>\n",
              "      <td>Poison</td>\n",
              "      <td>NaN</td>\n",
              "      <td>NaN</td>\n",
              "    </tr>\n",
              "    <tr>\n",
              "      <th>82</th>\n",
              "      <td>farfetchd</td>\n",
              "      <td>Normal</td>\n",
              "      <td>Flying</td>\n",
              "      <td>NaN</td>\n",
              "    </tr>\n",
              "    <tr>\n",
              "      <th>121</th>\n",
              "      <td>mr-mime</td>\n",
              "      <td>Psychic</td>\n",
              "      <td>Fairy</td>\n",
              "      <td>NaN</td>\n",
              "    </tr>\n",
              "    <tr>\n",
              "      <th>385</th>\n",
              "      <td>deoxys-normal</td>\n",
              "      <td>Psychic</td>\n",
              "      <td>NaN</td>\n",
              "      <td>NaN</td>\n",
              "    </tr>\n",
              "    <tr>\n",
              "      <th>412</th>\n",
              "      <td>wormadam-plant</td>\n",
              "      <td>Bug</td>\n",
              "      <td>Grass</td>\n",
              "      <td>NaN</td>\n",
              "    </tr>\n",
              "    <tr>\n",
              "      <th>438</th>\n",
              "      <td>mime-jr</td>\n",
              "      <td>Psychic</td>\n",
              "      <td>Fairy</td>\n",
              "      <td>NaN</td>\n",
              "    </tr>\n",
              "    <tr>\n",
              "      <th>486</th>\n",
              "      <td>giratina-altered</td>\n",
              "      <td>Ghost</td>\n",
              "      <td>Dragon</td>\n",
              "      <td>NaN</td>\n",
              "    </tr>\n",
              "    <tr>\n",
              "      <th>491</th>\n",
              "      <td>shaymin-land</td>\n",
              "      <td>Grass</td>\n",
              "      <td>NaN</td>\n",
              "      <td>NaN</td>\n",
              "    </tr>\n",
              "    <tr>\n",
              "      <th>549</th>\n",
              "      <td>basculin-red-striped</td>\n",
              "      <td>Water</td>\n",
              "      <td>NaN</td>\n",
              "      <td>NaN</td>\n",
              "    </tr>\n",
              "    <tr>\n",
              "      <th>554</th>\n",
              "      <td>darmanitan-standard</td>\n",
              "      <td>Fire</td>\n",
              "      <td>NaN</td>\n",
              "      <td>NaN</td>\n",
              "    </tr>\n",
              "    <tr>\n",
              "      <th>640</th>\n",
              "      <td>tornadus-incarnate</td>\n",
              "      <td>Flying</td>\n",
              "      <td>NaN</td>\n",
              "      <td>NaN</td>\n",
              "    </tr>\n",
              "    <tr>\n",
              "      <th>641</th>\n",
              "      <td>thundurus-incarnate</td>\n",
              "      <td>Electric</td>\n",
              "      <td>Flying</td>\n",
              "      <td>NaN</td>\n",
              "    </tr>\n",
              "    <tr>\n",
              "      <th>644</th>\n",
              "      <td>landorus-incarnate</td>\n",
              "      <td>Ground</td>\n",
              "      <td>Flying</td>\n",
              "      <td>NaN</td>\n",
              "    </tr>\n",
              "    <tr>\n",
              "      <th>646</th>\n",
              "      <td>keldeo-ordinary</td>\n",
              "      <td>Water</td>\n",
              "      <td>Fighting</td>\n",
              "      <td>NaN</td>\n",
              "    </tr>\n",
              "    <tr>\n",
              "      <th>647</th>\n",
              "      <td>meloetta-aria</td>\n",
              "      <td>Normal</td>\n",
              "      <td>Psychic</td>\n",
              "      <td>NaN</td>\n",
              "    </tr>\n",
              "    <tr>\n",
              "      <th>668</th>\n",
              "      <td>flabebe</td>\n",
              "      <td>Fairy</td>\n",
              "      <td>NaN</td>\n",
              "      <td>NaN</td>\n",
              "    </tr>\n",
              "    <tr>\n",
              "      <th>677</th>\n",
              "      <td>meowstic-male</td>\n",
              "      <td>Psychic</td>\n",
              "      <td>NaN</td>\n",
              "      <td>NaN</td>\n",
              "    </tr>\n",
              "    <tr>\n",
              "      <th>680</th>\n",
              "      <td>aegislash-blade</td>\n",
              "      <td>Steel</td>\n",
              "      <td>Ghost</td>\n",
              "      <td>NaN</td>\n",
              "    </tr>\n",
              "    <tr>\n",
              "      <th>709</th>\n",
              "      <td>pumpkaboo-average</td>\n",
              "      <td>Ghost</td>\n",
              "      <td>Grass</td>\n",
              "      <td>NaN</td>\n",
              "    </tr>\n",
              "    <tr>\n",
              "      <th>710</th>\n",
              "      <td>gourgeist-average</td>\n",
              "      <td>Ghost</td>\n",
              "      <td>Grass</td>\n",
              "      <td>NaN</td>\n",
              "    </tr>\n",
              "    <tr>\n",
              "      <th>717</th>\n",
              "      <td>zygarde-50</td>\n",
              "      <td>Dragon</td>\n",
              "      <td>Ground</td>\n",
              "      <td>NaN</td>\n",
              "    </tr>\n",
              "    <tr>\n",
              "      <th>719</th>\n",
              "      <td>hoopa-confined</td>\n",
              "      <td>Psychic</td>\n",
              "      <td>Ghost</td>\n",
              "      <td>NaN</td>\n",
              "    </tr>\n",
              "    <tr>\n",
              "      <th>740</th>\n",
              "      <td>oricorio-baile</td>\n",
              "      <td>Fire</td>\n",
              "      <td>Flying</td>\n",
              "      <td>NaN</td>\n",
              "    </tr>\n",
              "    <tr>\n",
              "      <th>744</th>\n",
              "      <td>lycanroc-midday</td>\n",
              "      <td>Rock</td>\n",
              "      <td>NaN</td>\n",
              "      <td>NaN</td>\n",
              "    </tr>\n",
              "    <tr>\n",
              "      <th>745</th>\n",
              "      <td>wishiwashi-solo</td>\n",
              "      <td>Water</td>\n",
              "      <td>NaN</td>\n",
              "      <td>NaN</td>\n",
              "    </tr>\n",
              "    <tr>\n",
              "      <th>771</th>\n",
              "      <td>type-null</td>\n",
              "      <td>Normal</td>\n",
              "      <td>NaN</td>\n",
              "      <td>NaN</td>\n",
              "    </tr>\n",
              "    <tr>\n",
              "      <th>773</th>\n",
              "      <td>minior-meteor</td>\n",
              "      <td>Rock</td>\n",
              "      <td>Flying</td>\n",
              "      <td>NaN</td>\n",
              "    </tr>\n",
              "    <tr>\n",
              "      <th>784</th>\n",
              "      <td>tapu-koko</td>\n",
              "      <td>Electric</td>\n",
              "      <td>Fairy</td>\n",
              "      <td>NaN</td>\n",
              "    </tr>\n",
              "    <tr>\n",
              "      <th>785</th>\n",
              "      <td>tapu-lele</td>\n",
              "      <td>Psychic</td>\n",
              "      <td>Fairy</td>\n",
              "      <td>NaN</td>\n",
              "    </tr>\n",
              "    <tr>\n",
              "      <th>786</th>\n",
              "      <td>tapu-bulu</td>\n",
              "      <td>Grass</td>\n",
              "      <td>Fairy</td>\n",
              "      <td>NaN</td>\n",
              "    </tr>\n",
              "    <tr>\n",
              "      <th>787</th>\n",
              "      <td>tapu-fini</td>\n",
              "      <td>Water</td>\n",
              "      <td>Fairy</td>\n",
              "      <td>NaN</td>\n",
              "    </tr>\n",
              "    <tr>\n",
              "      <th>802</th>\n",
              "      <td>poipole</td>\n",
              "      <td>Poison</td>\n",
              "      <td>NaN</td>\n",
              "      <td>NaN</td>\n",
              "    </tr>\n",
              "    <tr>\n",
              "      <th>803</th>\n",
              "      <td>naganadel</td>\n",
              "      <td>Poison</td>\n",
              "      <td>Dragon</td>\n",
              "      <td>NaN</td>\n",
              "    </tr>\n",
              "    <tr>\n",
              "      <th>804</th>\n",
              "      <td>stakataka</td>\n",
              "      <td>Rock</td>\n",
              "      <td>Steel</td>\n",
              "      <td>NaN</td>\n",
              "    </tr>\n",
              "    <tr>\n",
              "      <th>805</th>\n",
              "      <td>blacephalon</td>\n",
              "      <td>Fire</td>\n",
              "      <td>Ghost</td>\n",
              "      <td>NaN</td>\n",
              "    </tr>\n",
              "    <tr>\n",
              "      <th>806</th>\n",
              "      <td>zeraora</td>\n",
              "      <td>Electric</td>\n",
              "      <td>NaN</td>\n",
              "      <td>NaN</td>\n",
              "    </tr>\n",
              "    <tr>\n",
              "      <th>807</th>\n",
              "      <td>meltan</td>\n",
              "      <td>Steel</td>\n",
              "      <td>NaN</td>\n",
              "      <td>NaN</td>\n",
              "    </tr>\n",
              "    <tr>\n",
              "      <th>808</th>\n",
              "      <td>melmetal</td>\n",
              "      <td>Steel</td>\n",
              "      <td>NaN</td>\n",
              "      <td>NaN</td>\n",
              "    </tr>\n",
              "  </tbody>\n",
              "</table>\n",
              "</div>"
            ],
            "text/plain": [
              "                     Name     Type1     Type2  id\n",
              "28              nidoran-f    Poison       NaN NaN\n",
              "31              nidoran-m    Poison       NaN NaN\n",
              "82              farfetchd    Normal    Flying NaN\n",
              "121               mr-mime   Psychic     Fairy NaN\n",
              "385         deoxys-normal   Psychic       NaN NaN\n",
              "412        wormadam-plant       Bug     Grass NaN\n",
              "438               mime-jr   Psychic     Fairy NaN\n",
              "486      giratina-altered     Ghost    Dragon NaN\n",
              "491          shaymin-land     Grass       NaN NaN\n",
              "549  basculin-red-striped     Water       NaN NaN\n",
              "554   darmanitan-standard      Fire       NaN NaN\n",
              "640    tornadus-incarnate    Flying       NaN NaN\n",
              "641   thundurus-incarnate  Electric    Flying NaN\n",
              "644    landorus-incarnate    Ground    Flying NaN\n",
              "646       keldeo-ordinary     Water  Fighting NaN\n",
              "647         meloetta-aria    Normal   Psychic NaN\n",
              "668               flabebe     Fairy       NaN NaN\n",
              "677         meowstic-male   Psychic       NaN NaN\n",
              "680       aegislash-blade     Steel     Ghost NaN\n",
              "709     pumpkaboo-average     Ghost     Grass NaN\n",
              "710     gourgeist-average     Ghost     Grass NaN\n",
              "717            zygarde-50    Dragon    Ground NaN\n",
              "719        hoopa-confined   Psychic     Ghost NaN\n",
              "740        oricorio-baile      Fire    Flying NaN\n",
              "744       lycanroc-midday      Rock       NaN NaN\n",
              "745       wishiwashi-solo     Water       NaN NaN\n",
              "771             type-null    Normal       NaN NaN\n",
              "773         minior-meteor      Rock    Flying NaN\n",
              "784             tapu-koko  Electric     Fairy NaN\n",
              "785             tapu-lele   Psychic     Fairy NaN\n",
              "786             tapu-bulu     Grass     Fairy NaN\n",
              "787             tapu-fini     Water     Fairy NaN\n",
              "802               poipole    Poison       NaN NaN\n",
              "803             naganadel    Poison    Dragon NaN\n",
              "804             stakataka      Rock     Steel NaN\n",
              "805           blacephalon      Fire     Ghost NaN\n",
              "806               zeraora  Electric       NaN NaN\n",
              "807                meltan     Steel       NaN NaN\n",
              "808              melmetal     Steel       NaN NaN"
            ]
          },
          "metadata": {
            "tags": []
          },
          "execution_count": 8
        }
      ]
    },
    {
      "cell_type": "markdown",
      "metadata": {
        "id": "9GsrXiaX_XKC",
        "colab_type": "text"
      },
      "source": [
        "#### ポケモンの名前がデータ間で異なる場合は名寄せ"
      ]
    },
    {
      "cell_type": "code",
      "metadata": {
        "id": "hsTbMCJuGHCR",
        "colab_type": "code",
        "colab": {}
      },
      "source": [
        "df_poke.iloc[28, 2] = 'nidoran-f'\n",
        "df_poke.iloc[31, 2] = 'nidoran-m'\n",
        "df_poke.iloc[82, 2] = 'farfetchd'\n",
        "df_poke.iloc[121, 2] = 'mr-mime'\n",
        "df_poke.iloc[385, 2] = 'deoxys-normal'\n",
        "df_poke.iloc[412, 2] = 'wormadam-plant'\n",
        "df_poke.iloc[438, 2] = 'mime-jr'\n",
        "df_poke.iloc[486, 2] = 'giratina-altered'\n",
        "df_poke.iloc[491, 2] = 'shaymin-land'\n",
        "df_poke.iloc[549, 2] = 'basculin-red-striped'\n",
        "df_poke.iloc[554, 2] = 'darmanitan-standard'\n",
        "df_poke.iloc[640, 2] = 'tornadus-incarnate'\n",
        "df_poke.iloc[641, 2] = 'thundurus-incarnate'\n",
        "df_poke.iloc[644, 2] = 'landorus-incarnate'\n",
        "df_poke.iloc[646, 2] = 'keldeo-ordinary'\n",
        "df_poke.iloc[647, 2] = 'meloetta-aria'\n",
        "df_poke.iloc[668, 2] = 'flabebe'\n",
        "df_poke.iloc[677, 2] = 'meowstic-male'\n",
        "df_poke.iloc[680, 2] = 'aegislash-blade'\n",
        "df_poke.iloc[709, 2] = 'pumpkaboo-average'\n",
        "df_poke.iloc[710, 2] = 'gourgeist-average'\n",
        "df_poke.iloc[717, 2] = 'zygarde-50'\n",
        "df_poke.iloc[719, 2] = 'hoopa-confined'\n",
        "df_poke.iloc[740, 2] = 'oricorio-baile'\n",
        "df_poke.iloc[744, 2] = 'lycanroc-midday'\n",
        "df_poke.iloc[745, 2] = 'wishiwashi-solo'\n",
        "df_poke.iloc[771, 2] = 'type-null'\n",
        "df_poke.iloc[773, 2] = 'minior-meteor'\n",
        "df_poke.iloc[784, 2] = 'tapu-koko'\n",
        "df_poke.iloc[785, 2] = 'tapu-lele'\n",
        "df_poke.iloc[786, 2] = 'tapu-bulu'\n",
        "df_poke.iloc[787, 2] = 'tapu-fini'"
      ],
      "execution_count": 0,
      "outputs": []
    },
    {
      "cell_type": "code",
      "metadata": {
        "id": "MGVqYe0BU7yC",
        "colab_type": "code",
        "colab": {}
      },
      "source": [
        "df_pokeimg['id'] = df_pokeimg['Name'].map(isExistsLowNum)"
      ],
      "execution_count": 0,
      "outputs": []
    },
    {
      "cell_type": "code",
      "metadata": {
        "id": "8Fa_krvLF5wF",
        "colab_type": "code",
        "outputId": "424b4cb3-1da6-4085-902f-c1e9f078e368",
        "colab": {
          "base_uri": "https://localhost:8080/",
          "height": 266
        }
      },
      "source": [
        "df_pokeimg[df_pokeimg['id'].isnull()]"
      ],
      "execution_count": 11,
      "outputs": [
        {
          "output_type": "execute_result",
          "data": {
            "text/html": [
              "<div>\n",
              "<style scoped>\n",
              "    .dataframe tbody tr th:only-of-type {\n",
              "        vertical-align: middle;\n",
              "    }\n",
              "\n",
              "    .dataframe tbody tr th {\n",
              "        vertical-align: top;\n",
              "    }\n",
              "\n",
              "    .dataframe thead th {\n",
              "        text-align: right;\n",
              "    }\n",
              "</style>\n",
              "<table border=\"1\" class=\"dataframe\">\n",
              "  <thead>\n",
              "    <tr style=\"text-align: right;\">\n",
              "      <th></th>\n",
              "      <th>Name</th>\n",
              "      <th>Type1</th>\n",
              "      <th>Type2</th>\n",
              "      <th>id</th>\n",
              "    </tr>\n",
              "  </thead>\n",
              "  <tbody>\n",
              "    <tr>\n",
              "      <th>802</th>\n",
              "      <td>poipole</td>\n",
              "      <td>Poison</td>\n",
              "      <td>NaN</td>\n",
              "      <td>NaN</td>\n",
              "    </tr>\n",
              "    <tr>\n",
              "      <th>803</th>\n",
              "      <td>naganadel</td>\n",
              "      <td>Poison</td>\n",
              "      <td>Dragon</td>\n",
              "      <td>NaN</td>\n",
              "    </tr>\n",
              "    <tr>\n",
              "      <th>804</th>\n",
              "      <td>stakataka</td>\n",
              "      <td>Rock</td>\n",
              "      <td>Steel</td>\n",
              "      <td>NaN</td>\n",
              "    </tr>\n",
              "    <tr>\n",
              "      <th>805</th>\n",
              "      <td>blacephalon</td>\n",
              "      <td>Fire</td>\n",
              "      <td>Ghost</td>\n",
              "      <td>NaN</td>\n",
              "    </tr>\n",
              "    <tr>\n",
              "      <th>806</th>\n",
              "      <td>zeraora</td>\n",
              "      <td>Electric</td>\n",
              "      <td>NaN</td>\n",
              "      <td>NaN</td>\n",
              "    </tr>\n",
              "    <tr>\n",
              "      <th>807</th>\n",
              "      <td>meltan</td>\n",
              "      <td>Steel</td>\n",
              "      <td>NaN</td>\n",
              "      <td>NaN</td>\n",
              "    </tr>\n",
              "    <tr>\n",
              "      <th>808</th>\n",
              "      <td>melmetal</td>\n",
              "      <td>Steel</td>\n",
              "      <td>NaN</td>\n",
              "      <td>NaN</td>\n",
              "    </tr>\n",
              "  </tbody>\n",
              "</table>\n",
              "</div>"
            ],
            "text/plain": [
              "            Name     Type1   Type2  id\n",
              "802      poipole    Poison     NaN NaN\n",
              "803    naganadel    Poison  Dragon NaN\n",
              "804    stakataka      Rock   Steel NaN\n",
              "805  blacephalon      Fire   Ghost NaN\n",
              "806      zeraora  Electric     NaN NaN\n",
              "807       meltan     Steel     NaN NaN\n",
              "808     melmetal     Steel     NaN NaN"
            ]
          },
          "metadata": {
            "tags": []
          },
          "execution_count": 11
        }
      ]
    },
    {
      "cell_type": "code",
      "metadata": {
        "id": "j0LukuUKXMLo",
        "colab_type": "code",
        "outputId": "d59cb6d9-747f-4039-ccbd-5e4d700e6de6",
        "colab": {
          "base_uri": "https://localhost:8080/",
          "height": 204
        }
      },
      "source": [
        "df_pokeimg['hp'] = np.nan\n",
        "df_pokeimg['attack'] = np.nan\n",
        "df_pokeimg['defense'] = np.nan\n",
        "df_pokeimg['spattack'] = np.nan\n",
        "df_pokeimg['spdefense'] = np.nan\n",
        "df_pokeimg['speed'] = np.nan\n",
        "df_pokeimg['speed'] = np.nan\n",
        "df_pokeimg['total'] = np.nan\n",
        "df_pokeimg.head()"
      ],
      "execution_count": 12,
      "outputs": [
        {
          "output_type": "execute_result",
          "data": {
            "text/html": [
              "<div>\n",
              "<style scoped>\n",
              "    .dataframe tbody tr th:only-of-type {\n",
              "        vertical-align: middle;\n",
              "    }\n",
              "\n",
              "    .dataframe tbody tr th {\n",
              "        vertical-align: top;\n",
              "    }\n",
              "\n",
              "    .dataframe thead th {\n",
              "        text-align: right;\n",
              "    }\n",
              "</style>\n",
              "<table border=\"1\" class=\"dataframe\">\n",
              "  <thead>\n",
              "    <tr style=\"text-align: right;\">\n",
              "      <th></th>\n",
              "      <th>Name</th>\n",
              "      <th>Type1</th>\n",
              "      <th>Type2</th>\n",
              "      <th>id</th>\n",
              "      <th>hp</th>\n",
              "      <th>attack</th>\n",
              "      <th>defense</th>\n",
              "      <th>spattack</th>\n",
              "      <th>spdefense</th>\n",
              "      <th>speed</th>\n",
              "      <th>total</th>\n",
              "    </tr>\n",
              "  </thead>\n",
              "  <tbody>\n",
              "    <tr>\n",
              "      <th>0</th>\n",
              "      <td>bulbasaur</td>\n",
              "      <td>Grass</td>\n",
              "      <td>Poison</td>\n",
              "      <td>0.0</td>\n",
              "      <td>NaN</td>\n",
              "      <td>NaN</td>\n",
              "      <td>NaN</td>\n",
              "      <td>NaN</td>\n",
              "      <td>NaN</td>\n",
              "      <td>NaN</td>\n",
              "      <td>NaN</td>\n",
              "    </tr>\n",
              "    <tr>\n",
              "      <th>1</th>\n",
              "      <td>ivysaur</td>\n",
              "      <td>Grass</td>\n",
              "      <td>Poison</td>\n",
              "      <td>1.0</td>\n",
              "      <td>NaN</td>\n",
              "      <td>NaN</td>\n",
              "      <td>NaN</td>\n",
              "      <td>NaN</td>\n",
              "      <td>NaN</td>\n",
              "      <td>NaN</td>\n",
              "      <td>NaN</td>\n",
              "    </tr>\n",
              "    <tr>\n",
              "      <th>2</th>\n",
              "      <td>venusaur</td>\n",
              "      <td>Grass</td>\n",
              "      <td>Poison</td>\n",
              "      <td>2.0</td>\n",
              "      <td>NaN</td>\n",
              "      <td>NaN</td>\n",
              "      <td>NaN</td>\n",
              "      <td>NaN</td>\n",
              "      <td>NaN</td>\n",
              "      <td>NaN</td>\n",
              "      <td>NaN</td>\n",
              "    </tr>\n",
              "    <tr>\n",
              "      <th>3</th>\n",
              "      <td>charmander</td>\n",
              "      <td>Fire</td>\n",
              "      <td>NaN</td>\n",
              "      <td>3.0</td>\n",
              "      <td>NaN</td>\n",
              "      <td>NaN</td>\n",
              "      <td>NaN</td>\n",
              "      <td>NaN</td>\n",
              "      <td>NaN</td>\n",
              "      <td>NaN</td>\n",
              "      <td>NaN</td>\n",
              "    </tr>\n",
              "    <tr>\n",
              "      <th>4</th>\n",
              "      <td>charmeleon</td>\n",
              "      <td>Fire</td>\n",
              "      <td>NaN</td>\n",
              "      <td>4.0</td>\n",
              "      <td>NaN</td>\n",
              "      <td>NaN</td>\n",
              "      <td>NaN</td>\n",
              "      <td>NaN</td>\n",
              "      <td>NaN</td>\n",
              "      <td>NaN</td>\n",
              "      <td>NaN</td>\n",
              "    </tr>\n",
              "  </tbody>\n",
              "</table>\n",
              "</div>"
            ],
            "text/plain": [
              "         Name  Type1   Type2   id  ...  spattack  spdefense  speed  total\n",
              "0   bulbasaur  Grass  Poison  0.0  ...       NaN        NaN    NaN    NaN\n",
              "1     ivysaur  Grass  Poison  1.0  ...       NaN        NaN    NaN    NaN\n",
              "2    venusaur  Grass  Poison  2.0  ...       NaN        NaN    NaN    NaN\n",
              "3  charmander   Fire     NaN  3.0  ...       NaN        NaN    NaN    NaN\n",
              "4  charmeleon   Fire     NaN  4.0  ...       NaN        NaN    NaN    NaN\n",
              "\n",
              "[5 rows x 11 columns]"
            ]
          },
          "metadata": {
            "tags": []
          },
          "execution_count": 12
        }
      ]
    },
    {
      "cell_type": "code",
      "metadata": {
        "id": "wznprUY6aobG",
        "colab_type": "code",
        "outputId": "53fb888e-8bc7-4a88-a8be-be3175b5cc3d",
        "colab": {
          "base_uri": "https://localhost:8080/",
          "height": 323
        }
      },
      "source": [
        "df_pokeimg = df_pokeimg.dropna(subset=['id'])\n",
        "df_pokeimg['id'] = df_pokeimg['id'].astype(int)\n",
        "df_pokeimg.isnull().sum()"
      ],
      "execution_count": 13,
      "outputs": [
        {
          "output_type": "stream",
          "text": [
            "/usr/local/lib/python3.6/dist-packages/ipykernel_launcher.py:2: SettingWithCopyWarning: \n",
            "A value is trying to be set on a copy of a slice from a DataFrame.\n",
            "Try using .loc[row_indexer,col_indexer] = value instead\n",
            "\n",
            "See the caveats in the documentation: http://pandas.pydata.org/pandas-docs/stable/user_guide/indexing.html#returning-a-view-versus-a-copy\n",
            "  \n"
          ],
          "name": "stderr"
        },
        {
          "output_type": "execute_result",
          "data": {
            "text/plain": [
              "Name           0\n",
              "Type1          0\n",
              "Type2        400\n",
              "id             0\n",
              "hp           802\n",
              "attack       802\n",
              "defense      802\n",
              "spattack     802\n",
              "spdefense    802\n",
              "speed        802\n",
              "total        802\n",
              "dtype: int64"
            ]
          },
          "metadata": {
            "tags": []
          },
          "execution_count": 13
        }
      ]
    },
    {
      "cell_type": "code",
      "metadata": {
        "id": "XrbKNi1QYcG3",
        "colab_type": "code",
        "colab": {}
      },
      "source": [
        "getH = lambda x:  df_poke.iloc[x, 9]\n",
        "getA = lambda x:  df_poke.iloc[x, 10]\n",
        "getB = lambda x:  df_poke.iloc[x, 11]\n",
        "getC = lambda x:  df_poke.iloc[x, 12]\n",
        "getD = lambda x:  df_poke.iloc[x, 13]\n",
        "getS = lambda x:  df_poke.iloc[x, 14]\n",
        "getG = lambda x:  df_poke.iloc[x, 14]\n",
        "getT = lambda x:  df_poke.iloc[x, 15]"
      ],
      "execution_count": 0,
      "outputs": []
    },
    {
      "cell_type": "code",
      "metadata": {
        "id": "iLLZlpZIZf5V",
        "colab_type": "code",
        "outputId": "4e7c12c4-8f5e-4522-f8ca-57d7fa367dc9",
        "colab": {
          "base_uri": "https://localhost:8080/",
          "height": 731
        }
      },
      "source": [
        "df_pokeimg['hp'] = df_pokeimg['id'].map(getH)\n",
        "df_pokeimg['attack'] = df_pokeimg['id'].map(getA)\n",
        "df_pokeimg['defense'] = df_pokeimg['id'].map(getB)\n",
        "df_pokeimg['spattack'] = df_pokeimg['id'].map(getC)\n",
        "df_pokeimg['spdefense'] = df_pokeimg['id'].map(getD)\n",
        "df_pokeimg['speed'] = df_pokeimg['id'].map(getS)\n",
        "df_pokeimg['total'] = df_pokeimg['id'].map(getT)"
      ],
      "execution_count": 15,
      "outputs": [
        {
          "output_type": "stream",
          "text": [
            "/usr/local/lib/python3.6/dist-packages/ipykernel_launcher.py:1: SettingWithCopyWarning: \n",
            "A value is trying to be set on a copy of a slice from a DataFrame.\n",
            "Try using .loc[row_indexer,col_indexer] = value instead\n",
            "\n",
            "See the caveats in the documentation: http://pandas.pydata.org/pandas-docs/stable/user_guide/indexing.html#returning-a-view-versus-a-copy\n",
            "  \"\"\"Entry point for launching an IPython kernel.\n",
            "/usr/local/lib/python3.6/dist-packages/ipykernel_launcher.py:2: SettingWithCopyWarning: \n",
            "A value is trying to be set on a copy of a slice from a DataFrame.\n",
            "Try using .loc[row_indexer,col_indexer] = value instead\n",
            "\n",
            "See the caveats in the documentation: http://pandas.pydata.org/pandas-docs/stable/user_guide/indexing.html#returning-a-view-versus-a-copy\n",
            "  \n",
            "/usr/local/lib/python3.6/dist-packages/ipykernel_launcher.py:3: SettingWithCopyWarning: \n",
            "A value is trying to be set on a copy of a slice from a DataFrame.\n",
            "Try using .loc[row_indexer,col_indexer] = value instead\n",
            "\n",
            "See the caveats in the documentation: http://pandas.pydata.org/pandas-docs/stable/user_guide/indexing.html#returning-a-view-versus-a-copy\n",
            "  This is separate from the ipykernel package so we can avoid doing imports until\n",
            "/usr/local/lib/python3.6/dist-packages/ipykernel_launcher.py:4: SettingWithCopyWarning: \n",
            "A value is trying to be set on a copy of a slice from a DataFrame.\n",
            "Try using .loc[row_indexer,col_indexer] = value instead\n",
            "\n",
            "See the caveats in the documentation: http://pandas.pydata.org/pandas-docs/stable/user_guide/indexing.html#returning-a-view-versus-a-copy\n",
            "  after removing the cwd from sys.path.\n",
            "/usr/local/lib/python3.6/dist-packages/ipykernel_launcher.py:5: SettingWithCopyWarning: \n",
            "A value is trying to be set on a copy of a slice from a DataFrame.\n",
            "Try using .loc[row_indexer,col_indexer] = value instead\n",
            "\n",
            "See the caveats in the documentation: http://pandas.pydata.org/pandas-docs/stable/user_guide/indexing.html#returning-a-view-versus-a-copy\n",
            "  \"\"\"\n",
            "/usr/local/lib/python3.6/dist-packages/ipykernel_launcher.py:6: SettingWithCopyWarning: \n",
            "A value is trying to be set on a copy of a slice from a DataFrame.\n",
            "Try using .loc[row_indexer,col_indexer] = value instead\n",
            "\n",
            "See the caveats in the documentation: http://pandas.pydata.org/pandas-docs/stable/user_guide/indexing.html#returning-a-view-versus-a-copy\n",
            "  \n",
            "/usr/local/lib/python3.6/dist-packages/ipykernel_launcher.py:7: SettingWithCopyWarning: \n",
            "A value is trying to be set on a copy of a slice from a DataFrame.\n",
            "Try using .loc[row_indexer,col_indexer] = value instead\n",
            "\n",
            "See the caveats in the documentation: http://pandas.pydata.org/pandas-docs/stable/user_guide/indexing.html#returning-a-view-versus-a-copy\n",
            "  import sys\n"
          ],
          "name": "stderr"
        }
      ]
    },
    {
      "cell_type": "markdown",
      "metadata": {
        "id": "zT8JMFq7QVvj",
        "colab_type": "text"
      },
      "source": [
        "### タイプを配列に変換"
      ]
    },
    {
      "cell_type": "code",
      "metadata": {
        "id": "5cMbcAc0QQvu",
        "colab_type": "code",
        "colab": {}
      },
      "source": [
        "def type_to_list(series1, series2):\n",
        "  tp_list = []\n",
        "  for tp1, tp2 in zip(series1, series2):\n",
        "    type_dict = {'Normal':0, 'Fighting':0, 'Poison':0, 'Ground':0, 'Flying':0, 'Bug':0, 'Rock':0\n",
        "                 , 'Ghost':0, 'Steel':0, 'Fire':0, 'Water':0, 'Electric':0, 'Grass':0, 'Ice':0\n",
        "                 , 'Psychic':0, 'Dragon':0, 'Dark':0, 'Fairy':0}\n",
        "    if type(tp2) == str:\n",
        "      type_dict[tp1] = 0.5\n",
        "      type_dict[tp2] = 0.5\n",
        "    else:\n",
        "      type_dict[tp1] = 1\n",
        "    tp_list.append(list(type_dict.values()))\n",
        "  return tp_list"
      ],
      "execution_count": 0,
      "outputs": []
    },
    {
      "cell_type": "code",
      "metadata": {
        "id": "S9KZhqDXQiPE",
        "colab_type": "code",
        "colab": {}
      },
      "source": [
        "poke_type = type_to_list(df_pokeimg['Type1'], df_pokeimg['Type2'])"
      ],
      "execution_count": 0,
      "outputs": []
    },
    {
      "cell_type": "code",
      "metadata": {
        "id": "eKuY6g_0cKAE",
        "colab_type": "code",
        "outputId": "94559a05-b51a-4a39-f7b3-082d6f700954",
        "colab": {
          "base_uri": "https://localhost:8080/",
          "height": 204
        }
      },
      "source": [
        "df_pokeimg.head()"
      ],
      "execution_count": 16,
      "outputs": [
        {
          "output_type": "execute_result",
          "data": {
            "text/html": [
              "<div>\n",
              "<style scoped>\n",
              "    .dataframe tbody tr th:only-of-type {\n",
              "        vertical-align: middle;\n",
              "    }\n",
              "\n",
              "    .dataframe tbody tr th {\n",
              "        vertical-align: top;\n",
              "    }\n",
              "\n",
              "    .dataframe thead th {\n",
              "        text-align: right;\n",
              "    }\n",
              "</style>\n",
              "<table border=\"1\" class=\"dataframe\">\n",
              "  <thead>\n",
              "    <tr style=\"text-align: right;\">\n",
              "      <th></th>\n",
              "      <th>Name</th>\n",
              "      <th>Type1</th>\n",
              "      <th>Type2</th>\n",
              "      <th>id</th>\n",
              "      <th>hp</th>\n",
              "      <th>attack</th>\n",
              "      <th>defense</th>\n",
              "      <th>spattack</th>\n",
              "      <th>spdefense</th>\n",
              "      <th>speed</th>\n",
              "      <th>total</th>\n",
              "    </tr>\n",
              "  </thead>\n",
              "  <tbody>\n",
              "    <tr>\n",
              "      <th>0</th>\n",
              "      <td>bulbasaur</td>\n",
              "      <td>Grass</td>\n",
              "      <td>Poison</td>\n",
              "      <td>0</td>\n",
              "      <td>45</td>\n",
              "      <td>49</td>\n",
              "      <td>49</td>\n",
              "      <td>65</td>\n",
              "      <td>65</td>\n",
              "      <td>45</td>\n",
              "      <td>318</td>\n",
              "    </tr>\n",
              "    <tr>\n",
              "      <th>1</th>\n",
              "      <td>ivysaur</td>\n",
              "      <td>Grass</td>\n",
              "      <td>Poison</td>\n",
              "      <td>1</td>\n",
              "      <td>60</td>\n",
              "      <td>62</td>\n",
              "      <td>63</td>\n",
              "      <td>80</td>\n",
              "      <td>80</td>\n",
              "      <td>60</td>\n",
              "      <td>405</td>\n",
              "    </tr>\n",
              "    <tr>\n",
              "      <th>2</th>\n",
              "      <td>venusaur</td>\n",
              "      <td>Grass</td>\n",
              "      <td>Poison</td>\n",
              "      <td>2</td>\n",
              "      <td>80</td>\n",
              "      <td>82</td>\n",
              "      <td>83</td>\n",
              "      <td>100</td>\n",
              "      <td>100</td>\n",
              "      <td>80</td>\n",
              "      <td>525</td>\n",
              "    </tr>\n",
              "    <tr>\n",
              "      <th>3</th>\n",
              "      <td>charmander</td>\n",
              "      <td>Fire</td>\n",
              "      <td>NaN</td>\n",
              "      <td>3</td>\n",
              "      <td>39</td>\n",
              "      <td>52</td>\n",
              "      <td>43</td>\n",
              "      <td>60</td>\n",
              "      <td>50</td>\n",
              "      <td>65</td>\n",
              "      <td>309</td>\n",
              "    </tr>\n",
              "    <tr>\n",
              "      <th>4</th>\n",
              "      <td>charmeleon</td>\n",
              "      <td>Fire</td>\n",
              "      <td>NaN</td>\n",
              "      <td>4</td>\n",
              "      <td>58</td>\n",
              "      <td>64</td>\n",
              "      <td>58</td>\n",
              "      <td>80</td>\n",
              "      <td>65</td>\n",
              "      <td>80</td>\n",
              "      <td>405</td>\n",
              "    </tr>\n",
              "  </tbody>\n",
              "</table>\n",
              "</div>"
            ],
            "text/plain": [
              "         Name  Type1   Type2  id  ...  spattack  spdefense  speed  total\n",
              "0   bulbasaur  Grass  Poison   0  ...        65         65     45    318\n",
              "1     ivysaur  Grass  Poison   1  ...        80         80     60    405\n",
              "2    venusaur  Grass  Poison   2  ...       100        100     80    525\n",
              "3  charmander   Fire     NaN   3  ...        60         50     65    309\n",
              "4  charmeleon   Fire     NaN   4  ...        80         65     80    405\n",
              "\n",
              "[5 rows x 11 columns]"
            ]
          },
          "metadata": {
            "tags": []
          },
          "execution_count": 16
        }
      ]
    },
    {
      "cell_type": "code",
      "metadata": {
        "id": "rvDR1BrULCQ9",
        "colab_type": "code",
        "colab": {}
      },
      "source": [
        "y_t = df_pokeimg['total'].values\n",
        "y_h = df_pokeimg['hp'].values\n",
        "y_a = df_pokeimg['attack'].values\n",
        "y_b = df_pokeimg['defense'].values\n",
        "y_c = df_pokeimg['spattack'].values\n",
        "y_d = df_pokeimg['spdefense'].values\n",
        "y_s = df_pokeimg['speed'].values\n",
        "\n",
        "y_t_train = y_t[:721]\n",
        "y_t_test = y_t[721:]\n",
        "\n",
        "y_h_train = y_h[:721]\n",
        "y_h_test = y_h[721:]\n",
        "y_a_train = y_a[:721]\n",
        "y_a_test = y_a[721:]\n",
        "y_b_train = y_b[:721]\n",
        "y_b_test = y_b[721:]\n",
        "y_c_train = y_c[:721]\n",
        "y_c_test = y_c[721:]\n",
        "y_d_train = y_d[:721]\n",
        "y_d_test = y_d[721:]\n",
        "y_s_train = y_s[:721]\n",
        "y_s_test = y_s[721:]"
      ],
      "execution_count": 0,
      "outputs": []
    },
    {
      "cell_type": "markdown",
      "metadata": {
        "id": "B-8VHJp0Pff3",
        "colab_type": "text"
      },
      "source": [
        "### 入力の画像データを作成\n"
      ]
    },
    {
      "cell_type": "code",
      "metadata": {
        "id": "jkLDczAM6In4",
        "colab_type": "code",
        "colab": {}
      },
      "source": [
        "#作成したファイルを消してやり直したい時\n",
        "#!rm -rf images"
      ],
      "execution_count": 0,
      "outputs": []
    },
    {
      "cell_type": "markdown",
      "metadata": {
        "id": "nCZCk0VVdi31",
        "colab_type": "text"
      },
      "source": [
        "#### pngはjpgに変換"
      ]
    },
    {
      "cell_type": "code",
      "metadata": {
        "id": "QSyAMTcz0YzX",
        "colab_type": "code",
        "outputId": "323cfbf0-c160-4736-9c40-56e88a1b3feb",
        "colab": {
          "base_uri": "https://localhost:8080/",
          "height": 34
        }
      },
      "source": [
        "image_png_paths = glob.glob('images/*.png')\n",
        "error_count = 0\n",
        "for png_path in image_png_paths:\n",
        "  try:\n",
        "    path = pathlib.Path(png_path)\n",
        "    filename = os.path.splitext(path.name)[0]\n",
        "    img=PIL.Image.open(path)\n",
        "    img.load()\n",
        "    if img.mode == 'RGBA' :\n",
        "      pass\n",
        "    elif img.mode == 'P':\n",
        "      img = img.convert(\"RGBA\")\n",
        "    else :\n",
        "      print(png_path, img.mode)\n",
        "    background = PIL.Image.new(\"RGB\", img.size, (255, 255, 255))\n",
        "    background.paste(img, mask=img.split()[3])\n",
        "    background.save('images/' + filename + '.jpg',\"JPEG\",quality=95)\n",
        "  except Exception as e:\n",
        "    tb = sys.exc_info()[2]\n",
        "    print(\"message:{0}\".format(e.with_traceback(tb)))\n",
        "    error_count += 1\n",
        "\n",
        "print(error_count)"
      ],
      "execution_count": 19,
      "outputs": [
        {
          "output_type": "stream",
          "text": [
            "0\n"
          ],
          "name": "stdout"
        }
      ]
    },
    {
      "cell_type": "code",
      "metadata": {
        "id": "s_cFLJukJfS8",
        "colab_type": "code",
        "colab": {}
      },
      "source": [
        "# 作成したjpgをダウンロードしたい時\n",
        "#!zip imagesjpg.zip images/*jpg"
      ],
      "execution_count": 0,
      "outputs": []
    },
    {
      "cell_type": "code",
      "metadata": {
        "id": "17tp1ADRE7F5",
        "colab_type": "code",
        "colab": {}
      },
      "source": [
        "fe = lambda x:  'images/' + x + '.jpg'\n",
        "images = df_pokeimg['Name'].map(fe)"
      ],
      "execution_count": 0,
      "outputs": []
    },
    {
      "cell_type": "code",
      "metadata": {
        "id": "uuqrETGIGQmr",
        "colab_type": "code",
        "colab": {}
      },
      "source": [
        "name_images_f = [] \n",
        "\n",
        "for image in images:\n",
        "  path = pathlib.Path(image)\n",
        "  # ファイルパス\n",
        "  fullpath = str(path.resolve())\n",
        "  # ファイル名\n",
        "  filename = os.path.splitext(path.name)[0]\n",
        "  image = cv2.imread(fullpath)\n",
        "  orgH, orgW = image.shape[:2]\n",
        "  size = (int(orgH/4), int(orgW/4))\n",
        "  resize_img = cv2.resize(image, size)\n",
        "  # GBRのときは１次元にする\n",
        "  name_images_f.append(resize_img.flatten())"
      ],
      "execution_count": 0,
      "outputs": []
    },
    {
      "cell_type": "code",
      "metadata": {
        "id": "eoLqX493585o",
        "colab_type": "code",
        "colab": {}
      },
      "source": [
        "X_f_train = np.array(name_images_f[:721])/255\n",
        "X_f_test = np.array(name_images_f[721:])/255"
      ],
      "execution_count": 0,
      "outputs": []
    },
    {
      "cell_type": "markdown",
      "metadata": {
        "id": "KaG5r0fPCBXd",
        "colab_type": "text"
      },
      "source": [
        "## 学習\n",
        "各種族値、及び合計種族値を予測するモデルをそれぞれ作成する"
      ]
    },
    {
      "cell_type": "markdown",
      "metadata": {
        "id": "Y3hFQ_nlxJ7V",
        "colab_type": "text"
      },
      "source": [
        "### GradientBoostingRegressor"
      ]
    },
    {
      "cell_type": "code",
      "metadata": {
        "id": "5rLqGiLL-Dku",
        "colab_type": "code",
        "colab": {}
      },
      "source": [
        "from sklearn.model_selection import GridSearchCV\n",
        "from sklearn.ensemble import GradientBoostingRegressor\n",
        "import pickle\n",
        "from sklearn.metrics import mean_absolute_error"
      ],
      "execution_count": 0,
      "outputs": []
    },
    {
      "cell_type": "code",
      "metadata": {
        "id": "t63uwgt-Z67O",
        "colab_type": "code",
        "colab": {}
      },
      "source": [
        "# グリッドサーチのパラメータリスト\n",
        "parameters = {'learning_rate': [0.1]\n",
        "              , 'n_estimators': [100]\n",
        "              , 'max_depth': [3]\n",
        "              }"
      ],
      "execution_count": 0,
      "outputs": []
    },
    {
      "cell_type": "markdown",
      "metadata": {
        "id": "Em4OH25-ennW",
        "colab_type": "text"
      },
      "source": [
        "#### 合計種族値モデル"
      ]
    },
    {
      "cell_type": "code",
      "metadata": {
        "id": "WS-wt58QSBUC",
        "colab_type": "code",
        "colab": {}
      },
      "source": [
        "model_total = GridSearchCV(estimator = GradientBoostingRegressor()\n",
        "                  , param_grid = parameters, cv=2)\n",
        "# 交差検証とグリッドサーチがどちらも実行される\n",
        "model_total.fit(X_f_train, y_t_train)\n",
        "\n",
        "filename = 'model_total.sav'\n",
        "pickle.dump(model_total, open(filename, 'wb'))"
      ],
      "execution_count": 0,
      "outputs": []
    },
    {
      "cell_type": "code",
      "metadata": {
        "id": "1q-_jniDSGwE",
        "colab_type": "code",
        "outputId": "c51ec21b-ee9b-448f-a956-fb1f7f0541dd",
        "colab": {
          "base_uri": "https://localhost:8080/",
          "height": 34
        }
      },
      "source": [
        "print('Best parameters: {}'.format(model_total.best_params_))"
      ],
      "execution_count": 27,
      "outputs": [
        {
          "output_type": "stream",
          "text": [
            "Best parameters: {'learning_rate': 0.1, 'max_depth': 3, 'n_estimators': 100}\n"
          ],
          "name": "stdout"
        }
      ]
    },
    {
      "cell_type": "code",
      "metadata": {
        "id": "JWjmEoamqgpr",
        "colab_type": "code",
        "outputId": "7b72d24d-c012-45d5-fbd5-67e4f3784a97",
        "colab": {
          "base_uri": "https://localhost:8080/",
          "height": 282
        }
      },
      "source": [
        "y_pred_train = model_total.predict(X_f_train)\n",
        "y_pred_test = model_total.predict(X_f_test)\n",
        "\n",
        "plt.scatter(y_t_train, y_pred_train, c='r', marker='s',label=\"train\")\n",
        "plt.scatter(y_t_test, y_pred_test, c='b', marker='s',label=\"test\")\n",
        "plt.legend()\n",
        "plt.plot([0,750],[0,750])\n",
        "\n",
        "mean_absolute_error(y_t_test, y_pred_test)"
      ],
      "execution_count": 28,
      "outputs": [
        {
          "output_type": "execute_result",
          "data": {
            "text/plain": [
              "69.67967105879492"
            ]
          },
          "metadata": {
            "tags": []
          },
          "execution_count": 28
        },
        {
          "output_type": "display_data",
          "data": {
            "image/png": "[encoded data removed]",
            "text/plain": [
              "<Figure size 432x288 with 1 Axes>"
            ]
          },
          "metadata": {
            "tags": []
          }
        }
      ]
    },
    {
      "cell_type": "markdown",
      "metadata": {
        "id": "KFGkAQaOerzg",
        "colab_type": "text"
      },
      "source": [
        "#### HPモデル"
      ]
    },
    {
      "cell_type": "code",
      "metadata": {
        "id": "oh_hgNMcZGi0",
        "colab_type": "code",
        "colab": {}
      },
      "source": [
        "model_hp = GridSearchCV(estimator = GradientBoostingRegressor()\n",
        "                  , param_grid = parameters, cv=2)\n",
        "model_hp.fit(X_f_train, y_h_train)\n",
        "\n",
        "filename = 'model_hp.sav'\n",
        "pickle.dump(model_hp, open(filename, 'wb'))"
      ],
      "execution_count": 0,
      "outputs": []
    },
    {
      "cell_type": "code",
      "metadata": {
        "id": "7vyFaPjJakOI",
        "colab_type": "code",
        "outputId": "14fac210-eab0-4236-b1d2-533080fd4123",
        "colab": {
          "base_uri": "https://localhost:8080/",
          "height": 282
        }
      },
      "source": [
        "y_pred_train = model_hp.predict(X_f_train)\n",
        "y_pred_test = model_hp.predict(X_f_test)\n",
        "\n",
        "plt.scatter(y_h_train, y_pred_train, c='r', marker='s',label=\"train\")\n",
        "plt.scatter(y_h_test, y_pred_test, c='b', marker='s',label=\"test\")\n",
        "plt.legend()\n",
        "plt.plot([0,200],[0,200])\n",
        "\n",
        "mean_absolute_error(y_h_test, y_pred_test)"
      ],
      "execution_count": 30,
      "outputs": [
        {
          "output_type": "execute_result",
          "data": {
            "text/plain": [
              "15.498115028800724"
            ]
          },
          "metadata": {
            "tags": []
          },
          "execution_count": 30
        },
        {
          "output_type": "display_data",
          "data": {
            "image/png": "[encoded data removed]",
            "text/plain": [
              "<Figure size 432x288 with 1 Axes>"
            ]
          },
          "metadata": {
            "tags": []
          }
        }
      ]
    },
    {
      "cell_type": "markdown",
      "metadata": {
        "id": "dBJKmYNOVdwN",
        "colab_type": "text"
      },
      "source": [
        "#### Atackモデル"
      ]
    },
    {
      "cell_type": "code",
      "metadata": {
        "id": "4lcoXAzOWP4k",
        "colab_type": "code",
        "colab": {}
      },
      "source": [
        "model_attack = GridSearchCV(estimator = GradientBoostingRegressor()\n",
        "                  , param_grid = parameters, cv=2)\n",
        "model_attack.fit(X_f_train, y_a_train)\n",
        "\n",
        "filename = 'model_attack.sav'\n",
        "pickle.dump(model_attack, open(filename, 'wb'))"
      ],
      "execution_count": 0,
      "outputs": []
    },
    {
      "cell_type": "code",
      "metadata": {
        "id": "R4HKClrdW8Zb",
        "colab_type": "code",
        "colab": {
          "base_uri": "https://localhost:8080/",
          "height": 282
        },
        "outputId": "5b01c8c9-ff8e-42e7-9603-383ff59e8362"
      },
      "source": [
        "y_pred_train = model_attack.predict(X_f_train)\n",
        "y_pred_test = model_attack.predict(X_f_test)\n",
        "\n",
        "plt.scatter(y_a_train, y_pred_train, c='r', marker='s',label=\"train\")\n",
        "plt.scatter(y_a_test, y_pred_test, c='b', marker='s',label=\"test\")\n",
        "plt.legend()\n",
        "plt.plot([0,200],[0,200])\n",
        "\n",
        "mean_absolute_error(y_a_test, y_pred_test)"
      ],
      "execution_count": 32,
      "outputs": [
        {
          "output_type": "execute_result",
          "data": {
            "text/plain": [
              "21.429360193824486"
            ]
          },
          "metadata": {
            "tags": []
          },
          "execution_count": 32
        },
        {
          "output_type": "display_data",
          "data": {
            "image/png": "[encoded data removed]",
            "text/plain": [
              "<Figure size 432x288 with 1 Axes>"
            ]
          },
          "metadata": {
            "tags": []
          }
        }
      ]
    },
    {
      "cell_type": "markdown",
      "metadata": {
        "id": "evoPBbXKJqDd",
        "colab_type": "text"
      },
      "source": [
        "#### Defenseモデル"
      ]
    },
    {
      "cell_type": "code",
      "metadata": {
        "id": "6DvLGvIFJpNx",
        "colab_type": "code",
        "colab": {}
      },
      "source": [
        "model_defense = GridSearchCV(estimator = GradientBoostingRegressor()\n",
        "                  , param_grid = parameters, cv=2)\n",
        "model_defense.fit(X_f_train, y_b_train)\n",
        "\n",
        "filename = 'model_defense.sav'\n",
        "pickle.dump(model_defense, open(filename, 'wb'))"
      ],
      "execution_count": 0,
      "outputs": []
    },
    {
      "cell_type": "code",
      "metadata": {
        "id": "NGgXTngFJvjG",
        "colab_type": "code",
        "colab": {
          "base_uri": "https://localhost:8080/",
          "height": 282
        },
        "outputId": "26a10ec5-b5c6-4cbd-8b01-2a8d88958898"
      },
      "source": [
        "y_pred_train = model_defense.predict(X_f_train)\n",
        "y_pred_test = model_defense.predict(X_f_test)\n",
        "\n",
        "plt.scatter(y_b_train, y_pred_train, c='r', marker='s',label=\"train\")\n",
        "plt.scatter(y_b_test, y_pred_test, c='b', marker='s',label=\"test\")\n",
        "plt.legend()\n",
        "plt.plot([0,200],[0,200])\n",
        "\n",
        "mean_absolute_error(y_b_test, y_pred_test)"
      ],
      "execution_count": 34,
      "outputs": [
        {
          "output_type": "execute_result",
          "data": {
            "text/plain": [
              "20.939309240151236"
            ]
          },
          "metadata": {
            "tags": []
          },
          "execution_count": 34
        },
        {
          "output_type": "display_data",
          "data": {
            "image/png": "[encoded data removed]",
            "text/plain": [
              "<Figure size 432x288 with 1 Axes>"
            ]
          },
          "metadata": {
            "tags": []
          }
        }
      ]
    },
    {
      "cell_type": "markdown",
      "metadata": {
        "id": "bTlHb4dHO-b4",
        "colab_type": "text"
      },
      "source": [
        "#### SpAttackモデル"
      ]
    },
    {
      "cell_type": "code",
      "metadata": {
        "id": "2ctXglZaPCYF",
        "colab_type": "code",
        "colab": {}
      },
      "source": [
        "model_spattack = GridSearchCV(estimator = GradientBoostingRegressor()\n",
        "                  , param_grid = parameters, cv=2)\n",
        "model_spattack.fit(X_f_train, y_c_train)\n",
        "\n",
        "filename = 'model_spattack.sav'\n",
        "pickle.dump(model_spattack, open(filename, 'wb'))"
      ],
      "execution_count": 0,
      "outputs": []
    },
    {
      "cell_type": "code",
      "metadata": {
        "id": "uTaU1Rk5PWcc",
        "colab_type": "code",
        "colab": {
          "base_uri": "https://localhost:8080/",
          "height": 282
        },
        "outputId": "3f64524e-00d7-478e-952b-588436e17224"
      },
      "source": [
        "y_pred_train = model_spattack.predict(X_f_train)\n",
        "y_pred_test = model_spattack.predict(X_f_test)\n",
        "\n",
        "plt.scatter(y_c_train, y_pred_train, c='r', marker='s',label=\"train\")\n",
        "plt.scatter(y_c_test, y_pred_test, c='b', marker='s',label=\"test\")\n",
        "plt.legend()\n",
        "plt.plot([0,200],[0,200])\n",
        "\n",
        "mean_absolute_error(y_c_test, y_pred_test)"
      ],
      "execution_count": 36,
      "outputs": [
        {
          "output_type": "execute_result",
          "data": {
            "text/plain": [
              "21.8597659404912"
            ]
          },
          "metadata": {
            "tags": []
          },
          "execution_count": 36
        },
        {
          "output_type": "display_data",
          "data": {
            "image/png": "[encoded data removed]",
            "text/plain": [
              "<Figure size 432x288 with 1 Axes>"
            ]
          },
          "metadata": {
            "tags": []
          }
        }
      ]
    },
    {
      "cell_type": "markdown",
      "metadata": {
        "id": "MJ2MpiyYPbSe",
        "colab_type": "text"
      },
      "source": [
        "#### SpDefenseモデル"
      ]
    },
    {
      "cell_type": "code",
      "metadata": {
        "id": "Sn4fMsSzPei9",
        "colab_type": "code",
        "colab": {}
      },
      "source": [
        "model_spdefense = GridSearchCV(estimator = GradientBoostingRegressor()\n",
        "                  , param_grid = parameters, cv=2)\n",
        "model_spdefense.fit(X_f_train, y_d_train)\n",
        "\n",
        "filename = 'model_spdefense.sav'\n",
        "pickle.dump(model_spdefense, open(filename, 'wb'))"
      ],
      "execution_count": 0,
      "outputs": []
    },
    {
      "cell_type": "code",
      "metadata": {
        "id": "CpOBNSYm3NIC",
        "colab_type": "code",
        "colab": {
          "base_uri": "https://localhost:8080/",
          "height": 282
        },
        "outputId": "c589a2db-c73b-45c6-f464-72a81128470d"
      },
      "source": [
        "y_pred_train = model_spdefense.predict(X_f_train)\n",
        "y_pred_test = model_spdefense.predict(X_f_test)\n",
        "\n",
        "plt.scatter(y_d_train, y_pred_train, c='r', marker='s',label=\"train\")\n",
        "plt.scatter(y_d_test, y_pred_test, c='b', marker='s',label=\"test\")\n",
        "plt.legend()\n",
        "plt.plot([0,200],[0,200])\n",
        "\n",
        "mean_absolute_error(y_d_test, y_pred_test)"
      ],
      "execution_count": 38,
      "outputs": [
        {
          "output_type": "execute_result",
          "data": {
            "text/plain": [
              "21.47228571502076"
            ]
          },
          "metadata": {
            "tags": []
          },
          "execution_count": 38
        },
        {
          "output_type": "display_data",
          "data": {
            "image/png": "[encoded data removed]",
            "text/plain": [
              "<Figure size 432x288 with 1 Axes>"
            ]
          },
          "metadata": {
            "tags": []
          }
        }
      ]
    },
    {
      "cell_type": "markdown",
      "metadata": {
        "id": "gfjdBNbjiWHk",
        "colab_type": "text"
      },
      "source": [
        "#### Speedモデル"
      ]
    },
    {
      "cell_type": "code",
      "metadata": {
        "id": "KD_FC9oVijXB",
        "colab_type": "code",
        "colab": {}
      },
      "source": [
        "model_speed = GridSearchCV(estimator = GradientBoostingRegressor()\n",
        "                  , param_grid = parameters, cv=2)\n",
        "model_speed.fit(X_f_train, y_s_train)\n",
        "\n",
        "filename = 'model_speed.sav'\n",
        "pickle.dump(model_speed, open(filename, 'wb'))"
      ],
      "execution_count": 0,
      "outputs": []
    },
    {
      "cell_type": "code",
      "metadata": {
        "id": "Kf1j2eKgiqsa",
        "colab_type": "code",
        "outputId": "5fa79731-1fe0-42cc-fa02-b7cc0de4f65c",
        "colab": {
          "base_uri": "https://localhost:8080/",
          "height": 282
        }
      },
      "source": [
        "y_pred_train = model_speed.predict(X_f_train)\n",
        "y_pred_test = model_speed.predict(X_f_test)\n",
        "\n",
        "plt.scatter(y_s_train, y_pred_train, c='r', marker='s',label=\"train\")\n",
        "plt.scatter(y_s_test, y_pred_test, c='b', marker='s',label=\"test\")\n",
        "plt.legend()\n",
        "plt.plot([0,200],[0,200])\n",
        "\n",
        "mean_absolute_error(y_s_test, y_pred_test)"
      ],
      "execution_count": 40,
      "outputs": [
        {
          "output_type": "execute_result",
          "data": {
            "text/plain": [
              "22.548522840810936"
            ]
          },
          "metadata": {
            "tags": []
          },
          "execution_count": 40
        },
        {
          "output_type": "display_data",
          "data": {
            "image/png": "[encoded data removed]",
            "text/plain": [
              "<Figure size 432x288 with 1 Axes>"
            ]
          },
          "metadata": {
            "tags": []
          }
        }
      ]
    },
    {
      "cell_type": "markdown",
      "metadata": {
        "id": "Aref0wJR6mSb",
        "colab_type": "text"
      },
      "source": [
        "### モデル出力値補正\n",
        "H,A,B,C,D,Sそれぞれに対し、（モデルから出力された合計種族値種族値）/（モデルから出力されたH,A,B,C,D,Sの合計）で補正する。"
      ]
    },
    {
      "cell_type": "code",
      "metadata": {
        "id": "7C1K4gZ18EKu",
        "colab_type": "code",
        "colab": {}
      },
      "source": [
        "model_total = pickle.load(open('model_total.sav', 'rb'))\n",
        "model_hp = pickle.load(open('model_hp.sav', 'rb'))\n",
        "model_attack = pickle.load(open('model_attack.sav', 'rb'))\n",
        "model_defense = pickle.load(open('model_defense.sav', 'rb'))\n",
        "model_spattack = pickle.load(open('model_spattack.sav', 'rb'))\n",
        "model_spdefense = pickle.load(open('model_spdefense.sav', 'rb'))\n",
        "model_speed = pickle.load(open('model_speed.sav', 'rb'))"
      ],
      "execution_count": 0,
      "outputs": []
    },
    {
      "cell_type": "code",
      "metadata": {
        "id": "T1zykluP9WW6",
        "colab_type": "code",
        "colab": {}
      },
      "source": [
        "y_pred_t = model_total.predict(X_f_test)\n",
        "y_pred_h = model_hp.predict(X_f_test)\n",
        "y_pred_a = model_attack.predict(X_f_test)\n",
        "y_pred_b = model_defense.predict(X_f_test)\n",
        "y_pred_c = model_spattack.predict(X_f_test)\n",
        "y_pred_d = model_spdefense.predict(X_f_test)\n",
        "y_pred_s = model_speed.predict(X_f_test)\n",
        "\n",
        "for i, total in enumerate(y_pred_t):\n",
        "  correct_val = total/(y_pred_h[i]+y_pred_a[i]+y_pred_b[i]+y_pred_c[i]+y_pred_d[i]+y_pred_s[i])\n",
        "  y_pred_h[i] = y_pred_h[i]*correct_val\n",
        "  y_pred_a[i] = y_pred_a[i]*correct_val\n",
        "  y_pred_b[i] = y_pred_b[i]*correct_val\n",
        "  y_pred_c[i] = y_pred_c[i]*correct_val\n",
        "  y_pred_d[i] = y_pred_d[i]*correct_val\n",
        "  y_pred_s[i] = y_pred_s[i]*correct_val"
      ],
      "execution_count": 0,
      "outputs": []
    },
    {
      "cell_type": "code",
      "metadata": {
        "id": "bkbENXB5_KVO",
        "colab_type": "code",
        "colab": {}
      },
      "source": [
        "df_pred = pd.DataFrame({ \n",
        "                      'pred_hp' : y_pred_h,\n",
        "                      'pred_attack' : y_pred_a,\n",
        "                      'pred_defense' : y_pred_b,\n",
        "                      'pred_spattack' : y_pred_c,\n",
        "                      'pred_spdefense' : y_pred_d,\n",
        "                      'pred_speed' : y_pred_s,\n",
        "                      'pred_total' : y_pred_t })"
      ],
      "execution_count": 0,
      "outputs": []
    },
    {
      "cell_type": "code",
      "metadata": {
        "id": "nm_TR_5UGJFN",
        "colab_type": "code",
        "colab": {
          "base_uri": "https://localhost:8080/",
          "height": 439
        },
        "outputId": "927b6751-b1f3-40e9-af8e-d43d6bf75ed6"
      },
      "source": [
        "df_result = pd.concat([df_pokeimg[721:].reset_index(drop=True), df_pred], axis=1)\n",
        "df_result"
      ],
      "execution_count": 44,
      "outputs": [
        {
          "output_type": "execute_result",
          "data": {
            "text/html": [
              "<div>\n",
              "<style scoped>\n",
              "    .dataframe tbody tr th:only-of-type {\n",
              "        vertical-align: middle;\n",
              "    }\n",
              "\n",
              "    .dataframe tbody tr th {\n",
              "        vertical-align: top;\n",
              "    }\n",
              "\n",
              "    .dataframe thead th {\n",
              "        text-align: right;\n",
              "    }\n",
              "</style>\n",
              "<table border=\"1\" class=\"dataframe\">\n",
              "  <thead>\n",
              "    <tr style=\"text-align: right;\">\n",
              "      <th></th>\n",
              "      <th>Name</th>\n",
              "      <th>Type1</th>\n",
              "      <th>Type2</th>\n",
              "      <th>id</th>\n",
              "      <th>hp</th>\n",
              "      <th>attack</th>\n",
              "      <th>defense</th>\n",
              "      <th>spattack</th>\n",
              "      <th>spdefense</th>\n",
              "      <th>speed</th>\n",
              "      <th>total</th>\n",
              "      <th>pred_hp</th>\n",
              "      <th>pred_attack</th>\n",
              "      <th>pred_defense</th>\n",
              "      <th>pred_spattack</th>\n",
              "      <th>pred_spdefense</th>\n",
              "      <th>pred_speed</th>\n",
              "      <th>pred_total</th>\n",
              "    </tr>\n",
              "  </thead>\n",
              "  <tbody>\n",
              "    <tr>\n",
              "      <th>0</th>\n",
              "      <td>rowlet</td>\n",
              "      <td>Grass</td>\n",
              "      <td>Flying</td>\n",
              "      <td>721</td>\n",
              "      <td>68</td>\n",
              "      <td>55</td>\n",
              "      <td>55</td>\n",
              "      <td>50</td>\n",
              "      <td>50</td>\n",
              "      <td>42</td>\n",
              "      <td>320</td>\n",
              "      <td>45.669089</td>\n",
              "      <td>53.847549</td>\n",
              "      <td>53.461923</td>\n",
              "      <td>45.846411</td>\n",
              "      <td>45.582465</td>\n",
              "      <td>60.135361</td>\n",
              "      <td>304.542798</td>\n",
              "    </tr>\n",
              "    <tr>\n",
              "      <th>1</th>\n",
              "      <td>dartrix</td>\n",
              "      <td>Grass</td>\n",
              "      <td>Flying</td>\n",
              "      <td>722</td>\n",
              "      <td>78</td>\n",
              "      <td>75</td>\n",
              "      <td>75</td>\n",
              "      <td>70</td>\n",
              "      <td>70</td>\n",
              "      <td>52</td>\n",
              "      <td>420</td>\n",
              "      <td>84.830520</td>\n",
              "      <td>79.124200</td>\n",
              "      <td>58.629660</td>\n",
              "      <td>64.267522</td>\n",
              "      <td>67.271104</td>\n",
              "      <td>65.586581</td>\n",
              "      <td>419.709588</td>\n",
              "    </tr>\n",
              "    <tr>\n",
              "      <th>2</th>\n",
              "      <td>decidueye</td>\n",
              "      <td>Grass</td>\n",
              "      <td>Ghost</td>\n",
              "      <td>723</td>\n",
              "      <td>78</td>\n",
              "      <td>107</td>\n",
              "      <td>75</td>\n",
              "      <td>100</td>\n",
              "      <td>100</td>\n",
              "      <td>70</td>\n",
              "      <td>530</td>\n",
              "      <td>83.309099</td>\n",
              "      <td>99.591432</td>\n",
              "      <td>81.806400</td>\n",
              "      <td>102.055596</td>\n",
              "      <td>114.983180</td>\n",
              "      <td>74.117923</td>\n",
              "      <td>555.863630</td>\n",
              "    </tr>\n",
              "    <tr>\n",
              "      <th>3</th>\n",
              "      <td>litten</td>\n",
              "      <td>Fire</td>\n",
              "      <td>NaN</td>\n",
              "      <td>724</td>\n",
              "      <td>45</td>\n",
              "      <td>65</td>\n",
              "      <td>40</td>\n",
              "      <td>60</td>\n",
              "      <td>40</td>\n",
              "      <td>70</td>\n",
              "      <td>320</td>\n",
              "      <td>43.426570</td>\n",
              "      <td>50.699395</td>\n",
              "      <td>53.456978</td>\n",
              "      <td>46.371553</td>\n",
              "      <td>49.856536</td>\n",
              "      <td>57.268545</td>\n",
              "      <td>301.079578</td>\n",
              "    </tr>\n",
              "    <tr>\n",
              "      <th>4</th>\n",
              "      <td>torracat</td>\n",
              "      <td>Fire</td>\n",
              "      <td>NaN</td>\n",
              "      <td>725</td>\n",
              "      <td>65</td>\n",
              "      <td>85</td>\n",
              "      <td>50</td>\n",
              "      <td>80</td>\n",
              "      <td>50</td>\n",
              "      <td>90</td>\n",
              "      <td>420</td>\n",
              "      <td>67.452423</td>\n",
              "      <td>95.985700</td>\n",
              "      <td>92.217301</td>\n",
              "      <td>73.656432</td>\n",
              "      <td>75.337599</td>\n",
              "      <td>84.289876</td>\n",
              "      <td>488.939332</td>\n",
              "    </tr>\n",
              "    <tr>\n",
              "      <th>...</th>\n",
              "      <td>...</td>\n",
              "      <td>...</td>\n",
              "      <td>...</td>\n",
              "      <td>...</td>\n",
              "      <td>...</td>\n",
              "      <td>...</td>\n",
              "      <td>...</td>\n",
              "      <td>...</td>\n",
              "      <td>...</td>\n",
              "      <td>...</td>\n",
              "      <td>...</td>\n",
              "      <td>...</td>\n",
              "      <td>...</td>\n",
              "      <td>...</td>\n",
              "      <td>...</td>\n",
              "      <td>...</td>\n",
              "      <td>...</td>\n",
              "      <td>...</td>\n",
              "    </tr>\n",
              "    <tr>\n",
              "      <th>76</th>\n",
              "      <td>kartana</td>\n",
              "      <td>Grass</td>\n",
              "      <td>Steel</td>\n",
              "      <td>797</td>\n",
              "      <td>59</td>\n",
              "      <td>181</td>\n",
              "      <td>131</td>\n",
              "      <td>59</td>\n",
              "      <td>31</td>\n",
              "      <td>109</td>\n",
              "      <td>570</td>\n",
              "      <td>54.615274</td>\n",
              "      <td>66.220866</td>\n",
              "      <td>78.012573</td>\n",
              "      <td>57.132051</td>\n",
              "      <td>67.280731</td>\n",
              "      <td>77.233343</td>\n",
              "      <td>400.494837</td>\n",
              "    </tr>\n",
              "    <tr>\n",
              "      <th>77</th>\n",
              "      <td>guzzlord</td>\n",
              "      <td>Dark</td>\n",
              "      <td>Dragon</td>\n",
              "      <td>798</td>\n",
              "      <td>223</td>\n",
              "      <td>101</td>\n",
              "      <td>53</td>\n",
              "      <td>97</td>\n",
              "      <td>53</td>\n",
              "      <td>43</td>\n",
              "      <td>570</td>\n",
              "      <td>99.986112</td>\n",
              "      <td>109.328819</td>\n",
              "      <td>139.798667</td>\n",
              "      <td>79.142466</td>\n",
              "      <td>91.139506</td>\n",
              "      <td>47.744900</td>\n",
              "      <td>567.140470</td>\n",
              "    </tr>\n",
              "    <tr>\n",
              "      <th>78</th>\n",
              "      <td>necrozma</td>\n",
              "      <td>Psychic</td>\n",
              "      <td>NaN</td>\n",
              "      <td>799</td>\n",
              "      <td>97</td>\n",
              "      <td>107</td>\n",
              "      <td>101</td>\n",
              "      <td>127</td>\n",
              "      <td>89</td>\n",
              "      <td>79</td>\n",
              "      <td>600</td>\n",
              "      <td>98.129242</td>\n",
              "      <td>82.214331</td>\n",
              "      <td>91.907231</td>\n",
              "      <td>87.098317</td>\n",
              "      <td>69.375339</td>\n",
              "      <td>60.335302</td>\n",
              "      <td>489.059762</td>\n",
              "    </tr>\n",
              "    <tr>\n",
              "      <th>79</th>\n",
              "      <td>magearna</td>\n",
              "      <td>Steel</td>\n",
              "      <td>Fairy</td>\n",
              "      <td>800</td>\n",
              "      <td>80</td>\n",
              "      <td>95</td>\n",
              "      <td>115</td>\n",
              "      <td>130</td>\n",
              "      <td>115</td>\n",
              "      <td>65</td>\n",
              "      <td>600</td>\n",
              "      <td>90.182277</td>\n",
              "      <td>72.003224</td>\n",
              "      <td>76.521632</td>\n",
              "      <td>81.072612</td>\n",
              "      <td>77.053260</td>\n",
              "      <td>77.519651</td>\n",
              "      <td>474.352655</td>\n",
              "    </tr>\n",
              "    <tr>\n",
              "      <th>80</th>\n",
              "      <td>marshadow</td>\n",
              "      <td>Fighting</td>\n",
              "      <td>Ghost</td>\n",
              "      <td>801</td>\n",
              "      <td>90</td>\n",
              "      <td>125</td>\n",
              "      <td>80</td>\n",
              "      <td>90</td>\n",
              "      <td>90</td>\n",
              "      <td>125</td>\n",
              "      <td>600</td>\n",
              "      <td>47.321448</td>\n",
              "      <td>53.776041</td>\n",
              "      <td>45.824938</td>\n",
              "      <td>64.327017</td>\n",
              "      <td>50.745742</td>\n",
              "      <td>65.206712</td>\n",
              "      <td>327.201898</td>\n",
              "    </tr>\n",
              "  </tbody>\n",
              "</table>\n",
              "<p>81 rows × 18 columns</p>\n",
              "</div>"
            ],
            "text/plain": [
              "         Name     Type1   Type2  ...  pred_spdefense  pred_speed  pred_total\n",
              "0      rowlet     Grass  Flying  ...       45.582465   60.135361  304.542798\n",
              "1     dartrix     Grass  Flying  ...       67.271104   65.586581  419.709588\n",
              "2   decidueye     Grass   Ghost  ...      114.983180   74.117923  555.863630\n",
              "3      litten      Fire     NaN  ...       49.856536   57.268545  301.079578\n",
              "4    torracat      Fire     NaN  ...       75.337599   84.289876  488.939332\n",
              "..        ...       ...     ...  ...             ...         ...         ...\n",
              "76    kartana     Grass   Steel  ...       67.280731   77.233343  400.494837\n",
              "77   guzzlord      Dark  Dragon  ...       91.139506   47.744900  567.140470\n",
              "78   necrozma   Psychic     NaN  ...       69.375339   60.335302  489.059762\n",
              "79   magearna     Steel   Fairy  ...       77.053260   77.519651  474.352655\n",
              "80  marshadow  Fighting   Ghost  ...       50.745742   65.206712  327.201898\n",
              "\n",
              "[81 rows x 18 columns]"
            ]
          },
          "metadata": {
            "tags": []
          },
          "execution_count": 44
        }
      ]
    },
    {
      "cell_type": "code",
      "metadata": {
        "id": "0IkeURN5Im_s",
        "colab_type": "code",
        "colab": {
          "base_uri": "https://localhost:8080/",
          "height": 119
        },
        "outputId": "443793a9-19fb-4384-ac47-b0e981d65bf9"
      },
      "source": [
        "print('HP: {}'.format(mean_absolute_error(df_result['hp'], df_result['pred_hp'])))\n",
        "print('Attack: {}'.format(mean_absolute_error(df_result['attack'], df_result['pred_attack'])))\n",
        "print('Defense: {}'.format(mean_absolute_error(df_result['defense'], df_result['pred_defense'])))\n",
        "print('SpAttack: {}'.format(mean_absolute_error(df_result['spattack'], df_result['pred_spattack'])))\n",
        "print('SeDefense: {}'.format(mean_absolute_error(df_result['spdefense'], df_result['pred_spdefense'])))\n",
        "print('Speed: {}'.format(mean_absolute_error(df_result['speed'], df_result['pred_speed'])))"
      ],
      "execution_count": 45,
      "outputs": [
        {
          "output_type": "stream",
          "text": [
            "HP: 16.095555184946967\n",
            "Attack: 22.713940233311067\n",
            "Defense: 20.939453302390337\n",
            "SpAttack: 22.677448359356156\n",
            "SeDefense: 21.97264884707029\n",
            "Speed: 23.18663190527772\n"
          ],
          "name": "stdout"
        }
      ]
    },
    {
      "cell_type": "markdown",
      "metadata": {
        "id": "cymgrUQ1P99-",
        "colab_type": "text"
      },
      "source": [
        "### 予測"
      ]
    }
  ]
}