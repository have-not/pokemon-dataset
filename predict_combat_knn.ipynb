{
  "nbformat": 4,
  "nbformat_minor": 0,
  "metadata": {
    "colab": {
      "name": "predict_combat_knn.ipynb",
      "provenance": [],
      "collapsed_sections": [],
      "toc_visible": true
    },
    "kernelspec": {
      "name": "python3",
      "display_name": "Python 3"
    },
    "accelerator": "TPU"
  },
  "cells": [
    {
      "cell_type": "markdown",
      "metadata": {
        "id": "TBcqQ-_AGUzM",
        "colab_type": "text"
      },
      "source": [
        "# 種族値からポケモン対面の勝敗を予測する"
      ]
    },
    {
      "cell_type": "code",
      "metadata": {
        "id": "wclxSA8Pmh7f",
        "colab_type": "code",
        "colab": {}
      },
      "source": [
        "import numpy as np\n",
        "import pandas as pd\n",
        "from sklearn.model_selection import train_test_split"
      ],
      "execution_count": 0,
      "outputs": []
    },
    {
      "cell_type": "markdown",
      "metadata": {
        "id": "HQ1zViTTHouE",
        "colab_type": "text"
      },
      "source": [
        "## データ読み込み\n",
        "### Pokemon Image Dataset\n",
        "https://www.kaggle.com/terminus7/pokemon-challenge"
      ]
    },
    {
      "cell_type": "code",
      "metadata": {
        "id": "XeGLnFKnmoR8",
        "colab_type": "code",
        "colab": {}
      },
      "source": [
        "pokemon = pd.read_csv('pokemon.csv')\n",
        "combats = pd.read_csv('combats.csv')"
      ],
      "execution_count": 0,
      "outputs": []
    },
    {
      "cell_type": "markdown",
      "metadata": {
        "id": "LS6ZCHUAElPC",
        "colab_type": "text"
      },
      "source": [
        "## 前処理"
      ]
    },
    {
      "cell_type": "markdown",
      "metadata": {
        "id": "aUW-YVfNINnE",
        "colab_type": "text"
      },
      "source": [
        "各ポケモンのタイプ、種族値の結合"
      ]
    },
    {
      "cell_type": "code",
      "metadata": {
        "id": "QuhQYoqD0rwW",
        "colab_type": "code",
        "colab": {}
      },
      "source": [
        "#First Pokemon列の並びに合わせて種族値取得\n",
        "df_first = pokemon.loc[combats['First_pokemon'] - 1]\n",
        "df_first = df_first.reset_index()\n",
        "\n",
        "#Second Pokemon列の並びに合わせての種族値取得\n",
        "df_second = pokemon.loc[combats['Second_pokemon'] - 1]\n",
        "df_second = df_second.reset_index()"
      ],
      "execution_count": 0,
      "outputs": []
    },
    {
      "cell_type": "code",
      "metadata": {
        "id": "zky4MZi8J9Vn",
        "colab_type": "code",
        "colab": {}
      },
      "source": [
        "#combatsに種族値を結合・列名を変更する関数\n",
        "combats = combats.join(df_first).drop(['index', '#', 'Name', 'Generation', 'Legendary'], axis=1)\n",
        "combats = combats.rename(columns={'Type 1':'First_Type 1'\n",
        "                              , 'Type 2':'First_Type 2'\n",
        "                              , 'HP':'First_HP'\n",
        "                              , 'Attack':'First_Attack'\n",
        "                              , 'Defense':'First_Defense'\n",
        "                              , 'Sp. Atk':'First_Sp. Atk'\n",
        "                              , 'Sp. Def':'First_Sp. Def'\n",
        "                              , 'Speed':'First_Speed'\n",
        "                              })\n",
        "combats = combats.join(df_second).drop(['index', '#', 'Name', 'Generation', 'Legendary'], axis=1)\n",
        "combats = combats.rename(columns={'Type 1':'Second_Type 1'\n",
        "                              , 'Type 2':'Second_Type 2'\n",
        "                              , 'HP':'Second_HP'\n",
        "                              , 'Attack':'Second_Attack'\n",
        "                              , 'Defense':'Second_Defense'\n",
        "                              , 'Sp. Atk':'Second_Sp. Atk'\n",
        "                              , 'Sp. Def':'Second_Sp. Def'\n",
        "                              , 'Speed':'Second_Speed'\n",
        "                              })"
      ],
      "execution_count": 0,
      "outputs": []
    },
    {
      "cell_type": "code",
      "metadata": {
        "id": "rWutExBJKOAJ",
        "colab_type": "code",
        "outputId": "de5768e8-e26a-40b7-c2bc-b8b946245a75",
        "colab": {
          "base_uri": "https://localhost:8080/",
          "height": 456
        }
      },
      "source": [
        "# 勝敗を01に変換する。Firstが勝つ場合は0、Secondが勝つ場合は１\n",
        "combats['Winner'] = (combats['Winner'] == combats['Second_pokemon']).astype(int)\n",
        "combats"
      ],
      "execution_count": 5,
      "outputs": [
        {
          "output_type": "execute_result",
          "data": {
            "text/html": [
              "<div>\n",
              "<style scoped>\n",
              "    .dataframe tbody tr th:only-of-type {\n",
              "        vertical-align: middle;\n",
              "    }\n",
              "\n",
              "    .dataframe tbody tr th {\n",
              "        vertical-align: top;\n",
              "    }\n",
              "\n",
              "    .dataframe thead th {\n",
              "        text-align: right;\n",
              "    }\n",
              "</style>\n",
              "<table border=\"1\" class=\"dataframe\">\n",
              "  <thead>\n",
              "    <tr style=\"text-align: right;\">\n",
              "      <th></th>\n",
              "      <th>First_pokemon</th>\n",
              "      <th>Second_pokemon</th>\n",
              "      <th>Winner</th>\n",
              "      <th>First_Type 1</th>\n",
              "      <th>First_Type 2</th>\n",
              "      <th>First_HP</th>\n",
              "      <th>First_Attack</th>\n",
              "      <th>First_Defense</th>\n",
              "      <th>First_Sp. Atk</th>\n",
              "      <th>First_Sp. Def</th>\n",
              "      <th>First_Speed</th>\n",
              "      <th>Second_Type 1</th>\n",
              "      <th>Second_Type 2</th>\n",
              "      <th>Second_HP</th>\n",
              "      <th>Second_Attack</th>\n",
              "      <th>Second_Defense</th>\n",
              "      <th>Second_Sp. Atk</th>\n",
              "      <th>Second_Sp. Def</th>\n",
              "      <th>Second_Speed</th>\n",
              "    </tr>\n",
              "  </thead>\n",
              "  <tbody>\n",
              "    <tr>\n",
              "      <th>0</th>\n",
              "      <td>266</td>\n",
              "      <td>298</td>\n",
              "      <td>1</td>\n",
              "      <td>Rock</td>\n",
              "      <td>Ground</td>\n",
              "      <td>50</td>\n",
              "      <td>64</td>\n",
              "      <td>50</td>\n",
              "      <td>45</td>\n",
              "      <td>50</td>\n",
              "      <td>41</td>\n",
              "      <td>Grass</td>\n",
              "      <td>Dark</td>\n",
              "      <td>70</td>\n",
              "      <td>70</td>\n",
              "      <td>40</td>\n",
              "      <td>60</td>\n",
              "      <td>40</td>\n",
              "      <td>60</td>\n",
              "    </tr>\n",
              "    <tr>\n",
              "      <th>1</th>\n",
              "      <td>702</td>\n",
              "      <td>701</td>\n",
              "      <td>1</td>\n",
              "      <td>Grass</td>\n",
              "      <td>Fighting</td>\n",
              "      <td>91</td>\n",
              "      <td>90</td>\n",
              "      <td>72</td>\n",
              "      <td>90</td>\n",
              "      <td>129</td>\n",
              "      <td>108</td>\n",
              "      <td>Rock</td>\n",
              "      <td>Fighting</td>\n",
              "      <td>91</td>\n",
              "      <td>129</td>\n",
              "      <td>90</td>\n",
              "      <td>72</td>\n",
              "      <td>90</td>\n",
              "      <td>108</td>\n",
              "    </tr>\n",
              "    <tr>\n",
              "      <th>2</th>\n",
              "      <td>191</td>\n",
              "      <td>668</td>\n",
              "      <td>1</td>\n",
              "      <td>Fairy</td>\n",
              "      <td>Flying</td>\n",
              "      <td>55</td>\n",
              "      <td>40</td>\n",
              "      <td>85</td>\n",
              "      <td>80</td>\n",
              "      <td>105</td>\n",
              "      <td>40</td>\n",
              "      <td>Psychic</td>\n",
              "      <td>NaN</td>\n",
              "      <td>75</td>\n",
              "      <td>75</td>\n",
              "      <td>75</td>\n",
              "      <td>125</td>\n",
              "      <td>95</td>\n",
              "      <td>40</td>\n",
              "    </tr>\n",
              "    <tr>\n",
              "      <th>3</th>\n",
              "      <td>237</td>\n",
              "      <td>683</td>\n",
              "      <td>1</td>\n",
              "      <td>Fire</td>\n",
              "      <td>NaN</td>\n",
              "      <td>40</td>\n",
              "      <td>40</td>\n",
              "      <td>40</td>\n",
              "      <td>70</td>\n",
              "      <td>40</td>\n",
              "      <td>20</td>\n",
              "      <td>Dragon</td>\n",
              "      <td>NaN</td>\n",
              "      <td>77</td>\n",
              "      <td>120</td>\n",
              "      <td>90</td>\n",
              "      <td>60</td>\n",
              "      <td>90</td>\n",
              "      <td>48</td>\n",
              "    </tr>\n",
              "    <tr>\n",
              "      <th>4</th>\n",
              "      <td>151</td>\n",
              "      <td>231</td>\n",
              "      <td>0</td>\n",
              "      <td>Rock</td>\n",
              "      <td>Water</td>\n",
              "      <td>70</td>\n",
              "      <td>60</td>\n",
              "      <td>125</td>\n",
              "      <td>115</td>\n",
              "      <td>70</td>\n",
              "      <td>55</td>\n",
              "      <td>Bug</td>\n",
              "      <td>Rock</td>\n",
              "      <td>20</td>\n",
              "      <td>10</td>\n",
              "      <td>230</td>\n",
              "      <td>10</td>\n",
              "      <td>230</td>\n",
              "      <td>5</td>\n",
              "    </tr>\n",
              "    <tr>\n",
              "      <th>...</th>\n",
              "      <td>...</td>\n",
              "      <td>...</td>\n",
              "      <td>...</td>\n",
              "      <td>...</td>\n",
              "      <td>...</td>\n",
              "      <td>...</td>\n",
              "      <td>...</td>\n",
              "      <td>...</td>\n",
              "      <td>...</td>\n",
              "      <td>...</td>\n",
              "      <td>...</td>\n",
              "      <td>...</td>\n",
              "      <td>...</td>\n",
              "      <td>...</td>\n",
              "      <td>...</td>\n",
              "      <td>...</td>\n",
              "      <td>...</td>\n",
              "      <td>...</td>\n",
              "      <td>...</td>\n",
              "    </tr>\n",
              "    <tr>\n",
              "      <th>49995</th>\n",
              "      <td>707</td>\n",
              "      <td>126</td>\n",
              "      <td>0</td>\n",
              "      <td>Dragon</td>\n",
              "      <td>Fire</td>\n",
              "      <td>100</td>\n",
              "      <td>120</td>\n",
              "      <td>100</td>\n",
              "      <td>150</td>\n",
              "      <td>120</td>\n",
              "      <td>90</td>\n",
              "      <td>Water</td>\n",
              "      <td>NaN</td>\n",
              "      <td>30</td>\n",
              "      <td>40</td>\n",
              "      <td>70</td>\n",
              "      <td>70</td>\n",
              "      <td>25</td>\n",
              "      <td>60</td>\n",
              "    </tr>\n",
              "    <tr>\n",
              "      <th>49996</th>\n",
              "      <td>589</td>\n",
              "      <td>664</td>\n",
              "      <td>0</td>\n",
              "      <td>Ground</td>\n",
              "      <td>NaN</td>\n",
              "      <td>60</td>\n",
              "      <td>85</td>\n",
              "      <td>40</td>\n",
              "      <td>30</td>\n",
              "      <td>45</td>\n",
              "      <td>68</td>\n",
              "      <td>Electric</td>\n",
              "      <td>NaN</td>\n",
              "      <td>35</td>\n",
              "      <td>55</td>\n",
              "      <td>40</td>\n",
              "      <td>45</td>\n",
              "      <td>40</td>\n",
              "      <td>60</td>\n",
              "    </tr>\n",
              "    <tr>\n",
              "      <th>49997</th>\n",
              "      <td>303</td>\n",
              "      <td>368</td>\n",
              "      <td>1</td>\n",
              "      <td>Water</td>\n",
              "      <td>Flying</td>\n",
              "      <td>60</td>\n",
              "      <td>50</td>\n",
              "      <td>100</td>\n",
              "      <td>85</td>\n",
              "      <td>70</td>\n",
              "      <td>65</td>\n",
              "      <td>Normal</td>\n",
              "      <td>NaN</td>\n",
              "      <td>73</td>\n",
              "      <td>115</td>\n",
              "      <td>60</td>\n",
              "      <td>60</td>\n",
              "      <td>60</td>\n",
              "      <td>90</td>\n",
              "    </tr>\n",
              "    <tr>\n",
              "      <th>49998</th>\n",
              "      <td>109</td>\n",
              "      <td>89</td>\n",
              "      <td>0</td>\n",
              "      <td>Electric</td>\n",
              "      <td>NaN</td>\n",
              "      <td>40</td>\n",
              "      <td>30</td>\n",
              "      <td>50</td>\n",
              "      <td>55</td>\n",
              "      <td>55</td>\n",
              "      <td>100</td>\n",
              "      <td>Electric</td>\n",
              "      <td>Steel</td>\n",
              "      <td>25</td>\n",
              "      <td>35</td>\n",
              "      <td>70</td>\n",
              "      <td>95</td>\n",
              "      <td>55</td>\n",
              "      <td>45</td>\n",
              "    </tr>\n",
              "    <tr>\n",
              "      <th>49999</th>\n",
              "      <td>9</td>\n",
              "      <td>73</td>\n",
              "      <td>0</td>\n",
              "      <td>Fire</td>\n",
              "      <td>Flying</td>\n",
              "      <td>78</td>\n",
              "      <td>104</td>\n",
              "      <td>78</td>\n",
              "      <td>159</td>\n",
              "      <td>115</td>\n",
              "      <td>100</td>\n",
              "      <td>Fighting</td>\n",
              "      <td>NaN</td>\n",
              "      <td>70</td>\n",
              "      <td>80</td>\n",
              "      <td>50</td>\n",
              "      <td>35</td>\n",
              "      <td>35</td>\n",
              "      <td>35</td>\n",
              "    </tr>\n",
              "  </tbody>\n",
              "</table>\n",
              "<p>50000 rows × 19 columns</p>\n",
              "</div>"
            ],
            "text/plain": [
              "       First_pokemon  Second_pokemon  ...  Second_Sp. Def Second_Speed\n",
              "0                266             298  ...              40           60\n",
              "1                702             701  ...              90          108\n",
              "2                191             668  ...              95           40\n",
              "3                237             683  ...              90           48\n",
              "4                151             231  ...             230            5\n",
              "...              ...             ...  ...             ...          ...\n",
              "49995            707             126  ...              25           60\n",
              "49996            589             664  ...              40           60\n",
              "49997            303             368  ...              60           90\n",
              "49998            109              89  ...              55           45\n",
              "49999              9              73  ...              35           35\n",
              "\n",
              "[50000 rows x 19 columns]"
            ]
          },
          "metadata": {
            "tags": []
          },
          "execution_count": 5
        }
      ]
    },
    {
      "cell_type": "markdown",
      "metadata": {
        "id": "YrSL1v-S4igP",
        "colab_type": "text"
      },
      "source": [
        "### タイプを配列に変換\n",
        "\n",
        "例えばノーマル単タイプだと[1, 0, 0, 0, 0, 0, 0, 0, 0, 0, 0, 0, 0, 0, 0, 0, 0, 0]、\n",
        "\n",
        "ゴーストフェアリーだと[0, 0, 0, 0, 0, 0, 0, 1, 0, 0, 0, 0, 0, 0, 0, 0, 0, 1]\n"
      ]
    },
    {
      "cell_type": "code",
      "metadata": {
        "id": "4ZKiWJwzj7lM",
        "colab_type": "code",
        "colab": {}
      },
      "source": [
        "def type_to_list(series1, series2):\n",
        "  tp_list = []\n",
        "  for tp1, tp2 in zip(series1, series2):\n",
        "    type_dict = {'Normal':0, 'Fighting':0, 'Poison':0, 'Ground':0, 'Flying':0, 'Bug':0, 'Rock':0\n",
        "                 , 'Ghost':0, 'Steel':0, 'Fire':0, 'Water':0, 'Electric':0, 'Grass':0, 'Ice':0\n",
        "                 , 'Psychic':0, 'Dragon':0, 'Dark':0, 'Fairy':0}\n",
        "    if type(tp2) == str:\n",
        "      type_dict[tp1] = 1\n",
        "      type_dict[tp2] = 1\n",
        "    else:\n",
        "      type_dict[tp1] = 1\n",
        "    tp_list.append(list(type_dict.values()))\n",
        "  return tp_list"
      ],
      "execution_count": 0,
      "outputs": []
    },
    {
      "cell_type": "markdown",
      "metadata": {
        "id": "B-YNL-1wPaLT",
        "colab_type": "text"
      },
      "source": [
        "### 特徴量、ラベルの作成"
      ]
    },
    {
      "cell_type": "code",
      "metadata": {
        "id": "5bhiWV4KnAVJ",
        "colab_type": "code",
        "colab": {}
      },
      "source": [
        "def get_features(df):\n",
        "    # 特徴量として使う連続量\n",
        "    features_ana = ['First_HP', 'First_Attack', 'First_Defense', 'First_Sp. Atk', 'First_Sp. Def', 'First_Speed'\n",
        "                    , 'Second_HP', 'Second_Attack', 'Second_Defense', 'Second_Sp. Atk', 'Second_Sp. Def', 'Second_Speed']\n",
        "    # 特徴量として使うカテゴリ値\n",
        "    f_type = type_to_list(combats['First_Type 1'], combats['First_Type 2'])\n",
        "    s_type = type_to_list(combats['Second_Type 1'], combats['Second_Type 2'])\n",
        "    X = np.concatenate(\n",
        "        [df[features_ana].values, f_type, s_type],\n",
        "        axis=1)\n",
        "    return X\n",
        "\n",
        "def get_label(df):\n",
        "    y = df.Winner\n",
        "    return y"
      ],
      "execution_count": 0,
      "outputs": []
    },
    {
      "cell_type": "code",
      "metadata": {
        "id": "b-NLLmk5nBUk",
        "colab_type": "code",
        "outputId": "e16db425-c3e1-4751-82c5-ce5741b57f34",
        "colab": {
          "base_uri": "https://localhost:8080/",
          "height": 85
        }
      },
      "source": [
        "# 特徴量, ラベルを作成\n",
        "X = get_features(combats)\n",
        "y = get_label(combats)\n",
        "X[0]"
      ],
      "execution_count": 8,
      "outputs": [
        {
          "output_type": "execute_result",
          "data": {
            "text/plain": [
              "array([50, 64, 50, 45, 50, 41, 70, 70, 40, 60, 40, 60,  0,  0,  0,  1,  0,\n",
              "        0,  1,  0,  0,  0,  0,  0,  0,  0,  0,  0,  0,  0,  0,  0,  0,  0,\n",
              "        0,  0,  0,  0,  0,  0,  0,  0,  1,  0,  0,  0,  1,  0],\n",
              "      dtype=int64)"
            ]
          },
          "metadata": {
            "tags": []
          },
          "execution_count": 8
        }
      ]
    },
    {
      "cell_type": "markdown",
      "metadata": {
        "id": "wwCoA8ZmP01X",
        "colab_type": "text"
      },
      "source": [
        "### 訓練用データと評価用データの分割\n",
        "ハイパーパラメータを変更する場合は、更に訓練用データから検証用データを分割すること"
      ]
    },
    {
      "cell_type": "code",
      "metadata": {
        "id": "wYuKMvcXxTmm",
        "colab_type": "code",
        "colab": {}
      },
      "source": [
        "X_train, X_test, y_train, y_test = train_test_split(X, y, test_size=0.3, random_state=1)"
      ],
      "execution_count": 0,
      "outputs": []
    },
    {
      "cell_type": "markdown",
      "metadata": {
        "id": "e7CqKd3IEuU0",
        "colab_type": "text"
      },
      "source": [
        "## 学習\n",
        "アルゴリズムはKNNを使用する"
      ]
    },
    {
      "cell_type": "code",
      "metadata": {
        "id": "SrohjAejXgpH",
        "colab_type": "code",
        "colab": {}
      },
      "source": [
        "from sklearn import neighbors"
      ],
      "execution_count": 0,
      "outputs": []
    },
    {
      "cell_type": "markdown",
      "metadata": {
        "id": "NdBqqdIQ5XNa",
        "colab_type": "text"
      },
      "source": [
        "### ハイパーパラメータ設定\n",
        "\n",
        "\n",
        "\n"
      ]
    },
    {
      "cell_type": "code",
      "metadata": {
        "id": "3TfhGQ0Hq7lY",
        "colab_type": "code",
        "colab": {}
      },
      "source": [
        "# 近傍数\n",
        "n_neighbors = 3"
      ],
      "execution_count": 0,
      "outputs": []
    },
    {
      "cell_type": "markdown",
      "metadata": {
        "id": "OFqokgkwUEUn",
        "colab_type": "text"
      },
      "source": [
        "### モデル設定"
      ]
    },
    {
      "cell_type": "code",
      "metadata": {
        "id": "vc04pVQIq_Sb",
        "colab_type": "code",
        "colab": {}
      },
      "source": [
        "clf = neighbors.KNeighborsClassifier(n_neighbors)"
      ],
      "execution_count": 0,
      "outputs": []
    },
    {
      "cell_type": "code",
      "metadata": {
        "id": "x5t5oxb6ExzB",
        "colab_type": "code",
        "outputId": "1e8a6718-1df5-460f-e8d7-6e58d511bb94",
        "colab": {
          "base_uri": "https://localhost:8080/",
          "height": 68
        }
      },
      "source": [
        "clf.fit(X_train, y_train)"
      ],
      "execution_count": 13,
      "outputs": [
        {
          "output_type": "execute_result",
          "data": {
            "text/plain": [
              "KNeighborsClassifier(algorithm='auto', leaf_size=30, metric='minkowski',\n",
              "                     metric_params=None, n_jobs=None, n_neighbors=3, p=2,\n",
              "                     weights='uniform')"
            ]
          },
          "metadata": {
            "tags": []
          },
          "execution_count": 13
        }
      ]
    },
    {
      "cell_type": "markdown",
      "metadata": {
        "id": "KgtpErrDE_aX",
        "colab_type": "text"
      },
      "source": [
        "## 評価\n",
        "### 訓練データに対する正答率"
      ]
    },
    {
      "cell_type": "code",
      "metadata": {
        "id": "0KhEMWNcwpne",
        "colab_type": "code",
        "outputId": "de12e0af-9549-40b5-b7da-65392d2f6e53",
        "colab": {
          "base_uri": "https://localhost:8080/",
          "height": 34
        }
      },
      "source": [
        "clf.score(X_train, ｙ_train)"
      ],
      "execution_count": 14,
      "outputs": [
        {
          "output_type": "execute_result",
          "data": {
            "text/plain": [
              "0.9320571428571428"
            ]
          },
          "metadata": {
            "tags": []
          },
          "execution_count": 14
        }
      ]
    },
    {
      "cell_type": "markdown",
      "metadata": {
        "id": "s7vTB0LFVOju",
        "colab_type": "text"
      },
      "source": [
        "### 評価データに対する正答率"
      ]
    },
    {
      "cell_type": "code",
      "metadata": {
        "id": "tx91CKnTx7vQ",
        "colab_type": "code",
        "outputId": "0db34b7a-40a0-4b2c-f2fe-b9eb1527b278",
        "colab": {
          "base_uri": "https://localhost:8080/",
          "height": 34
        }
      },
      "source": [
        "clf.score(X_test, y_test)"
      ],
      "execution_count": 15,
      "outputs": [
        {
          "output_type": "execute_result",
          "data": {
            "text/plain": [
              "0.8672666666666666"
            ]
          },
          "metadata": {
            "tags": []
          },
          "execution_count": 15
        }
      ]
    },
    {
      "cell_type": "markdown",
      "metadata": {
        "id": "xvbhugMW1WvJ",
        "colab_type": "text"
      },
      "source": [
        "## 勝敗予測"
      ]
    },
    {
      "cell_type": "code",
      "metadata": {
        "id": "aT-1kjlqihCB",
        "colab_type": "code",
        "outputId": "1621f34a-eabb-40f7-ea13-920f224cd6e0",
        "colab": {
          "base_uri": "https://localhost:8080/",
          "height": 34
        }
      },
      "source": [
        "## ドラパルトとバンギラスの種族値を入れてみる\n",
        "combat = [88, 120, 75, 100, 75, 142\n",
        "          , 100, 134, 110, 95, 100, 61\n",
        "          , 0, 0, 0, 0, 0, 0, 0, 1, 0, 0, 0, 0, 0, 0, 0, 1, 0, 0\n",
        "          , 0, 0, 0, 0, 0, 0, 1, 0, 0, 0, 0, 0, 0, 0, 0, 0, 1, 0]\n",
        "clf.predict([combat])"
      ],
      "execution_count": 16,
      "outputs": [
        {
          "output_type": "execute_result",
          "data": {
            "text/plain": [
              "array([0], dtype=int64)"
            ]
          },
          "metadata": {
            "tags": []
          },
          "execution_count": 16
        }
      ]
    },
    {
      "cell_type": "code",
      "metadata": {
        "id": "eIXkV2oWWkTL",
        "colab_type": "code",
        "colab": {}
      },
      "source": [
        ""
      ],
      "execution_count": 0,
      "outputs": []
    }
  ]
}