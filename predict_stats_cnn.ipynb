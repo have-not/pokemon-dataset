{
  "nbformat": 4,
  "nbformat_minor": 0,
  "metadata": {
    "colab": {
      "name": "predict_stats_cnn",
      "provenance": [],
      "collapsed_sections": [],
      "toc_visible": true
    },
    "kernelspec": {
      "name": "python3",
      "display_name": "Python 3"
    },
    "accelerator": "TPU"
  },
  "cells": [
    {
      "cell_type": "markdown",
      "metadata": {
        "id": "MMVGYbaq2eJF",
        "colab_type": "text"
      },
      "source": [
        "# 画像からポケモンの種族値を予測"
      ]
    },
    {
      "cell_type": "code",
      "metadata": {
        "id": "eL2TJfFufRKL",
        "colab_type": "code",
        "colab": {}
      },
      "source": [
        "import numpy as np\n",
        "import pandas as pd\n",
        "import glob\n",
        "import cv2\n",
        "import pathlib\n",
        "import os\n",
        "import sys\n",
        "import PIL\n",
        "\n",
        "%matplotlib inline\n",
        "import matplotlib.pyplot as plt"
      ],
      "execution_count": 0,
      "outputs": []
    },
    {
      "cell_type": "markdown",
      "metadata": {
        "id": "S4lailRh0te5",
        "colab_type": "text"
      },
      "source": [
        "## データ読み込み\n",
        "ポケモンの画像と種族値のデータを用意する"
      ]
    },
    {
      "cell_type": "markdown",
      "metadata": {
        "id": "W-M9C0Vl1VfD",
        "colab_type": "text"
      },
      "source": [
        "### Pokemon- Weedle's Cave\n",
        "https://www.kaggle.com/vishalsubbiah/pokemon-images-and-types\n",
        "\n",
        "ポケモンの画像データ\n",
        "\n"
      ]
    },
    {
      "cell_type": "code",
      "metadata": {
        "id": "Qrv7YXxFcqH_",
        "colab_type": "code",
        "colab": {}
      },
      "source": [
        "# アップロードしたZipファイルの解凍\n",
        "!unzip images.zip"
      ],
      "execution_count": 0,
      "outputs": []
    },
    {
      "cell_type": "code",
      "metadata": {
        "id": "ronpw-TefVJq",
        "colab_type": "code",
        "outputId": "2f2a7edc-c019-4a82-c38e-d6b2060909ca",
        "colab": {
          "base_uri": "https://localhost:8080/",
          "height": 419
        }
      },
      "source": [
        "df_pokeimg = pd.read_csv('pokemon_images.csv')\n",
        "df_pokeimg"
      ],
      "execution_count": 3,
      "outputs": [
        {
          "output_type": "execute_result",
          "data": {
            "text/html": [
              "<div>\n",
              "<style scoped>\n",
              "    .dataframe tbody tr th:only-of-type {\n",
              "        vertical-align: middle;\n",
              "    }\n",
              "\n",
              "    .dataframe tbody tr th {\n",
              "        vertical-align: top;\n",
              "    }\n",
              "\n",
              "    .dataframe thead th {\n",
              "        text-align: right;\n",
              "    }\n",
              "</style>\n",
              "<table border=\"1\" class=\"dataframe\">\n",
              "  <thead>\n",
              "    <tr style=\"text-align: right;\">\n",
              "      <th></th>\n",
              "      <th>Name</th>\n",
              "      <th>Type1</th>\n",
              "      <th>Type2</th>\n",
              "    </tr>\n",
              "  </thead>\n",
              "  <tbody>\n",
              "    <tr>\n",
              "      <th>0</th>\n",
              "      <td>bulbasaur</td>\n",
              "      <td>Grass</td>\n",
              "      <td>Poison</td>\n",
              "    </tr>\n",
              "    <tr>\n",
              "      <th>1</th>\n",
              "      <td>ivysaur</td>\n",
              "      <td>Grass</td>\n",
              "      <td>Poison</td>\n",
              "    </tr>\n",
              "    <tr>\n",
              "      <th>2</th>\n",
              "      <td>venusaur</td>\n",
              "      <td>Grass</td>\n",
              "      <td>Poison</td>\n",
              "    </tr>\n",
              "    <tr>\n",
              "      <th>3</th>\n",
              "      <td>charmander</td>\n",
              "      <td>Fire</td>\n",
              "      <td>NaN</td>\n",
              "    </tr>\n",
              "    <tr>\n",
              "      <th>4</th>\n",
              "      <td>charmeleon</td>\n",
              "      <td>Fire</td>\n",
              "      <td>NaN</td>\n",
              "    </tr>\n",
              "    <tr>\n",
              "      <th>...</th>\n",
              "      <td>...</td>\n",
              "      <td>...</td>\n",
              "      <td>...</td>\n",
              "    </tr>\n",
              "    <tr>\n",
              "      <th>804</th>\n",
              "      <td>stakataka</td>\n",
              "      <td>Rock</td>\n",
              "      <td>Steel</td>\n",
              "    </tr>\n",
              "    <tr>\n",
              "      <th>805</th>\n",
              "      <td>blacephalon</td>\n",
              "      <td>Fire</td>\n",
              "      <td>Ghost</td>\n",
              "    </tr>\n",
              "    <tr>\n",
              "      <th>806</th>\n",
              "      <td>zeraora</td>\n",
              "      <td>Electric</td>\n",
              "      <td>NaN</td>\n",
              "    </tr>\n",
              "    <tr>\n",
              "      <th>807</th>\n",
              "      <td>meltan</td>\n",
              "      <td>Steel</td>\n",
              "      <td>NaN</td>\n",
              "    </tr>\n",
              "    <tr>\n",
              "      <th>808</th>\n",
              "      <td>melmetal</td>\n",
              "      <td>Steel</td>\n",
              "      <td>NaN</td>\n",
              "    </tr>\n",
              "  </tbody>\n",
              "</table>\n",
              "<p>809 rows × 3 columns</p>\n",
              "</div>"
            ],
            "text/plain": [
              "            Name     Type1   Type2\n",
              "0      bulbasaur     Grass  Poison\n",
              "1        ivysaur     Grass  Poison\n",
              "2       venusaur     Grass  Poison\n",
              "3     charmander      Fire     NaN\n",
              "4     charmeleon      Fire     NaN\n",
              "..           ...       ...     ...\n",
              "804    stakataka      Rock   Steel\n",
              "805  blacephalon      Fire   Ghost\n",
              "806      zeraora  Electric     NaN\n",
              "807       meltan     Steel     NaN\n",
              "808     melmetal     Steel     NaN\n",
              "\n",
              "[809 rows x 3 columns]"
            ]
          },
          "metadata": {
            "tags": []
          },
          "execution_count": 3
        }
      ]
    },
    {
      "cell_type": "markdown",
      "metadata": {
        "id": "YI33JC9D1lmE",
        "colab_type": "text"
      },
      "source": [
        "### Pokemon Sun and Moon (Gen 7) Stats\n",
        "\n",
        "https://www.kaggle.com/mylesoneill/pokemon-sun-and-moon-gen-7-stats\n",
        "\n",
        "ポケモンの種族値等のデータ"
      ]
    },
    {
      "cell_type": "code",
      "metadata": {
        "id": "0tT-ar83fsXX",
        "colab_type": "code",
        "outputId": "2ea2ba17-d962-4c00-b83a-5b25435d2457",
        "colab": {
          "base_uri": "https://localhost:8080/",
          "height": 745
        }
      },
      "source": [
        "df_poke = pd.read_csv('pokemon.csv')\n",
        "\n",
        "# ポケモンの名前を小文字に\n",
        "strlow = lambda x: str(x).lower()\n",
        "df_poke['species'] = df_poke['species'].map(strlow)\n",
        "\n",
        "df_poke"
      ],
      "execution_count": 4,
      "outputs": [
        {
          "output_type": "execute_result",
          "data": {
            "text/html": [
              "<div>\n",
              "<style scoped>\n",
              "    .dataframe tbody tr th:only-of-type {\n",
              "        vertical-align: middle;\n",
              "    }\n",
              "\n",
              "    .dataframe tbody tr th {\n",
              "        vertical-align: top;\n",
              "    }\n",
              "\n",
              "    .dataframe thead th {\n",
              "        text-align: right;\n",
              "    }\n",
              "</style>\n",
              "<table border=\"1\" class=\"dataframe\">\n",
              "  <thead>\n",
              "    <tr style=\"text-align: right;\">\n",
              "      <th></th>\n",
              "      <th>id</th>\n",
              "      <th>ndex</th>\n",
              "      <th>species</th>\n",
              "      <th>forme</th>\n",
              "      <th>type1</th>\n",
              "      <th>type2</th>\n",
              "      <th>ability1</th>\n",
              "      <th>ability2</th>\n",
              "      <th>abilityH</th>\n",
              "      <th>hp</th>\n",
              "      <th>attack</th>\n",
              "      <th>defense</th>\n",
              "      <th>spattack</th>\n",
              "      <th>spdefense</th>\n",
              "      <th>speed</th>\n",
              "      <th>total</th>\n",
              "      <th>weight</th>\n",
              "      <th>height</th>\n",
              "      <th>dex1</th>\n",
              "      <th>dex2</th>\n",
              "      <th>class</th>\n",
              "      <th>percent-male</th>\n",
              "      <th>percent-female</th>\n",
              "      <th>pre-evolution</th>\n",
              "      <th>egg-group1</th>\n",
              "      <th>egg-group2</th>\n",
              "    </tr>\n",
              "  </thead>\n",
              "  <tbody>\n",
              "    <tr>\n",
              "      <th>0</th>\n",
              "      <td>1</td>\n",
              "      <td>1</td>\n",
              "      <td>bulbasaur</td>\n",
              "      <td>Bulbasaur</td>\n",
              "      <td>Grass</td>\n",
              "      <td>Poison</td>\n",
              "      <td>Overgrow</td>\n",
              "      <td>NaN</td>\n",
              "      <td>Chlorophyll</td>\n",
              "      <td>45</td>\n",
              "      <td>49</td>\n",
              "      <td>49</td>\n",
              "      <td>65</td>\n",
              "      <td>65</td>\n",
              "      <td>45</td>\n",
              "      <td>318</td>\n",
              "      <td>15.2 lbs.</td>\n",
              "      <td>2'04\"</td>\n",
              "      <td>NaN</td>\n",
              "      <td>NaN</td>\n",
              "      <td>Seed Pokémon</td>\n",
              "      <td>0.875</td>\n",
              "      <td>0.125</td>\n",
              "      <td>NaN</td>\n",
              "      <td>Monster</td>\n",
              "      <td>Grass</td>\n",
              "    </tr>\n",
              "    <tr>\n",
              "      <th>1</th>\n",
              "      <td>2</td>\n",
              "      <td>2</td>\n",
              "      <td>ivysaur</td>\n",
              "      <td>Ivysaur</td>\n",
              "      <td>Grass</td>\n",
              "      <td>Poison</td>\n",
              "      <td>Overgrow</td>\n",
              "      <td>NaN</td>\n",
              "      <td>Chlorophyll</td>\n",
              "      <td>60</td>\n",
              "      <td>62</td>\n",
              "      <td>63</td>\n",
              "      <td>80</td>\n",
              "      <td>80</td>\n",
              "      <td>60</td>\n",
              "      <td>405</td>\n",
              "      <td>28.7 lbs.</td>\n",
              "      <td>3'03\"</td>\n",
              "      <td>NaN</td>\n",
              "      <td>NaN</td>\n",
              "      <td>Seed Pokémon</td>\n",
              "      <td>0.875</td>\n",
              "      <td>0.125</td>\n",
              "      <td>Bulbasaur</td>\n",
              "      <td>Monster</td>\n",
              "      <td>Grass</td>\n",
              "    </tr>\n",
              "    <tr>\n",
              "      <th>2</th>\n",
              "      <td>3</td>\n",
              "      <td>3</td>\n",
              "      <td>venusaur</td>\n",
              "      <td>Venusaur</td>\n",
              "      <td>Grass</td>\n",
              "      <td>Poison</td>\n",
              "      <td>Overgrow</td>\n",
              "      <td>NaN</td>\n",
              "      <td>Chlorophyll</td>\n",
              "      <td>80</td>\n",
              "      <td>82</td>\n",
              "      <td>83</td>\n",
              "      <td>100</td>\n",
              "      <td>100</td>\n",
              "      <td>80</td>\n",
              "      <td>525</td>\n",
              "      <td>220.5 lbs.</td>\n",
              "      <td>6'07\"</td>\n",
              "      <td>NaN</td>\n",
              "      <td>NaN</td>\n",
              "      <td>Seed Pokémon</td>\n",
              "      <td>0.875</td>\n",
              "      <td>0.125</td>\n",
              "      <td>Ivysaur</td>\n",
              "      <td>Monster</td>\n",
              "      <td>Grass</td>\n",
              "    </tr>\n",
              "    <tr>\n",
              "      <th>3</th>\n",
              "      <td>4</td>\n",
              "      <td>4</td>\n",
              "      <td>charmander</td>\n",
              "      <td>Charmander</td>\n",
              "      <td>Fire</td>\n",
              "      <td>NaN</td>\n",
              "      <td>Blaze</td>\n",
              "      <td>NaN</td>\n",
              "      <td>Solar Power</td>\n",
              "      <td>39</td>\n",
              "      <td>52</td>\n",
              "      <td>43</td>\n",
              "      <td>60</td>\n",
              "      <td>50</td>\n",
              "      <td>65</td>\n",
              "      <td>309</td>\n",
              "      <td>18.7 lbs.</td>\n",
              "      <td>2'00\"</td>\n",
              "      <td>NaN</td>\n",
              "      <td>NaN</td>\n",
              "      <td>Lizard Pokémon</td>\n",
              "      <td>0.875</td>\n",
              "      <td>0.125</td>\n",
              "      <td>NaN</td>\n",
              "      <td>Monster</td>\n",
              "      <td>Dragon</td>\n",
              "    </tr>\n",
              "    <tr>\n",
              "      <th>4</th>\n",
              "      <td>5</td>\n",
              "      <td>5</td>\n",
              "      <td>charmeleon</td>\n",
              "      <td>Charmeleon</td>\n",
              "      <td>Fire</td>\n",
              "      <td>NaN</td>\n",
              "      <td>Blaze</td>\n",
              "      <td>NaN</td>\n",
              "      <td>Solar Power</td>\n",
              "      <td>58</td>\n",
              "      <td>64</td>\n",
              "      <td>58</td>\n",
              "      <td>80</td>\n",
              "      <td>65</td>\n",
              "      <td>80</td>\n",
              "      <td>405</td>\n",
              "      <td>41.9 lbs.</td>\n",
              "      <td>3'07\"</td>\n",
              "      <td>NaN</td>\n",
              "      <td>NaN</td>\n",
              "      <td>Flame Pokémon</td>\n",
              "      <td>0.875</td>\n",
              "      <td>0.125</td>\n",
              "      <td>Charmander</td>\n",
              "      <td>Monster</td>\n",
              "      <td>Dragon</td>\n",
              "    </tr>\n",
              "    <tr>\n",
              "      <th>...</th>\n",
              "      <td>...</td>\n",
              "      <td>...</td>\n",
              "      <td>...</td>\n",
              "      <td>...</td>\n",
              "      <td>...</td>\n",
              "      <td>...</td>\n",
              "      <td>...</td>\n",
              "      <td>...</td>\n",
              "      <td>...</td>\n",
              "      <td>...</td>\n",
              "      <td>...</td>\n",
              "      <td>...</td>\n",
              "      <td>...</td>\n",
              "      <td>...</td>\n",
              "      <td>...</td>\n",
              "      <td>...</td>\n",
              "      <td>...</td>\n",
              "      <td>...</td>\n",
              "      <td>...</td>\n",
              "      <td>...</td>\n",
              "      <td>...</td>\n",
              "      <td>...</td>\n",
              "      <td>...</td>\n",
              "      <td>...</td>\n",
              "      <td>...</td>\n",
              "      <td>...</td>\n",
              "    </tr>\n",
              "    <tr>\n",
              "      <th>1056</th>\n",
              "      <td>1058</td>\n",
              "      <td>778</td>\n",
              "      <td>mimikyu</td>\n",
              "      <td>Mimikyu (Busted Form)</td>\n",
              "      <td>Ghost</td>\n",
              "      <td>Fairy</td>\n",
              "      <td>Disguise</td>\n",
              "      <td>Disguise</td>\n",
              "      <td>Disguise</td>\n",
              "      <td>60</td>\n",
              "      <td>100</td>\n",
              "      <td>60</td>\n",
              "      <td>100</td>\n",
              "      <td>60</td>\n",
              "      <td>120</td>\n",
              "      <td>500</td>\n",
              "      <td>1.5 lbs.</td>\n",
              "      <td>0'08\"</td>\n",
              "      <td>After going to all the effort of disguising it...</td>\n",
              "      <td>If its neck is broken or its rag torn during a...</td>\n",
              "      <td>Disguise Pokémon</td>\n",
              "      <td>0.500</td>\n",
              "      <td>0.500</td>\n",
              "      <td>NaN</td>\n",
              "      <td>Amorphous</td>\n",
              "      <td>NaN</td>\n",
              "    </tr>\n",
              "    <tr>\n",
              "      <th>1057</th>\n",
              "      <td>1059</td>\n",
              "      <td>778</td>\n",
              "      <td>mimikyu</td>\n",
              "      <td>Mimikyu (2)</td>\n",
              "      <td>Ghost</td>\n",
              "      <td>Fairy</td>\n",
              "      <td>Disguise</td>\n",
              "      <td>Disguise</td>\n",
              "      <td>Disguise</td>\n",
              "      <td>60</td>\n",
              "      <td>100</td>\n",
              "      <td>60</td>\n",
              "      <td>100</td>\n",
              "      <td>60</td>\n",
              "      <td>120</td>\n",
              "      <td>500</td>\n",
              "      <td>1.5 lbs.</td>\n",
              "      <td>0'08\"</td>\n",
              "      <td>NaN</td>\n",
              "      <td>NaN</td>\n",
              "      <td>Disguise Pokémon</td>\n",
              "      <td>0.500</td>\n",
              "      <td>0.500</td>\n",
              "      <td>NaN</td>\n",
              "      <td>Amorphous</td>\n",
              "      <td>NaN</td>\n",
              "    </tr>\n",
              "    <tr>\n",
              "      <th>1058</th>\n",
              "      <td>1060</td>\n",
              "      <td>778</td>\n",
              "      <td>mimikyu</td>\n",
              "      <td>Mimikyu (3)</td>\n",
              "      <td>Ghost</td>\n",
              "      <td>Fairy</td>\n",
              "      <td>Disguise</td>\n",
              "      <td>Disguise</td>\n",
              "      <td>Disguise</td>\n",
              "      <td>60</td>\n",
              "      <td>100</td>\n",
              "      <td>60</td>\n",
              "      <td>100</td>\n",
              "      <td>60</td>\n",
              "      <td>120</td>\n",
              "      <td>500</td>\n",
              "      <td>1.5 lbs.</td>\n",
              "      <td>0'08\"</td>\n",
              "      <td>NaN</td>\n",
              "      <td>NaN</td>\n",
              "      <td>Disguise Pokémon</td>\n",
              "      <td>0.500</td>\n",
              "      <td>0.500</td>\n",
              "      <td>NaN</td>\n",
              "      <td>Amorphous</td>\n",
              "      <td>NaN</td>\n",
              "    </tr>\n",
              "    <tr>\n",
              "      <th>1059</th>\n",
              "      <td>1061</td>\n",
              "      <td>784</td>\n",
              "      <td>kommo-o</td>\n",
              "      <td>Kommo-o (1)</td>\n",
              "      <td>Dragon</td>\n",
              "      <td>Fighting</td>\n",
              "      <td>Bulletproof</td>\n",
              "      <td>Soundproof</td>\n",
              "      <td>Overcoat</td>\n",
              "      <td>75</td>\n",
              "      <td>110</td>\n",
              "      <td>125</td>\n",
              "      <td>100</td>\n",
              "      <td>105</td>\n",
              "      <td>85</td>\n",
              "      <td>600</td>\n",
              "      <td>172.4 lbs.</td>\n",
              "      <td>5'03\"</td>\n",
              "      <td>NaN</td>\n",
              "      <td>NaN</td>\n",
              "      <td>Scaly Pokémon</td>\n",
              "      <td>0.500</td>\n",
              "      <td>0.500</td>\n",
              "      <td>NaN</td>\n",
              "      <td>Dragon</td>\n",
              "      <td>NaN</td>\n",
              "    </tr>\n",
              "    <tr>\n",
              "      <th>1060</th>\n",
              "      <td>1062</td>\n",
              "      <td>801</td>\n",
              "      <td>magearna</td>\n",
              "      <td>Magearna (Original Color)</td>\n",
              "      <td>Steel</td>\n",
              "      <td>Fairy</td>\n",
              "      <td>Soul-Heart</td>\n",
              "      <td>Soul-Heart</td>\n",
              "      <td>Soul-Heart</td>\n",
              "      <td>80</td>\n",
              "      <td>95</td>\n",
              "      <td>115</td>\n",
              "      <td>130</td>\n",
              "      <td>115</td>\n",
              "      <td>65</td>\n",
              "      <td>600</td>\n",
              "      <td>177.5 lbs.</td>\n",
              "      <td>3'03\"</td>\n",
              "      <td>This beautiful form reflects Magearna’s appear...</td>\n",
              "      <td>This gorgeous Magearna looks as it did at the ...</td>\n",
              "      <td>Artificial Pokémon</td>\n",
              "      <td>NaN</td>\n",
              "      <td>NaN</td>\n",
              "      <td>NaN</td>\n",
              "      <td>Undiscovered</td>\n",
              "      <td>NaN</td>\n",
              "    </tr>\n",
              "  </tbody>\n",
              "</table>\n",
              "<p>1061 rows × 26 columns</p>\n",
              "</div>"
            ],
            "text/plain": [
              "        id  ndex     species  ... pre-evolution    egg-group1 egg-group2\n",
              "0        1     1   bulbasaur  ...           NaN       Monster      Grass\n",
              "1        2     2     ivysaur  ...     Bulbasaur       Monster      Grass\n",
              "2        3     3    venusaur  ...       Ivysaur       Monster      Grass\n",
              "3        4     4  charmander  ...           NaN       Monster     Dragon\n",
              "4        5     5  charmeleon  ...    Charmander       Monster     Dragon\n",
              "...    ...   ...         ...  ...           ...           ...        ...\n",
              "1056  1058   778     mimikyu  ...           NaN     Amorphous        NaN\n",
              "1057  1059   778     mimikyu  ...           NaN     Amorphous        NaN\n",
              "1058  1060   778     mimikyu  ...           NaN     Amorphous        NaN\n",
              "1059  1061   784     kommo-o  ...           NaN        Dragon        NaN\n",
              "1060  1062   801    magearna  ...           NaN  Undiscovered        NaN\n",
              "\n",
              "[1061 rows x 26 columns]"
            ]
          },
          "metadata": {
            "tags": []
          },
          "execution_count": 4
        }
      ]
    },
    {
      "cell_type": "markdown",
      "metadata": {
        "id": "pFXDcwi0HqSr",
        "colab_type": "text"
      },
      "source": [
        "## 前処理\n",
        "第６世代までを訓練データ、第７世代を評価データとして使う"
      ]
    },
    {
      "cell_type": "markdown",
      "metadata": {
        "id": "4JR2opHEdn9p",
        "colab_type": "text"
      },
      "source": [
        "### 出力の種族値データを作成"
      ]
    },
    {
      "cell_type": "code",
      "metadata": {
        "id": "mndoEEFymWxE",
        "colab_type": "code",
        "colab": {}
      },
      "source": [
        "# ２つのデータのCSVを紐付け\n",
        "def isExistsLowNum(name):\n",
        "  try:\n",
        "    # 複数フォームあるデータについては1つ目のインデックス値を返す\n",
        "    return df_poke.query('species == \"' + name + '\"').index[0]\n",
        "  except:\n",
        "    return np.nan"
      ],
      "execution_count": 0,
      "outputs": []
    },
    {
      "cell_type": "code",
      "metadata": {
        "id": "7ZQP8IeBz-Oh",
        "colab_type": "code",
        "outputId": "7a22a61d-b131-4e39-8ee5-663afeb2e9c0",
        "colab": {
          "base_uri": "https://localhost:8080/",
          "height": 204
        }
      },
      "source": [
        "df_pokeimg['id'] = df_pokeimg['Name'].map(isExistsLowNum)\n",
        "df_pokeimg.head()"
      ],
      "execution_count": 6,
      "outputs": [
        {
          "output_type": "execute_result",
          "data": {
            "text/html": [
              "<div>\n",
              "<style scoped>\n",
              "    .dataframe tbody tr th:only-of-type {\n",
              "        vertical-align: middle;\n",
              "    }\n",
              "\n",
              "    .dataframe tbody tr th {\n",
              "        vertical-align: top;\n",
              "    }\n",
              "\n",
              "    .dataframe thead th {\n",
              "        text-align: right;\n",
              "    }\n",
              "</style>\n",
              "<table border=\"1\" class=\"dataframe\">\n",
              "  <thead>\n",
              "    <tr style=\"text-align: right;\">\n",
              "      <th></th>\n",
              "      <th>Name</th>\n",
              "      <th>Type1</th>\n",
              "      <th>Type2</th>\n",
              "      <th>id</th>\n",
              "    </tr>\n",
              "  </thead>\n",
              "  <tbody>\n",
              "    <tr>\n",
              "      <th>0</th>\n",
              "      <td>bulbasaur</td>\n",
              "      <td>Grass</td>\n",
              "      <td>Poison</td>\n",
              "      <td>0.0</td>\n",
              "    </tr>\n",
              "    <tr>\n",
              "      <th>1</th>\n",
              "      <td>ivysaur</td>\n",
              "      <td>Grass</td>\n",
              "      <td>Poison</td>\n",
              "      <td>1.0</td>\n",
              "    </tr>\n",
              "    <tr>\n",
              "      <th>2</th>\n",
              "      <td>venusaur</td>\n",
              "      <td>Grass</td>\n",
              "      <td>Poison</td>\n",
              "      <td>2.0</td>\n",
              "    </tr>\n",
              "    <tr>\n",
              "      <th>3</th>\n",
              "      <td>charmander</td>\n",
              "      <td>Fire</td>\n",
              "      <td>NaN</td>\n",
              "      <td>3.0</td>\n",
              "    </tr>\n",
              "    <tr>\n",
              "      <th>4</th>\n",
              "      <td>charmeleon</td>\n",
              "      <td>Fire</td>\n",
              "      <td>NaN</td>\n",
              "      <td>4.0</td>\n",
              "    </tr>\n",
              "  </tbody>\n",
              "</table>\n",
              "</div>"
            ],
            "text/plain": [
              "         Name  Type1   Type2   id\n",
              "0   bulbasaur  Grass  Poison  0.0\n",
              "1     ivysaur  Grass  Poison  1.0\n",
              "2    venusaur  Grass  Poison  2.0\n",
              "3  charmander   Fire     NaN  3.0\n",
              "4  charmeleon   Fire     NaN  4.0"
            ]
          },
          "metadata": {
            "tags": []
          },
          "execution_count": 6
        }
      ]
    },
    {
      "cell_type": "code",
      "metadata": {
        "id": "QINpNmZsAOqf",
        "colab_type": "code",
        "outputId": "10287bae-7da4-440f-d4b7-2a8a78d2fccb",
        "colab": {
          "base_uri": "https://localhost:8080/",
          "height": 34
        }
      },
      "source": [
        "df_pokeimg['id'].isnull().sum()"
      ],
      "execution_count": 7,
      "outputs": [
        {
          "output_type": "execute_result",
          "data": {
            "text/plain": [
              "39"
            ]
          },
          "metadata": {
            "tags": []
          },
          "execution_count": 7
        }
      ]
    },
    {
      "cell_type": "code",
      "metadata": {
        "id": "QOQSQM2wA4_b",
        "colab_type": "code",
        "outputId": "2a2b14c6-5975-49b0-cf28-90356eadf866",
        "colab": {
          "base_uri": "https://localhost:8080/",
          "height": 1000
        }
      },
      "source": [
        "df_pokeimg[df_pokeimg['id'].isnull()]"
      ],
      "execution_count": 8,
      "outputs": [
        {
          "output_type": "execute_result",
          "data": {
            "text/html": [
              "<div>\n",
              "<style scoped>\n",
              "    .dataframe tbody tr th:only-of-type {\n",
              "        vertical-align: middle;\n",
              "    }\n",
              "\n",
              "    .dataframe tbody tr th {\n",
              "        vertical-align: top;\n",
              "    }\n",
              "\n",
              "    .dataframe thead th {\n",
              "        text-align: right;\n",
              "    }\n",
              "</style>\n",
              "<table border=\"1\" class=\"dataframe\">\n",
              "  <thead>\n",
              "    <tr style=\"text-align: right;\">\n",
              "      <th></th>\n",
              "      <th>Name</th>\n",
              "      <th>Type1</th>\n",
              "      <th>Type2</th>\n",
              "      <th>id</th>\n",
              "    </tr>\n",
              "  </thead>\n",
              "  <tbody>\n",
              "    <tr>\n",
              "      <th>28</th>\n",
              "      <td>nidoran-f</td>\n",
              "      <td>Poison</td>\n",
              "      <td>NaN</td>\n",
              "      <td>NaN</td>\n",
              "    </tr>\n",
              "    <tr>\n",
              "      <th>31</th>\n",
              "      <td>nidoran-m</td>\n",
              "      <td>Poison</td>\n",
              "      <td>NaN</td>\n",
              "      <td>NaN</td>\n",
              "    </tr>\n",
              "    <tr>\n",
              "      <th>82</th>\n",
              "      <td>farfetchd</td>\n",
              "      <td>Normal</td>\n",
              "      <td>Flying</td>\n",
              "      <td>NaN</td>\n",
              "    </tr>\n",
              "    <tr>\n",
              "      <th>121</th>\n",
              "      <td>mr-mime</td>\n",
              "      <td>Psychic</td>\n",
              "      <td>Fairy</td>\n",
              "      <td>NaN</td>\n",
              "    </tr>\n",
              "    <tr>\n",
              "      <th>385</th>\n",
              "      <td>deoxys-normal</td>\n",
              "      <td>Psychic</td>\n",
              "      <td>NaN</td>\n",
              "      <td>NaN</td>\n",
              "    </tr>\n",
              "    <tr>\n",
              "      <th>412</th>\n",
              "      <td>wormadam-plant</td>\n",
              "      <td>Bug</td>\n",
              "      <td>Grass</td>\n",
              "      <td>NaN</td>\n",
              "    </tr>\n",
              "    <tr>\n",
              "      <th>438</th>\n",
              "      <td>mime-jr</td>\n",
              "      <td>Psychic</td>\n",
              "      <td>Fairy</td>\n",
              "      <td>NaN</td>\n",
              "    </tr>\n",
              "    <tr>\n",
              "      <th>486</th>\n",
              "      <td>giratina-altered</td>\n",
              "      <td>Ghost</td>\n",
              "      <td>Dragon</td>\n",
              "      <td>NaN</td>\n",
              "    </tr>\n",
              "    <tr>\n",
              "      <th>491</th>\n",
              "      <td>shaymin-land</td>\n",
              "      <td>Grass</td>\n",
              "      <td>NaN</td>\n",
              "      <td>NaN</td>\n",
              "    </tr>\n",
              "    <tr>\n",
              "      <th>549</th>\n",
              "      <td>basculin-red-striped</td>\n",
              "      <td>Water</td>\n",
              "      <td>NaN</td>\n",
              "      <td>NaN</td>\n",
              "    </tr>\n",
              "    <tr>\n",
              "      <th>554</th>\n",
              "      <td>darmanitan-standard</td>\n",
              "      <td>Fire</td>\n",
              "      <td>NaN</td>\n",
              "      <td>NaN</td>\n",
              "    </tr>\n",
              "    <tr>\n",
              "      <th>640</th>\n",
              "      <td>tornadus-incarnate</td>\n",
              "      <td>Flying</td>\n",
              "      <td>NaN</td>\n",
              "      <td>NaN</td>\n",
              "    </tr>\n",
              "    <tr>\n",
              "      <th>641</th>\n",
              "      <td>thundurus-incarnate</td>\n",
              "      <td>Electric</td>\n",
              "      <td>Flying</td>\n",
              "      <td>NaN</td>\n",
              "    </tr>\n",
              "    <tr>\n",
              "      <th>644</th>\n",
              "      <td>landorus-incarnate</td>\n",
              "      <td>Ground</td>\n",
              "      <td>Flying</td>\n",
              "      <td>NaN</td>\n",
              "    </tr>\n",
              "    <tr>\n",
              "      <th>646</th>\n",
              "      <td>keldeo-ordinary</td>\n",
              "      <td>Water</td>\n",
              "      <td>Fighting</td>\n",
              "      <td>NaN</td>\n",
              "    </tr>\n",
              "    <tr>\n",
              "      <th>647</th>\n",
              "      <td>meloetta-aria</td>\n",
              "      <td>Normal</td>\n",
              "      <td>Psychic</td>\n",
              "      <td>NaN</td>\n",
              "    </tr>\n",
              "    <tr>\n",
              "      <th>668</th>\n",
              "      <td>flabebe</td>\n",
              "      <td>Fairy</td>\n",
              "      <td>NaN</td>\n",
              "      <td>NaN</td>\n",
              "    </tr>\n",
              "    <tr>\n",
              "      <th>677</th>\n",
              "      <td>meowstic-male</td>\n",
              "      <td>Psychic</td>\n",
              "      <td>NaN</td>\n",
              "      <td>NaN</td>\n",
              "    </tr>\n",
              "    <tr>\n",
              "      <th>680</th>\n",
              "      <td>aegislash-blade</td>\n",
              "      <td>Steel</td>\n",
              "      <td>Ghost</td>\n",
              "      <td>NaN</td>\n",
              "    </tr>\n",
              "    <tr>\n",
              "      <th>709</th>\n",
              "      <td>pumpkaboo-average</td>\n",
              "      <td>Ghost</td>\n",
              "      <td>Grass</td>\n",
              "      <td>NaN</td>\n",
              "    </tr>\n",
              "    <tr>\n",
              "      <th>710</th>\n",
              "      <td>gourgeist-average</td>\n",
              "      <td>Ghost</td>\n",
              "      <td>Grass</td>\n",
              "      <td>NaN</td>\n",
              "    </tr>\n",
              "    <tr>\n",
              "      <th>717</th>\n",
              "      <td>zygarde-50</td>\n",
              "      <td>Dragon</td>\n",
              "      <td>Ground</td>\n",
              "      <td>NaN</td>\n",
              "    </tr>\n",
              "    <tr>\n",
              "      <th>719</th>\n",
              "      <td>hoopa-confined</td>\n",
              "      <td>Psychic</td>\n",
              "      <td>Ghost</td>\n",
              "      <td>NaN</td>\n",
              "    </tr>\n",
              "    <tr>\n",
              "      <th>740</th>\n",
              "      <td>oricorio-baile</td>\n",
              "      <td>Fire</td>\n",
              "      <td>Flying</td>\n",
              "      <td>NaN</td>\n",
              "    </tr>\n",
              "    <tr>\n",
              "      <th>744</th>\n",
              "      <td>lycanroc-midday</td>\n",
              "      <td>Rock</td>\n",
              "      <td>NaN</td>\n",
              "      <td>NaN</td>\n",
              "    </tr>\n",
              "    <tr>\n",
              "      <th>745</th>\n",
              "      <td>wishiwashi-solo</td>\n",
              "      <td>Water</td>\n",
              "      <td>NaN</td>\n",
              "      <td>NaN</td>\n",
              "    </tr>\n",
              "    <tr>\n",
              "      <th>771</th>\n",
              "      <td>type-null</td>\n",
              "      <td>Normal</td>\n",
              "      <td>NaN</td>\n",
              "      <td>NaN</td>\n",
              "    </tr>\n",
              "    <tr>\n",
              "      <th>773</th>\n",
              "      <td>minior-meteor</td>\n",
              "      <td>Rock</td>\n",
              "      <td>Flying</td>\n",
              "      <td>NaN</td>\n",
              "    </tr>\n",
              "    <tr>\n",
              "      <th>784</th>\n",
              "      <td>tapu-koko</td>\n",
              "      <td>Electric</td>\n",
              "      <td>Fairy</td>\n",
              "      <td>NaN</td>\n",
              "    </tr>\n",
              "    <tr>\n",
              "      <th>785</th>\n",
              "      <td>tapu-lele</td>\n",
              "      <td>Psychic</td>\n",
              "      <td>Fairy</td>\n",
              "      <td>NaN</td>\n",
              "    </tr>\n",
              "    <tr>\n",
              "      <th>786</th>\n",
              "      <td>tapu-bulu</td>\n",
              "      <td>Grass</td>\n",
              "      <td>Fairy</td>\n",
              "      <td>NaN</td>\n",
              "    </tr>\n",
              "    <tr>\n",
              "      <th>787</th>\n",
              "      <td>tapu-fini</td>\n",
              "      <td>Water</td>\n",
              "      <td>Fairy</td>\n",
              "      <td>NaN</td>\n",
              "    </tr>\n",
              "    <tr>\n",
              "      <th>802</th>\n",
              "      <td>poipole</td>\n",
              "      <td>Poison</td>\n",
              "      <td>NaN</td>\n",
              "      <td>NaN</td>\n",
              "    </tr>\n",
              "    <tr>\n",
              "      <th>803</th>\n",
              "      <td>naganadel</td>\n",
              "      <td>Poison</td>\n",
              "      <td>Dragon</td>\n",
              "      <td>NaN</td>\n",
              "    </tr>\n",
              "    <tr>\n",
              "      <th>804</th>\n",
              "      <td>stakataka</td>\n",
              "      <td>Rock</td>\n",
              "      <td>Steel</td>\n",
              "      <td>NaN</td>\n",
              "    </tr>\n",
              "    <tr>\n",
              "      <th>805</th>\n",
              "      <td>blacephalon</td>\n",
              "      <td>Fire</td>\n",
              "      <td>Ghost</td>\n",
              "      <td>NaN</td>\n",
              "    </tr>\n",
              "    <tr>\n",
              "      <th>806</th>\n",
              "      <td>zeraora</td>\n",
              "      <td>Electric</td>\n",
              "      <td>NaN</td>\n",
              "      <td>NaN</td>\n",
              "    </tr>\n",
              "    <tr>\n",
              "      <th>807</th>\n",
              "      <td>meltan</td>\n",
              "      <td>Steel</td>\n",
              "      <td>NaN</td>\n",
              "      <td>NaN</td>\n",
              "    </tr>\n",
              "    <tr>\n",
              "      <th>808</th>\n",
              "      <td>melmetal</td>\n",
              "      <td>Steel</td>\n",
              "      <td>NaN</td>\n",
              "      <td>NaN</td>\n",
              "    </tr>\n",
              "  </tbody>\n",
              "</table>\n",
              "</div>"
            ],
            "text/plain": [
              "                     Name     Type1     Type2  id\n",
              "28              nidoran-f    Poison       NaN NaN\n",
              "31              nidoran-m    Poison       NaN NaN\n",
              "82              farfetchd    Normal    Flying NaN\n",
              "121               mr-mime   Psychic     Fairy NaN\n",
              "385         deoxys-normal   Psychic       NaN NaN\n",
              "412        wormadam-plant       Bug     Grass NaN\n",
              "438               mime-jr   Psychic     Fairy NaN\n",
              "486      giratina-altered     Ghost    Dragon NaN\n",
              "491          shaymin-land     Grass       NaN NaN\n",
              "549  basculin-red-striped     Water       NaN NaN\n",
              "554   darmanitan-standard      Fire       NaN NaN\n",
              "640    tornadus-incarnate    Flying       NaN NaN\n",
              "641   thundurus-incarnate  Electric    Flying NaN\n",
              "644    landorus-incarnate    Ground    Flying NaN\n",
              "646       keldeo-ordinary     Water  Fighting NaN\n",
              "647         meloetta-aria    Normal   Psychic NaN\n",
              "668               flabebe     Fairy       NaN NaN\n",
              "677         meowstic-male   Psychic       NaN NaN\n",
              "680       aegislash-blade     Steel     Ghost NaN\n",
              "709     pumpkaboo-average     Ghost     Grass NaN\n",
              "710     gourgeist-average     Ghost     Grass NaN\n",
              "717            zygarde-50    Dragon    Ground NaN\n",
              "719        hoopa-confined   Psychic     Ghost NaN\n",
              "740        oricorio-baile      Fire    Flying NaN\n",
              "744       lycanroc-midday      Rock       NaN NaN\n",
              "745       wishiwashi-solo     Water       NaN NaN\n",
              "771             type-null    Normal       NaN NaN\n",
              "773         minior-meteor      Rock    Flying NaN\n",
              "784             tapu-koko  Electric     Fairy NaN\n",
              "785             tapu-lele   Psychic     Fairy NaN\n",
              "786             tapu-bulu     Grass     Fairy NaN\n",
              "787             tapu-fini     Water     Fairy NaN\n",
              "802               poipole    Poison       NaN NaN\n",
              "803             naganadel    Poison    Dragon NaN\n",
              "804             stakataka      Rock     Steel NaN\n",
              "805           blacephalon      Fire     Ghost NaN\n",
              "806               zeraora  Electric       NaN NaN\n",
              "807                meltan     Steel       NaN NaN\n",
              "808              melmetal     Steel       NaN NaN"
            ]
          },
          "metadata": {
            "tags": []
          },
          "execution_count": 8
        }
      ]
    },
    {
      "cell_type": "markdown",
      "metadata": {
        "id": "9GsrXiaX_XKC",
        "colab_type": "text"
      },
      "source": [
        "#### ポケモンの名前がデータ間で異なる場合は名寄せ"
      ]
    },
    {
      "cell_type": "code",
      "metadata": {
        "id": "hsTbMCJuGHCR",
        "colab_type": "code",
        "colab": {}
      },
      "source": [
        "df_poke.iloc[28, 2] = 'nidoran-f'\n",
        "df_poke.iloc[31, 2] = 'nidoran-m'\n",
        "df_poke.iloc[82, 2] = 'farfetchd'\n",
        "df_poke.iloc[121, 2] = 'mr-mime'\n",
        "df_poke.iloc[385, 2] = 'deoxys-normal'\n",
        "df_poke.iloc[412, 2] = 'wormadam-plant'\n",
        "df_poke.iloc[438, 2] = 'mime-jr'\n",
        "df_poke.iloc[486, 2] = 'giratina-altered'\n",
        "df_poke.iloc[491, 2] = 'shaymin-land'\n",
        "df_poke.iloc[549, 2] = 'basculin-red-striped'\n",
        "df_poke.iloc[554, 2] = 'darmanitan-standard'\n",
        "df_poke.iloc[640, 2] = 'tornadus-incarnate'\n",
        "df_poke.iloc[641, 2] = 'thundurus-incarnate'\n",
        "df_poke.iloc[644, 2] = 'landorus-incarnate'\n",
        "df_poke.iloc[646, 2] = 'keldeo-ordinary'\n",
        "df_poke.iloc[647, 2] = 'meloetta-aria'\n",
        "df_poke.iloc[668, 2] = 'flabebe'\n",
        "df_poke.iloc[677, 2] = 'meowstic-male'\n",
        "df_poke.iloc[680, 2] = 'aegislash-blade'\n",
        "df_poke.iloc[709, 2] = 'pumpkaboo-average'\n",
        "df_poke.iloc[710, 2] = 'gourgeist-average'\n",
        "df_poke.iloc[717, 2] = 'zygarde-50'\n",
        "df_poke.iloc[719, 2] = 'hoopa-confined'\n",
        "df_poke.iloc[740, 2] = 'oricorio-baile'\n",
        "df_poke.iloc[744, 2] = 'lycanroc-midday'\n",
        "df_poke.iloc[745, 2] = 'wishiwashi-solo'\n",
        "df_poke.iloc[771, 2] = 'type-null'\n",
        "df_poke.iloc[773, 2] = 'minior-meteor'\n",
        "df_poke.iloc[784, 2] = 'tapu-koko'\n",
        "df_poke.iloc[785, 2] = 'tapu-lele'\n",
        "df_poke.iloc[786, 2] = 'tapu-bulu'\n",
        "df_poke.iloc[787, 2] = 'tapu-fini'"
      ],
      "execution_count": 0,
      "outputs": []
    },
    {
      "cell_type": "code",
      "metadata": {
        "id": "MGVqYe0BU7yC",
        "colab_type": "code",
        "colab": {}
      },
      "source": [
        "df_pokeimg['id'] = df_pokeimg['Name'].map(isExistsLowNum)"
      ],
      "execution_count": 0,
      "outputs": []
    },
    {
      "cell_type": "code",
      "metadata": {
        "id": "8Fa_krvLF5wF",
        "colab_type": "code",
        "outputId": "e6dbe646-30bc-4bd0-f10f-732cab889a6c",
        "colab": {
          "base_uri": "https://localhost:8080/",
          "height": 266
        }
      },
      "source": [
        "df_pokeimg[df_pokeimg['id'].isnull()]"
      ],
      "execution_count": 11,
      "outputs": [
        {
          "output_type": "execute_result",
          "data": {
            "text/html": [
              "<div>\n",
              "<style scoped>\n",
              "    .dataframe tbody tr th:only-of-type {\n",
              "        vertical-align: middle;\n",
              "    }\n",
              "\n",
              "    .dataframe tbody tr th {\n",
              "        vertical-align: top;\n",
              "    }\n",
              "\n",
              "    .dataframe thead th {\n",
              "        text-align: right;\n",
              "    }\n",
              "</style>\n",
              "<table border=\"1\" class=\"dataframe\">\n",
              "  <thead>\n",
              "    <tr style=\"text-align: right;\">\n",
              "      <th></th>\n",
              "      <th>Name</th>\n",
              "      <th>Type1</th>\n",
              "      <th>Type2</th>\n",
              "      <th>id</th>\n",
              "    </tr>\n",
              "  </thead>\n",
              "  <tbody>\n",
              "    <tr>\n",
              "      <th>802</th>\n",
              "      <td>poipole</td>\n",
              "      <td>Poison</td>\n",
              "      <td>NaN</td>\n",
              "      <td>NaN</td>\n",
              "    </tr>\n",
              "    <tr>\n",
              "      <th>803</th>\n",
              "      <td>naganadel</td>\n",
              "      <td>Poison</td>\n",
              "      <td>Dragon</td>\n",
              "      <td>NaN</td>\n",
              "    </tr>\n",
              "    <tr>\n",
              "      <th>804</th>\n",
              "      <td>stakataka</td>\n",
              "      <td>Rock</td>\n",
              "      <td>Steel</td>\n",
              "      <td>NaN</td>\n",
              "    </tr>\n",
              "    <tr>\n",
              "      <th>805</th>\n",
              "      <td>blacephalon</td>\n",
              "      <td>Fire</td>\n",
              "      <td>Ghost</td>\n",
              "      <td>NaN</td>\n",
              "    </tr>\n",
              "    <tr>\n",
              "      <th>806</th>\n",
              "      <td>zeraora</td>\n",
              "      <td>Electric</td>\n",
              "      <td>NaN</td>\n",
              "      <td>NaN</td>\n",
              "    </tr>\n",
              "    <tr>\n",
              "      <th>807</th>\n",
              "      <td>meltan</td>\n",
              "      <td>Steel</td>\n",
              "      <td>NaN</td>\n",
              "      <td>NaN</td>\n",
              "    </tr>\n",
              "    <tr>\n",
              "      <th>808</th>\n",
              "      <td>melmetal</td>\n",
              "      <td>Steel</td>\n",
              "      <td>NaN</td>\n",
              "      <td>NaN</td>\n",
              "    </tr>\n",
              "  </tbody>\n",
              "</table>\n",
              "</div>"
            ],
            "text/plain": [
              "            Name     Type1   Type2  id\n",
              "802      poipole    Poison     NaN NaN\n",
              "803    naganadel    Poison  Dragon NaN\n",
              "804    stakataka      Rock   Steel NaN\n",
              "805  blacephalon      Fire   Ghost NaN\n",
              "806      zeraora  Electric     NaN NaN\n",
              "807       meltan     Steel     NaN NaN\n",
              "808     melmetal     Steel     NaN NaN"
            ]
          },
          "metadata": {
            "tags": []
          },
          "execution_count": 11
        }
      ]
    },
    {
      "cell_type": "code",
      "metadata": {
        "id": "j0LukuUKXMLo",
        "colab_type": "code",
        "outputId": "4d4ef601-dda5-4eeb-85d8-a14e4234ea93",
        "colab": {
          "base_uri": "https://localhost:8080/",
          "height": 204
        }
      },
      "source": [
        "df_pokeimg['hp'] = np.nan\n",
        "df_pokeimg['attack'] = np.nan\n",
        "df_pokeimg['defense'] = np.nan\n",
        "df_pokeimg['spattack'] = np.nan\n",
        "df_pokeimg['spdefense'] = np.nan\n",
        "df_pokeimg['speed'] = np.nan\n",
        "df_pokeimg['speed'] = np.nan\n",
        "df_pokeimg['total'] = np.nan\n",
        "df_pokeimg.head()"
      ],
      "execution_count": 12,
      "outputs": [
        {
          "output_type": "execute_result",
          "data": {
            "text/html": [
              "<div>\n",
              "<style scoped>\n",
              "    .dataframe tbody tr th:only-of-type {\n",
              "        vertical-align: middle;\n",
              "    }\n",
              "\n",
              "    .dataframe tbody tr th {\n",
              "        vertical-align: top;\n",
              "    }\n",
              "\n",
              "    .dataframe thead th {\n",
              "        text-align: right;\n",
              "    }\n",
              "</style>\n",
              "<table border=\"1\" class=\"dataframe\">\n",
              "  <thead>\n",
              "    <tr style=\"text-align: right;\">\n",
              "      <th></th>\n",
              "      <th>Name</th>\n",
              "      <th>Type1</th>\n",
              "      <th>Type2</th>\n",
              "      <th>id</th>\n",
              "      <th>hp</th>\n",
              "      <th>attack</th>\n",
              "      <th>defense</th>\n",
              "      <th>spattack</th>\n",
              "      <th>spdefense</th>\n",
              "      <th>speed</th>\n",
              "      <th>total</th>\n",
              "    </tr>\n",
              "  </thead>\n",
              "  <tbody>\n",
              "    <tr>\n",
              "      <th>0</th>\n",
              "      <td>bulbasaur</td>\n",
              "      <td>Grass</td>\n",
              "      <td>Poison</td>\n",
              "      <td>0.0</td>\n",
              "      <td>NaN</td>\n",
              "      <td>NaN</td>\n",
              "      <td>NaN</td>\n",
              "      <td>NaN</td>\n",
              "      <td>NaN</td>\n",
              "      <td>NaN</td>\n",
              "      <td>NaN</td>\n",
              "    </tr>\n",
              "    <tr>\n",
              "      <th>1</th>\n",
              "      <td>ivysaur</td>\n",
              "      <td>Grass</td>\n",
              "      <td>Poison</td>\n",
              "      <td>1.0</td>\n",
              "      <td>NaN</td>\n",
              "      <td>NaN</td>\n",
              "      <td>NaN</td>\n",
              "      <td>NaN</td>\n",
              "      <td>NaN</td>\n",
              "      <td>NaN</td>\n",
              "      <td>NaN</td>\n",
              "    </tr>\n",
              "    <tr>\n",
              "      <th>2</th>\n",
              "      <td>venusaur</td>\n",
              "      <td>Grass</td>\n",
              "      <td>Poison</td>\n",
              "      <td>2.0</td>\n",
              "      <td>NaN</td>\n",
              "      <td>NaN</td>\n",
              "      <td>NaN</td>\n",
              "      <td>NaN</td>\n",
              "      <td>NaN</td>\n",
              "      <td>NaN</td>\n",
              "      <td>NaN</td>\n",
              "    </tr>\n",
              "    <tr>\n",
              "      <th>3</th>\n",
              "      <td>charmander</td>\n",
              "      <td>Fire</td>\n",
              "      <td>NaN</td>\n",
              "      <td>3.0</td>\n",
              "      <td>NaN</td>\n",
              "      <td>NaN</td>\n",
              "      <td>NaN</td>\n",
              "      <td>NaN</td>\n",
              "      <td>NaN</td>\n",
              "      <td>NaN</td>\n",
              "      <td>NaN</td>\n",
              "    </tr>\n",
              "    <tr>\n",
              "      <th>4</th>\n",
              "      <td>charmeleon</td>\n",
              "      <td>Fire</td>\n",
              "      <td>NaN</td>\n",
              "      <td>4.0</td>\n",
              "      <td>NaN</td>\n",
              "      <td>NaN</td>\n",
              "      <td>NaN</td>\n",
              "      <td>NaN</td>\n",
              "      <td>NaN</td>\n",
              "      <td>NaN</td>\n",
              "      <td>NaN</td>\n",
              "    </tr>\n",
              "  </tbody>\n",
              "</table>\n",
              "</div>"
            ],
            "text/plain": [
              "         Name  Type1   Type2   id  ...  spattack  spdefense  speed  total\n",
              "0   bulbasaur  Grass  Poison  0.0  ...       NaN        NaN    NaN    NaN\n",
              "1     ivysaur  Grass  Poison  1.0  ...       NaN        NaN    NaN    NaN\n",
              "2    venusaur  Grass  Poison  2.0  ...       NaN        NaN    NaN    NaN\n",
              "3  charmander   Fire     NaN  3.0  ...       NaN        NaN    NaN    NaN\n",
              "4  charmeleon   Fire     NaN  4.0  ...       NaN        NaN    NaN    NaN\n",
              "\n",
              "[5 rows x 11 columns]"
            ]
          },
          "metadata": {
            "tags": []
          },
          "execution_count": 12
        }
      ]
    },
    {
      "cell_type": "code",
      "metadata": {
        "id": "wznprUY6aobG",
        "colab_type": "code",
        "outputId": "01fd011e-cb55-4a39-ca7b-c695aac27513",
        "colab": {
          "base_uri": "https://localhost:8080/",
          "height": 323
        }
      },
      "source": [
        "df_pokeimg = df_pokeimg.dropna(subset=['id'])\n",
        "df_pokeimg['id'] = df_pokeimg['id'].astype(int)\n",
        "df_pokeimg.isnull().sum()"
      ],
      "execution_count": 13,
      "outputs": [
        {
          "output_type": "stream",
          "text": [
            "/usr/local/lib/python3.6/dist-packages/ipykernel_launcher.py:2: SettingWithCopyWarning: \n",
            "A value is trying to be set on a copy of a slice from a DataFrame.\n",
            "Try using .loc[row_indexer,col_indexer] = value instead\n",
            "\n",
            "See the caveats in the documentation: http://pandas.pydata.org/pandas-docs/stable/user_guide/indexing.html#returning-a-view-versus-a-copy\n",
            "  \n"
          ],
          "name": "stderr"
        },
        {
          "output_type": "execute_result",
          "data": {
            "text/plain": [
              "Name           0\n",
              "Type1          0\n",
              "Type2        400\n",
              "id             0\n",
              "hp           802\n",
              "attack       802\n",
              "defense      802\n",
              "spattack     802\n",
              "spdefense    802\n",
              "speed        802\n",
              "total        802\n",
              "dtype: int64"
            ]
          },
          "metadata": {
            "tags": []
          },
          "execution_count": 13
        }
      ]
    },
    {
      "cell_type": "code",
      "metadata": {
        "id": "XrbKNi1QYcG3",
        "colab_type": "code",
        "colab": {}
      },
      "source": [
        "getH = lambda x:  df_poke.iloc[x, 9]\n",
        "getA = lambda x:  df_poke.iloc[x, 10]\n",
        "getB = lambda x:  df_poke.iloc[x, 11]\n",
        "getC = lambda x:  df_poke.iloc[x, 12]\n",
        "getD = lambda x:  df_poke.iloc[x, 13]\n",
        "getS = lambda x:  df_poke.iloc[x, 14]\n",
        "getG = lambda x:  df_poke.iloc[x, 14]\n",
        "getT = lambda x:  df_poke.iloc[x, 15]"
      ],
      "execution_count": 0,
      "outputs": []
    },
    {
      "cell_type": "code",
      "metadata": {
        "id": "iLLZlpZIZf5V",
        "colab_type": "code",
        "colab": {}
      },
      "source": [
        "df_pokeimg['hp'] = df_pokeimg['id'].map(getH)\n",
        "df_pokeimg['attack'] = df_pokeimg['id'].map(getA)\n",
        "df_pokeimg['defense'] = df_pokeimg['id'].map(getB)\n",
        "df_pokeimg['spattack'] = df_pokeimg['id'].map(getC)\n",
        "df_pokeimg['spdefense'] = df_pokeimg['id'].map(getD)\n",
        "df_pokeimg['speed'] = df_pokeimg['id'].map(getS)\n",
        "df_pokeimg['total'] = df_pokeimg['id'].map(getT)"
      ],
      "execution_count": 0,
      "outputs": []
    },
    {
      "cell_type": "code",
      "metadata": {
        "id": "eKuY6g_0cKAE",
        "colab_type": "code",
        "outputId": "207b0fea-633e-4be0-bc4d-3c875edc949c",
        "colab": {
          "base_uri": "https://localhost:8080/",
          "height": 204
        }
      },
      "source": [
        "df_pokeimg.head()"
      ],
      "execution_count": 16,
      "outputs": [
        {
          "output_type": "execute_result",
          "data": {
            "text/html": [
              "<div>\n",
              "<style scoped>\n",
              "    .dataframe tbody tr th:only-of-type {\n",
              "        vertical-align: middle;\n",
              "    }\n",
              "\n",
              "    .dataframe tbody tr th {\n",
              "        vertical-align: top;\n",
              "    }\n",
              "\n",
              "    .dataframe thead th {\n",
              "        text-align: right;\n",
              "    }\n",
              "</style>\n",
              "<table border=\"1\" class=\"dataframe\">\n",
              "  <thead>\n",
              "    <tr style=\"text-align: right;\">\n",
              "      <th></th>\n",
              "      <th>Name</th>\n",
              "      <th>Type1</th>\n",
              "      <th>Type2</th>\n",
              "      <th>id</th>\n",
              "      <th>hp</th>\n",
              "      <th>attack</th>\n",
              "      <th>defense</th>\n",
              "      <th>spattack</th>\n",
              "      <th>spdefense</th>\n",
              "      <th>speed</th>\n",
              "      <th>total</th>\n",
              "    </tr>\n",
              "  </thead>\n",
              "  <tbody>\n",
              "    <tr>\n",
              "      <th>0</th>\n",
              "      <td>bulbasaur</td>\n",
              "      <td>Grass</td>\n",
              "      <td>Poison</td>\n",
              "      <td>0</td>\n",
              "      <td>45</td>\n",
              "      <td>49</td>\n",
              "      <td>49</td>\n",
              "      <td>65</td>\n",
              "      <td>65</td>\n",
              "      <td>45</td>\n",
              "      <td>318</td>\n",
              "    </tr>\n",
              "    <tr>\n",
              "      <th>1</th>\n",
              "      <td>ivysaur</td>\n",
              "      <td>Grass</td>\n",
              "      <td>Poison</td>\n",
              "      <td>1</td>\n",
              "      <td>60</td>\n",
              "      <td>62</td>\n",
              "      <td>63</td>\n",
              "      <td>80</td>\n",
              "      <td>80</td>\n",
              "      <td>60</td>\n",
              "      <td>405</td>\n",
              "    </tr>\n",
              "    <tr>\n",
              "      <th>2</th>\n",
              "      <td>venusaur</td>\n",
              "      <td>Grass</td>\n",
              "      <td>Poison</td>\n",
              "      <td>2</td>\n",
              "      <td>80</td>\n",
              "      <td>82</td>\n",
              "      <td>83</td>\n",
              "      <td>100</td>\n",
              "      <td>100</td>\n",
              "      <td>80</td>\n",
              "      <td>525</td>\n",
              "    </tr>\n",
              "    <tr>\n",
              "      <th>3</th>\n",
              "      <td>charmander</td>\n",
              "      <td>Fire</td>\n",
              "      <td>NaN</td>\n",
              "      <td>3</td>\n",
              "      <td>39</td>\n",
              "      <td>52</td>\n",
              "      <td>43</td>\n",
              "      <td>60</td>\n",
              "      <td>50</td>\n",
              "      <td>65</td>\n",
              "      <td>309</td>\n",
              "    </tr>\n",
              "    <tr>\n",
              "      <th>4</th>\n",
              "      <td>charmeleon</td>\n",
              "      <td>Fire</td>\n",
              "      <td>NaN</td>\n",
              "      <td>4</td>\n",
              "      <td>58</td>\n",
              "      <td>64</td>\n",
              "      <td>58</td>\n",
              "      <td>80</td>\n",
              "      <td>65</td>\n",
              "      <td>80</td>\n",
              "      <td>405</td>\n",
              "    </tr>\n",
              "  </tbody>\n",
              "</table>\n",
              "</div>"
            ],
            "text/plain": [
              "         Name  Type1   Type2  id  ...  spattack  spdefense  speed  total\n",
              "0   bulbasaur  Grass  Poison   0  ...        65         65     45    318\n",
              "1     ivysaur  Grass  Poison   1  ...        80         80     60    405\n",
              "2    venusaur  Grass  Poison   2  ...       100        100     80    525\n",
              "3  charmander   Fire     NaN   3  ...        60         50     65    309\n",
              "4  charmeleon   Fire     NaN   4  ...        80         65     80    405\n",
              "\n",
              "[5 rows x 11 columns]"
            ]
          },
          "metadata": {
            "tags": []
          },
          "execution_count": 16
        }
      ]
    },
    {
      "cell_type": "code",
      "metadata": {
        "id": "rvDR1BrULCQ9",
        "colab_type": "code",
        "colab": {}
      },
      "source": [
        "y_t = df_pokeimg['total'].values\n",
        "y_h = df_pokeimg['hp'].values\n",
        "y_a = df_pokeimg['attack'].values\n",
        "y_b = df_pokeimg['defense'].values\n",
        "y_c = df_pokeimg['spattack'].values\n",
        "y_d = df_pokeimg['spdefense'].values\n",
        "y_s = df_pokeimg['speed'].values\n",
        "\n",
        "y_t_train = y_t[:721]\n",
        "y_t_test = y_t[721:]\n",
        "\n",
        "y_h_train = y_h[:721]\n",
        "y_h_test = y_h[721:]\n",
        "y_a_train = y_a[:721]\n",
        "y_a_test = y_a[721:]\n",
        "y_b_train = y_b[:721]\n",
        "y_b_test = y_b[721:]\n",
        "y_c_train = y_c[:721]\n",
        "y_c_test = y_c[721:]\n",
        "y_d_train = y_d[:721]\n",
        "y_d_test = y_d[721:]\n",
        "y_s_train = y_s[:721]\n",
        "y_s_test = y_s[721:]"
      ],
      "execution_count": 0,
      "outputs": []
    },
    {
      "cell_type": "markdown",
      "metadata": {
        "id": "B-8VHJp0Pff3",
        "colab_type": "text"
      },
      "source": [
        "### 入力の画像データを作成\n"
      ]
    },
    {
      "cell_type": "code",
      "metadata": {
        "id": "jkLDczAM6In4",
        "colab_type": "code",
        "colab": {}
      },
      "source": [
        "#作成したファイルを消してやり直したい時\n",
        "#!rm -rf images"
      ],
      "execution_count": 0,
      "outputs": []
    },
    {
      "cell_type": "markdown",
      "metadata": {
        "id": "nCZCk0VVdi31",
        "colab_type": "text"
      },
      "source": [
        "#### pngはjpgに変換"
      ]
    },
    {
      "cell_type": "code",
      "metadata": {
        "id": "QSyAMTcz0YzX",
        "colab_type": "code",
        "outputId": "6931a21a-0533-473f-fa5a-04261db0d49e",
        "colab": {
          "base_uri": "https://localhost:8080/",
          "height": 34
        }
      },
      "source": [
        "image_png_paths = glob.glob('images/*.png')\n",
        "error_count = 0\n",
        "for png_path in image_png_paths:\n",
        "  try:\n",
        "    path = pathlib.Path(png_path)\n",
        "    filename = os.path.splitext(path.name)[0]\n",
        "    img=PIL.Image.open(path)\n",
        "    img.load()\n",
        "    if img.mode == 'RGBA' :\n",
        "      pass\n",
        "    elif img.mode == 'P':\n",
        "      img = img.convert(\"RGBA\")\n",
        "    else :\n",
        "      print(png_path, img.mode)\n",
        "    background = PIL.Image.new(\"RGB\", img.size, (255, 255, 255))\n",
        "    background.paste(img, mask=img.split()[3])\n",
        "    background.save('images/' + filename + '.jpg',\"JPEG\",quality=95)\n",
        "  except Exception as e:\n",
        "    tb = sys.exc_info()[2]\n",
        "    print(\"message:{0}\".format(e.with_traceback(tb)))\n",
        "    error_count += 1\n",
        "\n",
        "print(error_count)"
      ],
      "execution_count": 19,
      "outputs": [
        {
          "output_type": "stream",
          "text": [
            "0\n"
          ],
          "name": "stdout"
        }
      ]
    },
    {
      "cell_type": "code",
      "metadata": {
        "id": "s_cFLJukJfS8",
        "colab_type": "code",
        "colab": {}
      },
      "source": [
        "# 作成したjpgをダウンロードしたい時\n",
        "#!zip imagesjpg.zip images/*jpg"
      ],
      "execution_count": 0,
      "outputs": []
    },
    {
      "cell_type": "code",
      "metadata": {
        "id": "17tp1ADRE7F5",
        "colab_type": "code",
        "colab": {}
      },
      "source": [
        "fe = lambda x:  'images/' + x + '.jpg'\n",
        "images = df_pokeimg['Name'].map(fe)"
      ],
      "execution_count": 0,
      "outputs": []
    },
    {
      "cell_type": "code",
      "metadata": {
        "id": "uuqrETGIGQmr",
        "colab_type": "code",
        "colab": {}
      },
      "source": [
        "name_images_f = [] \n",
        "name_images = [] \n",
        "\n",
        "for image in images:\n",
        "  path = pathlib.Path(image)\n",
        "  # ファイルパス\n",
        "  fullpath = str(path.resolve())\n",
        "  # ファイル名\n",
        "  filename = os.path.splitext(path.name)[0]\n",
        "  image = cv2.imread(fullpath)\n",
        "  orgH, orgW = image.shape[:2]\n",
        "  size = (int(orgH/4), int(orgW/4))\n",
        "  resize_img = cv2.resize(image, size)\n",
        "  name_images.append(resize_img)"
      ],
      "execution_count": 0,
      "outputs": []
    },
    {
      "cell_type": "code",
      "metadata": {
        "id": "eoLqX493585o",
        "colab_type": "code",
        "colab": {}
      },
      "source": [
        "X_f_train = np.array(name_images_f[:721])/255\n",
        "X_f_test = np.array(name_images_f[721:])/255\n",
        "X_train = np.array(name_images[:721])/255\n",
        "X_test = np.array(name_images[721:])/255"
      ],
      "execution_count": 0,
      "outputs": []
    },
    {
      "cell_type": "markdown",
      "metadata": {
        "id": "KaG5r0fPCBXd",
        "colab_type": "text"
      },
      "source": [
        "## 学習\n",
        "各種族値、及び合計種族値を予測するモデルをそれぞれ作成する"
      ]
    },
    {
      "cell_type": "code",
      "metadata": {
        "id": "FChXiNdPwuqI",
        "colab_type": "code",
        "colab": {}
      },
      "source": [
        "from keras.models import Sequential, load_model\n",
        "from keras.layers import Conv2D, MaxPooling2D\n",
        "from keras.layers import Activation, Dropout, Flatten, Dense\n",
        "\n",
        "from keras.optimizers import Adam\n",
        "\n",
        "from keras.callbacks import EarlyStopping"
      ],
      "execution_count": 0,
      "outputs": []
    },
    {
      "cell_type": "markdown",
      "metadata": {
        "id": "awM8JGWze-1t",
        "colab_type": "text"
      },
      "source": [
        "### データ増幅"
      ]
    },
    {
      "cell_type": "code",
      "metadata": {
        "id": "bFotTgqZnHXC",
        "colab_type": "code",
        "colab": {}
      },
      "source": [
        "from keras.preprocessing import image as keras_image\n",
        "from keras.preprocessing.image import ImageDataGenerator"
      ],
      "execution_count": 0,
      "outputs": []
    },
    {
      "cell_type": "code",
      "metadata": {
        "id": "qhO0Wa3NTtqr",
        "colab_type": "code",
        "colab": {}
      },
      "source": [
        "datagen = ImageDataGenerator(\n",
        "           rotation_range=20,\n",
        "           width_shift_range=0.05,\n",
        "           height_shift_range=0.05,\n",
        "           shear_range=0,\n",
        "           zoom_range=0,\n",
        "           horizontal_flip=False,\n",
        "           vertical_flip=False)\n",
        "\n",
        "datagen.fit(X_train)"
      ],
      "execution_count": 0,
      "outputs": []
    },
    {
      "cell_type": "markdown",
      "metadata": {
        "id": "NK-4XePhfVe0",
        "colab_type": "text"
      },
      "source": [
        "#### サンプル出力"
      ]
    },
    {
      "cell_type": "code",
      "metadata": {
        "id": "9OSArZ1ETwbJ",
        "colab_type": "code",
        "colab": {}
      },
      "source": [
        "def show_imgs(imgs, row, col):\n",
        "    if len(imgs) != (row * col):\n",
        "        raise ValueError(\"Invalid imgs len:{} col:{} row:{}\".format(len(imgs), row, col))\n",
        "\n",
        "    for i, img in enumerate(imgs):\n",
        "        plot_num = i+1\n",
        "        plt.subplot(row, col, plot_num)\n",
        "        plt.tick_params(labelbottom=\"off\") # x軸の削除\n",
        "        plt.tick_params(labelleft=\"off\") # y軸の削除\n",
        "        plt.imshow(img)\n",
        "    plt.show()"
      ],
      "execution_count": 0,
      "outputs": []
    },
    {
      "cell_type": "code",
      "metadata": {
        "id": "36Z9IZ4yTqZJ",
        "colab_type": "code",
        "colab": {
          "base_uri": "https://localhost:8080/",
          "height": 269
        },
        "outputId": "2d2f1ea2-7d79-4a8a-af4f-0ddc7aeffa2c"
      },
      "source": [
        "max_img_num = 16\n",
        "imgs = []\n",
        "\n",
        "X_sample = X_train[0]\n",
        "# (height, width, 3) -> (1, height, width, 3)\n",
        "X_sample = X_sample.reshape((1,) + X_sample.shape)\n",
        "\n",
        "for d in datagen.flow(X_sample, batch_size=1):\n",
        "    # このあと画像を表示するためにndarrayをPIL形式に変換して保存する\n",
        "    imgs.append(keras_image.array_to_img(d[0], scale=True))\n",
        "    # datagen.flowは無限ループするため必要な枚数取得できたらループを抜ける\n",
        "    if (len(imgs) % max_img_num) == 0:\n",
        "        break\n",
        "show_imgs(imgs, row=4, col=4)"
      ],
      "execution_count": 28,
      "outputs": [
        {
          "output_type": "display_data",
          "data": {
            "image/png": "[encoded data removed]",
            "text/plain": [
              "<Figure size 432x288 with 16 Axes>"
            ]
          },
          "metadata": {
            "tags": []
          }
        }
      ]
    },
    {
      "cell_type": "markdown",
      "metadata": {
        "id": "laXpP4Safn4z",
        "colab_type": "text"
      },
      "source": [
        "### 特徴空間にCNNを用いた回帰モデル定義"
      ]
    },
    {
      "cell_type": "code",
      "metadata": {
        "id": "oTiMT8FmxYDR",
        "colab_type": "code",
        "colab": {}
      },
      "source": [
        "def model(X_shape, y_shape):\n",
        "  model = Sequential()\n",
        "\n",
        "  model.add(Conv2D(32, (3, 3), activation='relu', input_shape=X_shape))\n",
        "  model.add(Conv2D(32, (3, 3), activation='relu'))\n",
        "  model.add(MaxPooling2D(pool_size=(2, 2)))\n",
        "  model.add(Dropout(0.25))\n",
        "\n",
        "  model.add(Conv2D(64, (3, 3), activation='relu'))\n",
        "  model.add(Conv2D(64, (3, 3), activation='relu'))\n",
        "  model.add(MaxPooling2D(pool_size=(2, 2)))\n",
        "  model.add(Dropout(0.25))\n",
        "\n",
        "  model.add(Flatten())\n",
        "  model.add(Dense(256))\n",
        "  model.add(Activation('relu'))\n",
        "  model.add(Dropout(0.5))\n",
        "\n",
        "  model.add(Dense(y_shape))\n",
        "  \n",
        "  optimizer = Adam()\n",
        "\n",
        "  model.compile(loss='mse',\n",
        "                optimizer=optimizer)\n",
        "  return model"
      ],
      "execution_count": 0,
      "outputs": []
    },
    {
      "cell_type": "code",
      "metadata": {
        "id": "2ewEtJBefi1h",
        "colab_type": "code",
        "colab": {}
      },
      "source": [
        "# patience は改善が見られるかを監視するエポック数を表すパラメーター\n",
        "early_stop = EarlyStopping(monitor='val_loss', patience=10)"
      ],
      "execution_count": 0,
      "outputs": []
    },
    {
      "cell_type": "markdown",
      "metadata": {
        "id": "5EvAdoztfyDY",
        "colab_type": "text"
      },
      "source": [
        "#### 合計種族値モデル"
      ]
    },
    {
      "cell_type": "code",
      "metadata": {
        "id": "ja9riL01xdBH",
        "colab_type": "code",
        "colab": {}
      },
      "source": [
        "model_total = model(X_train.shape[1:4], 1)\n",
        "\n",
        "history = model_total.fit_generator(datagen.flow(X_train, y_t_train, batch_size=32),\n",
        "                    steps_per_epoch=len(y_t_train) / 32, epochs=200,\n",
        "                    validation_data=(X_test, y_t_test), callbacks=[early_stop])"
      ],
      "execution_count": 0,
      "outputs": []
    },
    {
      "cell_type": "code",
      "metadata": {
        "id": "pwq_bNnxzKgV",
        "colab_type": "code",
        "colab": {}
      },
      "source": [
        "model_total.save('model_total.h5', include_optimizer=False)"
      ],
      "execution_count": 0,
      "outputs": []
    },
    {
      "cell_type": "code",
      "metadata": {
        "id": "kNAWPO4NzNJz",
        "colab_type": "code",
        "colab": {
          "base_uri": "https://localhost:8080/",
          "height": 282
        },
        "outputId": "7440d6c2-d8f9-48b6-f3a0-393453faa671"
      },
      "source": [
        "y_pred_train = model_total.predict(X_train)\n",
        "y_pred_test = model_total.predict(X_test)\n",
        "\n",
        "plt.scatter(y_t_train, y_pred_train, c='r', marker='s',label=\"train\")\n",
        "plt.scatter(y_t_test, y_pred_test, c='b', marker='s',label=\"test\")\n",
        "plt.legend()\n",
        "plt.plot([0,750],[0,750])"
      ],
      "execution_count": 33,
      "outputs": [
        {
          "output_type": "execute_result",
          "data": {
            "text/plain": [
              "[<matplotlib.lines.Line2D at 0x7fe86eb40a90>]"
            ]
          },
          "metadata": {
            "tags": []
          },
          "execution_count": 33
        },
        {
          "output_type": "display_data",
          "data": {
            "image/png": "[encoded data removed]",
            "text/plain": [
              "<Figure size 432x288 with 1 Axes>"
            ]
          },
          "metadata": {
            "tags": []
          }
        }
      ]
    },
    {
      "cell_type": "markdown",
      "metadata": {
        "id": "RnedeLBZf6TX",
        "colab_type": "text"
      },
      "source": [
        "#### HPモデル"
      ]
    },
    {
      "cell_type": "code",
      "metadata": {
        "id": "2S8Bo9VZa6q1",
        "colab_type": "code",
        "colab": {}
      },
      "source": [
        "model_hp = model(X_train.shape[1:4], 1)\n",
        "history = model_hp.fit_generator(datagen.flow(X_train, y_h_train, batch_size=32),\n",
        "                    steps_per_epoch=len(y_h_train) / 32, epochs=200,\n",
        "                    validation_data=(X_test, y_h_test), callbacks=[early_stop])"
      ],
      "execution_count": 0,
      "outputs": []
    },
    {
      "cell_type": "code",
      "metadata": {
        "id": "Vhnqqlf4Ln1c",
        "colab_type": "code",
        "colab": {}
      },
      "source": [
        "model_hp.save('model_hp.h5', include_optimizer=False)"
      ],
      "execution_count": 0,
      "outputs": []
    },
    {
      "cell_type": "code",
      "metadata": {
        "id": "vr1bV1ahbya0",
        "colab_type": "code",
        "colab": {
          "base_uri": "https://localhost:8080/",
          "height": 282
        },
        "outputId": "50da9d0f-87c4-4928-f55d-bc12d5b2eb32"
      },
      "source": [
        "y_pred_train = model_hp.predict(X_train)\n",
        "y_pred_test = model_hp.predict(X_test)\n",
        "\n",
        "plt.scatter(y_h_train, y_pred_train, c='r', marker='s',label=\"train\")\n",
        "plt.scatter(y_h_test, y_pred_test, c='b', marker='s',label=\"test\")\n",
        "plt.legend()\n",
        "plt.plot([0,250],[0,250])"
      ],
      "execution_count": 36,
      "outputs": [
        {
          "output_type": "execute_result",
          "data": {
            "text/plain": [
              "[<matplotlib.lines.Line2D at 0x7fe877cb3ac8>]"
            ]
          },
          "metadata": {
            "tags": []
          },
          "execution_count": 36
        },
        {
          "output_type": "display_data",
          "data": {
            "image/png": "[encoded data removed]",
            "text/plain": [
              "<Figure size 432x288 with 1 Axes>"
            ]
          },
          "metadata": {
            "tags": []
          }
        }
      ]
    },
    {
      "cell_type": "markdown",
      "metadata": {
        "id": "vJOD4LozL1zl",
        "colab_type": "text"
      },
      "source": [
        "#### Atackモデル"
      ]
    },
    {
      "cell_type": "code",
      "metadata": {
        "id": "CnvjND9cL77L",
        "colab_type": "code",
        "colab": {}
      },
      "source": [
        "model_atack = model(X_train.shape[1:4], 1)\n",
        "history = model_atack.fit_generator(datagen.flow(X_train, y_a_train, batch_size=32),\n",
        "                    steps_per_epoch=len(y_a_train) / 32, epochs=200,\n",
        "                    validation_data=(X_test, y_a_test), callbacks=[early_stop])"
      ],
      "execution_count": 0,
      "outputs": []
    },
    {
      "cell_type": "code",
      "metadata": {
        "id": "Sb2hGCYgMEDS",
        "colab_type": "code",
        "colab": {}
      },
      "source": [
        "model_atack.save('model_atack.h5', include_optimizer=False)"
      ],
      "execution_count": 0,
      "outputs": []
    },
    {
      "cell_type": "code",
      "metadata": {
        "id": "-TLESULyMLVk",
        "colab_type": "code",
        "colab": {
          "base_uri": "https://localhost:8080/",
          "height": 282
        },
        "outputId": "f045f0cc-a159-4f78-93ab-7dedf4450cc0"
      },
      "source": [
        "y_pred_train = model_atack.predict(X_train)\n",
        "y_pred_test = model_atack.predict(X_test)\n",
        "\n",
        "plt.scatter(y_a_train, y_pred_train, c='r', marker='s',label=\"train\")\n",
        "plt.scatter(y_a_test, y_pred_test, c='b', marker='s',label=\"test\")\n",
        "plt.legend()\n",
        "plt.plot([0,200],[0,200])"
      ],
      "execution_count": 39,
      "outputs": [
        {
          "output_type": "execute_result",
          "data": {
            "text/plain": [
              "[<matplotlib.lines.Line2D at 0x7fe877c46d30>]"
            ]
          },
          "metadata": {
            "tags": []
          },
          "execution_count": 39
        },
        {
          "output_type": "display_data",
          "data": {
            "image/png": "[encoded data removed]",
            "text/plain": [
              "<Figure size 432x288 with 1 Axes>"
            ]
          },
          "metadata": {
            "tags": []
          }
        }
      ]
    },
    {
      "cell_type": "markdown",
      "metadata": {
        "id": "JYFa6pjwMbAf",
        "colab_type": "text"
      },
      "source": [
        "#### Defenseモデル"
      ]
    },
    {
      "cell_type": "code",
      "metadata": {
        "id": "wvSde83qMZ5j",
        "colab_type": "code",
        "colab": {}
      },
      "source": [
        "model_defence = model(X_train.shape[1:4], 1)\n",
        "history = model_defence.fit_generator(datagen.flow(X_train, y_b_train, batch_size=32),\n",
        "                    steps_per_epoch=len(y_b_train) / 32, epochs=200,\n",
        "                    validation_data=(X_test, y_b_test), callbacks=[early_stop])"
      ],
      "execution_count": 0,
      "outputs": []
    },
    {
      "cell_type": "code",
      "metadata": {
        "id": "Md6Q29YIMk_K",
        "colab_type": "code",
        "colab": {}
      },
      "source": [
        "model_defence.save('model_defence.h5', include_optimizer=False)"
      ],
      "execution_count": 0,
      "outputs": []
    },
    {
      "cell_type": "code",
      "metadata": {
        "id": "kvU_sOwnMmUa",
        "colab_type": "code",
        "colab": {
          "base_uri": "https://localhost:8080/",
          "height": 282
        },
        "outputId": "83fe51d5-3e66-445c-9e9c-0db70b863340"
      },
      "source": [
        "y_pred_train = model_defence.predict(X_train)\n",
        "y_pred_test = model_defence.predict(X_test)\n",
        "\n",
        "plt.scatter(y_b_train, y_pred_train, c='r', marker='s',label=\"train\")\n",
        "plt.scatter(y_b_test, y_pred_test, c='b', marker='s',label=\"test\")\n",
        "plt.legend()\n",
        "plt.plot([0,200],[0,200])"
      ],
      "execution_count": 42,
      "outputs": [
        {
          "output_type": "execute_result",
          "data": {
            "text/plain": [
              "[<matplotlib.lines.Line2D at 0x7fe87651ef28>]"
            ]
          },
          "metadata": {
            "tags": []
          },
          "execution_count": 42
        },
        {
          "output_type": "display_data",
          "data": {
            "image/png": "[encoded data removed]",
            "text/plain": [
              "<Figure size 432x288 with 1 Axes>"
            ]
          },
          "metadata": {
            "tags": []
          }
        }
      ]
    },
    {
      "cell_type": "markdown",
      "metadata": {
        "id": "ay8CcsKBMzoi",
        "colab_type": "text"
      },
      "source": [
        "#### SpAtackモデル"
      ]
    },
    {
      "cell_type": "code",
      "metadata": {
        "id": "mYb4-Z96M3Xt",
        "colab_type": "code",
        "colab": {}
      },
      "source": [
        "model_spatack = model(X_train.shape[1:4], 1)\n",
        "history = model_spatack.fit_generator(datagen.flow(X_train, y_c_train, batch_size=32),\n",
        "                    steps_per_epoch=len(y_c_train) / 32, epochs=200,\n",
        "                    validation_data=(X_test, y_c_test), callbacks=[early_stop])"
      ],
      "execution_count": 0,
      "outputs": []
    },
    {
      "cell_type": "code",
      "metadata": {
        "id": "KMmvm50BM6-B",
        "colab_type": "code",
        "colab": {}
      },
      "source": [
        "model_spatack.save('model_spatack.h5', include_optimizer=False)"
      ],
      "execution_count": 0,
      "outputs": []
    },
    {
      "cell_type": "code",
      "metadata": {
        "id": "YFx0Q2uJM8uI",
        "colab_type": "code",
        "colab": {
          "base_uri": "https://localhost:8080/",
          "height": 282
        },
        "outputId": "3a0bd43f-9bb2-43bf-c620-bf69bcce8198"
      },
      "source": [
        "y_pred_train = model_spatack.predict(X_train)\n",
        "y_pred_test = model_spatack.predict(X_test)\n",
        "\n",
        "plt.scatter(y_c_train, y_pred_train, c='r', marker='s',label=\"train\")\n",
        "plt.scatter(y_c_test, y_pred_test, c='b', marker='s',label=\"test\")\n",
        "plt.legend()\n",
        "plt.plot([0,200],[0,200])"
      ],
      "execution_count": 45,
      "outputs": [
        {
          "output_type": "execute_result",
          "data": {
            "text/plain": [
              "[<matplotlib.lines.Line2D at 0x7fe876281ba8>]"
            ]
          },
          "metadata": {
            "tags": []
          },
          "execution_count": 45
        },
        {
          "output_type": "display_data",
          "data": {
            "image/png": "[encoded data removed]",
            "text/plain": [
              "<Figure size 432x288 with 1 Axes>"
            ]
          },
          "metadata": {
            "tags": []
          }
        }
      ]
    },
    {
      "cell_type": "markdown",
      "metadata": {
        "id": "RSjvo2AJNa8a",
        "colab_type": "text"
      },
      "source": [
        "#### SpDefence"
      ]
    },
    {
      "cell_type": "code",
      "metadata": {
        "id": "kxtg4ec9NdAS",
        "colab_type": "code",
        "colab": {}
      },
      "source": [
        "model_spdefence = model(X_train.shape[1:4], 1)\n",
        "history = model_spdefence.fit_generator(datagen.flow(X_train, y_d_train, batch_size=32),\n",
        "                    steps_per_epoch=len(y_d_train) / 32, epochs=200,\n",
        "                    validation_data=(X_test, y_d_test), callbacks=[early_stop])"
      ],
      "execution_count": 0,
      "outputs": []
    },
    {
      "cell_type": "code",
      "metadata": {
        "id": "zBOOKPj7Nfa0",
        "colab_type": "code",
        "colab": {}
      },
      "source": [
        "model_spdefence.save('model_spdefence.h5', include_optimizer=False)"
      ],
      "execution_count": 0,
      "outputs": []
    },
    {
      "cell_type": "code",
      "metadata": {
        "id": "QHPAjWs6Ng2R",
        "colab_type": "code",
        "colab": {
          "base_uri": "https://localhost:8080/",
          "height": 282
        },
        "outputId": "35def183-a409-4fc0-be1b-466839603606"
      },
      "source": [
        "y_pred_train = model_spdefence.predict(X_train)\n",
        "y_pred_test = model_spdefence.predict(X_test)\n",
        "\n",
        "plt.scatter(y_d_train, y_pred_train, c='r', marker='s',label=\"train\")\n",
        "plt.scatter(y_d_test, y_pred_test, c='b', marker='s',label=\"test\")\n",
        "plt.legend()\n",
        "plt.plot([0,200],[0,200])"
      ],
      "execution_count": 48,
      "outputs": [
        {
          "output_type": "execute_result",
          "data": {
            "text/plain": [
              "[<matplotlib.lines.Line2D at 0x7fe875f5f748>]"
            ]
          },
          "metadata": {
            "tags": []
          },
          "execution_count": 48
        },
        {
          "output_type": "display_data",
          "data": {
            "image/png": "[encoded data removed]",
            "text/plain": [
              "<Figure size 432x288 with 1 Axes>"
            ]
          },
          "metadata": {
            "tags": []
          }
        }
      ]
    },
    {
      "cell_type": "markdown",
      "metadata": {
        "id": "Uy1zyNIACGwp",
        "colab_type": "text"
      },
      "source": [
        "#### Speedモデル"
      ]
    },
    {
      "cell_type": "code",
      "metadata": {
        "id": "XdEMyweNiJcs",
        "colab_type": "code",
        "colab": {}
      },
      "source": [
        "model_speed = model(X_train.shape[1:4], 1)\n",
        "history = model_speed.fit_generator(datagen.flow(X_train, y_s_train, batch_size=32),\n",
        "                    steps_per_epoch=len(y_s_train) / 32, epochs=200,\n",
        "                    validation_data=(X_test, y_s_test), callbacks=[early_stop])"
      ],
      "execution_count": 0,
      "outputs": []
    },
    {
      "cell_type": "code",
      "metadata": {
        "id": "8YMMsBPrLs4z",
        "colab_type": "code",
        "colab": {}
      },
      "source": [
        "model_speed.save('model_speed.h5', include_optimizer=False)"
      ],
      "execution_count": 0,
      "outputs": []
    },
    {
      "cell_type": "code",
      "metadata": {
        "id": "wK4mN3Pqi3Rd",
        "colab_type": "code",
        "colab": {
          "base_uri": "https://localhost:8080/",
          "height": 282
        },
        "outputId": "13d0afdf-0702-4f60-d5ea-3f5830ae5976"
      },
      "source": [
        "y_pred_train = model_speed.predict(X_train)\n",
        "y_pred_test = model_speed.predict(X_test)\n",
        "\n",
        "plt.scatter(y_s_train, y_pred_train, c='r', marker='s',label=\"train\")\n",
        "plt.scatter(y_s_test, y_pred_test, c='b', marker='s',label=\"test\")\n",
        "plt.legend()\n",
        "plt.plot([0,200],[0,200])"
      ],
      "execution_count": 51,
      "outputs": [
        {
          "output_type": "execute_result",
          "data": {
            "text/plain": [
              "[<matplotlib.lines.Line2D at 0x7fe875c82320>]"
            ]
          },
          "metadata": {
            "tags": []
          },
          "execution_count": 51
        },
        {
          "output_type": "display_data",
          "data": {
            "image/png": "[encoded data removed]",
            "text/plain": [
              "<Figure size 432x288 with 1 Axes>"
            ]
          },
          "metadata": {
            "tags": []
          }
        }
      ]
    }
  ]
}