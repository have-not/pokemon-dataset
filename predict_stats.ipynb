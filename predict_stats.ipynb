{
  "nbformat": 4,
  "nbformat_minor": 0,
  "metadata": {
    "colab": {
      "name": "predict_stats",
      "provenance": [],
      "collapsed_sections": [],
      "toc_visible": true
    },
    "kernelspec": {
      "name": "python3",
      "display_name": "Python 3"
    },
    "accelerator": "TPU"
  },
  "cells": [
    {
      "cell_type": "markdown",
      "metadata": {
        "id": "MMVGYbaq2eJF",
        "colab_type": "text"
      },
      "source": [
        "# 画像からポケモンの種族値を予測"
      ]
    },
    {
      "cell_type": "code",
      "metadata": {
        "id": "eL2TJfFufRKL",
        "colab_type": "code",
        "colab": {}
      },
      "source": [
        "import numpy as np\n",
        "import pandas as pd\n",
        "import glob\n",
        "import cv2\n",
        "import pathlib\n",
        "import os\n",
        "import sys\n",
        "import PIL\n",
        "\n",
        "%matplotlib inline\n",
        "import matplotlib.pyplot as plt"
      ],
      "execution_count": 0,
      "outputs": []
    },
    {
      "cell_type": "markdown",
      "metadata": {
        "id": "S4lailRh0te5",
        "colab_type": "text"
      },
      "source": [
        "## データ読み込み\n",
        "ポケモンの画像と種族値のデータを用意する"
      ]
    },
    {
      "cell_type": "markdown",
      "metadata": {
        "id": "W-M9C0Vl1VfD",
        "colab_type": "text"
      },
      "source": [
        "### Pokemon- Weedle's Cave\n",
        "https://www.kaggle.com/vishalsubbiah/pokemon-images-and-types\n",
        "\n",
        "ポケモンの画像データ\n",
        "\n"
      ]
    },
    {
      "cell_type": "code",
      "metadata": {
        "id": "Qrv7YXxFcqH_",
        "colab_type": "code",
        "colab": {}
      },
      "source": [
        "# アップロードしたZipファイルの解凍\n",
        "!unzip images.zip"
      ],
      "execution_count": 0,
      "outputs": []
    },
    {
      "cell_type": "code",
      "metadata": {
        "id": "ronpw-TefVJq",
        "colab_type": "code",
        "outputId": "5b19c372-896a-45ff-ea13-027aad62d2f7",
        "colab": {
          "base_uri": "https://localhost:8080/",
          "height": 419
        }
      },
      "source": [
        "df_pokeimg = pd.read_csv('pokemon_images.csv')\n",
        "df_pokeimg"
      ],
      "execution_count": 89,
      "outputs": [
        {
          "output_type": "execute_result",
          "data": {
            "text/html": [
              "<div>\n",
              "<style scoped>\n",
              "    .dataframe tbody tr th:only-of-type {\n",
              "        vertical-align: middle;\n",
              "    }\n",
              "\n",
              "    .dataframe tbody tr th {\n",
              "        vertical-align: top;\n",
              "    }\n",
              "\n",
              "    .dataframe thead th {\n",
              "        text-align: right;\n",
              "    }\n",
              "</style>\n",
              "<table border=\"1\" class=\"dataframe\">\n",
              "  <thead>\n",
              "    <tr style=\"text-align: right;\">\n",
              "      <th></th>\n",
              "      <th>Name</th>\n",
              "      <th>Type1</th>\n",
              "      <th>Type2</th>\n",
              "    </tr>\n",
              "  </thead>\n",
              "  <tbody>\n",
              "    <tr>\n",
              "      <th>0</th>\n",
              "      <td>bulbasaur</td>\n",
              "      <td>Grass</td>\n",
              "      <td>Poison</td>\n",
              "    </tr>\n",
              "    <tr>\n",
              "      <th>1</th>\n",
              "      <td>ivysaur</td>\n",
              "      <td>Grass</td>\n",
              "      <td>Poison</td>\n",
              "    </tr>\n",
              "    <tr>\n",
              "      <th>2</th>\n",
              "      <td>venusaur</td>\n",
              "      <td>Grass</td>\n",
              "      <td>Poison</td>\n",
              "    </tr>\n",
              "    <tr>\n",
              "      <th>3</th>\n",
              "      <td>charmander</td>\n",
              "      <td>Fire</td>\n",
              "      <td>NaN</td>\n",
              "    </tr>\n",
              "    <tr>\n",
              "      <th>4</th>\n",
              "      <td>charmeleon</td>\n",
              "      <td>Fire</td>\n",
              "      <td>NaN</td>\n",
              "    </tr>\n",
              "    <tr>\n",
              "      <th>...</th>\n",
              "      <td>...</td>\n",
              "      <td>...</td>\n",
              "      <td>...</td>\n",
              "    </tr>\n",
              "    <tr>\n",
              "      <th>804</th>\n",
              "      <td>stakataka</td>\n",
              "      <td>Rock</td>\n",
              "      <td>Steel</td>\n",
              "    </tr>\n",
              "    <tr>\n",
              "      <th>805</th>\n",
              "      <td>blacephalon</td>\n",
              "      <td>Fire</td>\n",
              "      <td>Ghost</td>\n",
              "    </tr>\n",
              "    <tr>\n",
              "      <th>806</th>\n",
              "      <td>zeraora</td>\n",
              "      <td>Electric</td>\n",
              "      <td>NaN</td>\n",
              "    </tr>\n",
              "    <tr>\n",
              "      <th>807</th>\n",
              "      <td>meltan</td>\n",
              "      <td>Steel</td>\n",
              "      <td>NaN</td>\n",
              "    </tr>\n",
              "    <tr>\n",
              "      <th>808</th>\n",
              "      <td>melmetal</td>\n",
              "      <td>Steel</td>\n",
              "      <td>NaN</td>\n",
              "    </tr>\n",
              "  </tbody>\n",
              "</table>\n",
              "<p>809 rows × 3 columns</p>\n",
              "</div>"
            ],
            "text/plain": [
              "            Name     Type1   Type2\n",
              "0      bulbasaur     Grass  Poison\n",
              "1        ivysaur     Grass  Poison\n",
              "2       venusaur     Grass  Poison\n",
              "3     charmander      Fire     NaN\n",
              "4     charmeleon      Fire     NaN\n",
              "..           ...       ...     ...\n",
              "804    stakataka      Rock   Steel\n",
              "805  blacephalon      Fire   Ghost\n",
              "806      zeraora  Electric     NaN\n",
              "807       meltan     Steel     NaN\n",
              "808     melmetal     Steel     NaN\n",
              "\n",
              "[809 rows x 3 columns]"
            ]
          },
          "metadata": {
            "tags": []
          },
          "execution_count": 89
        }
      ]
    },
    {
      "cell_type": "markdown",
      "metadata": {
        "id": "YI33JC9D1lmE",
        "colab_type": "text"
      },
      "source": [
        "### Pokemon Sun and Moon (Gen 7) Stats\n",
        "\n",
        "https://www.kaggle.com/mylesoneill/pokemon-sun-and-moon-gen-7-stats\n",
        "\n",
        "ポケモンの種族値等のデータ"
      ]
    },
    {
      "cell_type": "code",
      "metadata": {
        "id": "0tT-ar83fsXX",
        "colab_type": "code",
        "outputId": "3303b70e-45cb-4347-8874-5b93af9fd0a6",
        "colab": {
          "base_uri": "https://localhost:8080/",
          "height": 745
        }
      },
      "source": [
        "df_poke = pd.read_csv('pokemon.csv')\n",
        "\n",
        "# ポケモンの名前を小文字に\n",
        "strlow = lambda x: str(x).lower()\n",
        "df_poke['species'] = df_poke['species'].map(strlow)\n",
        "\n",
        "df_poke"
      ],
      "execution_count": 90,
      "outputs": [
        {
          "output_type": "execute_result",
          "data": {
            "text/html": [
              "<div>\n",
              "<style scoped>\n",
              "    .dataframe tbody tr th:only-of-type {\n",
              "        vertical-align: middle;\n",
              "    }\n",
              "\n",
              "    .dataframe tbody tr th {\n",
              "        vertical-align: top;\n",
              "    }\n",
              "\n",
              "    .dataframe thead th {\n",
              "        text-align: right;\n",
              "    }\n",
              "</style>\n",
              "<table border=\"1\" class=\"dataframe\">\n",
              "  <thead>\n",
              "    <tr style=\"text-align: right;\">\n",
              "      <th></th>\n",
              "      <th>id</th>\n",
              "      <th>ndex</th>\n",
              "      <th>species</th>\n",
              "      <th>forme</th>\n",
              "      <th>type1</th>\n",
              "      <th>type2</th>\n",
              "      <th>ability1</th>\n",
              "      <th>ability2</th>\n",
              "      <th>abilityH</th>\n",
              "      <th>hp</th>\n",
              "      <th>attack</th>\n",
              "      <th>defense</th>\n",
              "      <th>spattack</th>\n",
              "      <th>spdefense</th>\n",
              "      <th>speed</th>\n",
              "      <th>total</th>\n",
              "      <th>weight</th>\n",
              "      <th>height</th>\n",
              "      <th>dex1</th>\n",
              "      <th>dex2</th>\n",
              "      <th>class</th>\n",
              "      <th>percent-male</th>\n",
              "      <th>percent-female</th>\n",
              "      <th>pre-evolution</th>\n",
              "      <th>egg-group1</th>\n",
              "      <th>egg-group2</th>\n",
              "    </tr>\n",
              "  </thead>\n",
              "  <tbody>\n",
              "    <tr>\n",
              "      <th>0</th>\n",
              "      <td>1</td>\n",
              "      <td>1</td>\n",
              "      <td>bulbasaur</td>\n",
              "      <td>Bulbasaur</td>\n",
              "      <td>Grass</td>\n",
              "      <td>Poison</td>\n",
              "      <td>Overgrow</td>\n",
              "      <td>NaN</td>\n",
              "      <td>Chlorophyll</td>\n",
              "      <td>45</td>\n",
              "      <td>49</td>\n",
              "      <td>49</td>\n",
              "      <td>65</td>\n",
              "      <td>65</td>\n",
              "      <td>45</td>\n",
              "      <td>318</td>\n",
              "      <td>15.2 lbs.</td>\n",
              "      <td>2'04\"</td>\n",
              "      <td>NaN</td>\n",
              "      <td>NaN</td>\n",
              "      <td>Seed Pokémon</td>\n",
              "      <td>0.875</td>\n",
              "      <td>0.125</td>\n",
              "      <td>NaN</td>\n",
              "      <td>Monster</td>\n",
              "      <td>Grass</td>\n",
              "    </tr>\n",
              "    <tr>\n",
              "      <th>1</th>\n",
              "      <td>2</td>\n",
              "      <td>2</td>\n",
              "      <td>ivysaur</td>\n",
              "      <td>Ivysaur</td>\n",
              "      <td>Grass</td>\n",
              "      <td>Poison</td>\n",
              "      <td>Overgrow</td>\n",
              "      <td>NaN</td>\n",
              "      <td>Chlorophyll</td>\n",
              "      <td>60</td>\n",
              "      <td>62</td>\n",
              "      <td>63</td>\n",
              "      <td>80</td>\n",
              "      <td>80</td>\n",
              "      <td>60</td>\n",
              "      <td>405</td>\n",
              "      <td>28.7 lbs.</td>\n",
              "      <td>3'03\"</td>\n",
              "      <td>NaN</td>\n",
              "      <td>NaN</td>\n",
              "      <td>Seed Pokémon</td>\n",
              "      <td>0.875</td>\n",
              "      <td>0.125</td>\n",
              "      <td>Bulbasaur</td>\n",
              "      <td>Monster</td>\n",
              "      <td>Grass</td>\n",
              "    </tr>\n",
              "    <tr>\n",
              "      <th>2</th>\n",
              "      <td>3</td>\n",
              "      <td>3</td>\n",
              "      <td>venusaur</td>\n",
              "      <td>Venusaur</td>\n",
              "      <td>Grass</td>\n",
              "      <td>Poison</td>\n",
              "      <td>Overgrow</td>\n",
              "      <td>NaN</td>\n",
              "      <td>Chlorophyll</td>\n",
              "      <td>80</td>\n",
              "      <td>82</td>\n",
              "      <td>83</td>\n",
              "      <td>100</td>\n",
              "      <td>100</td>\n",
              "      <td>80</td>\n",
              "      <td>525</td>\n",
              "      <td>220.5 lbs.</td>\n",
              "      <td>6'07\"</td>\n",
              "      <td>NaN</td>\n",
              "      <td>NaN</td>\n",
              "      <td>Seed Pokémon</td>\n",
              "      <td>0.875</td>\n",
              "      <td>0.125</td>\n",
              "      <td>Ivysaur</td>\n",
              "      <td>Monster</td>\n",
              "      <td>Grass</td>\n",
              "    </tr>\n",
              "    <tr>\n",
              "      <th>3</th>\n",
              "      <td>4</td>\n",
              "      <td>4</td>\n",
              "      <td>charmander</td>\n",
              "      <td>Charmander</td>\n",
              "      <td>Fire</td>\n",
              "      <td>NaN</td>\n",
              "      <td>Blaze</td>\n",
              "      <td>NaN</td>\n",
              "      <td>Solar Power</td>\n",
              "      <td>39</td>\n",
              "      <td>52</td>\n",
              "      <td>43</td>\n",
              "      <td>60</td>\n",
              "      <td>50</td>\n",
              "      <td>65</td>\n",
              "      <td>309</td>\n",
              "      <td>18.7 lbs.</td>\n",
              "      <td>2'00\"</td>\n",
              "      <td>NaN</td>\n",
              "      <td>NaN</td>\n",
              "      <td>Lizard Pokémon</td>\n",
              "      <td>0.875</td>\n",
              "      <td>0.125</td>\n",
              "      <td>NaN</td>\n",
              "      <td>Monster</td>\n",
              "      <td>Dragon</td>\n",
              "    </tr>\n",
              "    <tr>\n",
              "      <th>4</th>\n",
              "      <td>5</td>\n",
              "      <td>5</td>\n",
              "      <td>charmeleon</td>\n",
              "      <td>Charmeleon</td>\n",
              "      <td>Fire</td>\n",
              "      <td>NaN</td>\n",
              "      <td>Blaze</td>\n",
              "      <td>NaN</td>\n",
              "      <td>Solar Power</td>\n",
              "      <td>58</td>\n",
              "      <td>64</td>\n",
              "      <td>58</td>\n",
              "      <td>80</td>\n",
              "      <td>65</td>\n",
              "      <td>80</td>\n",
              "      <td>405</td>\n",
              "      <td>41.9 lbs.</td>\n",
              "      <td>3'07\"</td>\n",
              "      <td>NaN</td>\n",
              "      <td>NaN</td>\n",
              "      <td>Flame Pokémon</td>\n",
              "      <td>0.875</td>\n",
              "      <td>0.125</td>\n",
              "      <td>Charmander</td>\n",
              "      <td>Monster</td>\n",
              "      <td>Dragon</td>\n",
              "    </tr>\n",
              "    <tr>\n",
              "      <th>...</th>\n",
              "      <td>...</td>\n",
              "      <td>...</td>\n",
              "      <td>...</td>\n",
              "      <td>...</td>\n",
              "      <td>...</td>\n",
              "      <td>...</td>\n",
              "      <td>...</td>\n",
              "      <td>...</td>\n",
              "      <td>...</td>\n",
              "      <td>...</td>\n",
              "      <td>...</td>\n",
              "      <td>...</td>\n",
              "      <td>...</td>\n",
              "      <td>...</td>\n",
              "      <td>...</td>\n",
              "      <td>...</td>\n",
              "      <td>...</td>\n",
              "      <td>...</td>\n",
              "      <td>...</td>\n",
              "      <td>...</td>\n",
              "      <td>...</td>\n",
              "      <td>...</td>\n",
              "      <td>...</td>\n",
              "      <td>...</td>\n",
              "      <td>...</td>\n",
              "      <td>...</td>\n",
              "    </tr>\n",
              "    <tr>\n",
              "      <th>1056</th>\n",
              "      <td>1058</td>\n",
              "      <td>778</td>\n",
              "      <td>mimikyu</td>\n",
              "      <td>Mimikyu (Busted Form)</td>\n",
              "      <td>Ghost</td>\n",
              "      <td>Fairy</td>\n",
              "      <td>Disguise</td>\n",
              "      <td>Disguise</td>\n",
              "      <td>Disguise</td>\n",
              "      <td>60</td>\n",
              "      <td>100</td>\n",
              "      <td>60</td>\n",
              "      <td>100</td>\n",
              "      <td>60</td>\n",
              "      <td>120</td>\n",
              "      <td>500</td>\n",
              "      <td>1.5 lbs.</td>\n",
              "      <td>0'08\"</td>\n",
              "      <td>After going to all the effort of disguising it...</td>\n",
              "      <td>If its neck is broken or its rag torn during a...</td>\n",
              "      <td>Disguise Pokémon</td>\n",
              "      <td>0.500</td>\n",
              "      <td>0.500</td>\n",
              "      <td>NaN</td>\n",
              "      <td>Amorphous</td>\n",
              "      <td>NaN</td>\n",
              "    </tr>\n",
              "    <tr>\n",
              "      <th>1057</th>\n",
              "      <td>1059</td>\n",
              "      <td>778</td>\n",
              "      <td>mimikyu</td>\n",
              "      <td>Mimikyu (2)</td>\n",
              "      <td>Ghost</td>\n",
              "      <td>Fairy</td>\n",
              "      <td>Disguise</td>\n",
              "      <td>Disguise</td>\n",
              "      <td>Disguise</td>\n",
              "      <td>60</td>\n",
              "      <td>100</td>\n",
              "      <td>60</td>\n",
              "      <td>100</td>\n",
              "      <td>60</td>\n",
              "      <td>120</td>\n",
              "      <td>500</td>\n",
              "      <td>1.5 lbs.</td>\n",
              "      <td>0'08\"</td>\n",
              "      <td>NaN</td>\n",
              "      <td>NaN</td>\n",
              "      <td>Disguise Pokémon</td>\n",
              "      <td>0.500</td>\n",
              "      <td>0.500</td>\n",
              "      <td>NaN</td>\n",
              "      <td>Amorphous</td>\n",
              "      <td>NaN</td>\n",
              "    </tr>\n",
              "    <tr>\n",
              "      <th>1058</th>\n",
              "      <td>1060</td>\n",
              "      <td>778</td>\n",
              "      <td>mimikyu</td>\n",
              "      <td>Mimikyu (3)</td>\n",
              "      <td>Ghost</td>\n",
              "      <td>Fairy</td>\n",
              "      <td>Disguise</td>\n",
              "      <td>Disguise</td>\n",
              "      <td>Disguise</td>\n",
              "      <td>60</td>\n",
              "      <td>100</td>\n",
              "      <td>60</td>\n",
              "      <td>100</td>\n",
              "      <td>60</td>\n",
              "      <td>120</td>\n",
              "      <td>500</td>\n",
              "      <td>1.5 lbs.</td>\n",
              "      <td>0'08\"</td>\n",
              "      <td>NaN</td>\n",
              "      <td>NaN</td>\n",
              "      <td>Disguise Pokémon</td>\n",
              "      <td>0.500</td>\n",
              "      <td>0.500</td>\n",
              "      <td>NaN</td>\n",
              "      <td>Amorphous</td>\n",
              "      <td>NaN</td>\n",
              "    </tr>\n",
              "    <tr>\n",
              "      <th>1059</th>\n",
              "      <td>1061</td>\n",
              "      <td>784</td>\n",
              "      <td>kommo-o</td>\n",
              "      <td>Kommo-o (1)</td>\n",
              "      <td>Dragon</td>\n",
              "      <td>Fighting</td>\n",
              "      <td>Bulletproof</td>\n",
              "      <td>Soundproof</td>\n",
              "      <td>Overcoat</td>\n",
              "      <td>75</td>\n",
              "      <td>110</td>\n",
              "      <td>125</td>\n",
              "      <td>100</td>\n",
              "      <td>105</td>\n",
              "      <td>85</td>\n",
              "      <td>600</td>\n",
              "      <td>172.4 lbs.</td>\n",
              "      <td>5'03\"</td>\n",
              "      <td>NaN</td>\n",
              "      <td>NaN</td>\n",
              "      <td>Scaly Pokémon</td>\n",
              "      <td>0.500</td>\n",
              "      <td>0.500</td>\n",
              "      <td>NaN</td>\n",
              "      <td>Dragon</td>\n",
              "      <td>NaN</td>\n",
              "    </tr>\n",
              "    <tr>\n",
              "      <th>1060</th>\n",
              "      <td>1062</td>\n",
              "      <td>801</td>\n",
              "      <td>magearna</td>\n",
              "      <td>Magearna (Original Color)</td>\n",
              "      <td>Steel</td>\n",
              "      <td>Fairy</td>\n",
              "      <td>Soul-Heart</td>\n",
              "      <td>Soul-Heart</td>\n",
              "      <td>Soul-Heart</td>\n",
              "      <td>80</td>\n",
              "      <td>95</td>\n",
              "      <td>115</td>\n",
              "      <td>130</td>\n",
              "      <td>115</td>\n",
              "      <td>65</td>\n",
              "      <td>600</td>\n",
              "      <td>177.5 lbs.</td>\n",
              "      <td>3'03\"</td>\n",
              "      <td>This beautiful form reflects Magearna’s appear...</td>\n",
              "      <td>This gorgeous Magearna looks as it did at the ...</td>\n",
              "      <td>Artificial Pokémon</td>\n",
              "      <td>NaN</td>\n",
              "      <td>NaN</td>\n",
              "      <td>NaN</td>\n",
              "      <td>Undiscovered</td>\n",
              "      <td>NaN</td>\n",
              "    </tr>\n",
              "  </tbody>\n",
              "</table>\n",
              "<p>1061 rows × 26 columns</p>\n",
              "</div>"
            ],
            "text/plain": [
              "        id  ndex     species  ... pre-evolution    egg-group1 egg-group2\n",
              "0        1     1   bulbasaur  ...           NaN       Monster      Grass\n",
              "1        2     2     ivysaur  ...     Bulbasaur       Monster      Grass\n",
              "2        3     3    venusaur  ...       Ivysaur       Monster      Grass\n",
              "3        4     4  charmander  ...           NaN       Monster     Dragon\n",
              "4        5     5  charmeleon  ...    Charmander       Monster     Dragon\n",
              "...    ...   ...         ...  ...           ...           ...        ...\n",
              "1056  1058   778     mimikyu  ...           NaN     Amorphous        NaN\n",
              "1057  1059   778     mimikyu  ...           NaN     Amorphous        NaN\n",
              "1058  1060   778     mimikyu  ...           NaN     Amorphous        NaN\n",
              "1059  1061   784     kommo-o  ...           NaN        Dragon        NaN\n",
              "1060  1062   801    magearna  ...           NaN  Undiscovered        NaN\n",
              "\n",
              "[1061 rows x 26 columns]"
            ]
          },
          "metadata": {
            "tags": []
          },
          "execution_count": 90
        }
      ]
    },
    {
      "cell_type": "markdown",
      "metadata": {
        "id": "pFXDcwi0HqSr",
        "colab_type": "text"
      },
      "source": [
        "## 前処理\n",
        "第６世代までを訓練データ、第７世代を評価データとして使う"
      ]
    },
    {
      "cell_type": "markdown",
      "metadata": {
        "id": "4JR2opHEdn9p",
        "colab_type": "text"
      },
      "source": [
        "### 出力の種族値データを作成"
      ]
    },
    {
      "cell_type": "code",
      "metadata": {
        "id": "mndoEEFymWxE",
        "colab_type": "code",
        "colab": {}
      },
      "source": [
        "# ２つのデータのCSVを紐付け\n",
        "def isExistsLowNum(name):\n",
        "  try:\n",
        "    # 複数フォームあるデータについては1つ目のインデックス値を返す\n",
        "    return df_poke.query('species == \"' + name + '\"').index[0]\n",
        "  except:\n",
        "    return np.nan"
      ],
      "execution_count": 0,
      "outputs": []
    },
    {
      "cell_type": "code",
      "metadata": {
        "id": "7ZQP8IeBz-Oh",
        "colab_type": "code",
        "outputId": "e514bc48-36fb-4cfc-fae8-e2c5de93f575",
        "colab": {
          "base_uri": "https://localhost:8080/",
          "height": 204
        }
      },
      "source": [
        "df_pokeimg['id'] = df_pokeimg['Name'].map(isExistsLowNum)\n",
        "df_pokeimg.head()"
      ],
      "execution_count": 92,
      "outputs": [
        {
          "output_type": "execute_result",
          "data": {
            "text/html": [
              "<div>\n",
              "<style scoped>\n",
              "    .dataframe tbody tr th:only-of-type {\n",
              "        vertical-align: middle;\n",
              "    }\n",
              "\n",
              "    .dataframe tbody tr th {\n",
              "        vertical-align: top;\n",
              "    }\n",
              "\n",
              "    .dataframe thead th {\n",
              "        text-align: right;\n",
              "    }\n",
              "</style>\n",
              "<table border=\"1\" class=\"dataframe\">\n",
              "  <thead>\n",
              "    <tr style=\"text-align: right;\">\n",
              "      <th></th>\n",
              "      <th>Name</th>\n",
              "      <th>Type1</th>\n",
              "      <th>Type2</th>\n",
              "      <th>id</th>\n",
              "    </tr>\n",
              "  </thead>\n",
              "  <tbody>\n",
              "    <tr>\n",
              "      <th>0</th>\n",
              "      <td>bulbasaur</td>\n",
              "      <td>Grass</td>\n",
              "      <td>Poison</td>\n",
              "      <td>0.0</td>\n",
              "    </tr>\n",
              "    <tr>\n",
              "      <th>1</th>\n",
              "      <td>ivysaur</td>\n",
              "      <td>Grass</td>\n",
              "      <td>Poison</td>\n",
              "      <td>1.0</td>\n",
              "    </tr>\n",
              "    <tr>\n",
              "      <th>2</th>\n",
              "      <td>venusaur</td>\n",
              "      <td>Grass</td>\n",
              "      <td>Poison</td>\n",
              "      <td>2.0</td>\n",
              "    </tr>\n",
              "    <tr>\n",
              "      <th>3</th>\n",
              "      <td>charmander</td>\n",
              "      <td>Fire</td>\n",
              "      <td>NaN</td>\n",
              "      <td>3.0</td>\n",
              "    </tr>\n",
              "    <tr>\n",
              "      <th>4</th>\n",
              "      <td>charmeleon</td>\n",
              "      <td>Fire</td>\n",
              "      <td>NaN</td>\n",
              "      <td>4.0</td>\n",
              "    </tr>\n",
              "  </tbody>\n",
              "</table>\n",
              "</div>"
            ],
            "text/plain": [
              "         Name  Type1   Type2   id\n",
              "0   bulbasaur  Grass  Poison  0.0\n",
              "1     ivysaur  Grass  Poison  1.0\n",
              "2    venusaur  Grass  Poison  2.0\n",
              "3  charmander   Fire     NaN  3.0\n",
              "4  charmeleon   Fire     NaN  4.0"
            ]
          },
          "metadata": {
            "tags": []
          },
          "execution_count": 92
        }
      ]
    },
    {
      "cell_type": "code",
      "metadata": {
        "id": "QINpNmZsAOqf",
        "colab_type": "code",
        "outputId": "781a80df-bfc7-4fed-c0cb-17098c8b8fb6",
        "colab": {
          "base_uri": "https://localhost:8080/",
          "height": 34
        }
      },
      "source": [
        "df_pokeimg['id'].isnull().sum()"
      ],
      "execution_count": 93,
      "outputs": [
        {
          "output_type": "execute_result",
          "data": {
            "text/plain": [
              "39"
            ]
          },
          "metadata": {
            "tags": []
          },
          "execution_count": 93
        }
      ]
    },
    {
      "cell_type": "code",
      "metadata": {
        "id": "QOQSQM2wA4_b",
        "colab_type": "code",
        "outputId": "0c4ca19e-5a59-4aba-f911-66e8b5c456cf",
        "colab": {
          "base_uri": "https://localhost:8080/",
          "height": 1000
        }
      },
      "source": [
        "df_pokeimg[df_pokeimg['id'].isnull()]"
      ],
      "execution_count": 94,
      "outputs": [
        {
          "output_type": "execute_result",
          "data": {
            "text/html": [
              "<div>\n",
              "<style scoped>\n",
              "    .dataframe tbody tr th:only-of-type {\n",
              "        vertical-align: middle;\n",
              "    }\n",
              "\n",
              "    .dataframe tbody tr th {\n",
              "        vertical-align: top;\n",
              "    }\n",
              "\n",
              "    .dataframe thead th {\n",
              "        text-align: right;\n",
              "    }\n",
              "</style>\n",
              "<table border=\"1\" class=\"dataframe\">\n",
              "  <thead>\n",
              "    <tr style=\"text-align: right;\">\n",
              "      <th></th>\n",
              "      <th>Name</th>\n",
              "      <th>Type1</th>\n",
              "      <th>Type2</th>\n",
              "      <th>id</th>\n",
              "    </tr>\n",
              "  </thead>\n",
              "  <tbody>\n",
              "    <tr>\n",
              "      <th>28</th>\n",
              "      <td>nidoran-f</td>\n",
              "      <td>Poison</td>\n",
              "      <td>NaN</td>\n",
              "      <td>NaN</td>\n",
              "    </tr>\n",
              "    <tr>\n",
              "      <th>31</th>\n",
              "      <td>nidoran-m</td>\n",
              "      <td>Poison</td>\n",
              "      <td>NaN</td>\n",
              "      <td>NaN</td>\n",
              "    </tr>\n",
              "    <tr>\n",
              "      <th>82</th>\n",
              "      <td>farfetchd</td>\n",
              "      <td>Normal</td>\n",
              "      <td>Flying</td>\n",
              "      <td>NaN</td>\n",
              "    </tr>\n",
              "    <tr>\n",
              "      <th>121</th>\n",
              "      <td>mr-mime</td>\n",
              "      <td>Psychic</td>\n",
              "      <td>Fairy</td>\n",
              "      <td>NaN</td>\n",
              "    </tr>\n",
              "    <tr>\n",
              "      <th>385</th>\n",
              "      <td>deoxys-normal</td>\n",
              "      <td>Psychic</td>\n",
              "      <td>NaN</td>\n",
              "      <td>NaN</td>\n",
              "    </tr>\n",
              "    <tr>\n",
              "      <th>412</th>\n",
              "      <td>wormadam-plant</td>\n",
              "      <td>Bug</td>\n",
              "      <td>Grass</td>\n",
              "      <td>NaN</td>\n",
              "    </tr>\n",
              "    <tr>\n",
              "      <th>438</th>\n",
              "      <td>mime-jr</td>\n",
              "      <td>Psychic</td>\n",
              "      <td>Fairy</td>\n",
              "      <td>NaN</td>\n",
              "    </tr>\n",
              "    <tr>\n",
              "      <th>486</th>\n",
              "      <td>giratina-altered</td>\n",
              "      <td>Ghost</td>\n",
              "      <td>Dragon</td>\n",
              "      <td>NaN</td>\n",
              "    </tr>\n",
              "    <tr>\n",
              "      <th>491</th>\n",
              "      <td>shaymin-land</td>\n",
              "      <td>Grass</td>\n",
              "      <td>NaN</td>\n",
              "      <td>NaN</td>\n",
              "    </tr>\n",
              "    <tr>\n",
              "      <th>549</th>\n",
              "      <td>basculin-red-striped</td>\n",
              "      <td>Water</td>\n",
              "      <td>NaN</td>\n",
              "      <td>NaN</td>\n",
              "    </tr>\n",
              "    <tr>\n",
              "      <th>554</th>\n",
              "      <td>darmanitan-standard</td>\n",
              "      <td>Fire</td>\n",
              "      <td>NaN</td>\n",
              "      <td>NaN</td>\n",
              "    </tr>\n",
              "    <tr>\n",
              "      <th>640</th>\n",
              "      <td>tornadus-incarnate</td>\n",
              "      <td>Flying</td>\n",
              "      <td>NaN</td>\n",
              "      <td>NaN</td>\n",
              "    </tr>\n",
              "    <tr>\n",
              "      <th>641</th>\n",
              "      <td>thundurus-incarnate</td>\n",
              "      <td>Electric</td>\n",
              "      <td>Flying</td>\n",
              "      <td>NaN</td>\n",
              "    </tr>\n",
              "    <tr>\n",
              "      <th>644</th>\n",
              "      <td>landorus-incarnate</td>\n",
              "      <td>Ground</td>\n",
              "      <td>Flying</td>\n",
              "      <td>NaN</td>\n",
              "    </tr>\n",
              "    <tr>\n",
              "      <th>646</th>\n",
              "      <td>keldeo-ordinary</td>\n",
              "      <td>Water</td>\n",
              "      <td>Fighting</td>\n",
              "      <td>NaN</td>\n",
              "    </tr>\n",
              "    <tr>\n",
              "      <th>647</th>\n",
              "      <td>meloetta-aria</td>\n",
              "      <td>Normal</td>\n",
              "      <td>Psychic</td>\n",
              "      <td>NaN</td>\n",
              "    </tr>\n",
              "    <tr>\n",
              "      <th>668</th>\n",
              "      <td>flabebe</td>\n",
              "      <td>Fairy</td>\n",
              "      <td>NaN</td>\n",
              "      <td>NaN</td>\n",
              "    </tr>\n",
              "    <tr>\n",
              "      <th>677</th>\n",
              "      <td>meowstic-male</td>\n",
              "      <td>Psychic</td>\n",
              "      <td>NaN</td>\n",
              "      <td>NaN</td>\n",
              "    </tr>\n",
              "    <tr>\n",
              "      <th>680</th>\n",
              "      <td>aegislash-blade</td>\n",
              "      <td>Steel</td>\n",
              "      <td>Ghost</td>\n",
              "      <td>NaN</td>\n",
              "    </tr>\n",
              "    <tr>\n",
              "      <th>709</th>\n",
              "      <td>pumpkaboo-average</td>\n",
              "      <td>Ghost</td>\n",
              "      <td>Grass</td>\n",
              "      <td>NaN</td>\n",
              "    </tr>\n",
              "    <tr>\n",
              "      <th>710</th>\n",
              "      <td>gourgeist-average</td>\n",
              "      <td>Ghost</td>\n",
              "      <td>Grass</td>\n",
              "      <td>NaN</td>\n",
              "    </tr>\n",
              "    <tr>\n",
              "      <th>717</th>\n",
              "      <td>zygarde-50</td>\n",
              "      <td>Dragon</td>\n",
              "      <td>Ground</td>\n",
              "      <td>NaN</td>\n",
              "    </tr>\n",
              "    <tr>\n",
              "      <th>719</th>\n",
              "      <td>hoopa-confined</td>\n",
              "      <td>Psychic</td>\n",
              "      <td>Ghost</td>\n",
              "      <td>NaN</td>\n",
              "    </tr>\n",
              "    <tr>\n",
              "      <th>740</th>\n",
              "      <td>oricorio-baile</td>\n",
              "      <td>Fire</td>\n",
              "      <td>Flying</td>\n",
              "      <td>NaN</td>\n",
              "    </tr>\n",
              "    <tr>\n",
              "      <th>744</th>\n",
              "      <td>lycanroc-midday</td>\n",
              "      <td>Rock</td>\n",
              "      <td>NaN</td>\n",
              "      <td>NaN</td>\n",
              "    </tr>\n",
              "    <tr>\n",
              "      <th>745</th>\n",
              "      <td>wishiwashi-solo</td>\n",
              "      <td>Water</td>\n",
              "      <td>NaN</td>\n",
              "      <td>NaN</td>\n",
              "    </tr>\n",
              "    <tr>\n",
              "      <th>771</th>\n",
              "      <td>type-null</td>\n",
              "      <td>Normal</td>\n",
              "      <td>NaN</td>\n",
              "      <td>NaN</td>\n",
              "    </tr>\n",
              "    <tr>\n",
              "      <th>773</th>\n",
              "      <td>minior-meteor</td>\n",
              "      <td>Rock</td>\n",
              "      <td>Flying</td>\n",
              "      <td>NaN</td>\n",
              "    </tr>\n",
              "    <tr>\n",
              "      <th>784</th>\n",
              "      <td>tapu-koko</td>\n",
              "      <td>Electric</td>\n",
              "      <td>Fairy</td>\n",
              "      <td>NaN</td>\n",
              "    </tr>\n",
              "    <tr>\n",
              "      <th>785</th>\n",
              "      <td>tapu-lele</td>\n",
              "      <td>Psychic</td>\n",
              "      <td>Fairy</td>\n",
              "      <td>NaN</td>\n",
              "    </tr>\n",
              "    <tr>\n",
              "      <th>786</th>\n",
              "      <td>tapu-bulu</td>\n",
              "      <td>Grass</td>\n",
              "      <td>Fairy</td>\n",
              "      <td>NaN</td>\n",
              "    </tr>\n",
              "    <tr>\n",
              "      <th>787</th>\n",
              "      <td>tapu-fini</td>\n",
              "      <td>Water</td>\n",
              "      <td>Fairy</td>\n",
              "      <td>NaN</td>\n",
              "    </tr>\n",
              "    <tr>\n",
              "      <th>802</th>\n",
              "      <td>poipole</td>\n",
              "      <td>Poison</td>\n",
              "      <td>NaN</td>\n",
              "      <td>NaN</td>\n",
              "    </tr>\n",
              "    <tr>\n",
              "      <th>803</th>\n",
              "      <td>naganadel</td>\n",
              "      <td>Poison</td>\n",
              "      <td>Dragon</td>\n",
              "      <td>NaN</td>\n",
              "    </tr>\n",
              "    <tr>\n",
              "      <th>804</th>\n",
              "      <td>stakataka</td>\n",
              "      <td>Rock</td>\n",
              "      <td>Steel</td>\n",
              "      <td>NaN</td>\n",
              "    </tr>\n",
              "    <tr>\n",
              "      <th>805</th>\n",
              "      <td>blacephalon</td>\n",
              "      <td>Fire</td>\n",
              "      <td>Ghost</td>\n",
              "      <td>NaN</td>\n",
              "    </tr>\n",
              "    <tr>\n",
              "      <th>806</th>\n",
              "      <td>zeraora</td>\n",
              "      <td>Electric</td>\n",
              "      <td>NaN</td>\n",
              "      <td>NaN</td>\n",
              "    </tr>\n",
              "    <tr>\n",
              "      <th>807</th>\n",
              "      <td>meltan</td>\n",
              "      <td>Steel</td>\n",
              "      <td>NaN</td>\n",
              "      <td>NaN</td>\n",
              "    </tr>\n",
              "    <tr>\n",
              "      <th>808</th>\n",
              "      <td>melmetal</td>\n",
              "      <td>Steel</td>\n",
              "      <td>NaN</td>\n",
              "      <td>NaN</td>\n",
              "    </tr>\n",
              "  </tbody>\n",
              "</table>\n",
              "</div>"
            ],
            "text/plain": [
              "                     Name     Type1     Type2  id\n",
              "28              nidoran-f    Poison       NaN NaN\n",
              "31              nidoran-m    Poison       NaN NaN\n",
              "82              farfetchd    Normal    Flying NaN\n",
              "121               mr-mime   Psychic     Fairy NaN\n",
              "385         deoxys-normal   Psychic       NaN NaN\n",
              "412        wormadam-plant       Bug     Grass NaN\n",
              "438               mime-jr   Psychic     Fairy NaN\n",
              "486      giratina-altered     Ghost    Dragon NaN\n",
              "491          shaymin-land     Grass       NaN NaN\n",
              "549  basculin-red-striped     Water       NaN NaN\n",
              "554   darmanitan-standard      Fire       NaN NaN\n",
              "640    tornadus-incarnate    Flying       NaN NaN\n",
              "641   thundurus-incarnate  Electric    Flying NaN\n",
              "644    landorus-incarnate    Ground    Flying NaN\n",
              "646       keldeo-ordinary     Water  Fighting NaN\n",
              "647         meloetta-aria    Normal   Psychic NaN\n",
              "668               flabebe     Fairy       NaN NaN\n",
              "677         meowstic-male   Psychic       NaN NaN\n",
              "680       aegislash-blade     Steel     Ghost NaN\n",
              "709     pumpkaboo-average     Ghost     Grass NaN\n",
              "710     gourgeist-average     Ghost     Grass NaN\n",
              "717            zygarde-50    Dragon    Ground NaN\n",
              "719        hoopa-confined   Psychic     Ghost NaN\n",
              "740        oricorio-baile      Fire    Flying NaN\n",
              "744       lycanroc-midday      Rock       NaN NaN\n",
              "745       wishiwashi-solo     Water       NaN NaN\n",
              "771             type-null    Normal       NaN NaN\n",
              "773         minior-meteor      Rock    Flying NaN\n",
              "784             tapu-koko  Electric     Fairy NaN\n",
              "785             tapu-lele   Psychic     Fairy NaN\n",
              "786             tapu-bulu     Grass     Fairy NaN\n",
              "787             tapu-fini     Water     Fairy NaN\n",
              "802               poipole    Poison       NaN NaN\n",
              "803             naganadel    Poison    Dragon NaN\n",
              "804             stakataka      Rock     Steel NaN\n",
              "805           blacephalon      Fire     Ghost NaN\n",
              "806               zeraora  Electric       NaN NaN\n",
              "807                meltan     Steel       NaN NaN\n",
              "808              melmetal     Steel       NaN NaN"
            ]
          },
          "metadata": {
            "tags": []
          },
          "execution_count": 94
        }
      ]
    },
    {
      "cell_type": "markdown",
      "metadata": {
        "id": "9GsrXiaX_XKC",
        "colab_type": "text"
      },
      "source": [
        "#### ポケモンの名前がデータ間で異なる場合は名寄せ"
      ]
    },
    {
      "cell_type": "code",
      "metadata": {
        "id": "hsTbMCJuGHCR",
        "colab_type": "code",
        "colab": {}
      },
      "source": [
        "df_poke.iloc[28, 2] = 'nidoran-f'\n",
        "df_poke.iloc[31, 2] = 'nidoran-m'\n",
        "df_poke.iloc[82, 2] = 'farfetchd'\n",
        "df_poke.iloc[121, 2] = 'mr-mime'\n",
        "df_poke.iloc[385, 2] = 'deoxys-normal'\n",
        "df_poke.iloc[412, 2] = 'wormadam-plant'\n",
        "df_poke.iloc[438, 2] = 'mime-jr'\n",
        "df_poke.iloc[486, 2] = 'giratina-altered'\n",
        "df_poke.iloc[491, 2] = 'shaymin-land'\n",
        "df_poke.iloc[549, 2] = 'basculin-red-striped'\n",
        "df_poke.iloc[554, 2] = 'darmanitan-standard'\n",
        "df_poke.iloc[640, 2] = 'tornadus-incarnate'\n",
        "df_poke.iloc[641, 2] = 'thundurus-incarnate'\n",
        "df_poke.iloc[644, 2] = 'landorus-incarnate'\n",
        "df_poke.iloc[646, 2] = 'keldeo-ordinary'\n",
        "df_poke.iloc[647, 2] = 'meloetta-aria'\n",
        "df_poke.iloc[668, 2] = 'flabebe'\n",
        "df_poke.iloc[677, 2] = 'meowstic-male'\n",
        "df_poke.iloc[680, 2] = 'aegislash-blade'\n",
        "df_poke.iloc[709, 2] = 'pumpkaboo-average'\n",
        "df_poke.iloc[710, 2] = 'gourgeist-average'\n",
        "df_poke.iloc[717, 2] = 'zygarde-50'\n",
        "df_poke.iloc[719, 2] = 'hoopa-confined'\n",
        "df_poke.iloc[740, 2] = 'oricorio-baile'\n",
        "df_poke.iloc[744, 2] = 'lycanroc-midday'\n",
        "df_poke.iloc[745, 2] = 'wishiwashi-solo'\n",
        "df_poke.iloc[771, 2] = 'type-null'\n",
        "df_poke.iloc[773, 2] = 'minior-meteor'\n",
        "df_poke.iloc[784, 2] = 'tapu-koko'\n",
        "df_poke.iloc[785, 2] = 'tapu-lele'\n",
        "df_poke.iloc[786, 2] = 'tapu-bulu'\n",
        "df_poke.iloc[787, 2] = 'tapu-fini'"
      ],
      "execution_count": 0,
      "outputs": []
    },
    {
      "cell_type": "code",
      "metadata": {
        "id": "MGVqYe0BU7yC",
        "colab_type": "code",
        "colab": {}
      },
      "source": [
        "df_pokeimg['id'] = df_pokeimg['Name'].map(isExistsLowNum)"
      ],
      "execution_count": 0,
      "outputs": []
    },
    {
      "cell_type": "code",
      "metadata": {
        "id": "8Fa_krvLF5wF",
        "colab_type": "code",
        "outputId": "dab395e2-92b4-4a6e-d382-b68f40bac581",
        "colab": {
          "base_uri": "https://localhost:8080/",
          "height": 266
        }
      },
      "source": [
        "df_pokeimg[df_pokeimg['id'].isnull()]"
      ],
      "execution_count": 97,
      "outputs": [
        {
          "output_type": "execute_result",
          "data": {
            "text/html": [
              "<div>\n",
              "<style scoped>\n",
              "    .dataframe tbody tr th:only-of-type {\n",
              "        vertical-align: middle;\n",
              "    }\n",
              "\n",
              "    .dataframe tbody tr th {\n",
              "        vertical-align: top;\n",
              "    }\n",
              "\n",
              "    .dataframe thead th {\n",
              "        text-align: right;\n",
              "    }\n",
              "</style>\n",
              "<table border=\"1\" class=\"dataframe\">\n",
              "  <thead>\n",
              "    <tr style=\"text-align: right;\">\n",
              "      <th></th>\n",
              "      <th>Name</th>\n",
              "      <th>Type1</th>\n",
              "      <th>Type2</th>\n",
              "      <th>id</th>\n",
              "    </tr>\n",
              "  </thead>\n",
              "  <tbody>\n",
              "    <tr>\n",
              "      <th>802</th>\n",
              "      <td>poipole</td>\n",
              "      <td>Poison</td>\n",
              "      <td>NaN</td>\n",
              "      <td>NaN</td>\n",
              "    </tr>\n",
              "    <tr>\n",
              "      <th>803</th>\n",
              "      <td>naganadel</td>\n",
              "      <td>Poison</td>\n",
              "      <td>Dragon</td>\n",
              "      <td>NaN</td>\n",
              "    </tr>\n",
              "    <tr>\n",
              "      <th>804</th>\n",
              "      <td>stakataka</td>\n",
              "      <td>Rock</td>\n",
              "      <td>Steel</td>\n",
              "      <td>NaN</td>\n",
              "    </tr>\n",
              "    <tr>\n",
              "      <th>805</th>\n",
              "      <td>blacephalon</td>\n",
              "      <td>Fire</td>\n",
              "      <td>Ghost</td>\n",
              "      <td>NaN</td>\n",
              "    </tr>\n",
              "    <tr>\n",
              "      <th>806</th>\n",
              "      <td>zeraora</td>\n",
              "      <td>Electric</td>\n",
              "      <td>NaN</td>\n",
              "      <td>NaN</td>\n",
              "    </tr>\n",
              "    <tr>\n",
              "      <th>807</th>\n",
              "      <td>meltan</td>\n",
              "      <td>Steel</td>\n",
              "      <td>NaN</td>\n",
              "      <td>NaN</td>\n",
              "    </tr>\n",
              "    <tr>\n",
              "      <th>808</th>\n",
              "      <td>melmetal</td>\n",
              "      <td>Steel</td>\n",
              "      <td>NaN</td>\n",
              "      <td>NaN</td>\n",
              "    </tr>\n",
              "  </tbody>\n",
              "</table>\n",
              "</div>"
            ],
            "text/plain": [
              "            Name     Type1   Type2  id\n",
              "802      poipole    Poison     NaN NaN\n",
              "803    naganadel    Poison  Dragon NaN\n",
              "804    stakataka      Rock   Steel NaN\n",
              "805  blacephalon      Fire   Ghost NaN\n",
              "806      zeraora  Electric     NaN NaN\n",
              "807       meltan     Steel     NaN NaN\n",
              "808     melmetal     Steel     NaN NaN"
            ]
          },
          "metadata": {
            "tags": []
          },
          "execution_count": 97
        }
      ]
    },
    {
      "cell_type": "code",
      "metadata": {
        "id": "j0LukuUKXMLo",
        "colab_type": "code",
        "outputId": "a12be7f4-30f2-4736-dc29-b045a5281c0f",
        "colab": {
          "base_uri": "https://localhost:8080/",
          "height": 204
        }
      },
      "source": [
        "df_pokeimg['hp'] = np.nan\n",
        "df_pokeimg['attack'] = np.nan\n",
        "df_pokeimg['defense'] = np.nan\n",
        "df_pokeimg['spattack'] = np.nan\n",
        "df_pokeimg['spdefense'] = np.nan\n",
        "df_pokeimg['speed'] = np.nan\n",
        "df_pokeimg['speed'] = np.nan\n",
        "df_pokeimg['total'] = np.nan\n",
        "df_pokeimg.head()"
      ],
      "execution_count": 98,
      "outputs": [
        {
          "output_type": "execute_result",
          "data": {
            "text/html": [
              "<div>\n",
              "<style scoped>\n",
              "    .dataframe tbody tr th:only-of-type {\n",
              "        vertical-align: middle;\n",
              "    }\n",
              "\n",
              "    .dataframe tbody tr th {\n",
              "        vertical-align: top;\n",
              "    }\n",
              "\n",
              "    .dataframe thead th {\n",
              "        text-align: right;\n",
              "    }\n",
              "</style>\n",
              "<table border=\"1\" class=\"dataframe\">\n",
              "  <thead>\n",
              "    <tr style=\"text-align: right;\">\n",
              "      <th></th>\n",
              "      <th>Name</th>\n",
              "      <th>Type1</th>\n",
              "      <th>Type2</th>\n",
              "      <th>id</th>\n",
              "      <th>hp</th>\n",
              "      <th>attack</th>\n",
              "      <th>defense</th>\n",
              "      <th>spattack</th>\n",
              "      <th>spdefense</th>\n",
              "      <th>speed</th>\n",
              "      <th>total</th>\n",
              "    </tr>\n",
              "  </thead>\n",
              "  <tbody>\n",
              "    <tr>\n",
              "      <th>0</th>\n",
              "      <td>bulbasaur</td>\n",
              "      <td>Grass</td>\n",
              "      <td>Poison</td>\n",
              "      <td>0.0</td>\n",
              "      <td>NaN</td>\n",
              "      <td>NaN</td>\n",
              "      <td>NaN</td>\n",
              "      <td>NaN</td>\n",
              "      <td>NaN</td>\n",
              "      <td>NaN</td>\n",
              "      <td>NaN</td>\n",
              "    </tr>\n",
              "    <tr>\n",
              "      <th>1</th>\n",
              "      <td>ivysaur</td>\n",
              "      <td>Grass</td>\n",
              "      <td>Poison</td>\n",
              "      <td>1.0</td>\n",
              "      <td>NaN</td>\n",
              "      <td>NaN</td>\n",
              "      <td>NaN</td>\n",
              "      <td>NaN</td>\n",
              "      <td>NaN</td>\n",
              "      <td>NaN</td>\n",
              "      <td>NaN</td>\n",
              "    </tr>\n",
              "    <tr>\n",
              "      <th>2</th>\n",
              "      <td>venusaur</td>\n",
              "      <td>Grass</td>\n",
              "      <td>Poison</td>\n",
              "      <td>2.0</td>\n",
              "      <td>NaN</td>\n",
              "      <td>NaN</td>\n",
              "      <td>NaN</td>\n",
              "      <td>NaN</td>\n",
              "      <td>NaN</td>\n",
              "      <td>NaN</td>\n",
              "      <td>NaN</td>\n",
              "    </tr>\n",
              "    <tr>\n",
              "      <th>3</th>\n",
              "      <td>charmander</td>\n",
              "      <td>Fire</td>\n",
              "      <td>NaN</td>\n",
              "      <td>3.0</td>\n",
              "      <td>NaN</td>\n",
              "      <td>NaN</td>\n",
              "      <td>NaN</td>\n",
              "      <td>NaN</td>\n",
              "      <td>NaN</td>\n",
              "      <td>NaN</td>\n",
              "      <td>NaN</td>\n",
              "    </tr>\n",
              "    <tr>\n",
              "      <th>4</th>\n",
              "      <td>charmeleon</td>\n",
              "      <td>Fire</td>\n",
              "      <td>NaN</td>\n",
              "      <td>4.0</td>\n",
              "      <td>NaN</td>\n",
              "      <td>NaN</td>\n",
              "      <td>NaN</td>\n",
              "      <td>NaN</td>\n",
              "      <td>NaN</td>\n",
              "      <td>NaN</td>\n",
              "      <td>NaN</td>\n",
              "    </tr>\n",
              "  </tbody>\n",
              "</table>\n",
              "</div>"
            ],
            "text/plain": [
              "         Name  Type1   Type2   id  ...  spattack  spdefense  speed  total\n",
              "0   bulbasaur  Grass  Poison  0.0  ...       NaN        NaN    NaN    NaN\n",
              "1     ivysaur  Grass  Poison  1.0  ...       NaN        NaN    NaN    NaN\n",
              "2    venusaur  Grass  Poison  2.0  ...       NaN        NaN    NaN    NaN\n",
              "3  charmander   Fire     NaN  3.0  ...       NaN        NaN    NaN    NaN\n",
              "4  charmeleon   Fire     NaN  4.0  ...       NaN        NaN    NaN    NaN\n",
              "\n",
              "[5 rows x 11 columns]"
            ]
          },
          "metadata": {
            "tags": []
          },
          "execution_count": 98
        }
      ]
    },
    {
      "cell_type": "code",
      "metadata": {
        "id": "wznprUY6aobG",
        "colab_type": "code",
        "outputId": "95ef25b5-d98b-4ec7-a235-a5193ce3a19c",
        "colab": {
          "base_uri": "https://localhost:8080/",
          "height": 323
        }
      },
      "source": [
        "df_pokeimg = df_pokeimg.dropna(subset=['id'])\n",
        "df_pokeimg['id'] = df_pokeimg['id'].astype(int)\n",
        "df_pokeimg.isnull().sum()"
      ],
      "execution_count": 99,
      "outputs": [
        {
          "output_type": "stream",
          "text": [
            "/usr/local/lib/python3.6/dist-packages/ipykernel_launcher.py:2: SettingWithCopyWarning: \n",
            "A value is trying to be set on a copy of a slice from a DataFrame.\n",
            "Try using .loc[row_indexer,col_indexer] = value instead\n",
            "\n",
            "See the caveats in the documentation: http://pandas.pydata.org/pandas-docs/stable/user_guide/indexing.html#returning-a-view-versus-a-copy\n",
            "  \n"
          ],
          "name": "stderr"
        },
        {
          "output_type": "execute_result",
          "data": {
            "text/plain": [
              "Name           0\n",
              "Type1          0\n",
              "Type2        400\n",
              "id             0\n",
              "hp           802\n",
              "attack       802\n",
              "defense      802\n",
              "spattack     802\n",
              "spdefense    802\n",
              "speed        802\n",
              "total        802\n",
              "dtype: int64"
            ]
          },
          "metadata": {
            "tags": []
          },
          "execution_count": 99
        }
      ]
    },
    {
      "cell_type": "code",
      "metadata": {
        "id": "XrbKNi1QYcG3",
        "colab_type": "code",
        "colab": {}
      },
      "source": [
        "getH = lambda x:  df_poke.iloc[x, 9]\n",
        "getA = lambda x:  df_poke.iloc[x, 10]\n",
        "getB = lambda x:  df_poke.iloc[x, 11]\n",
        "getC = lambda x:  df_poke.iloc[x, 12]\n",
        "getD = lambda x:  df_poke.iloc[x, 13]\n",
        "getS = lambda x:  df_poke.iloc[x, 14]\n",
        "getG = lambda x:  df_poke.iloc[x, 14]\n",
        "getT = lambda x:  df_poke.iloc[x, 15]"
      ],
      "execution_count": 0,
      "outputs": []
    },
    {
      "cell_type": "code",
      "metadata": {
        "id": "iLLZlpZIZf5V",
        "colab_type": "code",
        "colab": {
          "base_uri": "https://localhost:8080/",
          "height": 731
        },
        "outputId": "30819fb3-ff27-412d-fb6f-e91337c7213e"
      },
      "source": [
        "df_pokeimg['hp'] = df_pokeimg['id'].map(getH)\n",
        "df_pokeimg['attack'] = df_pokeimg['id'].map(getA)\n",
        "df_pokeimg['defense'] = df_pokeimg['id'].map(getB)\n",
        "df_pokeimg['spattack'] = df_pokeimg['id'].map(getC)\n",
        "df_pokeimg['spdefense'] = df_pokeimg['id'].map(getD)\n",
        "df_pokeimg['speed'] = df_pokeimg['id'].map(getS)\n",
        "df_pokeimg['total'] = df_pokeimg['id'].map(getT)"
      ],
      "execution_count": 101,
      "outputs": [
        {
          "output_type": "stream",
          "text": [
            "/usr/local/lib/python3.6/dist-packages/ipykernel_launcher.py:1: SettingWithCopyWarning: \n",
            "A value is trying to be set on a copy of a slice from a DataFrame.\n",
            "Try using .loc[row_indexer,col_indexer] = value instead\n",
            "\n",
            "See the caveats in the documentation: http://pandas.pydata.org/pandas-docs/stable/user_guide/indexing.html#returning-a-view-versus-a-copy\n",
            "  \"\"\"Entry point for launching an IPython kernel.\n",
            "/usr/local/lib/python3.6/dist-packages/ipykernel_launcher.py:2: SettingWithCopyWarning: \n",
            "A value is trying to be set on a copy of a slice from a DataFrame.\n",
            "Try using .loc[row_indexer,col_indexer] = value instead\n",
            "\n",
            "See the caveats in the documentation: http://pandas.pydata.org/pandas-docs/stable/user_guide/indexing.html#returning-a-view-versus-a-copy\n",
            "  \n",
            "/usr/local/lib/python3.6/dist-packages/ipykernel_launcher.py:3: SettingWithCopyWarning: \n",
            "A value is trying to be set on a copy of a slice from a DataFrame.\n",
            "Try using .loc[row_indexer,col_indexer] = value instead\n",
            "\n",
            "See the caveats in the documentation: http://pandas.pydata.org/pandas-docs/stable/user_guide/indexing.html#returning-a-view-versus-a-copy\n",
            "  This is separate from the ipykernel package so we can avoid doing imports until\n",
            "/usr/local/lib/python3.6/dist-packages/ipykernel_launcher.py:4: SettingWithCopyWarning: \n",
            "A value is trying to be set on a copy of a slice from a DataFrame.\n",
            "Try using .loc[row_indexer,col_indexer] = value instead\n",
            "\n",
            "See the caveats in the documentation: http://pandas.pydata.org/pandas-docs/stable/user_guide/indexing.html#returning-a-view-versus-a-copy\n",
            "  after removing the cwd from sys.path.\n",
            "/usr/local/lib/python3.6/dist-packages/ipykernel_launcher.py:5: SettingWithCopyWarning: \n",
            "A value is trying to be set on a copy of a slice from a DataFrame.\n",
            "Try using .loc[row_indexer,col_indexer] = value instead\n",
            "\n",
            "See the caveats in the documentation: http://pandas.pydata.org/pandas-docs/stable/user_guide/indexing.html#returning-a-view-versus-a-copy\n",
            "  \"\"\"\n",
            "/usr/local/lib/python3.6/dist-packages/ipykernel_launcher.py:6: SettingWithCopyWarning: \n",
            "A value is trying to be set on a copy of a slice from a DataFrame.\n",
            "Try using .loc[row_indexer,col_indexer] = value instead\n",
            "\n",
            "See the caveats in the documentation: http://pandas.pydata.org/pandas-docs/stable/user_guide/indexing.html#returning-a-view-versus-a-copy\n",
            "  \n",
            "/usr/local/lib/python3.6/dist-packages/ipykernel_launcher.py:7: SettingWithCopyWarning: \n",
            "A value is trying to be set on a copy of a slice from a DataFrame.\n",
            "Try using .loc[row_indexer,col_indexer] = value instead\n",
            "\n",
            "See the caveats in the documentation: http://pandas.pydata.org/pandas-docs/stable/user_guide/indexing.html#returning-a-view-versus-a-copy\n",
            "  import sys\n"
          ],
          "name": "stderr"
        }
      ]
    },
    {
      "cell_type": "code",
      "metadata": {
        "id": "eKuY6g_0cKAE",
        "colab_type": "code",
        "outputId": "7b9d5d8a-18fc-4a9b-85cb-12d75f36cddd",
        "colab": {
          "base_uri": "https://localhost:8080/",
          "height": 204
        }
      },
      "source": [
        "df_pokeimg.head()"
      ],
      "execution_count": 102,
      "outputs": [
        {
          "output_type": "execute_result",
          "data": {
            "text/html": [
              "<div>\n",
              "<style scoped>\n",
              "    .dataframe tbody tr th:only-of-type {\n",
              "        vertical-align: middle;\n",
              "    }\n",
              "\n",
              "    .dataframe tbody tr th {\n",
              "        vertical-align: top;\n",
              "    }\n",
              "\n",
              "    .dataframe thead th {\n",
              "        text-align: right;\n",
              "    }\n",
              "</style>\n",
              "<table border=\"1\" class=\"dataframe\">\n",
              "  <thead>\n",
              "    <tr style=\"text-align: right;\">\n",
              "      <th></th>\n",
              "      <th>Name</th>\n",
              "      <th>Type1</th>\n",
              "      <th>Type2</th>\n",
              "      <th>id</th>\n",
              "      <th>hp</th>\n",
              "      <th>attack</th>\n",
              "      <th>defense</th>\n",
              "      <th>spattack</th>\n",
              "      <th>spdefense</th>\n",
              "      <th>speed</th>\n",
              "      <th>total</th>\n",
              "    </tr>\n",
              "  </thead>\n",
              "  <tbody>\n",
              "    <tr>\n",
              "      <th>0</th>\n",
              "      <td>bulbasaur</td>\n",
              "      <td>Grass</td>\n",
              "      <td>Poison</td>\n",
              "      <td>0</td>\n",
              "      <td>45</td>\n",
              "      <td>49</td>\n",
              "      <td>49</td>\n",
              "      <td>65</td>\n",
              "      <td>65</td>\n",
              "      <td>45</td>\n",
              "      <td>318</td>\n",
              "    </tr>\n",
              "    <tr>\n",
              "      <th>1</th>\n",
              "      <td>ivysaur</td>\n",
              "      <td>Grass</td>\n",
              "      <td>Poison</td>\n",
              "      <td>1</td>\n",
              "      <td>60</td>\n",
              "      <td>62</td>\n",
              "      <td>63</td>\n",
              "      <td>80</td>\n",
              "      <td>80</td>\n",
              "      <td>60</td>\n",
              "      <td>405</td>\n",
              "    </tr>\n",
              "    <tr>\n",
              "      <th>2</th>\n",
              "      <td>venusaur</td>\n",
              "      <td>Grass</td>\n",
              "      <td>Poison</td>\n",
              "      <td>2</td>\n",
              "      <td>80</td>\n",
              "      <td>82</td>\n",
              "      <td>83</td>\n",
              "      <td>100</td>\n",
              "      <td>100</td>\n",
              "      <td>80</td>\n",
              "      <td>525</td>\n",
              "    </tr>\n",
              "    <tr>\n",
              "      <th>3</th>\n",
              "      <td>charmander</td>\n",
              "      <td>Fire</td>\n",
              "      <td>NaN</td>\n",
              "      <td>3</td>\n",
              "      <td>39</td>\n",
              "      <td>52</td>\n",
              "      <td>43</td>\n",
              "      <td>60</td>\n",
              "      <td>50</td>\n",
              "      <td>65</td>\n",
              "      <td>309</td>\n",
              "    </tr>\n",
              "    <tr>\n",
              "      <th>4</th>\n",
              "      <td>charmeleon</td>\n",
              "      <td>Fire</td>\n",
              "      <td>NaN</td>\n",
              "      <td>4</td>\n",
              "      <td>58</td>\n",
              "      <td>64</td>\n",
              "      <td>58</td>\n",
              "      <td>80</td>\n",
              "      <td>65</td>\n",
              "      <td>80</td>\n",
              "      <td>405</td>\n",
              "    </tr>\n",
              "  </tbody>\n",
              "</table>\n",
              "</div>"
            ],
            "text/plain": [
              "         Name  Type1   Type2  id  ...  spattack  spdefense  speed  total\n",
              "0   bulbasaur  Grass  Poison   0  ...        65         65     45    318\n",
              "1     ivysaur  Grass  Poison   1  ...        80         80     60    405\n",
              "2    venusaur  Grass  Poison   2  ...       100        100     80    525\n",
              "3  charmander   Fire     NaN   3  ...        60         50     65    309\n",
              "4  charmeleon   Fire     NaN   4  ...        80         65     80    405\n",
              "\n",
              "[5 rows x 11 columns]"
            ]
          },
          "metadata": {
            "tags": []
          },
          "execution_count": 102
        }
      ]
    },
    {
      "cell_type": "code",
      "metadata": {
        "id": "rvDR1BrULCQ9",
        "colab_type": "code",
        "colab": {}
      },
      "source": [
        "y_t = df_pokeimg['total'].values\n",
        "y_h = df_pokeimg['hp'].values\n",
        "y_a = df_pokeimg['attack'].values\n",
        "y_b = df_pokeimg['defense'].values\n",
        "y_c = df_pokeimg['spattack'].values\n",
        "y_d = df_pokeimg['spdefense'].values\n",
        "y_s = df_pokeimg['speed'].values\n",
        "\n",
        "y_t_train = y_t[:721]\n",
        "y_t_test = y_t[721:]\n",
        "\n",
        "y_h_train = y_h[:721]\n",
        "y_h_test = y_h[721:]\n",
        "y_a_train = y_a[:721]\n",
        "y_a_test = y_a[721:]\n",
        "y_b_train = y_b[:721]\n",
        "y_b_test = y_b[721:]\n",
        "y_c_train = y_c[:721]\n",
        "y_c_test = y_c[721:]\n",
        "y_d_train = y_d[:721]\n",
        "y_d_test = y_d[721:]\n",
        "y_s_train = y_speed[:721]\n",
        "y_s_test = y_speed[721:]"
      ],
      "execution_count": 0,
      "outputs": []
    },
    {
      "cell_type": "markdown",
      "metadata": {
        "id": "B-8VHJp0Pff3",
        "colab_type": "text"
      },
      "source": [
        "### 入力の画像データを作成\n"
      ]
    },
    {
      "cell_type": "code",
      "metadata": {
        "id": "jkLDczAM6In4",
        "colab_type": "code",
        "colab": {}
      },
      "source": [
        "#作成したファイルを消してやり直したい時\n",
        "#!rm -rf images"
      ],
      "execution_count": 0,
      "outputs": []
    },
    {
      "cell_type": "markdown",
      "metadata": {
        "id": "nCZCk0VVdi31",
        "colab_type": "text"
      },
      "source": [
        "#### pngはjpgに変換"
      ]
    },
    {
      "cell_type": "code",
      "metadata": {
        "id": "QSyAMTcz0YzX",
        "colab_type": "code",
        "outputId": "4b2170bb-b0a2-4ae6-fe2a-7639b7f24655",
        "colab": {
          "base_uri": "https://localhost:8080/",
          "height": 34
        }
      },
      "source": [
        "image_png_paths = glob.glob('images/*.png')\n",
        "error_count = 0\n",
        "for png_path in image_png_paths:\n",
        "  try:\n",
        "    path = pathlib.Path(png_path)\n",
        "    filename = os.path.splitext(path.name)[0]\n",
        "    img=PIL.Image.open(path)\n",
        "    img.load()\n",
        "    if img.mode == 'RGBA' :\n",
        "      pass\n",
        "    elif img.mode == 'P':\n",
        "      img = img.convert(\"RGBA\")\n",
        "    else :\n",
        "      print(png_path, img.mode)\n",
        "    background = PIL.Image.new(\"RGB\", img.size, (255, 255, 255))\n",
        "    background.paste(img, mask=img.split()[3])\n",
        "    background.save('images/' + filename + '.jpg',\"JPEG\",quality=95)\n",
        "  except Exception as e:\n",
        "    tb = sys.exc_info()[2]\n",
        "    print(\"message:{0}\".format(e.with_traceback(tb)))\n",
        "    error_count += 1\n",
        "\n",
        "print(error_count)"
      ],
      "execution_count": 105,
      "outputs": [
        {
          "output_type": "stream",
          "text": [
            "0\n"
          ],
          "name": "stdout"
        }
      ]
    },
    {
      "cell_type": "code",
      "metadata": {
        "id": "s_cFLJukJfS8",
        "colab_type": "code",
        "colab": {}
      },
      "source": [
        "# 作成したjpgをダウンロードしたい時\n",
        "#!zip imagesjpg.zip images/*jpg"
      ],
      "execution_count": 0,
      "outputs": []
    },
    {
      "cell_type": "code",
      "metadata": {
        "id": "17tp1ADRE7F5",
        "colab_type": "code",
        "colab": {}
      },
      "source": [
        "fe = lambda x:  'images/' + x + '.jpg'\n",
        "images = df_pokeimg['Name'].map(fe)"
      ],
      "execution_count": 0,
      "outputs": []
    },
    {
      "cell_type": "code",
      "metadata": {
        "id": "uuqrETGIGQmr",
        "colab_type": "code",
        "colab": {}
      },
      "source": [
        "name_images_f = [] \n",
        "name_images = [] \n",
        "\n",
        "for image in images:\n",
        "  path = pathlib.Path(image)\n",
        "  # ファイルパス\n",
        "  fullpath = str(path.resolve())\n",
        "  # ファイル名\n",
        "  filename = os.path.splitext(path.name)[0]\n",
        "  image = cv2.imread(fullpath)\n",
        "  orgH, orgW = image.shape[:2]\n",
        "  size = (int(orgH/4), int(orgW/4))\n",
        "  resize_img = cv2.resize(image, size)\n",
        "  # GBRのときは１次元にする\n",
        "  name_images_f.append(resize_img.flatten())\n",
        "  name_images.append(resize_img)"
      ],
      "execution_count": 0,
      "outputs": []
    },
    {
      "cell_type": "code",
      "metadata": {
        "id": "eoLqX493585o",
        "colab_type": "code",
        "colab": {}
      },
      "source": [
        "X_f_train = np.array(name_images_f[:721])/255\n",
        "X_f_test = np.array(name_images_f[721:])/255\n",
        "X_train = np.array(name_images[:721])/255\n",
        "X_test = np.array(name_images[721:])/255"
      ],
      "execution_count": 0,
      "outputs": []
    },
    {
      "cell_type": "markdown",
      "metadata": {
        "id": "KaG5r0fPCBXd",
        "colab_type": "text"
      },
      "source": [
        "## 学習\n",
        "各種族値、及び合計種族値を予測するモデルをそれぞれ作成する"
      ]
    },
    {
      "cell_type": "code",
      "metadata": {
        "id": "FChXiNdPwuqI",
        "colab_type": "code",
        "colab": {}
      },
      "source": [
        "from keras.models import Sequential, load_model\n",
        "from keras.layers import Conv2D, MaxPooling2D\n",
        "from keras.layers import Activation, Dropout, Flatten, Dense\n",
        "\n",
        "from keras.optimizers import Adam\n",
        "\n",
        "from keras.callbacks import EarlyStopping"
      ],
      "execution_count": 0,
      "outputs": []
    },
    {
      "cell_type": "markdown",
      "metadata": {
        "id": "awM8JGWze-1t",
        "colab_type": "text"
      },
      "source": [
        "### データ増幅"
      ]
    },
    {
      "cell_type": "code",
      "metadata": {
        "id": "bFotTgqZnHXC",
        "colab_type": "code",
        "colab": {}
      },
      "source": [
        "from keras.preprocessing import image as keras_image\n",
        "from keras.preprocessing.image import ImageDataGenerator"
      ],
      "execution_count": 0,
      "outputs": []
    },
    {
      "cell_type": "code",
      "metadata": {
        "id": "qhO0Wa3NTtqr",
        "colab_type": "code",
        "colab": {}
      },
      "source": [
        "datagen = ImageDataGenerator(\n",
        "           rotation_range=20,\n",
        "           width_shift_range=0.05,\n",
        "           height_shift_range=0.05,\n",
        "           shear_range=0,\n",
        "           zoom_range=0,\n",
        "           horizontal_flip=False,\n",
        "           vertical_flip=False)\n",
        "\n",
        "datagen.fit(X_train)"
      ],
      "execution_count": 0,
      "outputs": []
    },
    {
      "cell_type": "markdown",
      "metadata": {
        "id": "NK-4XePhfVe0",
        "colab_type": "text"
      },
      "source": [
        "#### サンプル出力"
      ]
    },
    {
      "cell_type": "code",
      "metadata": {
        "id": "9OSArZ1ETwbJ",
        "colab_type": "code",
        "colab": {}
      },
      "source": [
        "def show_imgs(imgs, row, col):\n",
        "    if len(imgs) != (row * col):\n",
        "        raise ValueError(\"Invalid imgs len:{} col:{} row:{}\".format(len(imgs), row, col))\n",
        "\n",
        "    for i, img in enumerate(imgs):\n",
        "        plot_num = i+1\n",
        "        plt.subplot(row, col, plot_num)\n",
        "        plt.tick_params(labelbottom=\"off\") # x軸の削除\n",
        "        plt.tick_params(labelleft=\"off\") # y軸の削除\n",
        "        plt.imshow(img)\n",
        "    plt.show()"
      ],
      "execution_count": 0,
      "outputs": []
    },
    {
      "cell_type": "code",
      "metadata": {
        "id": "36Z9IZ4yTqZJ",
        "colab_type": "code",
        "colab": {
          "base_uri": "https://localhost:8080/",
          "height": 269
        },
        "outputId": "88275c15-6280-44aa-a9fd-984b39f433ab"
      },
      "source": [
        "max_img_num = 16\n",
        "imgs = []\n",
        "\n",
        "X_sample = X_train[0]\n",
        "# (height, width, 3) -> (1, height, width, 3)\n",
        "X_sample = X_sample.reshape((1,) + X_sample.shape)\n",
        "\n",
        "for d in datagen.flow(X_sample, batch_size=1):\n",
        "    # このあと画像を表示するためにndarrayをPIL形式に変換して保存する\n",
        "    imgs.append(keras_image.array_to_img(d[0], scale=True))\n",
        "    # datagen.flowは無限ループするため必要な枚数取得できたらループを抜ける\n",
        "    if (len(imgs) % max_img_num) == 0:\n",
        "        break\n",
        "show_imgs(imgs, row=4, col=4)"
      ],
      "execution_count": 121,
      "outputs": [
        {
          "output_type": "display_data",
          "data": {
            "image/png": "[encoded data removed]",
            "text/plain": [
              "<Figure size 432x288 with 16 Axes>"
            ]
          },
          "metadata": {
            "tags": []
          }
        }
      ]
    },
    {
      "cell_type": "markdown",
      "metadata": {
        "id": "laXpP4Safn4z",
        "colab_type": "text"
      },
      "source": [
        "### 特徴空間にCNNを用いた回帰モデル定義"
      ]
    },
    {
      "cell_type": "code",
      "metadata": {
        "id": "oTiMT8FmxYDR",
        "colab_type": "code",
        "colab": {}
      },
      "source": [
        "def model(X_shape, y_shape):\n",
        "  model = Sequential()\n",
        "\n",
        "  model.add(Conv2D(32, (3, 3), activation='relu', input_shape=X_shape))\n",
        "  model.add(Conv2D(32, (3, 3), activation='relu'))\n",
        "  model.add(MaxPooling2D(pool_size=(2, 2)))\n",
        "  model.add(Dropout(0.25))\n",
        "\n",
        "  model.add(Conv2D(64, (3, 3), activation='relu'))\n",
        "  model.add(Conv2D(64, (3, 3), activation='relu'))\n",
        "  model.add(MaxPooling2D(pool_size=(2, 2)))\n",
        "  model.add(Dropout(0.25))\n",
        "\n",
        "  model.add(Flatten())\n",
        "  model.add(Dense(256))\n",
        "  model.add(Activation('relu'))\n",
        "  model.add(Dropout(0.5))\n",
        "\n",
        "  model.add(Dense(y_shape))\n",
        "  \n",
        "  optimizer = Adam()\n",
        "\n",
        "  model.compile(loss='mse',\n",
        "                optimizer=optimizer)\n",
        "  return model"
      ],
      "execution_count": 0,
      "outputs": []
    },
    {
      "cell_type": "code",
      "metadata": {
        "id": "2ewEtJBefi1h",
        "colab_type": "code",
        "colab": {}
      },
      "source": [
        "# patience は改善が見られるかを監視するエポック数を表すパラメーター\n",
        "early_stop = EarlyStopping(monitor='val_loss', patience=10)"
      ],
      "execution_count": 0,
      "outputs": []
    },
    {
      "cell_type": "markdown",
      "metadata": {
        "id": "5EvAdoztfyDY",
        "colab_type": "text"
      },
      "source": [
        "#### 合計種族値モデル"
      ]
    },
    {
      "cell_type": "code",
      "metadata": {
        "id": "ja9riL01xdBH",
        "colab_type": "code",
        "colab": {
          "base_uri": "https://localhost:8080/",
          "height": 1000
        },
        "outputId": "059fcd19-4fa6-4b81-c450-c4da7b814a28"
      },
      "source": [
        "model_total = model(X_train.shape[1:4], 1)\n",
        "\n",
        "history = model_total.fit_generator(datagen.flow(X_train, y_t_train, batch_size=32),\n",
        "                    steps_per_epoch=len(y_t_train) / 32, epochs=200,\n",
        "                    validation_data=(X_test, y_t_test), callbacks=[early_stop])"
      ],
      "execution_count": 124,
      "outputs": [
        {
          "output_type": "stream",
          "text": [
            "Epoch 1/200\n",
            "23/22 [==============================] - 4s 168ms/step - loss: 85652.7361 - val_loss: 29356.9903\n",
            "Epoch 2/200\n",
            "23/22 [==============================] - 2s 107ms/step - loss: 20326.7735 - val_loss: 22250.7827\n",
            "Epoch 3/200\n",
            "23/22 [==============================] - 3s 115ms/step - loss: 16973.5229 - val_loss: 17613.5834\n",
            "Epoch 4/200\n",
            "23/22 [==============================] - 3s 114ms/step - loss: 17091.7525 - val_loss: 16738.9328\n",
            "Epoch 5/200\n",
            "23/22 [==============================] - 3s 113ms/step - loss: 16702.0200 - val_loss: 18991.6423\n",
            "Epoch 6/200\n",
            "23/22 [==============================] - 3s 110ms/step - loss: 15491.3783 - val_loss: 14650.7415\n",
            "Epoch 7/200\n",
            "23/22 [==============================] - 3s 114ms/step - loss: 15153.5484 - val_loss: 18408.9872\n",
            "Epoch 8/200\n",
            "23/22 [==============================] - 3s 112ms/step - loss: 15424.8909 - val_loss: 14454.2677\n",
            "Epoch 9/200\n",
            "23/22 [==============================] - 3s 117ms/step - loss: 14334.4788 - val_loss: 13871.7308\n",
            "Epoch 10/200\n",
            "23/22 [==============================] - 3s 114ms/step - loss: 16525.1407 - val_loss: 14619.0351\n",
            "Epoch 11/200\n",
            "23/22 [==============================] - 3s 116ms/step - loss: 14772.1810 - val_loss: 10890.7263\n",
            "Epoch 12/200\n",
            "23/22 [==============================] - 3s 114ms/step - loss: 12827.8809 - val_loss: 10408.0887\n",
            "Epoch 13/200\n",
            "23/22 [==============================] - 3s 112ms/step - loss: 13656.5653 - val_loss: 9869.2849\n",
            "Epoch 14/200\n",
            "23/22 [==============================] - 3s 113ms/step - loss: 12298.8814 - val_loss: 9737.9405\n",
            "Epoch 15/200\n",
            "23/22 [==============================] - 3s 111ms/step - loss: 12294.4714 - val_loss: 9058.3197\n",
            "Epoch 16/200\n",
            "23/22 [==============================] - 3s 112ms/step - loss: 12991.5606 - val_loss: 9702.2687\n",
            "Epoch 17/200\n",
            "23/22 [==============================] - 3s 114ms/step - loss: 16212.1779 - val_loss: 13002.8344\n",
            "Epoch 18/200\n",
            "23/22 [==============================] - 3s 118ms/step - loss: 13305.9422 - val_loss: 9657.4911\n",
            "Epoch 19/200\n",
            "23/22 [==============================] - 3s 114ms/step - loss: 12668.3371 - val_loss: 12297.3645\n",
            "Epoch 20/200\n",
            "23/22 [==============================] - 3s 110ms/step - loss: 11856.3736 - val_loss: 8801.5302\n",
            "Epoch 21/200\n",
            "23/22 [==============================] - 3s 117ms/step - loss: 10862.1987 - val_loss: 8385.8894\n",
            "Epoch 22/200\n",
            "23/22 [==============================] - 3s 118ms/step - loss: 11570.7410 - val_loss: 9302.1760\n",
            "Epoch 23/200\n",
            "23/22 [==============================] - 3s 110ms/step - loss: 11346.6226 - val_loss: 8859.5170\n",
            "Epoch 24/200\n",
            "23/22 [==============================] - 3s 113ms/step - loss: 11480.7859 - val_loss: 8060.9503\n",
            "Epoch 25/200\n",
            "23/22 [==============================] - 3s 117ms/step - loss: 11020.8927 - val_loss: 8180.8590\n",
            "Epoch 26/200\n",
            "23/22 [==============================] - 2s 108ms/step - loss: 11259.7145 - val_loss: 8025.8030\n",
            "Epoch 27/200\n",
            "23/22 [==============================] - 3s 115ms/step - loss: 10672.6967 - val_loss: 8769.8404\n",
            "Epoch 28/200\n",
            "23/22 [==============================] - 2s 108ms/step - loss: 11190.1005 - val_loss: 7770.3661\n",
            "Epoch 29/200\n",
            "23/22 [==============================] - 3s 112ms/step - loss: 10363.5923 - val_loss: 7534.9512\n",
            "Epoch 30/200\n",
            "23/22 [==============================] - 3s 112ms/step - loss: 11096.9600 - val_loss: 7545.0203\n",
            "Epoch 31/200\n",
            "23/22 [==============================] - 3s 113ms/step - loss: 10632.5256 - val_loss: 12139.0268\n",
            "Epoch 32/200\n",
            "23/22 [==============================] - 3s 114ms/step - loss: 10649.1100 - val_loss: 6983.8791\n",
            "Epoch 33/200\n",
            "23/22 [==============================] - 3s 116ms/step - loss: 9825.4877 - val_loss: 6763.7844\n",
            "Epoch 34/200\n",
            "23/22 [==============================] - 3s 112ms/step - loss: 9664.1435 - val_loss: 6656.7601\n",
            "Epoch 35/200\n",
            "23/22 [==============================] - 3s 116ms/step - loss: 11573.6820 - val_loss: 8146.0492\n",
            "Epoch 36/200\n",
            "23/22 [==============================] - 3s 113ms/step - loss: 14375.2822 - val_loss: 8240.4958\n",
            "Epoch 37/200\n",
            "23/22 [==============================] - 3s 112ms/step - loss: 11853.5677 - val_loss: 6934.2581\n",
            "Epoch 38/200\n",
            "23/22 [==============================] - 3s 116ms/step - loss: 10892.0576 - val_loss: 6689.2153\n",
            "Epoch 39/200\n",
            "23/22 [==============================] - 3s 109ms/step - loss: 10098.7868 - val_loss: 6404.4902\n",
            "Epoch 40/200\n",
            "23/22 [==============================] - 3s 119ms/step - loss: 10460.5632 - val_loss: 8171.1709\n",
            "Epoch 41/200\n",
            "23/22 [==============================] - 3s 110ms/step - loss: 9225.8142 - val_loss: 6747.9343\n",
            "Epoch 42/200\n",
            "23/22 [==============================] - 3s 117ms/step - loss: 10748.3031 - val_loss: 6509.0669\n",
            "Epoch 43/200\n",
            "23/22 [==============================] - 3s 113ms/step - loss: 10077.6425 - val_loss: 7068.8155\n",
            "Epoch 44/200\n",
            "23/22 [==============================] - 3s 114ms/step - loss: 9180.7855 - val_loss: 7179.4420\n",
            "Epoch 45/200\n",
            "23/22 [==============================] - 3s 114ms/step - loss: 10846.7560 - val_loss: 7191.8160\n",
            "Epoch 46/200\n",
            "23/22 [==============================] - 3s 111ms/step - loss: 8981.4495 - val_loss: 7523.9954\n",
            "Epoch 47/200\n",
            "23/22 [==============================] - 3s 112ms/step - loss: 9307.4937 - val_loss: 9616.1273\n",
            "Epoch 48/200\n",
            "23/22 [==============================] - 3s 112ms/step - loss: 9724.3756 - val_loss: 6715.2374\n",
            "Epoch 49/200\n",
            "23/22 [==============================] - 3s 112ms/step - loss: 9347.4138 - val_loss: 6590.5243\n"
          ],
          "name": "stdout"
        }
      ]
    },
    {
      "cell_type": "code",
      "metadata": {
        "id": "pwq_bNnxzKgV",
        "colab_type": "code",
        "colab": {}
      },
      "source": [
        "model_total.save('model_total.h5', include_optimizer=False)"
      ],
      "execution_count": 0,
      "outputs": []
    },
    {
      "cell_type": "code",
      "metadata": {
        "id": "kNAWPO4NzNJz",
        "colab_type": "code",
        "colab": {
          "base_uri": "https://localhost:8080/",
          "height": 282
        },
        "outputId": "c81c3743-9581-48f0-be45-eb27db784b20"
      },
      "source": [
        "y_pred_train = model_total.predict(X_train)\n",
        "y_pred_test = model_total.predict(X_test)\n",
        "\n",
        "plt.scatter(y_t_train, y_pred_train, c='r', marker='s',label=\"train\")\n",
        "plt.scatter(y_t_test, y_pred_test, c='b', marker='s',label=\"test\")\n",
        "plt.legend()\n",
        "plt.plot([0,750],[0,750])"
      ],
      "execution_count": 126,
      "outputs": [
        {
          "output_type": "execute_result",
          "data": {
            "text/plain": [
              "[<matplotlib.lines.Line2D at 0x7f3e8e2bf470>]"
            ]
          },
          "metadata": {
            "tags": []
          },
          "execution_count": 126
        },
        {
          "output_type": "display_data",
          "data": {
            "image/png": "[encoded data removed]",
            "text/plain": [
              "<Figure size 432x288 with 1 Axes>"
            ]
          },
          "metadata": {
            "tags": []
          }
        }
      ]
    },
    {
      "cell_type": "markdown",
      "metadata": {
        "id": "RnedeLBZf6TX",
        "colab_type": "text"
      },
      "source": [
        "#### HPモデル"
      ]
    },
    {
      "cell_type": "code",
      "metadata": {
        "id": "2S8Bo9VZa6q1",
        "colab_type": "code",
        "colab": {
          "base_uri": "https://localhost:8080/",
          "height": 1000
        },
        "outputId": "69f335df-6ccd-4094-8a07-5e3b12ce58eb"
      },
      "source": [
        "model_hp = model(X_train.shape[1:4], 1)\n",
        "history = model_hp.fit_generator(datagen.flow(X_train, y_h_train, batch_size=32),\n",
        "                    steps_per_epoch=len(y_h_train) / 32, epochs=200,\n",
        "                    validation_data=(X_test, y_h_test), callbacks=[early_stop])"
      ],
      "execution_count": 127,
      "outputs": [
        {
          "output_type": "stream",
          "text": [
            "Epoch 1/200\n",
            "23/22 [==============================] - 4s 163ms/step - loss: 1982.8305 - val_loss: 990.2758\n",
            "Epoch 2/200\n",
            "23/22 [==============================] - 2s 106ms/step - loss: 834.9618 - val_loss: 1143.0713\n",
            "Epoch 3/200\n",
            "23/22 [==============================] - 3s 115ms/step - loss: 797.4368 - val_loss: 883.7237\n",
            "Epoch 4/200\n",
            "23/22 [==============================] - 3s 115ms/step - loss: 811.3354 - val_loss: 879.5315\n",
            "Epoch 5/200\n",
            "23/22 [==============================] - 3s 113ms/step - loss: 730.6835 - val_loss: 722.0758\n",
            "Epoch 6/200\n",
            "23/22 [==============================] - 3s 116ms/step - loss: 715.4011 - val_loss: 796.9065\n",
            "Epoch 7/200\n",
            "23/22 [==============================] - 3s 117ms/step - loss: 662.5091 - val_loss: 609.6183\n",
            "Epoch 8/200\n",
            "23/22 [==============================] - 3s 114ms/step - loss: 724.5999 - val_loss: 609.2963\n",
            "Epoch 9/200\n",
            "23/22 [==============================] - 3s 114ms/step - loss: 819.5961 - val_loss: 664.1006\n",
            "Epoch 10/200\n",
            "23/22 [==============================] - 3s 115ms/step - loss: 726.5710 - val_loss: 700.5584\n",
            "Epoch 11/200\n",
            "23/22 [==============================] - 3s 112ms/step - loss: 664.8602 - val_loss: 568.9153\n",
            "Epoch 12/200\n",
            "23/22 [==============================] - 3s 115ms/step - loss: 654.4958 - val_loss: 549.7682\n",
            "Epoch 13/200\n",
            "23/22 [==============================] - 3s 116ms/step - loss: 642.2026 - val_loss: 549.3476\n",
            "Epoch 14/200\n",
            "23/22 [==============================] - 3s 120ms/step - loss: 653.4369 - val_loss: 557.3614\n",
            "Epoch 15/200\n",
            "23/22 [==============================] - 3s 111ms/step - loss: 641.2600 - val_loss: 538.0280\n",
            "Epoch 16/200\n",
            "23/22 [==============================] - 3s 114ms/step - loss: 680.2382 - val_loss: 621.3195\n",
            "Epoch 17/200\n",
            "23/22 [==============================] - 3s 114ms/step - loss: 638.2776 - val_loss: 577.8288\n",
            "Epoch 18/200\n",
            "23/22 [==============================] - 3s 117ms/step - loss: 605.2611 - val_loss: 559.2780\n",
            "Epoch 19/200\n",
            "23/22 [==============================] - 3s 117ms/step - loss: 641.4593 - val_loss: 506.6484\n",
            "Epoch 20/200\n",
            "23/22 [==============================] - 3s 112ms/step - loss: 641.0548 - val_loss: 615.8841\n",
            "Epoch 21/200\n",
            "23/22 [==============================] - 3s 113ms/step - loss: 589.8707 - val_loss: 547.9166\n",
            "Epoch 22/200\n",
            "23/22 [==============================] - 3s 116ms/step - loss: 557.5407 - val_loss: 511.6433\n",
            "Epoch 23/200\n",
            "23/22 [==============================] - 3s 116ms/step - loss: 570.4472 - val_loss: 613.7516\n",
            "Epoch 24/200\n",
            "23/22 [==============================] - 3s 113ms/step - loss: 665.2602 - val_loss: 628.8827\n",
            "Epoch 25/200\n",
            "23/22 [==============================] - 3s 116ms/step - loss: 668.4014 - val_loss: 958.0470\n",
            "Epoch 26/200\n",
            "23/22 [==============================] - 3s 115ms/step - loss: 642.9939 - val_loss: 572.1017\n",
            "Epoch 27/200\n",
            "23/22 [==============================] - 3s 117ms/step - loss: 621.5857 - val_loss: 587.4831\n",
            "Epoch 28/200\n",
            "23/22 [==============================] - 3s 115ms/step - loss: 554.0498 - val_loss: 539.9145\n",
            "Epoch 29/200\n",
            "23/22 [==============================] - 3s 117ms/step - loss: 572.4957 - val_loss: 564.9666\n"
          ],
          "name": "stdout"
        }
      ]
    },
    {
      "cell_type": "code",
      "metadata": {
        "id": "vr1bV1ahbya0",
        "colab_type": "code",
        "colab": {
          "base_uri": "https://localhost:8080/",
          "height": 282
        },
        "outputId": "b7e2b736-6627-4b03-82ff-b7a514453761"
      },
      "source": [
        "y_pred_train = model_hp.predict(X_train)\n",
        "y_pred_test = model_hp.predict(X_test)\n",
        "\n",
        "plt.scatter(y_h_train, y_pred_train, c='r', marker='s',label=\"train\")\n",
        "plt.scatter(y_h_test, y_pred_test, c='b', marker='s',label=\"test\")\n",
        "plt.legend()\n",
        "plt.plot([0,250],[0,250])"
      ],
      "execution_count": 128,
      "outputs": [
        {
          "output_type": "execute_result",
          "data": {
            "text/plain": [
              "[<matplotlib.lines.Line2D at 0x7f3e8e7bd4e0>]"
            ]
          },
          "metadata": {
            "tags": []
          },
          "execution_count": 128
        },
        {
          "output_type": "display_data",
          "data": {
            "image/png": "[encoded data removed]",
            "text/plain": [
              "<Figure size 432x288 with 1 Axes>"
            ]
          },
          "metadata": {
            "tags": []
          }
        }
      ]
    },
    {
      "cell_type": "markdown",
      "metadata": {
        "id": "Uy1zyNIACGwp",
        "colab_type": "text"
      },
      "source": [
        "#### SPEEDモデル"
      ]
    },
    {
      "cell_type": "code",
      "metadata": {
        "id": "XdEMyweNiJcs",
        "colab_type": "code",
        "colab": {
          "base_uri": "https://localhost:8080/",
          "height": 1000
        },
        "outputId": "bdc70148-99d5-4370-c384-4e7e7836c332"
      },
      "source": [
        "model_speed = model(X_train.shape[1:4], 1)\n",
        "history = model_speed.fit_generator(datagen.flow(X_train, y_s_train, batch_size=32),\n",
        "                    steps_per_epoch=len(y_s_train) / 32, epochs=200,\n",
        "                    validation_data=(X_test, y_s_test), callbacks=[early_stop])"
      ],
      "execution_count": 129,
      "outputs": [
        {
          "output_type": "stream",
          "text": [
            "Epoch 1/200\n",
            "23/22 [==============================] - 4s 166ms/step - loss: 2111.1582 - val_loss: 915.8572\n",
            "Epoch 2/200\n",
            "23/22 [==============================] - 2s 106ms/step - loss: 900.3789 - val_loss: 920.6929\n",
            "Epoch 3/200\n",
            "23/22 [==============================] - 3s 113ms/step - loss: 811.6793 - val_loss: 856.1982\n",
            "Epoch 4/200\n",
            "23/22 [==============================] - 3s 112ms/step - loss: 875.6734 - val_loss: 845.0537\n",
            "Epoch 5/200\n",
            "23/22 [==============================] - 3s 113ms/step - loss: 810.3366 - val_loss: 803.3408\n",
            "Epoch 6/200\n",
            "23/22 [==============================] - 3s 112ms/step - loss: 797.4913 - val_loss: 833.4218\n",
            "Epoch 7/200\n",
            "23/22 [==============================] - 3s 111ms/step - loss: 777.2502 - val_loss: 846.6775\n",
            "Epoch 8/200\n",
            "23/22 [==============================] - 3s 109ms/step - loss: 787.5401 - val_loss: 787.0197\n",
            "Epoch 9/200\n",
            "23/22 [==============================] - 3s 116ms/step - loss: 847.3719 - val_loss: 789.4946\n",
            "Epoch 10/200\n",
            "23/22 [==============================] - 3s 118ms/step - loss: 757.1884 - val_loss: 849.9888\n",
            "Epoch 11/200\n",
            "23/22 [==============================] - 3s 114ms/step - loss: 830.1987 - val_loss: 864.0161\n",
            "Epoch 12/200\n",
            "23/22 [==============================] - 3s 118ms/step - loss: 788.6861 - val_loss: 848.3748\n",
            "Epoch 13/200\n",
            "23/22 [==============================] - 3s 111ms/step - loss: 805.5158 - val_loss: 802.1769\n",
            "Epoch 14/200\n",
            "23/22 [==============================] - 3s 115ms/step - loss: 783.3615 - val_loss: 789.6800\n",
            "Epoch 15/200\n",
            "23/22 [==============================] - 3s 112ms/step - loss: 774.3253 - val_loss: 773.6442\n",
            "Epoch 16/200\n",
            "23/22 [==============================] - 3s 118ms/step - loss: 789.9704 - val_loss: 868.9035\n",
            "Epoch 17/200\n",
            "23/22 [==============================] - 3s 118ms/step - loss: 809.6515 - val_loss: 819.8654\n",
            "Epoch 18/200\n",
            "23/22 [==============================] - 3s 112ms/step - loss: 716.9864 - val_loss: 783.4320\n",
            "Epoch 19/200\n",
            "23/22 [==============================] - 3s 118ms/step - loss: 756.9727 - val_loss: 794.1577\n",
            "Epoch 20/200\n",
            "23/22 [==============================] - 3s 110ms/step - loss: 776.4084 - val_loss: 784.3665\n",
            "Epoch 21/200\n",
            "23/22 [==============================] - 3s 116ms/step - loss: 813.2499 - val_loss: 795.7445\n",
            "Epoch 22/200\n",
            "23/22 [==============================] - 3s 113ms/step - loss: 789.2232 - val_loss: 861.2046\n",
            "Epoch 23/200\n",
            "23/22 [==============================] - 3s 116ms/step - loss: 736.9309 - val_loss: 801.0309\n",
            "Epoch 24/200\n",
            "23/22 [==============================] - 3s 112ms/step - loss: 787.1560 - val_loss: 996.1117\n",
            "Epoch 25/200\n",
            "23/22 [==============================] - 3s 113ms/step - loss: 893.2910 - val_loss: 768.4710\n",
            "Epoch 26/200\n",
            "23/22 [==============================] - 3s 113ms/step - loss: 765.7900 - val_loss: 811.6316\n",
            "Epoch 27/200\n",
            "23/22 [==============================] - 3s 116ms/step - loss: 751.8788 - val_loss: 766.0950\n",
            "Epoch 28/200\n",
            "23/22 [==============================] - 2s 108ms/step - loss: 754.7404 - val_loss: 770.3590\n",
            "Epoch 29/200\n",
            "23/22 [==============================] - 3s 110ms/step - loss: 740.5538 - val_loss: 769.8968\n",
            "Epoch 30/200\n",
            "23/22 [==============================] - 2s 108ms/step - loss: 805.4880 - val_loss: 754.4728\n",
            "Epoch 31/200\n",
            "23/22 [==============================] - 3s 110ms/step - loss: 753.2632 - val_loss: 772.8145\n",
            "Epoch 32/200\n",
            "23/22 [==============================] - 3s 120ms/step - loss: 717.6494 - val_loss: 753.2243\n",
            "Epoch 33/200\n",
            "23/22 [==============================] - 3s 113ms/step - loss: 734.0047 - val_loss: 759.2650\n",
            "Epoch 34/200\n",
            "23/22 [==============================] - 3s 116ms/step - loss: 750.5806 - val_loss: 914.3729\n",
            "Epoch 35/200\n",
            "23/22 [==============================] - 3s 116ms/step - loss: 730.0028 - val_loss: 989.7113\n",
            "Epoch 36/200\n",
            "23/22 [==============================] - 3s 111ms/step - loss: 841.2017 - val_loss: 1084.2217\n",
            "Epoch 37/200\n",
            "23/22 [==============================] - 3s 117ms/step - loss: 851.0642 - val_loss: 1227.2276\n",
            "Epoch 38/200\n",
            "23/22 [==============================] - 3s 110ms/step - loss: 733.2015 - val_loss: 735.4559\n",
            "Epoch 39/200\n",
            "23/22 [==============================] - 3s 111ms/step - loss: 694.5751 - val_loss: 736.5927\n",
            "Epoch 40/200\n",
            "23/22 [==============================] - 3s 114ms/step - loss: 703.6889 - val_loss: 849.5568\n",
            "Epoch 41/200\n",
            "23/22 [==============================] - 3s 116ms/step - loss: 712.4923 - val_loss: 733.2741\n",
            "Epoch 42/200\n",
            "23/22 [==============================] - 3s 115ms/step - loss: 684.9736 - val_loss: 737.5048\n",
            "Epoch 43/200\n",
            "23/22 [==============================] - 3s 113ms/step - loss: 774.9904 - val_loss: 799.7698\n",
            "Epoch 44/200\n",
            "23/22 [==============================] - 3s 114ms/step - loss: 728.1898 - val_loss: 728.2561\n",
            "Epoch 45/200\n",
            "23/22 [==============================] - 3s 114ms/step - loss: 714.4541 - val_loss: 749.9002\n",
            "Epoch 46/200\n",
            "23/22 [==============================] - 3s 113ms/step - loss: 678.0815 - val_loss: 927.6724\n",
            "Epoch 47/200\n",
            "23/22 [==============================] - 3s 114ms/step - loss: 765.5496 - val_loss: 746.5034\n",
            "Epoch 48/200\n",
            "23/22 [==============================] - 3s 112ms/step - loss: 708.0781 - val_loss: 725.8058\n",
            "Epoch 49/200\n",
            "23/22 [==============================] - 3s 112ms/step - loss: 736.0543 - val_loss: 736.3636\n",
            "Epoch 50/200\n",
            "23/22 [==============================] - 3s 112ms/step - loss: 707.6243 - val_loss: 724.9581\n",
            "Epoch 51/200\n",
            "23/22 [==============================] - 3s 119ms/step - loss: 738.1307 - val_loss: 731.0821\n",
            "Epoch 52/200\n",
            "23/22 [==============================] - 3s 109ms/step - loss: 709.0006 - val_loss: 743.9194\n",
            "Epoch 53/200\n",
            "23/22 [==============================] - 3s 109ms/step - loss: 666.9111 - val_loss: 865.5892\n",
            "Epoch 54/200\n",
            "23/22 [==============================] - 3s 112ms/step - loss: 685.4394 - val_loss: 719.3594\n",
            "Epoch 55/200\n",
            "23/22 [==============================] - 3s 117ms/step - loss: 658.4784 - val_loss: 729.0597\n",
            "Epoch 56/200\n",
            "23/22 [==============================] - 3s 114ms/step - loss: 709.1682 - val_loss: 732.6424\n",
            "Epoch 57/200\n",
            "23/22 [==============================] - 3s 112ms/step - loss: 692.0546 - val_loss: 783.6045\n",
            "Epoch 58/200\n",
            "23/22 [==============================] - 3s 112ms/step - loss: 708.1479 - val_loss: 724.8346\n",
            "Epoch 59/200\n",
            "23/22 [==============================] - 3s 113ms/step - loss: 697.0323 - val_loss: 757.3957\n",
            "Epoch 60/200\n",
            "23/22 [==============================] - 3s 114ms/step - loss: 659.1070 - val_loss: 733.5877\n",
            "Epoch 61/200\n",
            "23/22 [==============================] - 2s 107ms/step - loss: 679.3805 - val_loss: 733.7381\n",
            "Epoch 62/200\n",
            "23/22 [==============================] - 3s 113ms/step - loss: 690.8454 - val_loss: 846.6449\n",
            "Epoch 63/200\n",
            "23/22 [==============================] - 3s 112ms/step - loss: 681.6373 - val_loss: 783.3733\n",
            "Epoch 64/200\n",
            "23/22 [==============================] - 3s 114ms/step - loss: 683.2406 - val_loss: 781.0259\n"
          ],
          "name": "stdout"
        }
      ]
    },
    {
      "cell_type": "code",
      "metadata": {
        "id": "wK4mN3Pqi3Rd",
        "colab_type": "code",
        "colab": {
          "base_uri": "https://localhost:8080/",
          "height": 282
        },
        "outputId": "bda97802-39f5-4c95-f237-9c6d9043462d"
      },
      "source": [
        "y_pred_train = model_speed.predict(X_train)\n",
        "y_pred_test = model_speed.predict(X_test)\n",
        "\n",
        "plt.scatter(y_s_train, y_pred_train, c='r', marker='s',label=\"train\")\n",
        "plt.scatter(y_s_test, y_pred_test, c='b', marker='s',label=\"test\")\n",
        "plt.legend()\n",
        "plt.plot([0,250],[0,250])"
      ],
      "execution_count": 132,
      "outputs": [
        {
          "output_type": "execute_result",
          "data": {
            "text/plain": [
              "[<matplotlib.lines.Line2D at 0x7f3e8ececcc0>]"
            ]
          },
          "metadata": {
            "tags": []
          },
          "execution_count": 132
        },
        {
          "output_type": "display_data",
          "data": {
            "image/png": "[encoded data removed]",
            "text/plain": [
              "<Figure size 432x288 with 1 Axes>"
            ]
          },
          "metadata": {
            "tags": []
          }
        }
      ]
    }
  ]
}